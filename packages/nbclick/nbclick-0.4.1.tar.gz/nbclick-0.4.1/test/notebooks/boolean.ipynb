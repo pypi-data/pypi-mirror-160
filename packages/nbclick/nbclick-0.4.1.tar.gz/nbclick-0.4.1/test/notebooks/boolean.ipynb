{
 "cells": [
  {
   "cell_type": "code",
   "execution_count": null,
   "id": "2ef8ffc8-7259-4552-b582-1602ba9c9f01",
   "metadata": {},
   "outputs": [],
   "source": [
    "output = True  # Whether to write output"
   ]
  },
  {
   "cell_type": "code",
   "execution_count": null,
   "id": "840112f5",
   "metadata": {},
   "outputs": [],
   "source": [
    "if not isinstance(output, bool):\n",
    "    raise RuntimeError"
   ]
  }
 ],
 "metadata": {
  "kernelspec": {
   "display_name": "Python 3 (ipykernel)",
   "language": "python",
   "name": "python3"
  },
  "language_info": {
   "codemirror_mode": {
    "name": "ipython",
    "version": 3
   },
   "file_extension": ".py",
   "mimetype": "text/x-python",
   "name": "python",
   "nbconvert_exporter": "python",
   "pygments_lexer": "ipython3",
   "version": "3.9.7"
  }
 },
 "nbformat": 4,
 "nbformat_minor": 5
}
