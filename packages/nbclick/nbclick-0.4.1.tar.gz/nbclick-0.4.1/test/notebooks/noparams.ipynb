{
 "cells": [
  {
   "cell_type": "markdown",
   "id": "811cff2a-1987-49c4-80cc-7fdbf172e237",
   "metadata": {},
   "source": [
    "This is an example notebook not containing parametrization. `nbclick` should execute it nevertheless instead of reinterpreting cell one as a parametrization and then fail to execute cell 1 because of a missing import."
   ]
  },
  {
   "cell_type": "code",
   "execution_count": null,
   "id": "aa92b64f-1fcd-436e-81f7-efb31c8d10cd",
   "metadata": {},
   "outputs": [],
   "source": [
    "import itertools"
   ]
  },
  {
   "cell_type": "code",
   "execution_count": null,
   "id": "77c8f4a0-45c2-408f-9f52-9e7dc12e0f91",
   "metadata": {},
   "outputs": [],
   "source": [
    "itertools.product"
   ]
  }
 ],
 "metadata": {
  "kernelspec": {
   "display_name": "Python 3 (ipykernel)",
   "language": "python",
   "name": "python3"
  },
  "language_info": {
   "codemirror_mode": {
    "name": "ipython",
    "version": 3
   },
   "file_extension": ".py",
   "mimetype": "text/x-python",
   "name": "python",
   "nbconvert_exporter": "python",
   "pygments_lexer": "ipython3",
   "version": "3.10.5"
  }
 },
 "nbformat": 4,
 "nbformat_minor": 5
}
