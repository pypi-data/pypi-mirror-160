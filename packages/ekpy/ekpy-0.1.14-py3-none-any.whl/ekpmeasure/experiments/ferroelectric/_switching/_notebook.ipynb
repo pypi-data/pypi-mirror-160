{
 "cells": [
  {
   "cell_type": "code",
   "execution_count": null,
   "metadata": {},
   "outputs": [],
   "source": [
    "import pyvisa as visa\n",
    "from ekpmeasure.experiments.ferroelectric._switching import FE\n",
    "from ekpmeasure.experiments.ferroelectric import single_pulse_run_function, two_pulse_run_function, preset_run_function\n",
    "\n",
    "rm = visa.ResourceManager()\n",
    "rm.list_resources()"
   ]
  },
  {
   "cell_type": "code",
   "execution_count": null,
   "metadata": {},
   "outputs": [],
   "source": [
    "scope = rm.open_resource('GPIB0::25::INSTR')\n",
    "scope.query(\"*idn?\")"
   ]
  },
  {
   "cell_type": "code",
   "execution_count": null,
   "metadata": {},
   "outputs": [],
   "source": [
    "pg = rm.open_resource('TCPIP0::PULSE-RIDER::inst0::INSTR')\n",
    "pg.query(\"*idn?\")"
   ]
  },
  {
   "cell_type": "code",
   "execution_count": null,
   "metadata": {},
   "outputs": [],
   "source": [
    "fe = FE(pg, scope, '6604')\n",
    "\n",
    "# specify run function (if desired)\n",
    "# options are: single_pulse_run_function, two_pulse_run_function, preset_run_function\n",
    "\n",
    "\n",
    "# config data path\n",
    "fe.config_path('./computer_control/data/YJ165/110821/dataset4/')"
   ]
  },
  {
   "cell_type": "code",
   "execution_count": null,
   "metadata": {},
   "outputs": [],
   "source": [
    "voltages = [str(int(200 + i*50)) + 'mv' for i in range(17)] # 200 to 1V 50mv steps\n",
    "delays = ['100ns',]"
   ]
  },
  {
   "cell_type": "code",
   "execution_count": null,
   "metadata": {},
   "outputs": [],
   "source": [
    "scan_params = {\n",
    "    'delay':delays,\n",
    "    'high_voltage':voltages,\n",
    "}\n",
    "\n",
    "run_function_args = {\n",
    "    'pg':pg,\n",
    "    'scope':scope,\n",
    "    'pulsewidth':'1000ns',\n",
    "    'identifier':'23um1',\n",
    "    'scope_channel': 'Ch1',\n",
    "    'polarity':'up',\n",
    "    'scopetype':'620B',\n",
    "    'preset_pulsewidth':'500ns',\n",
    "    'preset_voltage':'1000mv',\n",
    "}\n",
    "\n",
    "order = ['delay',  'high_voltage', ]"
   ]
  },
  {
   "cell_type": "code",
   "execution_count": null,
   "metadata": {},
   "outputs": [],
   "source": [
    "fe.n_param_scan(scan_params, run_function_args, order, ntrials = 1)"
   ]
  }
 ],
 "metadata": {
  "kernelspec": {
   "display_name": "Python 3",
   "language": "python",
   "name": "python3"
  },
  "language_info": {
   "codemirror_mode": {
    "name": "ipython",
    "version": 3
   },
   "file_extension": ".py",
   "mimetype": "text/x-python",
   "name": "python",
   "nbconvert_exporter": "python",
   "pygments_lexer": "ipython3",
   "version": "3.7.3"
  }
 },
 "nbformat": 4,
 "nbformat_minor": 2
}
