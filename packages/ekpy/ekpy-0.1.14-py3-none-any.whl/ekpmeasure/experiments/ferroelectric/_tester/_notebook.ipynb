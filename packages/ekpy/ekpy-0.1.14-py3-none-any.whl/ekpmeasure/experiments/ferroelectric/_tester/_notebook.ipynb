{
 "cells": [
  {
   "cell_type": "code",
   "execution_count": null,
   "id": "80621e35",
   "metadata": {},
   "outputs": [],
   "source": [
    "from ekpmeasure.experiments.ferroelectric import _tester as rad\n",
    "from ekpmeasure.analysis.plotting import lane_martin\n",
    "\n",
    "import matplotlib.pyplot as plt\n",
    "\n",
    "plt.style.use(lane_martin)"
   ]
  },
  {
   "cell_type": "code",
   "execution_count": null,
   "id": "8cd915e2",
   "metadata": {},
   "outputs": [],
   "source": [
    "exp = rad.FETESTER()\n",
    "exp.config_path('~path~')"
   ]
  },
  {
   "cell_type": "code",
   "execution_count": null,
   "id": "67402a81",
   "metadata": {},
   "outputs": [],
   "source": [
    "kw_scan_params = {}\n",
    "\n",
    "fixed_params = {\n",
    "    'wf_func':rad.double_bipolar,\n",
    "    'wf_params':{'a':1, 'T':.1},\n",
    "    'amplification_level':1e4,\n",
    "    'area_um2':100,\n",
    "    'nave':5\n",
    "}\n",
    "\n",
    "order = []"
   ]
  },
  {
   "cell_type": "code",
   "execution_count": null,
   "id": "84e8046b",
   "metadata": {},
   "outputs": [],
   "source": [
    "exp.n_param_scan(kw_scan_params, fixed_params, order, plot=True,)"
   ]
  }
 ],
 "metadata": {
  "kernelspec": {
   "display_name": "Python 3",
   "language": "python",
   "name": "python3"
  },
  "language_info": {
   "codemirror_mode": {
    "name": "ipython",
    "version": 3
   },
   "file_extension": ".py",
   "mimetype": "text/x-python",
   "name": "python",
   "nbconvert_exporter": "python",
   "pygments_lexer": "ipython3",
   "version": "3.8.5"
  }
 },
 "nbformat": 4,
 "nbformat_minor": 5
}
