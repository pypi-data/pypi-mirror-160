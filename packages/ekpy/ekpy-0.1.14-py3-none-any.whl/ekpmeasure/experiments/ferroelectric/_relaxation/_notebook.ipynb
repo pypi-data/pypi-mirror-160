{
 "cells": [
  {
   "cell_type": "code",
   "execution_count": null,
   "metadata": {},
   "outputs": [],
   "source": [
    "import pyvisa as visa\n",
    "rm = visa.ResourceManager()\n",
    "rm.list_resources()"
   ]
  },
  {
   "cell_type": "code",
   "execution_count": null,
   "metadata": {},
   "outputs": [],
   "source": [
    "from ekpmeasure.experiments.ferroelectric._relaxation import Relaxation"
   ]
  },
  {
   "cell_type": "code",
   "execution_count": null,
   "metadata": {},
   "outputs": [],
   "source": [
    "# open Scope\n",
    "scope = rm.open_resource('GPIB0::14::INSTR')\n",
    "scope.query(\"*idn?\")"
   ]
  },
  {
   "cell_type": "code",
   "execution_count": null,
   "metadata": {},
   "outputs": [],
   "source": [
    "# open pulse gen\n",
    "pg = rm.open_resource('TCPIP0::PULSE-RIDER::inst0::INSTR')\n",
    "pg.query(\"*idn?\")"
   ]
  },
  {
   "cell_type": "code",
   "execution_count": null,
   "metadata": {},
   "outputs": [],
   "source": [
    "exp = Relaxation(pg, scope)\n",
    "\n",
    "# configure save path\n",
    "exp.config_path('./computer_control/data/af686free/111121/dataset2/')"
   ]
  },
  {
   "cell_type": "code",
   "execution_count": null,
   "metadata": {},
   "outputs": [],
   "source": [
    "# specify parameters"
   ]
  },
  {
   "cell_type": "code",
   "execution_count": null,
   "metadata": {},
   "outputs": [],
   "source": [
    "voltages = ['3000mv', '4000mv']\n",
    "delays = ['200ns', '500ns']"
   ]
  },
  {
   "cell_type": "code",
   "execution_count": null,
   "metadata": {},
   "outputs": [],
   "source": [
    "scan_params = {\n",
    "    'delay':short_delays,\n",
    "    'high_voltage':voltages,\n",
    "}\n",
    "\n",
    "run_function_args = {\n",
    "    'pg':pg,\n",
    "    'scope':scope,\n",
    "    'pulsewidth':'1000ns',\n",
    "    'identifier':'identifier',\n",
    "    'scope_channel': 'Ch3',\n",
    "    'polarity':'up',\n",
    "}\n",
    "\n",
    "order = ['delay',  'high_voltage', ]"
   ]
  },
  {
   "cell_type": "code",
   "execution_count": null,
   "metadata": {},
   "outputs": [],
   "source": [
    "# run an n_param_scan\n",
    "exp.n_param_scan(scan_params, run_function_args, order, ntrials = 1, plot=True)"
   ]
  }
 ],
 "metadata": {
  "kernelspec": {
   "display_name": "Python 3",
   "language": "python",
   "name": "python3"
  },
  "language_info": {
   "codemirror_mode": {
    "name": "ipython",
    "version": 3
   },
   "file_extension": ".py",
   "mimetype": "text/x-python",
   "name": "python",
   "nbconvert_exporter": "python",
   "pygments_lexer": "ipython3",
   "version": "3.7.3"
  }
 },
 "nbformat": 4,
 "nbformat_minor": 2
}
