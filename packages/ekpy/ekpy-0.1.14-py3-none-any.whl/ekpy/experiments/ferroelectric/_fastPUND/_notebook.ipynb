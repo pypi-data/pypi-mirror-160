{
 "cells": [
  {
   "cell_type": "code",
   "execution_count": 1,
   "id": "a299b0c4",
   "metadata": {},
   "outputs": [],
   "source": [
    "from ekpmeasure.experiments.ferroelectric._fastPUND import PUND\n",
    "from ekpmeasure import control\n",
    "import numpy as np"
   ]
  },
  {
   "cell_type": "code",
   "execution_count": null,
   "id": "adf02894",
   "metadata": {},
   "outputs": [],
   "source": [
    "rm = control.ResourceManager()\n",
    "rm.list_resources()"
   ]
  },
  {
   "cell_type": "markdown",
   "id": "271d9bc6",
   "metadata": {},
   "source": [
    "#### You may have to run the following cell (opening BK765) several times, and may have to unplug-replug the ethernet connection to the instrument"
   ]
  },
  {
   "cell_type": "code",
   "execution_count": 3,
   "id": "65dadea0",
   "metadata": {},
   "outputs": [
    {
     "data": {
      "text/plain": [
       "'ACTIVE TECHNOLOGIES,AT-PULSE-RIDER-PG1072,00000001,SCPI:99.0,SV:1.0.0.0\\n'"
      ]
     },
     "execution_count": 3,
     "metadata": {},
     "output_type": "execute_result"
    }
   ],
   "source": [
    "pg = rm.open_resource('TCPIP0::PULSE-RIDER::inst0::INSTR')\n",
    "pg.query('*idn?')"
   ]
  },
  {
   "cell_type": "code",
   "execution_count": 4,
   "id": "57189ede",
   "metadata": {},
   "outputs": [
    {
     "data": {
      "text/plain": [
       "'TEKTRONIX,AFG3252,C020462,SCPI:99.0 FV:3.0.1\\n'"
      ]
     },
     "execution_count": 4,
     "metadata": {},
     "output_type": "execute_result"
    }
   ],
   "source": [
    "slowpg = rm.open_resource('GPIB0::6::INSTR')\n",
    "slowpg.query('*idn?')"
   ]
  },
  {
   "cell_type": "code",
   "execution_count": 5,
   "id": "042a1869",
   "metadata": {},
   "outputs": [
    {
     "data": {
      "text/plain": [
       "'TEKTRONIX,TDS6604,B010483,CF:91.1CT FV:2.5.3\\n'"
      ]
     },
     "execution_count": 5,
     "metadata": {},
     "output_type": "execute_result"
    }
   ],
   "source": [
    "scope = rm.open_resource('GPIB0::14::INSTR')\n",
    "scope.query('*idn?')"
   ]
  },
  {
   "cell_type": "code",
   "execution_count": 6,
   "id": "4a1c173c",
   "metadata": {},
   "outputs": [],
   "source": [
    "exp = PUND(pg, slowpg, scope)\n",
    "exp.config_path('../../data/FE_switching/YJ162/011222/test/')"
   ]
  },
  {
   "cell_type": "markdown",
   "id": "7af232e0",
   "metadata": {},
   "source": [
    "##### Un-comment the next cell if you want to programatically zoom the xaxis on the tektronix TDS6604 scope"
   ]
  },
  {
   "cell_type": "code",
   "execution_count": 7,
   "id": "2ba6bd1a",
   "metadata": {},
   "outputs": [],
   "source": [
    "# # if you want to zoom in on the xaxis of the scope (only allowed for TDS6604)\n",
    "# exp.set_horizontal_scale('40ns')"
   ]
  },
  {
   "cell_type": "code",
   "execution_count": 8,
   "id": "ef9de0ae",
   "metadata": {},
   "outputs": [],
   "source": [
    "# Fast pund with the power divider\n",
    "scan_params = {\n",
    "    'inverted':[True, False],\n",
    "    'offset':['{}mv'.format(x) for x in np.linspace(-300, 0, 13)]\n",
    "}\n",
    "fixed_params = {\n",
    "    'bk765':pg,\n",
    "    'afg3252':slowpg,\n",
    "    'tds6604':scope,\n",
    "    'voltage':'1000mv',\n",
    "    'pulsewidth': '800ns',\n",
    "    'delay':'100ns',\n",
    "    'offset':'0mV',\n",
    "    'offset_time_delay':'95ns',\n",
    "    'identifier':'25um',\n",
    "    'note':'driving top'\n",
    "}\n",
    "order = ['offset', 'inverted']"
   ]
  },
  {
   "cell_type": "code",
   "execution_count": null,
   "id": "80ad936e",
   "metadata": {},
   "outputs": [],
   "source": [
    "exp.n_param_scan(scan_params, fixed_params, order, print_progress=False, plot=True, ntrials=1)"
   ]
  },
  {
   "cell_type": "code",
   "execution_count": null,
   "id": "28721214",
   "metadata": {},
   "outputs": [],
   "source": []
  }
 ],
 "metadata": {
  "kernelspec": {
   "display_name": "Python 3",
   "language": "python",
   "name": "python3"
  },
  "language_info": {
   "codemirror_mode": {
    "name": "ipython",
    "version": 3
   },
   "file_extension": ".py",
   "mimetype": "text/x-python",
   "name": "python",
   "nbconvert_exporter": "python",
   "pygments_lexer": "ipython3",
   "version": "3.8.5"
  }
 },
 "nbformat": 4,
 "nbformat_minor": 5
}
