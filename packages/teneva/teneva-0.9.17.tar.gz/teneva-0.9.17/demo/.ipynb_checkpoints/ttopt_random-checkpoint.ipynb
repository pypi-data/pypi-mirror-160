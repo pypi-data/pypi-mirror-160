{
 "cells": [
  {
   "cell_type": "code",
   "execution_count": 1,
   "id": "9941ed2c-6272-4144-8c96-4e800f0b5c49",
   "metadata": {},
   "outputs": [],
   "source": [
    "import numpy as np\n",
    "import teneva\n",
    "from time import perf_counter as tpc\n",
    "from ttopt import TTOpt\n",
    "np.random.seed(42)"
   ]
  },
  {
   "cell_type": "markdown",
   "id": "d5be3b14-884f-46ea-b0d7-4a2bcba850f3",
   "metadata": {},
   "source": [
    "## Very small tensor (TTOpt works)"
   ]
  },
  {
   "cell_type": "code",
   "execution_count": 2,
   "id": "2dfed95f-727c-4957-859b-aaddc817e676",
   "metadata": {},
   "outputs": [],
   "source": [
    "d = 3\n",
    "p = 2\n",
    "q = 3\n",
    "n = [p**q] * d\n",
    "r = 4"
   ]
  },
  {
   "cell_type": "code",
   "execution_count": 3,
   "id": "e0e35d25-caa4-4b39-bf37-a5604bf0174a",
   "metadata": {},
   "outputs": [],
   "source": [
    "Y = teneva.rand(n, r)"
   ]
  },
  {
   "cell_type": "code",
   "execution_count": 4,
   "id": "6b2989ec-026e-4c82-ad58-bb8a2ba42a22",
   "metadata": {},
   "outputs": [],
   "source": [
    "Y_full = teneva.full(Y)\n",
    "i_min_real = np.unravel_index(np.argmin(Y_full), n)\n",
    "i_max_real = np.unravel_index(np.argmax(Y_full), n)\n",
    "y_min_real = Y_full[i_min_real]\n",
    "y_max_real = Y_full[i_max_real]"
   ]
  },
  {
   "cell_type": "code",
   "execution_count": 5,
   "id": "66cae364-681f-4af7-bae0-72f7ee334be9",
   "metadata": {},
   "outputs": [
    {
     "name": "stdout",
     "output_type": "stream",
     "text": [
      "-> Error for min 1.8e-15 | Error for max 1.8e-15 | Time   6.9378\n"
     ]
    }
   ],
   "source": [
    "# New method:\n",
    "\n",
    "t = tpc()\n",
    "i_min_appr, i_max_appr = teneva.opt_tt(Y)\n",
    "y_min_appr = teneva.get(Y, i_min_appr)\n",
    "y_max_appr = teneva.get(Y, i_max_appr)\n",
    "t = tpc() - t\n",
    "\n",
    "e_min = np.abs(y_min_appr - y_min_real) #/ np.abs(y_min_real)\n",
    "e_max = np.abs(y_max_appr - y_max_real) #/ np.abs(y_max_real)\n",
    "\n",
    "print(f'-> Error for min {e_min:-7.1e} | Error for max {e_max:-7.1e} | Time {t:-8.4f}')"
   ]
  },
  {
   "cell_type": "code",
   "execution_count": 6,
   "id": "1bf08bd7-9547-41ed-b578-2a28c7109adb",
   "metadata": {},
   "outputs": [
    {
     "data": {
      "text/plain": [
       "'evals=1.00e+05 | t_all=1.27e+00 | e_y=0.00e+00 '"
      ]
     },
     "execution_count": 6,
     "metadata": {},
     "output_type": "execute_result"
    }
   ],
   "source": [
    "# TTOpt, TT-method:\n",
    "\n",
    "tto = TTOpt(f=teneva.getter(Y), d=len(n), n=n, evals=1.E+5, y_min_real=y_min_real,\n",
    "    is_func=False, is_vect=False, with_log=False)\n",
    "tto.minimize(2)\n",
    "tto.info()"
   ]
  },
  {
   "cell_type": "code",
   "execution_count": 7,
   "id": "f308df92-e865-49ab-a858-22d9c6b08ead",
   "metadata": {},
   "outputs": [
    {
     "data": {
      "text/plain": [
       "'evals=1.00e+05 | t_all=4.41e+00 | e_y=2.81e-01 '"
      ]
     },
     "execution_count": 7,
     "metadata": {},
     "output_type": "execute_result"
    }
   ],
   "source": [
    "# TTOpt, QTT-method:\n",
    "\n",
    "tto = TTOpt(f=teneva.getter(Y), d=len(n), p=p, q=q, evals=1.E+5, y_min_real=y_min_real,\n",
    "    is_func=False, is_vect=False, with_log=False)\n",
    "tto.minimize(2)\n",
    "tto.info()"
   ]
  },
  {
   "cell_type": "markdown",
   "id": "fa899e02-e364-4561-a09b-2c1d9c1dc54c",
   "metadata": {},
   "source": [
    "## \"Big\" tensor (TTOpt does not work)"
   ]
  },
  {
   "cell_type": "code",
   "execution_count": 8,
   "id": "5668865a-7fb9-4cc1-b958-cb496860c24a",
   "metadata": {},
   "outputs": [],
   "source": [
    "d = 5\n",
    "p = 2\n",
    "q = 4\n",
    "n = [p**q] * d\n",
    "r = 4"
   ]
  },
  {
   "cell_type": "code",
   "execution_count": 9,
   "id": "310f8096-9f51-4082-80f1-95125ec63908",
   "metadata": {},
   "outputs": [],
   "source": [
    "Y = teneva.rand(n, r)"
   ]
  },
  {
   "cell_type": "code",
   "execution_count": 10,
   "id": "6cad0dcb-6614-4686-8bf5-2dc7442518e7",
   "metadata": {},
   "outputs": [],
   "source": [
    "Y_full = teneva.full(Y)\n",
    "i_min_real = np.unravel_index(np.argmin(Y_full), n)\n",
    "i_max_real = np.unravel_index(np.argmax(Y_full), n)\n",
    "y_min_real = Y_full[i_min_real]\n",
    "y_max_real = Y_full[i_max_real]"
   ]
  },
  {
   "cell_type": "code",
   "execution_count": null,
   "id": "59c27f80-f1c9-452a-a151-f2c5794c9e68",
   "metadata": {},
   "outputs": [],
   "source": [
    "# New method:\n",
    "\n",
    "t = tpc()\n",
    "i_min_appr, i_max_appr = teneva.opt_tt(Y)\n",
    "y_min_appr = teneva.get(Y, i_min_appr)\n",
    "y_max_appr = teneva.get(Y, i_max_appr)\n",
    "t = tpc() - t\n",
    "\n",
    "e_min = np.abs(y_min_appr - y_min_real) #/ np.abs(y_min_real)\n",
    "e_max = np.abs(y_max_appr - y_max_real) #/ np.abs(y_max_real)\n",
    "\n",
    "print(f'-> Error for min {e_min:-7.1e} | Error for max {e_max:-7.1e} | Time {t:-8.4f}')"
   ]
  },
  {
   "cell_type": "code",
   "execution_count": null,
   "id": "439a02e2-329f-4bed-b2b6-f271d447b573",
   "metadata": {},
   "outputs": [],
   "source": [
    "# TTOpt, TT-method:\n",
    "\n",
    "tto = TTOpt(f=teneva.getter(Y), d=len(n), n=n, evals=1.E+5, y_min_real=y_min_real,\n",
    "    is_func=False, is_vect=False, with_log=False)\n",
    "tto.minimize(2)\n",
    "tto.info()"
   ]
  },
  {
   "cell_type": "code",
   "execution_count": null,
   "id": "d66d9a38-6e29-45ad-8a34-bd8c4bbcf448",
   "metadata": {},
   "outputs": [],
   "source": [
    "# TTOpt, QTT-method:\n",
    "\n",
    "tto = TTOpt(f=teneva.getter(Y), d=len(n), p=p, q=q, evals=1.E+5, y_min_real=y_min_real,\n",
    "    is_func=False, is_vect=False, with_log=False)\n",
    "tto.minimize(2)\n",
    "tto.info()"
   ]
  },
  {
   "cell_type": "markdown",
   "id": "78b3a749-9b8a-4a81-947a-afd6dfcd4a7a",
   "metadata": {},
   "source": [
    "---"
   ]
  }
 ],
 "metadata": {
  "kernelspec": {
   "display_name": "Python 3",
   "language": "python",
   "name": "python3"
  },
  "language_info": {
   "codemirror_mode": {
    "name": "ipython",
    "version": 3
   },
   "file_extension": ".py",
   "mimetype": "text/x-python",
   "name": "python",
   "nbconvert_exporter": "python",
   "pygments_lexer": "ipython3",
   "version": "3.8.8"
  }
 },
 "nbformat": 4,
 "nbformat_minor": 5
}
