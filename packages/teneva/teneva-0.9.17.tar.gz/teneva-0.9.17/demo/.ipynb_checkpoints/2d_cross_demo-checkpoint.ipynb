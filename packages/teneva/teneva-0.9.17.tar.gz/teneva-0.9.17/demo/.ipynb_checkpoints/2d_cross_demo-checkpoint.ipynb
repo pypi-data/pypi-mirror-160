{
 "cells": [
  {
   "cell_type": "code",
   "execution_count": 17,
   "id": "7b88913e-83d5-46f7-99f1-bdb33d8264f1",
   "metadata": {},
   "outputs": [],
   "source": [
    "import numpy as np\n",
    "import teneva\n",
    "from time import perf_counter as tpc\n",
    "np.random.seed(42)"
   ]
  },
  {
   "cell_type": "code",
   "execution_count": 18,
   "id": "36c1c527-c875-412f-a6f2-8f28428c074f",
   "metadata": {},
   "outputs": [],
   "source": [
    "def matrix_element(I):\n",
    "    # Target matrix (A[i, j] = i^2 + j^2)\n",
    "    # I is [samples, 2] array\n",
    "    return I[:, 0]**2 + I[:, 1]**2\n",
    "\n",
    "n = [ 20,  18]     # Shape of the matrix"
   ]
  },
  {
   "cell_type": "code",
   "execution_count": 19,
   "id": "138e10b5-464a-44ad-afaf-cae0205314de",
   "metadata": {},
   "outputs": [],
   "source": [
    "m         = 8.E+3  # Number of calls to target function\n",
    "e         = None   # Desired accuracy\n",
    "nswp      = None   # Sweep number\n",
    "r         = 3      # TT-rank of the initial tensor\n",
    "dr_min    = 1      # Cross parameter (minimum number of added rows)\n",
    "dr_max    = 3      # Cross parameter (maximum number of added rows)"
   ]
  },
  {
   "cell_type": "code",
   "execution_count": 20,
   "id": "e1867570-0936-453c-b99e-b70a81e1a1e4",
   "metadata": {},
   "outputs": [
    {
     "name": "stdout",
     "output_type": "stream",
     "text": [
      "Build time     :       0.02\n",
      "Evals func     :        346\n",
      "Cache uses     :       2106\n",
      "Iter accuracy  :   1.00e-08\n",
      "Sweep number   :          4\n",
      "Stop condition :       conv\n"
     ]
    }
   ],
   "source": [
    "t = tpc()\n",
    "info, cache = {}, {}\n",
    "Y = teneva.rand(n, r)\n",
    "Y = teneva.cross(matrix_element, Y, m, e, nswp,\n",
    "    dr_min=dr_min, dr_max=dr_max, info=info, cache=cache)\n",
    "Y = teneva.truncate(Y, 1.e-4)\n",
    "t = tpc() - t\n",
    "\n",
    "print(f'Build time     : {t:-10.2f}')\n",
    "print(f'Evals func     : {info[\"m\"]:-10d}')\n",
    "print(f'Cache uses     : {info[\"m_cache\"]:-10d}')\n",
    "print(f'Iter accuracy  : {info[\"e\"]:-10.2e}')\n",
    "print(f'Sweep number   : {info[\"nswp\"]:-10d}')\n",
    "print(f'Stop condition : {info[\"stop\"]:>10}')"
   ]
  },
  {
   "cell_type": "code",
   "execution_count": 21,
   "id": "eb65626e-1ea9-45ab-bcfe-55adb853c557",
   "metadata": {},
   "outputs": [
    {
     "name": "stdout",
     "output_type": "stream",
     "text": [
      "2\n",
      "(20, 2)\n",
      "(2, 18)\n"
     ]
    }
   ],
   "source": [
    "print(len(Y))\n",
    "U = Y[0][0, :, :]\n",
    "V = Y[1][:, :, 0]\n",
    "print(U.shape)\n",
    "print(V.shape)"
   ]
  },
  {
   "cell_type": "code",
   "execution_count": 25,
   "id": "b8e80748-40f0-4e83-9e82-caf0e008858f",
   "metadata": {},
   "outputs": [
    {
     "name": "stdout",
     "output_type": "stream",
     "text": [
      "3.610975018008133e-16\n"
     ]
    }
   ],
   "source": [
    "# Проверка:\n",
    "A = np.zeros(n)\n",
    "for i in range(n[0]):\n",
    "    for j in range(n[1]):\n",
    "        I = np.array([i, j])\n",
    "        A[i, j] = matrix_element(I.reshape(1, -1))[0]\n",
    "\n",
    "A_appr = U @ V\n",
    "err = np.linalg.norm(A_appr - A) / np.linalg.norm(A)\n",
    "\n",
    "print(err)"
   ]
  },
  {
   "cell_type": "code",
   "execution_count": null,
   "id": "c0e876f5-35eb-481d-aacc-3b4a0a10241e",
   "metadata": {},
   "outputs": [],
   "source": []
  },
  {
   "cell_type": "code",
   "execution_count": null,
   "id": "72e1e63e-e591-4dd9-abdd-512cab3e57f0",
   "metadata": {},
   "outputs": [],
   "source": []
  }
 ],
 "metadata": {
  "kernelspec": {
   "display_name": "Python 3",
   "language": "python",
   "name": "python3"
  },
  "language_info": {
   "codemirror_mode": {
    "name": "ipython",
    "version": 3
   },
   "file_extension": ".py",
   "mimetype": "text/x-python",
   "name": "python",
   "nbconvert_exporter": "python",
   "pygments_lexer": "ipython3",
   "version": "3.8.8"
  }
 },
 "nbformat": 4,
 "nbformat_minor": 5
}
