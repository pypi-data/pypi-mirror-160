{
 "cells": [
  {
   "cell_type": "code",
   "execution_count": 39,
   "metadata": {
    "ExecuteTime": {
     "end_time": "2019-05-03T14:20:10.303287Z",
     "start_time": "2019-05-03T14:20:10.268518Z"
    }
   },
   "outputs": [
    {
     "name": "stdout",
     "output_type": "stream",
     "text": [
      "The autoreload extension is already loaded. To reload it, use:\n",
      "  %reload_ext autoreload\n"
     ]
    }
   ],
   "source": [
    "%load_ext autoreload\n",
    "%autoreload 2\n",
    "from yabf import Param, Parameter, Likelihood, Component, LikelihoodContainer, load_likelihood_from_yaml\n",
    "\n",
    "%matplotlib inline\n",
    "import matplotlib.pyplot as plt\n",
    "from copy import copy\n",
    "import numpy as np"
   ]
  },
  {
   "cell_type": "code",
   "execution_count": 2,
   "metadata": {
    "ExecuteTime": {
     "end_time": "2019-05-03T13:49:47.077104Z",
     "start_time": "2019-05-03T13:49:46.939336Z"
    }
   },
   "outputs": [
    {
     "name": "stderr",
     "output_type": "stream",
     "text": [
      "/home/steven/Documents/Projects/misc/yabf/yabf/likelihood.py:189: UserWarning: You have passed a parameter alias [p1] which matchesmore than one parameter [['low_band.LinPoly.p1', 'high_band.LinPoly.p1']]. Only information from the firstmatched parameter will be used to define the active parameter\n",
      "  \"parameter\".format(al, full_aliases[-matched:])\n",
      "/home/steven/Documents/Projects/misc/yabf/yabf/likelihood.py:189: UserWarning: You have passed a parameter alias [p2] which matchesmore than one parameter [['low_band.LinPoly.p2', 'high_band.LinPoly.p2']]. Only information from the firstmatched parameter will be used to define the active parameter\n",
      "  \"parameter\".format(al, full_aliases[-matched:])\n",
      "/home/steven/Documents/Projects/misc/yabf/yabf/likelihood.py:189: UserWarning: You have passed a parameter alias [p3] which matchesmore than one parameter [['low_band.LinPoly.p3', 'high_band.LinPoly.p3']]. Only information from the firstmatched parameter will be used to define the active parameter\n",
      "  \"parameter\".format(al, full_aliases[-matched:])\n",
      "/home/steven/Documents/Projects/misc/yabf/yabf/likelihood.py:189: UserWarning: You have passed a parameter alias [p4] which matchesmore than one parameter [['low_band.LinPoly.p4', 'high_band.LinPoly.p4']]. Only information from the firstmatched parameter will be used to define the active parameter\n",
      "  \"parameter\".format(al, full_aliases[-matched:])\n",
      "/home/steven/Documents/Projects/misc/yabf/yabf/likelihood.py:189: UserWarning: You have passed a parameter alias [A] which matchesmore than one parameter [['low_band.AbsorptionProfile.A', 'high_band.AbsorptionProfile.A']]. Only information from the firstmatched parameter will be used to define the active parameter\n",
      "  \"parameter\".format(al, full_aliases[-matched:])\n",
      "/home/steven/Documents/Projects/misc/yabf/yabf/likelihood.py:189: UserWarning: You have passed a parameter alias [tau] which matchesmore than one parameter [['low_band.AbsorptionProfile.tau', 'high_band.AbsorptionProfile.tau']]. Only information from the firstmatched parameter will be used to define the active parameter\n",
      "  \"parameter\".format(al, full_aliases[-matched:])\n",
      "/home/steven/Documents/Projects/misc/yabf/yabf/likelihood.py:189: UserWarning: You have passed a parameter alias [nu0] which matchesmore than one parameter [['low_band.AbsorptionProfile.nu0', 'high_band.AbsorptionProfile.nu0']]. Only information from the firstmatched parameter will be used to define the active parameter\n",
      "  \"parameter\".format(al, full_aliases[-matched:])\n",
      "/home/steven/Documents/Projects/misc/yabf/yabf/likelihood.py:189: UserWarning: You have passed a parameter alias [w] which matchesmore than one parameter [['low_band.AbsorptionProfile.w', 'high_band.AbsorptionProfile.w']]. Only information from the firstmatched parameter will be used to define the active parameter\n",
      "  \"parameter\".format(al, full_aliases[-matched:])\n"
     ]
    }
   ],
   "source": [
    "lk = load_likelihood_from_yaml(\"two-bands.yml\")"
   ]
  },
  {
   "cell_type": "code",
   "execution_count": 3,
   "metadata": {
    "ExecuteTime": {
     "end_time": "2019-05-03T13:51:31.070306Z",
     "start_time": "2019-05-03T13:51:30.971105Z"
    }
   },
   "outputs": [
    {
     "data": {
      "text/plain": [
       "{'low_band': {'sigma': 0.013,\n",
       "  'AbsorptionProfile': {'A': 0.5, 'tau': 7, 'w': 17.0, 'nu0': 75},\n",
       "  'LinPoly': {'p0': 1750, 'p1': 0, 'p2': 0, 'p3': 0, 'p4': 0}},\n",
       " 'high_band': {'sigma': 0.005,\n",
       "  'AbsorptionProfile': {'A': 0.5, 'tau': 7, 'w': 17.0, 'nu0': 75},\n",
       "  'LinPoly': {'p0': 1760, 'p1': 0, 'p2': 0, 'p3': 0, 'p4': 0}}}"
      ]
     },
     "execution_count": 3,
     "metadata": {},
     "output_type": "execute_result"
    }
   ],
   "source": [
    "lk.fiducial_params"
   ]
  },
  {
   "cell_type": "code",
   "execution_count": 6,
   "metadata": {
    "ExecuteTime": {
     "end_time": "2019-05-03T14:03:42.001167Z",
     "start_time": "2019-05-03T14:03:41.955963Z"
    }
   },
   "outputs": [
    {
     "data": {
      "text/plain": [
       "array([434.96526991, 431.75979335, 428.56786163, 425.40199354,\n",
       "       422.28736099, 419.19760776, 416.1295035 , 413.11109926,\n",
       "       410.1170726 , 407.14354392, 404.20774113, 401.30095964,\n",
       "       398.42918037, 395.56865682, 392.74860951, 389.96403112,\n",
       "       387.19375325, 384.4618688 , 381.75769837, 379.05972514,\n",
       "       376.40747656, 373.7840946 , 371.16064451, 368.59009875,\n",
       "       366.03709469, 363.49721268, 360.98847888, 358.50790922,\n",
       "       356.04654567, 353.62344563, 351.21046941, 348.80996732,\n",
       "       346.45721243, 344.10306323, 341.78510859, 339.48048376,\n",
       "       337.21348205, 334.95326866, 332.7247585 , 330.49691749,\n",
       "       328.30720204, 326.14299544, 323.97690878, 321.84405655,\n",
       "       319.73354204, 317.63287136, 315.56353376, 313.51827036,\n",
       "       311.46665995, 309.45887038, 307.44903438, 305.45522622,\n",
       "       303.50322675, 301.55134001, 299.62178169, 297.7113639 ,\n",
       "       295.81605646, 293.93152533, 292.06673276, 290.22704756,\n",
       "       288.39154733, 286.58416142, 284.78177476, 283.01406567,\n",
       "       281.23278162, 279.48704519, 277.75527205, 276.03535043,\n",
       "       274.33345501, 272.63723843, 270.9598195 , 269.29429157,\n",
       "       267.64902828, 266.02203852, 264.38943562, 262.79090384,\n",
       "       261.19140298, 259.61098153, 258.06141168, 256.49965154,\n",
       "       254.96215742, 253.42795287, 251.92299134, 250.42509871,\n",
       "       248.92767478, 247.46016653, 245.99261499, 244.54172214,\n",
       "       243.0972289 , 241.67740164, 240.25008496, 238.84631748,\n",
       "       237.45614285, 236.08244776, 234.70864844, 233.34472549,\n",
       "       232.00402491, 230.65829867, 229.33520539, 228.01854654,\n",
       "       226.70694727, 225.40755399, 224.12332199, 222.84840193,\n",
       "       221.59159788, 220.33899824, 219.09560139, 217.85684407,\n",
       "       216.63699339, 215.4108867 , 214.2143048 , 213.0103845 ,\n",
       "       211.81847983, 210.64444249, 209.47656834, 208.31809477,\n",
       "       207.16398025, 206.01537067, 204.88994249, 203.77464602,\n",
       "       202.65399767, 201.54525254, 200.44400063])"
      ]
     },
     "execution_count": 6,
     "metadata": {},
     "output_type": "execute_result"
    }
   ],
   "source": [
    "lk.likelihoods[1].data"
   ]
  },
  {
   "cell_type": "code",
   "execution_count": 9,
   "metadata": {
    "ExecuteTime": {
     "end_time": "2019-05-03T14:04:55.039151Z",
     "start_time": "2019-05-03T14:04:54.650380Z"
    }
   },
   "outputs": [
    {
     "data": {
      "text/plain": [
       "[<matplotlib.lines.Line2D at 0x7f767b135a90>]"
      ]
     },
     "execution_count": 9,
     "metadata": {},
     "output_type": "execute_result"
    },
    {
     "data": {
      "image/png": "[encoded data removed]",
      "text/plain": [
       "<Figure size 432x288 with 1 Axes>"
      ]
     },
     "metadata": {
      "needs_background": "light"
     },
     "output_type": "display_data"
    }
   ],
   "source": [
    "plt.plot(lk.likelihoods[0].freqs, lk.likelihoods[0].data, color=\"C0\")\n",
    "plt.plot(lk.likelihoods[1].freqs, lk.likelihoods[1].data, color=\"C0\")"
   ]
  },
  {
   "cell_type": "code",
   "execution_count": 10,
   "metadata": {
    "ExecuteTime": {
     "end_time": "2019-05-03T14:06:24.581470Z",
     "start_time": "2019-05-03T14:06:24.523315Z"
    }
   },
   "outputs": [],
   "source": [
    "fid_models = lk._reduce_all()"
   ]
  },
  {
   "cell_type": "code",
   "execution_count": 13,
   "metadata": {
    "ExecuteTime": {
     "end_time": "2019-05-03T14:07:02.090891Z",
     "start_time": "2019-05-03T14:07:01.767268Z"
    }
   },
   "outputs": [
    {
     "data": {
      "text/plain": [
       "[<matplotlib.lines.Line2D at 0x7f767ad55630>]"
      ]
     },
     "execution_count": 13,
     "metadata": {},
     "output_type": "execute_result"
    },
    {
     "data": {
      "image/png": "[encoded data removed]",
      "text/plain": [
       "<Figure size 432x288 with 1 Axes>"
      ]
     },
     "metadata": {
      "needs_background": "light"
     },
     "output_type": "display_data"
    }
   ],
   "source": [
    "plt.plot(lk.likelihoods[0].freqs, lk.likelihoods[0].data - fid_models['low_band'], color=\"C0\")\n",
    "plt.plot(lk.likelihoods[1].freqs, lk.likelihoods[1].data - fid_models['high_band'], color=\"C0\")"
   ]
  },
  {
   "cell_type": "code",
   "execution_count": 14,
   "metadata": {
    "ExecuteTime": {
     "end_time": "2019-05-03T14:07:17.795628Z",
     "start_time": "2019-05-03T14:07:17.745716Z"
    }
   },
   "outputs": [
    {
     "data": {
      "text/plain": [
       "(843.7317043378983, [])"
      ]
     },
     "execution_count": 14,
     "metadata": {},
     "output_type": "execute_result"
    }
   ],
   "source": [
    "lk()"
   ]
  },
  {
   "cell_type": "code",
   "execution_count": 17,
   "metadata": {
    "ExecuteTime": {
     "end_time": "2019-05-03T14:08:23.993157Z",
     "start_time": "2019-05-03T14:08:23.946840Z"
    }
   },
   "outputs": [
    {
     "data": {
      "text/plain": [
       "[('p1', 0),\n",
       " ('p2', 0),\n",
       " ('p3', 0),\n",
       " ('p4', 0),\n",
       " ('A', 0.5),\n",
       " ('tau', 7),\n",
       " ('nu0', 75),\n",
       " ('w', 17.0),\n",
       " ('sigma_low', 0.013),\n",
       " ('p0_low', 1750),\n",
       " ('sigma_hi', 0.005),\n",
       " ('p0_hi', 1760)]"
      ]
     },
     "execution_count": 17,
     "metadata": {},
     "output_type": "execute_result"
    }
   ],
   "source": [
    "[(a.name, a.fiducial) for a in lk.child_active_params]"
   ]
  },
  {
   "cell_type": "code",
   "execution_count": 18,
   "metadata": {
    "ExecuteTime": {
     "end_time": "2019-05-03T14:08:48.402418Z",
     "start_time": "2019-05-03T14:08:48.362001Z"
    }
   },
   "outputs": [
    {
     "data": {
      "text/plain": [
       "[0, 0, 0, 0, 0.5, 7, 75, 17.0, 0.013, 1750, 0.005, 1760]"
      ]
     },
     "execution_count": 18,
     "metadata": {},
     "output_type": "execute_result"
    }
   ],
   "source": [
    "[a.fiducial for a in lk.child_active_params]"
   ]
  },
  {
   "cell_type": "code",
   "execution_count": 32,
   "metadata": {
    "ExecuteTime": {
     "end_time": "2019-05-03T14:14:54.293059Z",
     "start_time": "2019-05-03T14:14:54.028548Z"
    }
   },
   "outputs": [
    {
     "name": "stdout",
     "output_type": "stream",
     "text": [
      "0.9147126785144337  0.5735220563411758\n",
      "2.069223060125296  1.0847929277384765\n",
      "6.561200457833934  4.335529430728229\n",
      "25.15373618801698  20.131280785302238\n",
      "0.027651022366512734  0.19552346955720168\n",
      "0.004963312331483394  -0.00495538965662945\n",
      "0.017741622519793054  -0.016766916463097914\n",
      "-0.020729526395030007  0.020979438866220335\n",
      "1.926756938661697  -0.785642494049057\n",
      "0.4929100745555388  0.7431476547675402\n",
      "2.9053718814041076  8.488219277998155\n",
      "0.14621023823258383  0.0010137788081010513\n"
     ]
    }
   ],
   "source": [
    "fid = [a.fiducial for a in lk.child_active_params]\n",
    "for i in range(lk.total_active_params):\n",
    "    fidd = copy(fid)\n",
    "    fidd[i] += 0.001\n",
    "    \n",
    "    print(lk(fid)[0] - lk(fidd)[0],\" \", end=\"\")\n",
    "\n",
    "    fidd[i] -= 0.002\n",
    "    print(lk(fid)[0] - lk(fidd)[0])\n",
    "    "
   ]
  },
  {
   "cell_type": "code",
   "execution_count": 33,
   "metadata": {
    "ExecuteTime": {
     "end_time": "2019-05-03T14:16:16.686374Z",
     "start_time": "2019-05-03T14:16:16.647553Z"
    }
   },
   "outputs": [],
   "source": [
    "from scipy.optimize import minimize"
   ]
  },
  {
   "cell_type": "code",
   "execution_count": 34,
   "metadata": {
    "ExecuteTime": {
     "end_time": "2019-05-03T14:16:19.744456Z",
     "start_time": "2019-05-03T14:16:19.635118Z"
    }
   },
   "outputs": [],
   "source": [
    "minimize?"
   ]
  },
  {
   "cell_type": "code",
   "execution_count": 61,
   "metadata": {
    "ExecuteTime": {
     "end_time": "2019-05-03T14:27:34.013848Z",
     "start_time": "2019-05-03T14:27:33.969105Z"
    }
   },
   "outputs": [],
   "source": [
    "def objfunc(x):\n",
    "    fidd =copy(fid)\n",
    "    fidd[5:9] = x[:]\n",
    "    return -lk(fidd)[0]"
   ]
  },
  {
   "cell_type": "code",
   "execution_count": 46,
   "metadata": {
    "ExecuteTime": {
     "end_time": "2019-05-03T14:22:48.615387Z",
     "start_time": "2019-05-03T14:22:48.575601Z"
    }
   },
   "outputs": [],
   "source": [
    "fnc = lambda x: -lk(x)[0]"
   ]
  },
  {
   "cell_type": "code",
   "execution_count": 62,
   "metadata": {
    "ExecuteTime": {
     "end_time": "2019-05-03T14:27:35.665687Z",
     "start_time": "2019-05-03T14:27:35.443283Z"
    }
   },
   "outputs": [
    {
     "data": {
      "text/plain": [
       "      fun: -844.486704242192\n",
       " hess_inv: <4x4 LbfgsInvHessProduct with dtype=float64>\n",
       "      jac: array([   4.72547299,  -14.75850695,  -10.94094841, 1516.33258838])\n",
       "  message: b'CONVERGENCE: REL_REDUCTION_OF_F_<=_FACTR*EPSMCH'\n",
       "     nfev: 25\n",
       "      nit: 2\n",
       "   status: 0\n",
       "  success: True\n",
       "        x: array([6.99058486e+00, 7.49671982e+01, 1.70397032e+01, 1.29752631e-02])"
      ]
     },
     "execution_count": 62,
     "metadata": {},
     "output_type": "execute_result"
    }
   ],
   "source": [
    "minimize(objfunc, fid[5:9], bounds = [(None,None), (None,None), (None,None), (0,None)])"
   ]
  },
  {
   "cell_type": "code",
   "execution_count": 64,
   "metadata": {
    "ExecuteTime": {
     "end_time": "2019-05-03T14:28:34.081696Z",
     "start_time": "2019-05-03T14:28:34.043313Z"
    }
   },
   "outputs": [
    {
     "data": {
      "text/plain": [
       "[0, 0, 0, 0, 0.5, 7, 75, 17.0, 0.013, 1750, 0.005, 1760]"
      ]
     },
     "execution_count": 64,
     "metadata": {},
     "output_type": "execute_result"
    }
   ],
   "source": [
    "fid"
   ]
  },
  {
   "cell_type": "code",
   "execution_count": 63,
   "metadata": {
    "ExecuteTime": {
     "end_time": "2019-05-03T14:28:26.384533Z",
     "start_time": "2019-05-03T14:28:26.335149Z"
    }
   },
   "outputs": [
    {
     "data": {
      "text/plain": [
       "[[array([-731.96688074])],\n",
       " [array([987.73560607])],\n",
       " [array([-696.17418828])],\n",
       " [array([138.94895355])],\n",
       " [array([0.51552481])],\n",
       " [array([7.40437365])],\n",
       " [array([79.47541705])],\n",
       " [array([21.16196411])],\n",
       " [array([0.01430443])],\n",
       " [array([2008.67962949])],\n",
       " [array([0.0129633])],\n",
       " [array([2029.72682691])]]"
      ]
     },
     "execution_count": 63,
     "metadata": {},
     "output_type": "execute_result"
    }
   ],
   "source": [
    "lk.generate_refs()"
   ]
  },
  {
   "cell_type": "code",
   "execution_count": null,
   "metadata": {},
   "outputs": [],
   "source": []
  }
 ],
 "metadata": {
  "kernelspec": {
   "display_name": "Python [conda env:edges]",
   "language": "python",
   "name": "conda-env-edges-py"
  },
  "language_info": {
   "codemirror_mode": {
    "name": "ipython",
    "version": 3
   },
   "file_extension": ".py",
   "mimetype": "text/x-python",
   "name": "python",
   "nbconvert_exporter": "python",
   "pygments_lexer": "ipython3",
   "version": "3.7.3"
  },
  "latex_envs": {
   "LaTeX_envs_menu_present": true,
   "autoclose": true,
   "autocomplete": true,
   "bibliofile": "biblio.bib",
   "cite_by": "apalike",
   "current_citInitial": 1,
   "eqLabelWithNumbers": true,
   "eqNumInitial": 1,
   "hotkeys": {
    "equation": "Ctrl-E",
    "itemize": "Ctrl-I"
   },
   "labels_anchors": false,
   "latex_user_defs": false,
   "report_style_numbering": false,
   "user_envs_cfg": false
  },
  "toc": {
   "base_numbering": 1,
   "nav_menu": {},
   "number_sections": true,
   "sideBar": true,
   "skip_h1_title": false,
   "title_cell": "Table of Contents",
   "title_sidebar": "Contents",
   "toc_cell": false,
   "toc_position": {},
   "toc_section_display": true,
   "toc_window_display": false
  }
 },
 "nbformat": 4,
 "nbformat_minor": 2
}
