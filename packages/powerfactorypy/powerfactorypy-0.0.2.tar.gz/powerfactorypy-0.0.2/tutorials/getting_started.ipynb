{
 "cells": [
  {
   "cell_type": "markdown",
   "metadata": {},
   "source": [
    "This tutorial gives an overview of the functionality of *powfacpy*. For a complete list of classes and methods, please have a look at the *API* Chapter of the documentation or at the source code.\n",
    "\n",
    "Similar to using the Python API of *PowerFactory* directly, we first need to import the powerfactory module from *PowerFactory*'s installation directory and get the application."
   ]
  },
  {
   "cell_type": "code",
   "execution_count": 5,
   "metadata": {},
   "outputs": [],
   "source": [
    "import sys\n",
    "sys.path.append(r'C:\\Program Files\\DIgSILENT\\PowerFactory 2022 SP1\\Python\\3.10') # you may use a different directory\n",
    "import powerfactory as powerfactory\n",
    "app = powerfactory.GetApplication()"
   ]
  },
  {
   "cell_type": "markdown",
   "metadata": {},
   "source": [
    "Then import *powfacpy* and create an instance of class `PFBaseInterface` (with argument `app`). This interface class is used mainly to interact with the *PowerFactory* database as we will see below. "
   ]
  },
  {
   "cell_type": "code",
   "execution_count": 6,
   "metadata": {},
   "outputs": [],
   "source": [
    "import powerfactorypy\n",
    "pfbi = powerfactorypy.PFBaseInterface(app)"
   ]
  },
  {
   "cell_type": "markdown",
   "metadata": {},
   "source": [
    "Note that `pfbi` has an attribute `app` that can be used similar to the `app` variable we loaded from the `powerfactory` module before. Here are two ways to 1. show the PowerFactory application and 2. activate a project:"
   ]
  },
  {
   "cell_type": "code",
   "execution_count": 7,
   "metadata": {},
   "outputs": [
    {
     "data": {
      "text/plain": [
       "1"
      ]
     },
     "execution_count": 7,
     "metadata": {},
     "output_type": "execute_result"
    }
   ],
   "source": [
    "app.Show()\n",
    "app.ActivateProject(r\"\\user\\powerfactorypy_base\") # You may change the project path\n",
    "pfbi.app.Show()\n",
    "pfbi.app.ActivateProject(r\"\\user\\powerfactorypy_base\") # You may change the project path"
   ]
  },
  {
   "cell_type": "markdown",
   "metadata": {},
   "source": [
    "So where does `pfbi` differ from the Python interface that `app` provides? Let's see."
   ]
  },
  {
   "cell_type": "markdown",
   "metadata": {},
   "source": [
    "# Accessing objects\n",
    " Let's access an object from the *PowerFactory* database. When using `app`, we would have to write several lines of code using the methods `app.GetProjectFolder`, `app.GetChildren` or `app.GetContents`. In contrast, it is much easier to use `pfbi.get_obj` with the path of the object (**relative to the project folder**) as an argument: "
   ]
  },
  {
   "cell_type": "code",
   "execution_count": 8,
   "metadata": {},
   "outputs": [],
   "source": [
    "terminal_mv = pfbi.get_obj(r\"Network Model\\Network Data\\Grid\\Terminal MV\")"
   ]
  },
  {
   "cell_type": "markdown",
   "metadata": {},
   "source": [
    "Note that you can easily copy and paste the path from the data manager while selecting the object in the data tree: \n",
    "\n",
    "![object path](object_path.png)"
   ]
  },
  {
   "cell_type": "markdown",
   "metadata": {},
   "source": [
    "# Setting and getting object attributes\n",
    "How about setting data in the database? You can set attributes of an object as follows:"
   ]
  },
  {
   "cell_type": "code",
   "execution_count": 9,
   "metadata": {},
   "outputs": [],
   "source": [
    "pfbi.set_attr(r\"Network Model\\Network Data\\Grid\\Terminal MV\",\n",
    "    {\"uknom\":33,\"outserv\":0})"
   ]
  },
  {
   "cell_type": "markdown",
   "metadata": {},
   "source": [
    "So with only one command we set the attributes \"uknom\" and \"outserv\" of the terminal. This saves time and is also very readable code!\n",
    "Note that the method `set_attr` accepts the path (string) but also a *PowerFactory* object. For example, we could also use the object `terminal_mv` that we loaded above:"
   ]
  },
  {
   "cell_type": "code",
   "execution_count": 10,
   "metadata": {},
   "outputs": [],
   "source": [
    "pfbi.set_attr(terminal_mv,\n",
    "    {\"uknom\":33,\"outserv\":0})"
   ]
  },
  {
   "cell_type": "markdown",
   "metadata": {},
   "source": [
    "This applies to many other methods in powfacpy. Loading the object only once and then using the object can be more efficient than using the path string very many times.\n",
    "\n",
    "If you want to get an attribute of an object, write: "
   ]
  },
  {
   "cell_type": "code",
   "execution_count": null,
   "metadata": {},
   "outputs": [],
   "source": [
    "nominal_voltage = pfbi.get_attr(r\"Network Model\\Network Data\\Grid\\Terminal MV\",\"uknom\")"
   ]
  },
  {
   "cell_type": "markdown",
   "metadata": {},
   "source": [
    "# Accessing objects from a folder\n",
    "There are other functions to get objects from the database, for example:"
   ]
  },
  {
   "cell_type": "code",
   "execution_count": 11,
   "metadata": {},
   "outputs": [],
   "source": [
    "terminals_110kV = pfbi.get_from_folder(r\"Network Model\\Network Data\\Grid\",obj_name=\"*.ElmTerm\",\n",
    "    attr=\"uknom\", attr_lambda=lambda x : x==110, include_subfolders=True)"
   ]
  },
  {
   "cell_type": "markdown",
   "metadata": {},
   "source": [
    "This returns a list of all the terminals in the folder \"Network Model\\Network Data\\Grid\" (and its subfolders) whose nominal voltage (attribute `uknom`) is 110 kV. The `obj_name` can contain placeholders. `attr_lambda` must be a lambda function that returns `True` if `attr` has a certain condition (e.g. if you want to get all terminals with nominal voltage below 60 kV, you could also use `attr_lambda=lambda x : x<60`.\n",
    "\n",
    "Note that except for the folder, these are all optional method arguments. To get all objects in the grid folder for example, you can write:"
   ]
  },
  {
   "cell_type": "code",
   "execution_count": 12,
   "metadata": {},
   "outputs": [],
   "source": [
    "all_grid_objects = pfbi.get_from_folder(r\"Network Model\\Network Data\\Grid\")"
   ]
  },
  {
   "cell_type": "markdown",
   "metadata": {},
   "source": [
    "# Creating objects\n",
    "If you want to create a new object, use:"
   ]
  },
  {
   "cell_type": "code",
   "execution_count": 13,
   "metadata": {},
   "outputs": [],
   "source": [
    "new_obj = pfbi.create_by_path(r\"Library\\Dynamic Models\\dummy.BlkDef\") "
   ]
  },
  {
   "cell_type": "markdown",
   "metadata": {},
   "source": [
    "This will create an object of class \"BlkDef\" with the name \"dummy\" in the folder \"Library\\Dynamic Models\". You can also use"
   ]
  },
  {
   "cell_type": "code",
   "execution_count": 14,
   "metadata": {},
   "outputs": [],
   "source": [
    "new_obj = pfbi.create_in_folder(r\"Library\\Dynamic Models\",\"dummy.BlkDef\",overwrite=True)"
   ]
  },
  {
   "cell_type": "markdown",
   "metadata": {},
   "source": [
    "which will overwrite the former object.\n",
    "\n",
    "# Copying objects\n",
    "To copy an object to a folder use"
   ]
  },
  {
   "cell_type": "code",
   "execution_count": 15,
   "metadata": {},
   "outputs": [],
   "source": [
    "obj_to_be_copied = r\"Library\\Dynamic Models\\Linear_interpolation\"\n",
    "folder_copy_to = r\"Library\\Dynamic Models\\TestCopy\"\n",
    "new_copy = pfbi.copy_obj(obj_to_be_copied,folder_copy_to)"
   ]
  },
  {
   "cell_type": "markdown",
   "metadata": {},
   "source": [
    "As mentioned above, insted of using objects as method arguments, you can also use the path string:"
   ]
  },
  {
   "cell_type": "code",
   "execution_count": 16,
   "metadata": {},
   "outputs": [],
   "source": [
    "new_copy = pfbi.copy_obj(r\"Library\\Dynamic Models\\Linear_interpolation\",\n",
    "    r\"Library\\Dynamic Models\\TestCopy\")"
   ]
  },
  {
   "cell_type": "markdown",
   "metadata": {},
   "source": [
    "To copy a whole folder, write:"
   ]
  },
  {
   "cell_type": "code",
   "execution_count": 18,
   "metadata": {},
   "outputs": [],
   "source": [
    "folder_copy_from = r\"Library\\Dynamic Models\\TestDummyFolder\"\n",
    "folder_copy_to = r\"Library\\Dynamic Models\\TestCopyMultiple\"\n",
    "new_copy_list = pfbi.copy_multiple_objects(folder_copy_from,folder_copy_to)"
   ]
  },
  {
   "cell_type": "markdown",
   "metadata": {},
   "source": [
    "You can also copy a list of objects. To show this, we get the contents of a folder first and then copy them to the new folder:"
   ]
  },
  {
   "cell_type": "code",
   "execution_count": 20,
   "metadata": {},
   "outputs": [],
   "source": [
    "list_of_objects = pfbi.get_from_folder(r\"Library\\Dynamic Models\\TestDummyFolder\")\n",
    "folder_copy_to = r\"Library\\Dynamic Models\\TestCopyMultiple\"\n",
    "new_copy_list = pfbi.copy_multiple_objects(list_of_objects,folder_copy_to)"
   ]
  },
  {
   "cell_type": "markdown",
   "metadata": {},
   "source": [
    "# Deleting objects\n",
    "If you want to delete an object, you can simply do:"
   ]
  },
  {
   "cell_type": "code",
   "execution_count": 21,
   "metadata": {},
   "outputs": [],
   "source": [
    "pfbi.delete_obj(r\"Library\\Dynamic Models\\TestCopyMultiple\\dummy\")"
   ]
  },
  {
   "cell_type": "markdown",
   "metadata": {},
   "source": [
    "Alternatively, to delete multiple objects (use placeholder \"*\") in a folder:"
   ]
  },
  {
   "cell_type": "code",
   "execution_count": null,
   "metadata": {},
   "outputs": [],
   "source": [
    "folder = r\"Library\\Dynamic Models\\TestDelete\"\n",
    "pfbi.delete_obj_from_folder(folder,\"dummy_to_be_deleted*\")"
   ]
  }
 ],
 "metadata": {
  "kernelspec": {
   "display_name": "Python 3.10.4 64-bit",
   "language": "python",
   "name": "python3"
  },
  "language_info": {
   "codemirror_mode": {
    "name": "ipython",
    "version": 3
   },
   "file_extension": ".py",
   "mimetype": "text/x-python",
   "name": "python",
   "nbconvert_exporter": "python",
   "pygments_lexer": "ipython3",
   "version": "3.10.4"
  },
  "orig_nbformat": 4,
  "vscode": {
   "interpreter": {
    "hash": "20b4f2ae9a71ebfc0af8cf0167d05f9c8f5c94fe23811db744e66ae1fdb328c7"
   }
  }
 },
 "nbformat": 4,
 "nbformat_minor": 2
}
