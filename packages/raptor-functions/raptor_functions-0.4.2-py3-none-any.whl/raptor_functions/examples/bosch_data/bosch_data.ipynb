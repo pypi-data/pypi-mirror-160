{
 "cells": [
  {
   "cell_type": "code",
   "execution_count": 2,
   "metadata": {},
   "outputs": [],
   "source": [
    "from raptor_functions.supervised.preprocess import preprocess_bosch_json_files\n",
    "from raptor_functions.supervised.feature_extraction import get_training_features\n",
    "from raptor_functions.supervised.train import train_experiments\n",
    "import pandas as pd\n"
   ]
  },
  {
   "cell_type": "code",
   "execution_count": 3,
   "metadata": {},
   "outputs": [],
   "source": [
    "structured_file_path_ouput = 'output'\n",
    "json_file_path_peony = 'Cherry_and_Peony.json'\n",
    "json_file_path_baseline = 'new_bosch_data.json'\n",
    "json_file_path_vanilla = 'vanilla_new.json'\n",
    "\n",
    "labels = ['baseline', 'peony', 'vanilla']\n",
    "filepaths = [json_file_path_baseline, json_file_path_peony, json_file_path_vanilla]"
   ]
  },
  {
   "cell_type": "code",
   "execution_count": 4,
   "metadata": {},
   "outputs": [
    {
     "name": "stdout",
     "output_type": "stream",
     "text": [
      "No of experiments for baseline is 253\n",
      "No of experiments for peony is 252\n",
      "No of experiments for vanilla is 302\n"
     ]
    }
   ],
   "source": [
    "df_all = preprocess_bosch_json_files(filepaths, labels, structured_file_path_ouput)\n"
   ]
  },
  {
   "cell_type": "code",
   "execution_count": 5,
   "metadata": {},
   "outputs": [],
   "source": [
    "cols_to_drop = ['exp_unique_id', 'timesteps', 'real_time_clock', 'result']\n",
    "features = df_all.drop(cols_to_drop, axis=1).columns.tolist()\n",
    "\n",
    "# features"
   ]
  },
  {
   "cell_type": "code",
   "execution_count": null,
   "metadata": {},
   "outputs": [],
   "source": [
    "timesteps = 'real_time_clock'\n",
    "df_train = get_training_features(df_all,timesteps=timesteps, features=features)"
   ]
  },
  {
   "cell_type": "code",
   "execution_count": null,
   "metadata": {},
   "outputs": [],
   "source": [
    "df_train.columns"
   ]
  },
  {
   "cell_type": "code",
   "execution_count": null,
   "metadata": {},
   "outputs": [],
   "source": [
    "import mlflow\n",
    "\n",
    "mlflow.end_run()\n",
    "train_experiments(df_train, study_name='bosch')"
   ]
  }
 ],
 "metadata": {
  "kernelspec": {
   "display_name": "Python 3.7.13 ('ra37')",
   "language": "python",
   "name": "python3"
  },
  "language_info": {
   "codemirror_mode": {
    "name": "ipython",
    "version": 3
   },
   "file_extension": ".py",
   "mimetype": "text/x-python",
   "name": "python",
   "nbconvert_exporter": "python",
   "pygments_lexer": "ipython3",
   "version": "3.7.13"
  },
  "orig_nbformat": 4,
  "vscode": {
   "interpreter": {
    "hash": "49652694a6f7a326889eba512046e4a6a8e8fffc8fb9e965e3a36ec3874ee75b"
   }
  }
 },
 "nbformat": 4,
 "nbformat_minor": 2
}
