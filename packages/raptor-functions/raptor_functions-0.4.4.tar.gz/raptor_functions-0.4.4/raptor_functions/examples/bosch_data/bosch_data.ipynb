{
 "cells": [
  {
   "cell_type": "code",
   "execution_count": null,
   "metadata": {},
   "outputs": [],
   "source": [
    "from raptor_functions.supervised.preprocess import preprocess_bosch_json_files\n",
    "from raptor_functions.supervised.feature_extraction import get_training_features\n",
    "from raptor_functions.supervised.train import train_experiments\n",
    "from raptor_functions.eda.visualisations import dimension_reduction_plot\n",
    "\n",
    "import pandas as pd\n"
   ]
  },
  {
   "cell_type": "code",
   "execution_count": 27,
   "metadata": {},
   "outputs": [],
   "source": [
    "from raptor_functions.eda.visualisations import dimension_reduction_plot, PCA_plot, plot_sensors\n"
   ]
  },
  {
   "cell_type": "code",
   "execution_count": 3,
   "metadata": {},
   "outputs": [],
   "source": [
    "structured_file_path_ouput = 'output'\n",
    "json_file_path_peony = 'Cherry_and_Peony.json'\n",
    "json_file_path_baseline = 'new_bosch_data.json'\n",
    "json_file_path_vanilla = 'vanilla_new.json'\n",
    "\n",
    "labels = ['baseline', 'peony', 'vanilla']\n",
    "filepaths = [json_file_path_baseline, json_file_path_peony, json_file_path_vanilla]"
   ]
  },
  {
   "cell_type": "code",
   "execution_count": 7,
   "metadata": {},
   "outputs": [
    {
     "name": "stdout",
     "output_type": "stream",
     "text": [
      "No of experiments for baseline is 253\n",
      "No of experiments for peony is 252\n",
      "No of experiments for vanilla is 302\n"
     ]
    }
   ],
   "source": [
    "df_all = preprocess_bosch_json_files(filepaths, labels, structured_file_path_ouput)\n"
   ]
  },
  {
   "cell_type": "code",
   "execution_count": 5,
   "metadata": {},
   "outputs": [],
   "source": [
    "cols_to_drop = ['exp_unique_id', 'timesteps', 'real_time_clock', 'result']\n",
    "features = df_all.drop(cols_to_drop, axis=1).columns.tolist()\n",
    "\n",
    "# features"
   ]
  },
  {
   "cell_type": "code",
   "execution_count": 20,
   "metadata": {},
   "outputs": [],
   "source": [
    "df_all.to_csv('df_all.csv')"
   ]
  },
  {
   "cell_type": "code",
   "execution_count": null,
   "metadata": {},
   "outputs": [],
   "source": [
    "timesteps = 'real_time_clock'\n",
    "df_train = get_training_features(df_all,timesteps=timesteps, features=features)"
   ]
  },
  {
   "cell_type": "code",
   "execution_count": 25,
   "metadata": {},
   "outputs": [
    {
     "data": {
      "text/plain": [
       "31"
      ]
     },
     "execution_count": 25,
     "metadata": {},
     "output_type": "execute_result"
    }
   ],
   "source": [
    "len(df_train.columns)"
   ]
  },
  {
   "cell_type": "code",
   "execution_count": 17,
   "metadata": {},
   "outputs": [],
   "source": [
    "df_train.to_csv('df_selected_features.csv')"
   ]
  },
  {
   "cell_type": "code",
   "execution_count": null,
   "metadata": {},
   "outputs": [],
   "source": [
    "df_train = pd.read_csv('df_selected_features.csv', index_col=0)"
   ]
  },
  {
   "cell_type": "code",
   "execution_count": 22,
   "metadata": {},
   "outputs": [
    {
     "name": "stdout",
     "output_type": "stream",
     "text": [
      "Plot saved sucesfully in current path!\n"
     ]
    }
   ],
   "source": [
    "X = df_train.drop('result', axis=1)\n",
    "y = df_train['result']\n",
    "\n",
    "dimension_reduction_plot(X, y)"
   ]
  },
  {
   "cell_type": "code",
   "execution_count": 26,
   "metadata": {},
   "outputs": [
    {
     "data": {
      "text/html": [
       "<style type=\"text/css\">\n",
       "#T_9fd60_row10_col0, #T_9fd60_row10_col1, #T_9fd60_row10_col2, #T_9fd60_row10_col3, #T_9fd60_row10_col4, #T_9fd60_row10_col5 {\n",
       "  background: yellow;\n",
       "}\n",
       "</style>\n",
       "<table id=\"T_9fd60_\">\n",
       "  <thead>\n",
       "    <tr>\n",
       "      <th class=\"blank level0\" >&nbsp;</th>\n",
       "      <th class=\"col_heading level0 col0\" >Accuracy</th>\n",
       "      <th class=\"col_heading level0 col1\" >AUC</th>\n",
       "      <th class=\"col_heading level0 col2\" >Recall</th>\n",
       "      <th class=\"col_heading level0 col3\" >Prec.</th>\n",
       "      <th class=\"col_heading level0 col4\" >F1</th>\n",
       "      <th class=\"col_heading level0 col5\" >Specificity</th>\n",
       "    </tr>\n",
       "    <tr>\n",
       "      <th class=\"index_name level0\" >Fold</th>\n",
       "      <th class=\"blank col0\" >&nbsp;</th>\n",
       "      <th class=\"blank col1\" >&nbsp;</th>\n",
       "      <th class=\"blank col2\" >&nbsp;</th>\n",
       "      <th class=\"blank col3\" >&nbsp;</th>\n",
       "      <th class=\"blank col4\" >&nbsp;</th>\n",
       "      <th class=\"blank col5\" >&nbsp;</th>\n",
       "    </tr>\n",
       "  </thead>\n",
       "  <tbody>\n",
       "    <tr>\n",
       "      <th id=\"T_9fd60_level0_row0\" class=\"row_heading level0 row0\" >0</th>\n",
       "      <td id=\"T_9fd60_row0_col0\" class=\"data row0 col0\" >0.2807</td>\n",
       "      <td id=\"T_9fd60_row0_col1\" class=\"data row0 col1\" >0.0000</td>\n",
       "      <td id=\"T_9fd60_row0_col2\" class=\"data row0 col2\" >0.3333</td>\n",
       "      <td id=\"T_9fd60_row0_col3\" class=\"data row0 col3\" >0.0788</td>\n",
       "      <td id=\"T_9fd60_row0_col4\" class=\"data row0 col4\" >0.1230</td>\n",
       "      <td id=\"T_9fd60_row0_col5\" class=\"data row0 col5\" >0.0000</td>\n",
       "    </tr>\n",
       "    <tr>\n",
       "      <th id=\"T_9fd60_level0_row1\" class=\"row_heading level0 row1\" >1</th>\n",
       "      <td id=\"T_9fd60_row1_col0\" class=\"data row1 col0\" >0.2807</td>\n",
       "      <td id=\"T_9fd60_row1_col1\" class=\"data row1 col1\" >0.0000</td>\n",
       "      <td id=\"T_9fd60_row1_col2\" class=\"data row1 col2\" >0.3137</td>\n",
       "      <td id=\"T_9fd60_row1_col3\" class=\"data row1 col3\" >0.0852</td>\n",
       "      <td id=\"T_9fd60_row1_col4\" class=\"data row1 col4\" >0.1307</td>\n",
       "      <td id=\"T_9fd60_row1_col5\" class=\"data row1 col5\" >0.0000</td>\n",
       "    </tr>\n",
       "    <tr>\n",
       "      <th id=\"T_9fd60_level0_row2\" class=\"row_heading level0 row2\" >2</th>\n",
       "      <td id=\"T_9fd60_row2_col0\" class=\"data row2 col0\" >0.2982</td>\n",
       "      <td id=\"T_9fd60_row2_col1\" class=\"data row2 col1\" >0.0000</td>\n",
       "      <td id=\"T_9fd60_row2_col2\" class=\"data row2 col2\" >0.3333</td>\n",
       "      <td id=\"T_9fd60_row2_col3\" class=\"data row2 col3\" >0.0890</td>\n",
       "      <td id=\"T_9fd60_row2_col4\" class=\"data row2 col4\" >0.1370</td>\n",
       "      <td id=\"T_9fd60_row2_col5\" class=\"data row2 col5\" >0.0000</td>\n",
       "    </tr>\n",
       "    <tr>\n",
       "      <th id=\"T_9fd60_level0_row3\" class=\"row_heading level0 row3\" >3</th>\n",
       "      <td id=\"T_9fd60_row3_col0\" class=\"data row3 col0\" >0.3860</td>\n",
       "      <td id=\"T_9fd60_row3_col1\" class=\"data row3 col1\" >0.0000</td>\n",
       "      <td id=\"T_9fd60_row3_col2\" class=\"data row3 col2\" >0.3333</td>\n",
       "      <td id=\"T_9fd60_row3_col3\" class=\"data row3 col3\" >0.1490</td>\n",
       "      <td id=\"T_9fd60_row3_col4\" class=\"data row3 col4\" >0.2150</td>\n",
       "      <td id=\"T_9fd60_row3_col5\" class=\"data row3 col5\" >0.0000</td>\n",
       "    </tr>\n",
       "    <tr>\n",
       "      <th id=\"T_9fd60_level0_row4\" class=\"row_heading level0 row4\" >4</th>\n",
       "      <td id=\"T_9fd60_row4_col0\" class=\"data row4 col0\" >0.3036</td>\n",
       "      <td id=\"T_9fd60_row4_col1\" class=\"data row4 col1\" >0.0000</td>\n",
       "      <td id=\"T_9fd60_row4_col2\" class=\"data row4 col2\" >0.3519</td>\n",
       "      <td id=\"T_9fd60_row4_col3\" class=\"data row4 col3\" >0.4045</td>\n",
       "      <td id=\"T_9fd60_row4_col4\" class=\"data row4 col4\" >0.1626</td>\n",
       "      <td id=\"T_9fd60_row4_col5\" class=\"data row4 col5\" >0.0000</td>\n",
       "    </tr>\n",
       "    <tr>\n",
       "      <th id=\"T_9fd60_level0_row5\" class=\"row_heading level0 row5\" >5</th>\n",
       "      <td id=\"T_9fd60_row5_col0\" class=\"data row5 col0\" >0.2857</td>\n",
       "      <td id=\"T_9fd60_row5_col1\" class=\"data row5 col1\" >0.0000</td>\n",
       "      <td id=\"T_9fd60_row5_col2\" class=\"data row5 col2\" >0.3333</td>\n",
       "      <td id=\"T_9fd60_row5_col3\" class=\"data row5 col3\" >0.0816</td>\n",
       "      <td id=\"T_9fd60_row5_col4\" class=\"data row5 col4\" >0.1270</td>\n",
       "      <td id=\"T_9fd60_row5_col5\" class=\"data row5 col5\" >0.0000</td>\n",
       "    </tr>\n",
       "    <tr>\n",
       "      <th id=\"T_9fd60_level0_row6\" class=\"row_heading level0 row6\" >6</th>\n",
       "      <td id=\"T_9fd60_row6_col0\" class=\"data row6 col0\" >0.2857</td>\n",
       "      <td id=\"T_9fd60_row6_col1\" class=\"data row6 col1\" >0.0000</td>\n",
       "      <td id=\"T_9fd60_row6_col2\" class=\"data row6 col2\" >0.3333</td>\n",
       "      <td id=\"T_9fd60_row6_col3\" class=\"data row6 col3\" >0.0816</td>\n",
       "      <td id=\"T_9fd60_row6_col4\" class=\"data row6 col4\" >0.1270</td>\n",
       "      <td id=\"T_9fd60_row6_col5\" class=\"data row6 col5\" >0.0000</td>\n",
       "    </tr>\n",
       "    <tr>\n",
       "      <th id=\"T_9fd60_level0_row7\" class=\"row_heading level0 row7\" >7</th>\n",
       "      <td id=\"T_9fd60_row7_col0\" class=\"data row7 col0\" >0.3214</td>\n",
       "      <td id=\"T_9fd60_row7_col1\" class=\"data row7 col1\" >0.0000</td>\n",
       "      <td id=\"T_9fd60_row7_col2\" class=\"data row7 col2\" >0.3333</td>\n",
       "      <td id=\"T_9fd60_row7_col3\" class=\"data row7 col3\" >0.1033</td>\n",
       "      <td id=\"T_9fd60_row7_col4\" class=\"data row7 col4\" >0.1564</td>\n",
       "      <td id=\"T_9fd60_row7_col5\" class=\"data row7 col5\" >0.0000</td>\n",
       "    </tr>\n",
       "    <tr>\n",
       "      <th id=\"T_9fd60_level0_row8\" class=\"row_heading level0 row8\" >8</th>\n",
       "      <td id=\"T_9fd60_row8_col0\" class=\"data row8 col0\" >0.3214</td>\n",
       "      <td id=\"T_9fd60_row8_col1\" class=\"data row8 col1\" >0.0000</td>\n",
       "      <td id=\"T_9fd60_row8_col2\" class=\"data row8 col2\" >0.3333</td>\n",
       "      <td id=\"T_9fd60_row8_col3\" class=\"data row8 col3\" >0.1033</td>\n",
       "      <td id=\"T_9fd60_row8_col4\" class=\"data row8 col4\" >0.1564</td>\n",
       "      <td id=\"T_9fd60_row8_col5\" class=\"data row8 col5\" >0.0000</td>\n",
       "    </tr>\n",
       "    <tr>\n",
       "      <th id=\"T_9fd60_level0_row9\" class=\"row_heading level0 row9\" >9</th>\n",
       "      <td id=\"T_9fd60_row9_col0\" class=\"data row9 col0\" >0.2857</td>\n",
       "      <td id=\"T_9fd60_row9_col1\" class=\"data row9 col1\" >0.0000</td>\n",
       "      <td id=\"T_9fd60_row9_col2\" class=\"data row9 col2\" >0.3333</td>\n",
       "      <td id=\"T_9fd60_row9_col3\" class=\"data row9 col3\" >0.0816</td>\n",
       "      <td id=\"T_9fd60_row9_col4\" class=\"data row9 col4\" >0.1270</td>\n",
       "      <td id=\"T_9fd60_row9_col5\" class=\"data row9 col5\" >0.0000</td>\n",
       "    </tr>\n",
       "    <tr>\n",
       "      <th id=\"T_9fd60_level0_row10\" class=\"row_heading level0 row10\" >Mean</th>\n",
       "      <td id=\"T_9fd60_row10_col0\" class=\"data row10 col0\" >0.3049</td>\n",
       "      <td id=\"T_9fd60_row10_col1\" class=\"data row10 col1\" >0.0000</td>\n",
       "      <td id=\"T_9fd60_row10_col2\" class=\"data row10 col2\" >0.3332</td>\n",
       "      <td id=\"T_9fd60_row10_col3\" class=\"data row10 col3\" >0.1258</td>\n",
       "      <td id=\"T_9fd60_row10_col4\" class=\"data row10 col4\" >0.1462</td>\n",
       "      <td id=\"T_9fd60_row10_col5\" class=\"data row10 col5\" >0.0000</td>\n",
       "    </tr>\n",
       "    <tr>\n",
       "      <th id=\"T_9fd60_level0_row11\" class=\"row_heading level0 row11\" >Std</th>\n",
       "      <td id=\"T_9fd60_row11_col0\" class=\"data row11 col0\" >0.0307</td>\n",
       "      <td id=\"T_9fd60_row11_col1\" class=\"data row11 col1\" >0.0000</td>\n",
       "      <td id=\"T_9fd60_row11_col2\" class=\"data row11 col2\" >0.0085</td>\n",
       "      <td id=\"T_9fd60_row11_col3\" class=\"data row11 col3\" >0.0950</td>\n",
       "      <td id=\"T_9fd60_row11_col4\" class=\"data row11 col4\" >0.0268</td>\n",
       "      <td id=\"T_9fd60_row11_col5\" class=\"data row11 col5\" >0.0000</td>\n",
       "    </tr>\n",
       "  </tbody>\n",
       "</table>\n"
      ],
      "text/plain": [
       "<pandas.io.formats.style.Styler at 0x7fb2b4d0a150>"
      ]
     },
     "metadata": {},
     "output_type": "display_data"
    },
    {
     "data": {
      "text/html": [
       "<style type=\"text/css\">\n",
       "</style>\n",
       "<table id=\"T_effbb_\">\n",
       "  <thead>\n",
       "    <tr>\n",
       "      <th class=\"blank level0\" >&nbsp;</th>\n",
       "      <th class=\"col_heading level0 col0\" >Model</th>\n",
       "      <th class=\"col_heading level0 col1\" >Accuracy</th>\n",
       "      <th class=\"col_heading level0 col2\" >AUC</th>\n",
       "      <th class=\"col_heading level0 col3\" >Recall</th>\n",
       "      <th class=\"col_heading level0 col4\" >Prec.</th>\n",
       "      <th class=\"col_heading level0 col5\" >F1</th>\n",
       "      <th class=\"col_heading level0 col6\" >Specificity</th>\n",
       "    </tr>\n",
       "  </thead>\n",
       "  <tbody>\n",
       "    <tr>\n",
       "      <th id=\"T_effbb_level0_row0\" class=\"row_heading level0 row0\" >0</th>\n",
       "      <td id=\"T_effbb_row0_col0\" class=\"data row0 col0\" >SVM - Linear Kernel</td>\n",
       "      <td id=\"T_effbb_row0_col1\" class=\"data row0 col1\" >0.3704</td>\n",
       "      <td id=\"T_effbb_row0_col2\" class=\"data row0 col2\" >0</td>\n",
       "      <td id=\"T_effbb_row0_col3\" class=\"data row0 col3\" >0.3333</td>\n",
       "      <td id=\"T_effbb_row0_col4\" class=\"data row0 col4\" >0.1377</td>\n",
       "      <td id=\"T_effbb_row0_col5\" class=\"data row0 col5\" >0.2008</td>\n",
       "      <td id=\"T_effbb_row0_col6\" class=\"data row0 col6\" >0</td>\n",
       "    </tr>\n",
       "  </tbody>\n",
       "</table>\n"
      ],
      "text/plain": [
       "<pandas.io.formats.style.Styler at 0x7fb2f7b31e50>"
      ]
     },
     "metadata": {},
     "output_type": "display_data"
    },
    {
     "name": "stderr",
     "output_type": "stream",
     "text": [
      "2022/07/28 09:11:45 WARNING mlflow.models.model: Logging model metadata to the tracking server has failed, possibly due older server version. The model artifacts have been logged successfully under s3://raptor-mlflow-data/4/49c7aec2245744459cde0adc9a6c1718/artifacts. In addition to exporting model artifacts, MLflow clients 1.7.0 and above attempt to record model metadata to the tracking store. If logging to a mlflow server via REST, consider upgrading the server version to MLflow 1.7.0 or above.\n"
     ]
    },
    {
     "name": "stdout",
     "output_type": "stream",
     "text": [
      "WARNING: For shap='linear', shap interaction values can unfortunately not be calculated!\n"
     ]
    },
    {
     "name": "stderr",
     "output_type": "stream",
     "text": [
      "\u001b[33m[W 2022-07-28 09:11:46,510]\u001b[0m Trial 4 failed, because the value None could not be cast to float.\u001b[0m\n"
     ]
    },
    {
     "name": "stdout",
     "output_type": "stream",
     "text": [
      "Click on this link to track experiments:  http://ec2-18-133-140-90.eu-west-2.compute.amazonaws.com:5000/\n"
     ]
    }
   ],
   "source": [
    "import mlflow\n",
    "\n",
    "mlflow.end_run()\n",
    "train_experiments(df_train, study_name='bosch')"
   ]
  },
  {
   "cell_type": "code",
   "execution_count": null,
   "metadata": {},
   "outputs": [],
   "source": []
  }
 ],
 "metadata": {
  "kernelspec": {
   "display_name": "Python 3.7.13 ('ra37')",
   "language": "python",
   "name": "python3"
  },
  "language_info": {
   "codemirror_mode": {
    "name": "ipython",
    "version": 3
   },
   "file_extension": ".py",
   "mimetype": "text/x-python",
   "name": "python",
   "nbconvert_exporter": "python",
   "pygments_lexer": "ipython3",
   "version": "3.7.13"
  },
  "orig_nbformat": 4,
  "vscode": {
   "interpreter": {
    "hash": "49652694a6f7a326889eba512046e4a6a8e8fffc8fb9e965e3a36ec3874ee75b"
   }
  }
 },
 "nbformat": 4,
 "nbformat_minor": 2
}
