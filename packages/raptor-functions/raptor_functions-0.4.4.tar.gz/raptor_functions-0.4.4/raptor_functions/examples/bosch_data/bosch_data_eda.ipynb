{
 "cells": [
  {
   "cell_type": "code",
   "execution_count": 3,
   "metadata": {},
   "outputs": [],
   "source": [
    "import sys \n",
    "import pandas as pd\n",
    "\n",
    "PACKAGE_FOLDER = '/Users/amash/Insync/GDrive/Projects/Raptor/raptor_functions'\n",
    "sys.path.insert(0, PACKAGE_FOLDER)"
   ]
  },
  {
   "cell_type": "code",
   "execution_count": 4,
   "metadata": {},
   "outputs": [],
   "source": [
    "from raptor_functions.supervised.preprocess import preprocess_bosch_json_files\n",
    "from raptor_functions.supervised.feature_extraction import get_training_features\n",
    "from raptor_functions.supervised.train import train_experiments\n",
    "from raptor_functions.eda.visualisations import dimension_reduction_plot\n",
    "\n",
    "import pandas as pd\n"
   ]
  },
  {
   "cell_type": "code",
   "execution_count": 5,
   "metadata": {},
   "outputs": [],
   "source": [
    "from raptor_functions.eda.visualisations import dimension_reduction_plot, PCA_plot, plot_sensors\n"
   ]
  },
  {
   "cell_type": "code",
   "execution_count": 6,
   "metadata": {},
   "outputs": [],
   "source": [
    "structured_file_path_ouput = 'output'\n",
    "json_file_path_peony = 'Cherry_and_Peony.json'\n",
    "json_file_path_baseline = 'new_bosch_data.json'\n",
    "json_file_path_vanilla = 'vanilla_new.json'\n",
    "\n",
    "labels = ['baseline', 'peony', 'vanilla']\n",
    "filepaths = [json_file_path_baseline, json_file_path_peony, json_file_path_vanilla]"
   ]
  },
  {
   "cell_type": "code",
   "execution_count": 7,
   "metadata": {},
   "outputs": [
    {
     "name": "stdout",
     "output_type": "stream",
     "text": [
      "No of experiments for baseline is 253\n",
      "No of experiments for peony is 252\n",
      "No of experiments for vanilla is 302\n"
     ]
    }
   ],
   "source": [
    "df_all = preprocess_bosch_json_files(filepaths, labels, structured_file_path_ouput)\n"
   ]
  },
  {
   "cell_type": "code",
   "execution_count": 8,
   "metadata": {},
   "outputs": [],
   "source": [
    "cols_to_drop = ['exp_unique_id', 'timesteps', 'real_time_clock', 'result']\n",
    "features = df_all.drop(cols_to_drop, axis=1).columns.tolist()\n",
    "\n",
    "# features"
   ]
  },
  {
   "cell_type": "code",
   "execution_count": null,
   "metadata": {},
   "outputs": [],
   "source": [
    "plot_sensors(df_all, all=False)"
   ]
  },
  {
   "cell_type": "code",
   "execution_count": 20,
   "metadata": {},
   "outputs": [],
   "source": [
    "df_all.to_csv('df_all.csv')"
   ]
  },
  {
   "cell_type": "code",
   "execution_count": null,
   "metadata": {},
   "outputs": [],
   "source": [
    "timesteps = 'real_time_clock'\n",
    "df_train = get_training_features(df_all,timesteps=timesteps, features=features)"
   ]
  },
  {
   "cell_type": "code",
   "execution_count": 1,
   "metadata": {},
   "outputs": [
    {
     "ename": "NameError",
     "evalue": "name 'df_train' is not defined",
     "output_type": "error",
     "traceback": [
      "\u001b[0;31m---------------------------------------------------------------------------\u001b[0m",
      "\u001b[0;31mNameError\u001b[0m                                 Traceback (most recent call last)",
      "\u001b[0;32m/var/folders/mw/pr9lh8g56s998209vx6gx4000000gn/T/ipykernel_13356/2503869603.py\u001b[0m in \u001b[0;36m<module>\u001b[0;34m\u001b[0m\n\u001b[0;32m----> 1\u001b[0;31m \u001b[0mlen\u001b[0m\u001b[0;34m(\u001b[0m\u001b[0mdf_train\u001b[0m\u001b[0;34m.\u001b[0m\u001b[0mcolumns\u001b[0m\u001b[0;34m)\u001b[0m\u001b[0;34m\u001b[0m\u001b[0;34m\u001b[0m\u001b[0m\n\u001b[0m",
      "\u001b[0;31mNameError\u001b[0m: name 'df_train' is not defined"
     ]
    }
   ],
   "source": [
    "len(df_train.columns)"
   ]
  },
  {
   "cell_type": "code",
   "execution_count": 17,
   "metadata": {},
   "outputs": [],
   "source": [
    "df_train.to_csv('df_selected_features.csv')"
   ]
  },
  {
   "cell_type": "code",
   "execution_count": null,
   "metadata": {},
   "outputs": [],
   "source": [
    "df_train = pd.read_csv('df_selected_features.csv', index_col=0)"
   ]
  },
  {
   "cell_type": "code",
   "execution_count": 22,
   "metadata": {},
   "outputs": [
    {
     "name": "stdout",
     "output_type": "stream",
     "text": [
      "Plot saved sucesfully in current path!\n"
     ]
    }
   ],
   "source": [
    "X = df_train.drop('result', axis=1)\n",
    "y = df_train['result']\n",
    "\n",
    "dimension_reduction_plot(X, y)"
   ]
  },
  {
   "cell_type": "code",
   "execution_count": 26,
   "metadata": {},
   "outputs": [
    {
     "data": {
      "text/html": [
       "<style type=\"text/css\">\n",
       "</style>\n",
       "<table id=\"T_534ad_\">\n",
       "  <thead>\n",
       "    <tr>\n",
       "      <th class=\"blank level0\" >&nbsp;</th>\n",
       "      <th class=\"col_heading level0 col0\" >Description</th>\n",
       "      <th class=\"col_heading level0 col1\" >Value</th>\n",
       "    </tr>\n",
       "  </thead>\n",
       "  <tbody>\n",
       "    <tr>\n",
       "      <th id=\"T_534ad_level0_row0\" class=\"row_heading level0 row0\" >0</th>\n",
       "      <td id=\"T_534ad_row0_col0\" class=\"data row0 col0\" >session_id</td>\n",
       "      <td id=\"T_534ad_row0_col1\" class=\"data row0 col1\" >5499</td>\n",
       "    </tr>\n",
       "    <tr>\n",
       "      <th id=\"T_534ad_level0_row1\" class=\"row_heading level0 row1\" >1</th>\n",
       "      <td id=\"T_534ad_row1_col0\" class=\"data row1 col0\" >Target</td>\n",
       "      <td id=\"T_534ad_row1_col1\" class=\"data row1 col1\" >result</td>\n",
       "    </tr>\n",
       "    <tr>\n",
       "      <th id=\"T_534ad_level0_row2\" class=\"row_heading level0 row2\" >2</th>\n",
       "      <td id=\"T_534ad_row2_col0\" class=\"data row2 col0\" >Target Type</td>\n",
       "      <td id=\"T_534ad_row2_col1\" class=\"data row2 col1\" >Multiclass</td>\n",
       "    </tr>\n",
       "    <tr>\n",
       "      <th id=\"T_534ad_level0_row3\" class=\"row_heading level0 row3\" >3</th>\n",
       "      <td id=\"T_534ad_row3_col0\" class=\"data row3 col0\" >Label Encoded</td>\n",
       "      <td id=\"T_534ad_row3_col1\" class=\"data row3 col1\" >baseline: 0, peony: 1, vanilla: 2</td>\n",
       "    </tr>\n",
       "    <tr>\n",
       "      <th id=\"T_534ad_level0_row4\" class=\"row_heading level0 row4\" >4</th>\n",
       "      <td id=\"T_534ad_row4_col0\" class=\"data row4 col0\" >Original Data</td>\n",
       "      <td id=\"T_534ad_row4_col1\" class=\"data row4 col1\" >(807, 31)</td>\n",
       "    </tr>\n",
       "    <tr>\n",
       "      <th id=\"T_534ad_level0_row5\" class=\"row_heading level0 row5\" >5</th>\n",
       "      <td id=\"T_534ad_row5_col0\" class=\"data row5 col0\" >Missing Values</td>\n",
       "      <td id=\"T_534ad_row5_col1\" class=\"data row5 col1\" >False</td>\n",
       "    </tr>\n",
       "    <tr>\n",
       "      <th id=\"T_534ad_level0_row6\" class=\"row_heading level0 row6\" >6</th>\n",
       "      <td id=\"T_534ad_row6_col0\" class=\"data row6 col0\" >Numeric Features</td>\n",
       "      <td id=\"T_534ad_row6_col1\" class=\"data row6 col1\" >30</td>\n",
       "    </tr>\n",
       "    <tr>\n",
       "      <th id=\"T_534ad_level0_row7\" class=\"row_heading level0 row7\" >7</th>\n",
       "      <td id=\"T_534ad_row7_col0\" class=\"data row7 col0\" >Categorical Features</td>\n",
       "      <td id=\"T_534ad_row7_col1\" class=\"data row7 col1\" >0</td>\n",
       "    </tr>\n",
       "    <tr>\n",
       "      <th id=\"T_534ad_level0_row8\" class=\"row_heading level0 row8\" >8</th>\n",
       "      <td id=\"T_534ad_row8_col0\" class=\"data row8 col0\" >Transformed Train Set</td>\n",
       "      <td id=\"T_534ad_row8_col1\" class=\"data row8 col1\" >(564, 30)</td>\n",
       "    </tr>\n",
       "    <tr>\n",
       "      <th id=\"T_534ad_level0_row9\" class=\"row_heading level0 row9\" >9</th>\n",
       "      <td id=\"T_534ad_row9_col0\" class=\"data row9 col0\" >Transformed Test Set</td>\n",
       "      <td id=\"T_534ad_row9_col1\" class=\"data row9 col1\" >(243, 30)</td>\n",
       "    </tr>\n",
       "    <tr>\n",
       "      <th id=\"T_534ad_level0_row10\" class=\"row_heading level0 row10\" >10</th>\n",
       "      <td id=\"T_534ad_row10_col0\" class=\"data row10 col0\" >Shuffle Train-Test</td>\n",
       "      <td id=\"T_534ad_row10_col1\" class=\"data row10 col1\" >True</td>\n",
       "    </tr>\n",
       "    <tr>\n",
       "      <th id=\"T_534ad_level0_row11\" class=\"row_heading level0 row11\" >11</th>\n",
       "      <td id=\"T_534ad_row11_col0\" class=\"data row11 col0\" >Stratify Train-Test</td>\n",
       "      <td id=\"T_534ad_row11_col1\" class=\"data row11 col1\" >False</td>\n",
       "    </tr>\n",
       "    <tr>\n",
       "      <th id=\"T_534ad_level0_row12\" class=\"row_heading level0 row12\" >12</th>\n",
       "      <td id=\"T_534ad_row12_col0\" class=\"data row12 col0\" >Fold Generator</td>\n",
       "      <td id=\"T_534ad_row12_col1\" class=\"data row12 col1\" >StratifiedKFold</td>\n",
       "    </tr>\n",
       "    <tr>\n",
       "      <th id=\"T_534ad_level0_row13\" class=\"row_heading level0 row13\" >13</th>\n",
       "      <td id=\"T_534ad_row13_col0\" class=\"data row13 col0\" >Fold Number</td>\n",
       "      <td id=\"T_534ad_row13_col1\" class=\"data row13 col1\" >10</td>\n",
       "    </tr>\n",
       "    <tr>\n",
       "      <th id=\"T_534ad_level0_row14\" class=\"row_heading level0 row14\" >14</th>\n",
       "      <td id=\"T_534ad_row14_col0\" class=\"data row14 col0\" >CPU Jobs</td>\n",
       "      <td id=\"T_534ad_row14_col1\" class=\"data row14 col1\" >-1</td>\n",
       "    </tr>\n",
       "    <tr>\n",
       "      <th id=\"T_534ad_level0_row15\" class=\"row_heading level0 row15\" >15</th>\n",
       "      <td id=\"T_534ad_row15_col0\" class=\"data row15 col0\" >Use GPU</td>\n",
       "      <td id=\"T_534ad_row15_col1\" class=\"data row15 col1\" >False</td>\n",
       "    </tr>\n",
       "    <tr>\n",
       "      <th id=\"T_534ad_level0_row16\" class=\"row_heading level0 row16\" >16</th>\n",
       "      <td id=\"T_534ad_row16_col0\" class=\"data row16 col0\" >Log Experiment</td>\n",
       "      <td id=\"T_534ad_row16_col1\" class=\"data row16 col1\" >False</td>\n",
       "    </tr>\n",
       "    <tr>\n",
       "      <th id=\"T_534ad_level0_row17\" class=\"row_heading level0 row17\" >17</th>\n",
       "      <td id=\"T_534ad_row17_col0\" class=\"data row17 col0\" >Experiment Name</td>\n",
       "      <td id=\"T_534ad_row17_col1\" class=\"data row17 col1\" >bosch</td>\n",
       "    </tr>\n",
       "    <tr>\n",
       "      <th id=\"T_534ad_level0_row18\" class=\"row_heading level0 row18\" >18</th>\n",
       "      <td id=\"T_534ad_row18_col0\" class=\"data row18 col0\" >USI</td>\n",
       "      <td id=\"T_534ad_row18_col1\" class=\"data row18 col1\" >3021</td>\n",
       "    </tr>\n",
       "    <tr>\n",
       "      <th id=\"T_534ad_level0_row19\" class=\"row_heading level0 row19\" >19</th>\n",
       "      <td id=\"T_534ad_row19_col0\" class=\"data row19 col0\" >Fix Imbalance</td>\n",
       "      <td id=\"T_534ad_row19_col1\" class=\"data row19 col1\" >False</td>\n",
       "    </tr>\n",
       "    <tr>\n",
       "      <th id=\"T_534ad_level0_row20\" class=\"row_heading level0 row20\" >20</th>\n",
       "      <td id=\"T_534ad_row20_col0\" class=\"data row20 col0\" >Fix Imbalance Method</td>\n",
       "      <td id=\"T_534ad_row20_col1\" class=\"data row20 col1\" >SMOTE</td>\n",
       "    </tr>\n",
       "  </tbody>\n",
       "</table>\n"
      ],
      "text/plain": [
       "<pandas.io.formats.style.Styler at 0x7fb302642090>"
      ]
     },
     "metadata": {},
     "output_type": "display_data"
    }
   ],
   "source": [
    "import mlflow\n",
    "\n",
    "mlflow.end_run()\n",
    "train_experiments(df_train, study_name='bosch')"
   ]
  },
  {
   "cell_type": "code",
   "execution_count": null,
   "metadata": {},
   "outputs": [],
   "source": []
  }
 ],
 "metadata": {
  "kernelspec": {
   "display_name": "Python 3.7.13 ('ra37')",
   "language": "python",
   "name": "python3"
  },
  "language_info": {
   "codemirror_mode": {
    "name": "ipython",
    "version": 3
   },
   "file_extension": ".py",
   "mimetype": "text/x-python",
   "name": "python",
   "nbconvert_exporter": "python",
   "pygments_lexer": "ipython3",
   "version": "3.7.13"
  },
  "orig_nbformat": 4,
  "vscode": {
   "interpreter": {
    "hash": "49652694a6f7a326889eba512046e4a6a8e8fffc8fb9e965e3a36ec3874ee75b"
   }
  }
 },
 "nbformat": 4,
 "nbformat_minor": 2
}
