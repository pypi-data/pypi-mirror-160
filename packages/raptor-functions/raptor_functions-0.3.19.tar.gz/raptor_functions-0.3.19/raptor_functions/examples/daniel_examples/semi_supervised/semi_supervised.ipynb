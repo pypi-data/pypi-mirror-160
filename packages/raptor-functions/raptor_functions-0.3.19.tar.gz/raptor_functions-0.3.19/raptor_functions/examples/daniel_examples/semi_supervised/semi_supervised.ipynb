{
 "cells": [
  {
   "cell_type": "code",
   "execution_count": 1,
   "metadata": {},
   "outputs": [],
   "source": [
    "from raptor_functions.supervised.feature_extraction import *\n",
    "import pandas as pd"
   ]
  },
  {
   "cell_type": "code",
   "execution_count": 2,
   "metadata": {},
   "outputs": [],
   "source": [
    "# path_to_csv = 'air_freshener.csv'\n",
    "# df = pd.read_csv(path_to_csv)"
   ]
  },
  {
   "cell_type": "code",
   "execution_count": 3,
   "metadata": {},
   "outputs": [],
   "source": [
    "from raptor_functions.supervised.datasets import get_data\n",
    "df = get_data('handheld_data')"
   ]
  },
  {
   "cell_type": "code",
   "execution_count": 4,
   "metadata": {},
   "outputs": [
    {
     "data": {
      "text/html": [
       "<div>\n",
       "<style scoped>\n",
       "    .dataframe tbody tr th:only-of-type {\n",
       "        vertical-align: middle;\n",
       "    }\n",
       "\n",
       "    .dataframe tbody tr th {\n",
       "        vertical-align: top;\n",
       "    }\n",
       "\n",
       "    .dataframe thead th {\n",
       "        text-align: right;\n",
       "    }\n",
       "</style>\n",
       "<table border=\"1\" class=\"dataframe\">\n",
       "  <thead>\n",
       "    <tr style=\"text-align: right;\">\n",
       "      <th></th>\n",
       "      <th>exp_unique_id</th>\n",
       "      <th>exp_name</th>\n",
       "      <th>timesteps</th>\n",
       "      <th>sensor_1</th>\n",
       "      <th>sensor_2</th>\n",
       "      <th>sensor_3</th>\n",
       "      <th>sensor_4</th>\n",
       "      <th>sensor_5</th>\n",
       "      <th>sensor_6</th>\n",
       "      <th>sensor_7</th>\n",
       "      <th>...</th>\n",
       "      <th>sensor_23</th>\n",
       "      <th>sensor_24</th>\n",
       "      <th>Humidity (r.h.)</th>\n",
       "      <th>measurement_stage</th>\n",
       "      <th>date_exp</th>\n",
       "      <th>time_elapsed</th>\n",
       "      <th>datetime_exp_start</th>\n",
       "      <th>datetime_exp</th>\n",
       "      <th>filename</th>\n",
       "      <th>result</th>\n",
       "    </tr>\n",
       "  </thead>\n",
       "  <tbody>\n",
       "    <tr>\n",
       "      <th>0</th>\n",
       "      <td>0</td>\n",
       "      <td>Test 24</td>\n",
       "      <td>1</td>\n",
       "      <td>131.938</td>\n",
       "      <td>132.443</td>\n",
       "      <td>177.444</td>\n",
       "      <td>178.157</td>\n",
       "      <td>44.974</td>\n",
       "      <td>44.508</td>\n",
       "      <td>219.374</td>\n",
       "      <td>...</td>\n",
       "      <td>143.288</td>\n",
       "      <td>142.050</td>\n",
       "      <td>46.07</td>\n",
       "      <td>baseline</td>\n",
       "      <td>21/3/2022</td>\n",
       "      <td>0.00</td>\n",
       "      <td>14:12:54</td>\n",
       "      <td>2022-03-21 14:12:54.000</td>\n",
       "      <td>5 NegTest_3_20220321_14_12.txt</td>\n",
       "      <td>Control</td>\n",
       "    </tr>\n",
       "    <tr>\n",
       "      <th>1</th>\n",
       "      <td>0</td>\n",
       "      <td>Test 24</td>\n",
       "      <td>2</td>\n",
       "      <td>133.078</td>\n",
       "      <td>133.972</td>\n",
       "      <td>177.444</td>\n",
       "      <td>178.694</td>\n",
       "      <td>45.131</td>\n",
       "      <td>44.611</td>\n",
       "      <td>219.607</td>\n",
       "      <td>...</td>\n",
       "      <td>142.874</td>\n",
       "      <td>141.914</td>\n",
       "      <td>46.07</td>\n",
       "      <td>baseline</td>\n",
       "      <td>21/3/2022</td>\n",
       "      <td>0.25</td>\n",
       "      <td>14:12:54</td>\n",
       "      <td>2022-03-21 14:12:54.250</td>\n",
       "      <td>5 NegTest_3_20220321_14_12.txt</td>\n",
       "      <td>Control</td>\n",
       "    </tr>\n",
       "    <tr>\n",
       "      <th>2</th>\n",
       "      <td>0</td>\n",
       "      <td>Test 24</td>\n",
       "      <td>3</td>\n",
       "      <td>131.812</td>\n",
       "      <td>132.064</td>\n",
       "      <td>177.622</td>\n",
       "      <td>178.694</td>\n",
       "      <td>45.183</td>\n",
       "      <td>44.663</td>\n",
       "      <td>219.841</td>\n",
       "      <td>...</td>\n",
       "      <td>143.288</td>\n",
       "      <td>141.914</td>\n",
       "      <td>46.07</td>\n",
       "      <td>baseline</td>\n",
       "      <td>21/3/2022</td>\n",
       "      <td>0.50</td>\n",
       "      <td>14:12:54</td>\n",
       "      <td>2022-03-21 14:12:54.500</td>\n",
       "      <td>5 NegTest_3_20220321_14_12.txt</td>\n",
       "      <td>Control</td>\n",
       "    </tr>\n",
       "    <tr>\n",
       "      <th>3</th>\n",
       "      <td>0</td>\n",
       "      <td>Test 24</td>\n",
       "      <td>4</td>\n",
       "      <td>131.059</td>\n",
       "      <td>132.064</td>\n",
       "      <td>177.444</td>\n",
       "      <td>178.694</td>\n",
       "      <td>45.183</td>\n",
       "      <td>44.663</td>\n",
       "      <td>219.607</td>\n",
       "      <td>...</td>\n",
       "      <td>142.599</td>\n",
       "      <td>141.368</td>\n",
       "      <td>46.07</td>\n",
       "      <td>baseline</td>\n",
       "      <td>21/3/2022</td>\n",
       "      <td>0.75</td>\n",
       "      <td>14:12:54</td>\n",
       "      <td>2022-03-21 14:12:54.750</td>\n",
       "      <td>5 NegTest_3_20220321_14_12.txt</td>\n",
       "      <td>Control</td>\n",
       "    </tr>\n",
       "    <tr>\n",
       "      <th>4</th>\n",
       "      <td>0</td>\n",
       "      <td>Test 24</td>\n",
       "      <td>5</td>\n",
       "      <td>131.435</td>\n",
       "      <td>131.938</td>\n",
       "      <td>177.622</td>\n",
       "      <td>178.694</td>\n",
       "      <td>45.131</td>\n",
       "      <td>44.663</td>\n",
       "      <td>219.607</td>\n",
       "      <td>...</td>\n",
       "      <td>142.187</td>\n",
       "      <td>140.825</td>\n",
       "      <td>46.07</td>\n",
       "      <td>baseline</td>\n",
       "      <td>21/3/2022</td>\n",
       "      <td>1.00</td>\n",
       "      <td>14:12:54</td>\n",
       "      <td>2022-03-21 14:12:55.000</td>\n",
       "      <td>5 NegTest_3_20220321_14_12.txt</td>\n",
       "      <td>Control</td>\n",
       "    </tr>\n",
       "  </tbody>\n",
       "</table>\n",
       "<p>5 rows × 35 columns</p>\n",
       "</div>"
      ],
      "text/plain": [
       "   exp_unique_id  exp_name  timesteps  sensor_1  sensor_2  sensor_3  sensor_4  \\\n",
       "0              0  Test 24           1   131.938   132.443   177.444   178.157   \n",
       "1              0  Test 24           2   133.078   133.972   177.444   178.694   \n",
       "2              0  Test 24           3   131.812   132.064   177.622   178.694   \n",
       "3              0  Test 24           4   131.059   132.064   177.444   178.694   \n",
       "4              0  Test 24           5   131.435   131.938   177.622   178.694   \n",
       "\n",
       "   sensor_5  sensor_6  sensor_7  ...  sensor_23  sensor_24   Humidity (r.h.)  \\\n",
       "0    44.974    44.508   219.374  ...    143.288    142.050             46.07   \n",
       "1    45.131    44.611   219.607  ...    142.874    141.914             46.07   \n",
       "2    45.183    44.663   219.841  ...    143.288    141.914             46.07   \n",
       "3    45.183    44.663   219.607  ...    142.599    141.368             46.07   \n",
       "4    45.131    44.663   219.607  ...    142.187    140.825             46.07   \n",
       "\n",
       "   measurement_stage   date_exp  time_elapsed  datetime_exp_start  \\\n",
       "0           baseline  21/3/2022          0.00            14:12:54   \n",
       "1           baseline  21/3/2022          0.25            14:12:54   \n",
       "2           baseline  21/3/2022          0.50            14:12:54   \n",
       "3           baseline  21/3/2022          0.75            14:12:54   \n",
       "4           baseline  21/3/2022          1.00            14:12:54   \n",
       "\n",
       "              datetime_exp                        filename   result  \n",
       "0  2022-03-21 14:12:54.000  5 NegTest_3_20220321_14_12.txt  Control  \n",
       "1  2022-03-21 14:12:54.250  5 NegTest_3_20220321_14_12.txt  Control  \n",
       "2  2022-03-21 14:12:54.500  5 NegTest_3_20220321_14_12.txt  Control  \n",
       "3  2022-03-21 14:12:54.750  5 NegTest_3_20220321_14_12.txt  Control  \n",
       "4  2022-03-21 14:12:55.000  5 NegTest_3_20220321_14_12.txt  Control  \n",
       "\n",
       "[5 rows x 35 columns]"
      ]
     },
     "execution_count": 4,
     "metadata": {},
     "output_type": "execute_result"
    }
   ],
   "source": [
    "df.head()"
   ]
  },
  {
   "cell_type": "code",
   "execution_count": 6,
   "metadata": {},
   "outputs": [
    {
     "name": "stdout",
     "output_type": "stream",
     "text": [
      "Extracting all features\n"
     ]
    },
    {
     "name": "stderr",
     "output_type": "stream",
     "text": [
      "Feature Extraction: 100%|██████████| 20/20 [00:09<00:00,  2.19it/s]\n"
     ]
    },
    {
     "ename": "",
     "evalue": "",
     "output_type": "error",
     "traceback": [
      "\u001b[1;31mThe Kernel crashed while executing code in the the current cell or a previous cell. Please review the code in the cell(s) to identify a possible cause of the failure. Click <a href='https://aka.ms/vscodeJupyterKernelCrash'>here</a> for more info. View Jupyter <a href='command:jupyter.viewOutput'>log</a> for further details."
     ]
    },
    {
     "ename": "",
     "evalue": "",
     "output_type": "error",
     "traceback": [
      "\u001b[1;31mCanceled future for execute_request message before replies were done"
     ]
    }
   ],
   "source": [
    "df_f = get_training_features(df)\n",
    "df_f.head()"
   ]
  },
  {
   "cell_type": "code",
   "execution_count": null,
   "metadata": {},
   "outputs": [],
   "source": [
    "unique_id = 'exp_unique_id'\n",
    "label = 'result'\n",
    "\n",
    "y = df.groupby(unique_id).first()[label]\n",
    "X = df.drop(label, axis=1)"
   ]
  },
  {
   "cell_type": "code",
   "execution_count": null,
   "metadata": {},
   "outputs": [],
   "source": [
    "\n"
   ]
  }
 ],
 "metadata": {
  "kernelspec": {
   "display_name": "Python 3.7.13 64-bit ('venv-3.7')",
   "language": "python",
   "name": "python3"
  },
  "language_info": {
   "codemirror_mode": {
    "name": "ipython",
    "version": 3
   },
   "file_extension": ".py",
   "mimetype": "text/x-python",
   "name": "python",
   "nbconvert_exporter": "python",
   "pygments_lexer": "ipython3",
   "version": "3.7.13"
  },
  "orig_nbformat": 4,
  "vscode": {
   "interpreter": {
    "hash": "ee11bcebc16333c1f12fa33af752d4705ffd3425f6d5ea8efafb5052afd7992e"
   }
  }
 },
 "nbformat": 4,
 "nbformat_minor": 2
}
