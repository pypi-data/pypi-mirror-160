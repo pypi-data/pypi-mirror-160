{
 "cells": [
  {
   "cell_type": "markdown",
   "metadata": {},
   "source": [
    "# Quickstart\n",
    "First let import the modules to work with"
   ]
  },
  {
   "cell_type": "code",
   "execution_count": 1,
   "metadata": {},
   "outputs": [],
   "source": [
    "from rdkit import Chem\n",
    "from moldrug import utils, fitness\n",
    "from moldrug.data import receptors, ligands, boxes\n",
    "import tempfile, os, gzip, shutil, requests\n",
    "from multiprocessing import cpu_count"
   ]
  },
  {
   "cell_type": "markdown",
   "metadata": {},
   "source": [
    "We will use the some test examples on the `moldrug.data` module."
   ]
  },
  {
   "cell_type": "code",
   "execution_count": 3,
   "metadata": {},
   "outputs": [],
   "source": [
    "# Creating a temporal directory\n",
    "tmp_path = tempfile.TemporaryDirectory()\n",
    "# Creating receptors files\n",
    "r_x0161_file = os.path.join(tmp_path.name, 'r_x0161.pdbqt')\n",
    "with open(r_x0161_file, 'w') as r:\n",
    "    r.write(receptors.r_x0161)"
   ]
  },
  {
   "cell_type": "markdown",
   "metadata": {},
   "source": [
    "Now let's download the crem data base. Here we are downloading the smaller one. But consider to visit [CReM](https://github.com/DrrDom/crem) for more information about how to use and create the data base of fragments."
   ]
  },
  {
   "cell_type": "code",
   "execution_count": 4,
   "metadata": {},
   "outputs": [],
   "source": [
    "url = \"http://www.qsar4u.com/files/cremdb/replacements02_sc2.db.gz\"\n",
    "r = requests.get(url, allow_redirects=True)\n",
    "crem_dbgz_path = os.path.join(tmp_path.name,'crem.db.gz')\n",
    "crem_db_path = os.path.join(tmp_path.name,'crem.db')\n",
    "open(crem_dbgz_path, 'wb').write(r.content)\n",
    "with gzip.open(crem_dbgz_path, 'rb') as f_in:\n",
    "    with open(crem_db_path, 'wb') as f_out:\n",
    "        shutil.copyfileobj(f_in, f_out)"
   ]
  },
  {
   "cell_type": "markdown",
   "metadata": {},
   "source": [
    "Now We initialize the `GA` class. "
   ]
  },
  {
   "cell_type": "code",
   "execution_count": 5,
   "metadata": {},
   "outputs": [],
   "source": [
    "maxiter = 3\n",
    "popsize = 20\n",
    "njobs = 2\n",
    "\n",
    "out = utils.GA(\n",
    "    seed_smiles=ligands.r_x0161,\n",
    "    maxiter=maxiter,\n",
    "    popsize=popsize,\n",
    "    crem_db_path = crem_db_path,#'/home/ale/GITLAB/bi_crem_database/replacements02_sc2.db',\n",
    "    pc = 1,\n",
    "    get_similar = False,\n",
    "    mutate_crem_kwargs = {\n",
    "        'radius':3,\n",
    "        'min_size':1,\n",
    "        'max_size':8,\n",
    "        'min_inc':-5,\n",
    "        'max_inc':3,\n",
    "        'ncores':cpu_count(),\n",
    "    },\n",
    "    costfunc = fitness.Cost,#__CostSimilarity,# __VinaCostLipinski, Cost, __VinaCost, __QedSasVinaCost, CostMultiReceptors\n",
    "    costfunc_kwargs = {\n",
    "        'vina_executable': 'vina',\n",
    "        'receptor_path': r_x0161_file,\n",
    "        'boxcenter' : boxes.r_x0161[\"A\"]['boxcenter'] ,\n",
    "        'boxsize': boxes.r_x0161[\"A\"]['boxsize'],\n",
    "        'exhaustiveness': 4,\n",
    "        'ncores': int(cpu_count() / njobs),\n",
    "        'num_modes': 1,\n",
    "    },\n",
    "    save_pop_every_gen = 20,\n",
    "    deffnm = os.path.join(tmp_path.name, 'pop_test_single_receptor')\n",
    ")\n"
   ]
  },
  {
   "cell_type": "markdown",
   "metadata": {},
   "source": [
    "Then we call the class"
   ]
  },
  {
   "cell_type": "code",
   "execution_count": 6,
   "metadata": {},
   "outputs": [
    {
     "name": "stdout",
     "output_type": "stream",
     "text": [
      "\n",
      "\n",
      "Creating the first population with 20 members:\n"
     ]
    },
    {
     "name": "stderr",
     "output_type": "stream",
     "text": [
      "100%|██████████| 20/20 [00:42<00:00,  2.14s/it]"
     ]
    },
    {
     "name": "stdout",
     "output_type": "stream",
     "text": [
      "Initial Population: Best individual: Individual(idx = 5, smiles = NS(=O)(=O)c1ccc(C2(O)CCNCC2)cc1, cost = 0.6076297216634597)\n",
      "File /tmp/tmpna40vpr7/pop_test_single_receptor_pop.sdf was createad!\n"
     ]
    },
    {
     "name": "stderr",
     "output_type": "stream",
     "text": [
      "\n"
     ]
    },
    {
     "name": "stdout",
     "output_type": "stream",
     "text": [
      "Evaluating generation 1 / 3:\n"
     ]
    },
    {
     "name": "stderr",
     "output_type": "stream",
     "text": [
      "100%|██████████| 20/20 [00:50<00:00,  2.52s/it]"
     ]
    },
    {
     "name": "stdout",
     "output_type": "stream",
     "text": [
      "Generation 1: Best Individual: Individual(idx = 22, smiles = NS(=O)(=O)c1ccc(COc2cccc(O)c2)cc1, cost = 0.5945198669617732).\n",
      "\n"
     ]
    },
    {
     "name": "stderr",
     "output_type": "stream",
     "text": [
      "\n"
     ]
    },
    {
     "name": "stdout",
     "output_type": "stream",
     "text": [
      "Evaluating generation 2 / 3:\n"
     ]
    },
    {
     "name": "stderr",
     "output_type": "stream",
     "text": [
      "100%|██████████| 20/20 [00:53<00:00,  2.69s/it]"
     ]
    },
    {
     "name": "stdout",
     "output_type": "stream",
     "text": [
      "Generation 2: Best Individual: Individual(idx = 22, smiles = NS(=O)(=O)c1ccc(COc2cccc(O)c2)cc1, cost = 0.5945198669617732).\n",
      "\n"
     ]
    },
    {
     "name": "stderr",
     "output_type": "stream",
     "text": [
      "\n"
     ]
    },
    {
     "name": "stdout",
     "output_type": "stream",
     "text": [
      "Evaluating generation 3 / 3:\n"
     ]
    },
    {
     "name": "stderr",
     "output_type": "stream",
     "text": [
      "100%|██████████| 20/20 [01:07<00:00,  3.37s/it]\n"
     ]
    },
    {
     "name": "stdout",
     "output_type": "stream",
     "text": [
      "File /tmp/tmpna40vpr7/pop_test_single_receptor_pop.sdf was createad!\n",
      "Generation 3: Best Individual: Individual(idx = 22, smiles = NS(=O)(=O)c1ccc(COc2cccc(O)c2)cc1, cost = 0.5945198669617732).\n",
      "\n",
      "\n",
      "=+=+=+=+=+=+=+=+=+=+=+=+=+=+=+=+=+=+=+=+=+=+=+=+=+=+=+=+=+=+=+=+=+=+=+=+=+=+=+=+=+=+=+=+=+=+=+=+=+=+\n",
      "\n",
      "The simulation finished successfully after 3 generations with a population of 20 individuals. A total number of 80 Individuals were seen during the simulation.\n",
      "Initial Individual: Individual(idx = 0, smiles = COC(=O)C=1C=CC(=CC1)S(=O)(=O)N, cost = 1.0)\n",
      "Final Individual: Individual(idx = 22, smiles = NS(=O)(=O)c1ccc(COc2cccc(O)c2)cc1, cost = 0.5945198669617732)\n",
      "The cost fucntion droped in 0.40548013303822683 units.\n",
      "\n",
      "=+=+=+=+=+=+=+=+=+=+=+=+=+=+=+=+=+=+=+=+=+=+=+=+=+=+=+=+=+=+=+=+=+=+=+=+=+=+=+=+=+=+=+=+=+=+=+=+=+=+\n",
      "\n",
      "'__call__'  268894.03 ms\n"
     ]
    }
   ],
   "source": [
    "out(njobs = njobs)"
   ]
  },
  {
   "cell_type": "markdown",
   "metadata": {},
   "source": [
    "This is a very silly example. In real life, you should increase the population size and the number of generation. In this way we explore in a better way ther chemical space. The `GA` clas has some nice methods that give you an idea of the obtained results."
   ]
  },
  {
   "cell_type": "code",
   "execution_count": 7,
   "metadata": {},
   "outputs": [
    {
     "data": {
      "text/html": [
       "<div>\n",
       "<style scoped>\n",
       "    .dataframe tbody tr th:only-of-type {\n",
       "        vertical-align: middle;\n",
       "    }\n",
       "\n",
       "    .dataframe tbody tr th {\n",
       "        vertical-align: top;\n",
       "    }\n",
       "\n",
       "    .dataframe thead th {\n",
       "        text-align: right;\n",
       "    }\n",
       "</style>\n",
       "<table border=\"1\" class=\"dataframe\">\n",
       "  <thead>\n",
       "    <tr style=\"text-align: right;\">\n",
       "      <th></th>\n",
       "      <th>smiles</th>\n",
       "      <th>idx</th>\n",
       "      <th>pdbqt</th>\n",
       "      <th>cost</th>\n",
       "      <th>qed</th>\n",
       "      <th>sa_score</th>\n",
       "      <th>vina_score</th>\n",
       "    </tr>\n",
       "  </thead>\n",
       "  <tbody>\n",
       "    <tr>\n",
       "      <th>75</th>\n",
       "      <td>COC(=O)C(O)c1ccc(-c2n[nH]c(=O)o2)cc1</td>\n",
       "      <td>75</td>\n",
       "      <td>MODEL 1\\nREMARK VINA RESULT:      -6.4      0....</td>\n",
       "      <td>0.594520</td>\n",
       "      <td>0.755540</td>\n",
       "      <td>2.892714</td>\n",
       "      <td>-6.4</td>\n",
       "    </tr>\n",
       "    <tr>\n",
       "      <th>76</th>\n",
       "      <td>O=C1NNC(=O)C1c1ccc(C=C[N+](=O)[O-])cc1</td>\n",
       "      <td>76</td>\n",
       "      <td>MODEL 1\\nREMARK VINA RESULT:      -6.6      0....</td>\n",
       "      <td>0.621832</td>\n",
       "      <td>0.451535</td>\n",
       "      <td>2.958459</td>\n",
       "      <td>-6.6</td>\n",
       "    </tr>\n",
       "    <tr>\n",
       "      <th>77</th>\n",
       "      <td>NC(=O)CC(NS(=O)(=O)c1ccc(S(N)(=O)=O)cc1)C(=O)O</td>\n",
       "      <td>77</td>\n",
       "      <td>MODEL 1\\nREMARK VINA RESULT:      -6.6      0....</td>\n",
       "      <td>0.628105</td>\n",
       "      <td>0.434328</td>\n",
       "      <td>2.501670</td>\n",
       "      <td>-6.6</td>\n",
       "    </tr>\n",
       "    <tr>\n",
       "      <th>78</th>\n",
       "      <td>CCNC(=O)Cc1ccc(S(N)(=O)=O)cc1</td>\n",
       "      <td>78</td>\n",
       "      <td>MODEL 1\\nREMARK VINA RESULT:      -5.8      0....</td>\n",
       "      <td>1.000000</td>\n",
       "      <td>0.779195</td>\n",
       "      <td>1.724182</td>\n",
       "      <td>-5.8</td>\n",
       "    </tr>\n",
       "    <tr>\n",
       "      <th>79</th>\n",
       "      <td>C#CC(OC(N)=O)c1ccc(C(=O)CI)cc1</td>\n",
       "      <td>79</td>\n",
       "      <td>MODEL 1\\nREMARK VINA RESULT:      -5.7      0....</td>\n",
       "      <td>1.000000</td>\n",
       "      <td>0.393880</td>\n",
       "      <td>3.346737</td>\n",
       "      <td>-5.7</td>\n",
       "    </tr>\n",
       "  </tbody>\n",
       "</table>\n",
       "</div>"
      ],
      "text/plain": [
       "                                            smiles  idx  \\\n",
       "75            COC(=O)C(O)c1ccc(-c2n[nH]c(=O)o2)cc1   75   \n",
       "76          O=C1NNC(=O)C1c1ccc(C=C[N+](=O)[O-])cc1   76   \n",
       "77  NC(=O)CC(NS(=O)(=O)c1ccc(S(N)(=O)=O)cc1)C(=O)O   77   \n",
       "78                   CCNC(=O)Cc1ccc(S(N)(=O)=O)cc1   78   \n",
       "79                  C#CC(OC(N)=O)c1ccc(C(=O)CI)cc1   79   \n",
       "\n",
       "                                                pdbqt      cost       qed  \\\n",
       "75  MODEL 1\\nREMARK VINA RESULT:      -6.4      0....  0.594520  0.755540   \n",
       "76  MODEL 1\\nREMARK VINA RESULT:      -6.6      0....  0.621832  0.451535   \n",
       "77  MODEL 1\\nREMARK VINA RESULT:      -6.6      0....  0.628105  0.434328   \n",
       "78  MODEL 1\\nREMARK VINA RESULT:      -5.8      0....  1.000000  0.779195   \n",
       "79  MODEL 1\\nREMARK VINA RESULT:      -5.7      0....  1.000000  0.393880   \n",
       "\n",
       "    sa_score  vina_score  \n",
       "75  2.892714        -6.4  \n",
       "76  2.958459        -6.6  \n",
       "77  2.501670        -6.6  \n",
       "78  1.724182        -5.8  \n",
       "79  3.346737        -5.7  "
      ]
     },
     "execution_count": 7,
     "metadata": {},
     "output_type": "execute_result"
    }
   ],
   "source": [
    "out.to_dataframe().tail()"
   ]
  },
  {
   "cell_type": "markdown",
   "metadata": {},
   "source": [
    "You could save the entire class for future use both in a compressed file. Here I just saved the file in the temporal directory, you could change the path to your current working directory."
   ]
  },
  {
   "cell_type": "code",
   "execution_count": 8,
   "metadata": {},
   "outputs": [],
   "source": [
    "out.pickle(os.path.join(tmp_path.name, f\"NumGens_{out.NumGens}_PopSize_{popsize}\"), compress=True)"
   ]
  },
  {
   "cell_type": "markdown",
   "metadata": {},
   "source": [
    "But Could be that after a long simulation we would like to perform a different searching strategy over the last population. This is really simple, we could initialize againg the `out` instance with a differnt set of parameters. Let say that we would like close to the last solutions. Then we could use the parameters: `min_size=0, max_size=1, min_inc=-1, max_inc=1`.This flavor will add, delate mutate heavy atoms or change Hydrogens for heavy atoms."
   ]
  },
  {
   "cell_type": "code",
   "execution_count": 9,
   "metadata": {},
   "outputs": [],
   "source": [
    "out.maxiter = 5\n",
    "out.mutate_crem_kwargs = {\n",
    "        'radius':3,\n",
    "        'min_size':0,\n",
    "        'max_size':1,\n",
    "        'min_inc':-1,\n",
    "        'max_inc':1,\n",
    "        'ncores':cpu_count(),\n",
    "    }"
   ]
  },
  {
   "cell_type": "markdown",
   "metadata": {},
   "source": [
    "And run againg the class"
   ]
  },
  {
   "cell_type": "code",
   "execution_count": 10,
   "metadata": {},
   "outputs": [
    {
     "name": "stdout",
     "output_type": "stream",
     "text": [
      "File /tmp/tmpna40vpr7/pop_test_single_receptor_pop.sdf was createad!\n",
      "Evaluating generation 4 / 8:\n"
     ]
    },
    {
     "name": "stderr",
     "output_type": "stream",
     "text": [
      "100%|██████████| 20/20 [01:03<00:00,  3.19s/it]"
     ]
    },
    {
     "name": "stdout",
     "output_type": "stream",
     "text": [
      "Generation 4: Best Individual: Individual(idx = 87, smiles = COC(=O)C(C)c1ccc(-c2n[nH]c(=O)o2)cc1, cost = 0.5358411166387222).\n",
      "\n"
     ]
    },
    {
     "name": "stderr",
     "output_type": "stream",
     "text": [
      "\n"
     ]
    },
    {
     "name": "stdout",
     "output_type": "stream",
     "text": [
      "Evaluating generation 5 / 8:\n"
     ]
    },
    {
     "name": "stderr",
     "output_type": "stream",
     "text": [
      "100%|██████████| 20/20 [00:58<00:00,  2.91s/it]"
     ]
    },
    {
     "name": "stdout",
     "output_type": "stream",
     "text": [
      "Generation 5: Best Individual: Individual(idx = 87, smiles = COC(=O)C(C)c1ccc(-c2n[nH]c(=O)o2)cc1, cost = 0.5358411166387222).\n",
      "\n"
     ]
    },
    {
     "name": "stderr",
     "output_type": "stream",
     "text": [
      "\n"
     ]
    },
    {
     "name": "stdout",
     "output_type": "stream",
     "text": [
      "Evaluating generation 6 / 8:\n"
     ]
    },
    {
     "name": "stderr",
     "output_type": "stream",
     "text": [
      "100%|██████████| 17/17 [00:46<00:00,  2.72s/it]"
     ]
    },
    {
     "name": "stdout",
     "output_type": "stream",
     "text": [
      "Generation 6: Best Individual: Individual(idx = 121, smiles = CC(C)(C)NC(=O)c1ccc(S(=O)(=O)NO)cc1F, cost = 0.5179094169238212).\n",
      "\n"
     ]
    },
    {
     "name": "stderr",
     "output_type": "stream",
     "text": [
      "\n"
     ]
    },
    {
     "name": "stdout",
     "output_type": "stream",
     "text": [
      "Evaluating generation 7 / 8:\n"
     ]
    },
    {
     "name": "stderr",
     "output_type": "stream",
     "text": [
      "100%|██████████| 19/19 [01:03<00:00,  3.33s/it]"
     ]
    },
    {
     "name": "stdout",
     "output_type": "stream",
     "text": [
      "Generation 7: Best Individual: Individual(idx = 147, smiles = NS(=O)(=O)c1ccc(CN=Cc2cccc(CO)c2)cc1, cost = 0.5113675970405873).\n",
      "\n"
     ]
    },
    {
     "name": "stderr",
     "output_type": "stream",
     "text": [
      "\n"
     ]
    },
    {
     "name": "stdout",
     "output_type": "stream",
     "text": [
      "Evaluating generation 8 / 8:\n"
     ]
    },
    {
     "name": "stderr",
     "output_type": "stream",
     "text": [
      "100%|██████████| 15/15 [00:46<00:00,  3.09s/it]"
     ]
    },
    {
     "name": "stdout",
     "output_type": "stream",
     "text": [
      "File /tmp/tmpna40vpr7/pop_test_single_receptor_pop.sdf was createad!\n",
      "Generation 8: Best Individual: Individual(idx = 167, smiles = Cc1cc(CO)cc(OCc2ccc(S(=O)(=O)NN)cc2)c1, cost = 0.48338878867372415).\n",
      "\n",
      "\n",
      "=+=+=+=+=+=+=+=+=+=+=+=+=+=+=+=+=+=+=+=+=+=+=+=+=+=+=+=+=+=+=+=+=+=+=+=+=+=+=+=+=+=+=+=+=+=+=+=+=+=+\n",
      "\n",
      "The simulation finished successfully after 5 generations with a population of 20 individuals. A total number of 171 Individuals were seen during the simulation.\n",
      "Initial Individual: Individual(idx = 0, smiles = COC(=O)C=1C=CC(=CC1)S(=O)(=O)N, cost = 1.0)\n",
      "Final Individual: Individual(idx = 167, smiles = Cc1cc(CO)cc(OCc2ccc(S(=O)(=O)NN)cc2)c1, cost = 0.48338878867372415)\n",
      "The cost fucntion droped in 0.5166112113262759 units.\n",
      "\n",
      "=+=+=+=+=+=+=+=+=+=+=+=+=+=+=+=+=+=+=+=+=+=+=+=+=+=+=+=+=+=+=+=+=+=+=+=+=+=+=+=+=+=+=+=+=+=+=+=+=+=+\n",
      "\n",
      "'__call__'  304808.34 ms\n"
     ]
    },
    {
     "name": "stderr",
     "output_type": "stream",
     "text": [
      "\n"
     ]
    }
   ],
   "source": [
    "out(njobs = njobs)"
   ]
  },
  {
   "cell_type": "markdown",
   "metadata": {},
   "source": [
    "As you can see the `GA` class is updated reather that replacead. This is a perfect feature for rerun with different ideas. As you see the number of generations is also updatead as well the number of calls."
   ]
  },
  {
   "cell_type": "code",
   "execution_count": 11,
   "metadata": {},
   "outputs": [
    {
     "name": "stdout",
     "output_type": "stream",
     "text": [
      "8 2\n"
     ]
    }
   ],
   "source": [
    "print(out.NumGens, out.NumCalls)"
   ]
  },
  {
   "cell_type": "markdown",
   "metadata": {},
   "source": [
    "The same idea is for the rest of the methods and atributtes"
   ]
  },
  {
   "cell_type": "code",
   "execution_count": 12,
   "metadata": {},
   "outputs": [
    {
     "data": {
      "text/html": [
       "<div>\n",
       "<style scoped>\n",
       "    .dataframe tbody tr th:only-of-type {\n",
       "        vertical-align: middle;\n",
       "    }\n",
       "\n",
       "    .dataframe tbody tr th {\n",
       "        vertical-align: top;\n",
       "    }\n",
       "\n",
       "    .dataframe thead th {\n",
       "        text-align: right;\n",
       "    }\n",
       "</style>\n",
       "<table border=\"1\" class=\"dataframe\">\n",
       "  <thead>\n",
       "    <tr style=\"text-align: right;\">\n",
       "      <th></th>\n",
       "      <th>smiles</th>\n",
       "      <th>idx</th>\n",
       "      <th>pdbqt</th>\n",
       "      <th>cost</th>\n",
       "      <th>qed</th>\n",
       "      <th>sa_score</th>\n",
       "      <th>vina_score</th>\n",
       "    </tr>\n",
       "  </thead>\n",
       "  <tbody>\n",
       "    <tr>\n",
       "      <th>166</th>\n",
       "      <td>Cc1cc(C(=O)NC(C)(C)C)c(F)cc1S(=O)(=O)NO</td>\n",
       "      <td>166</td>\n",
       "      <td>MODEL 1\\nREMARK VINA RESULT:      -6.3      0....</td>\n",
       "      <td>0.634625</td>\n",
       "      <td>0.734102</td>\n",
       "      <td>2.497032</td>\n",
       "      <td>-6.3</td>\n",
       "    </tr>\n",
       "    <tr>\n",
       "      <th>167</th>\n",
       "      <td>Cc1cc(CO)cc(OCc2ccc(S(=O)(=O)NN)cc2)c1</td>\n",
       "      <td>167</td>\n",
       "      <td>MODEL 1\\nREMARK VINA RESULT:      -7.2      0....</td>\n",
       "      <td>0.483389</td>\n",
       "      <td>0.548100</td>\n",
       "      <td>2.135742</td>\n",
       "      <td>-7.2</td>\n",
       "    </tr>\n",
       "    <tr>\n",
       "      <th>168</th>\n",
       "      <td>Cc1cc(S(=O)(=O)NO)cc(F)c1C(=O)NC(C)(C)C</td>\n",
       "      <td>168</td>\n",
       "      <td>MODEL 1\\nREMARK VINA RESULT:      -6.6      0....</td>\n",
       "      <td>0.539657</td>\n",
       "      <td>0.734102</td>\n",
       "      <td>2.574871</td>\n",
       "      <td>-6.6</td>\n",
       "    </tr>\n",
       "    <tr>\n",
       "      <th>169</th>\n",
       "      <td>CNCc1cccc(C=NCc2ccc(S(N)(=O)=O)cc2)c1</td>\n",
       "      <td>169</td>\n",
       "      <td>MODEL 1\\nREMARK VINA RESULT:      -6.1      0....</td>\n",
       "      <td>0.744564</td>\n",
       "      <td>0.794899</td>\n",
       "      <td>2.256445</td>\n",
       "      <td>-6.1</td>\n",
       "    </tr>\n",
       "    <tr>\n",
       "      <th>170</th>\n",
       "      <td>O=S(=O)(NO)c1ccc(C2CCNCC2)c(I)c1</td>\n",
       "      <td>170</td>\n",
       "      <td>MODEL 1\\nREMARK VINA RESULT:      -6.7      0....</td>\n",
       "      <td>0.568989</td>\n",
       "      <td>0.546100</td>\n",
       "      <td>2.767147</td>\n",
       "      <td>-6.7</td>\n",
       "    </tr>\n",
       "  </tbody>\n",
       "</table>\n",
       "</div>"
      ],
      "text/plain": [
       "                                      smiles  idx  \\\n",
       "166  Cc1cc(C(=O)NC(C)(C)C)c(F)cc1S(=O)(=O)NO  166   \n",
       "167   Cc1cc(CO)cc(OCc2ccc(S(=O)(=O)NN)cc2)c1  167   \n",
       "168  Cc1cc(S(=O)(=O)NO)cc(F)c1C(=O)NC(C)(C)C  168   \n",
       "169    CNCc1cccc(C=NCc2ccc(S(N)(=O)=O)cc2)c1  169   \n",
       "170         O=S(=O)(NO)c1ccc(C2CCNCC2)c(I)c1  170   \n",
       "\n",
       "                                                 pdbqt      cost       qed  \\\n",
       "166  MODEL 1\\nREMARK VINA RESULT:      -6.3      0....  0.634625  0.734102   \n",
       "167  MODEL 1\\nREMARK VINA RESULT:      -7.2      0....  0.483389  0.548100   \n",
       "168  MODEL 1\\nREMARK VINA RESULT:      -6.6      0....  0.539657  0.734102   \n",
       "169  MODEL 1\\nREMARK VINA RESULT:      -6.1      0....  0.744564  0.794899   \n",
       "170  MODEL 1\\nREMARK VINA RESULT:      -6.7      0....  0.568989  0.546100   \n",
       "\n",
       "     sa_score  vina_score  \n",
       "166  2.497032        -6.3  \n",
       "167  2.135742        -7.2  \n",
       "168  2.574871        -6.6  \n",
       "169  2.256445        -6.1  \n",
       "170  2.767147        -6.7  "
      ]
     },
     "execution_count": 12,
     "metadata": {},
     "output_type": "execute_result"
    }
   ],
   "source": [
    "out.to_dataframe().tail()"
   ]
  },
  {
   "cell_type": "markdown",
   "metadata": {},
   "source": [
    "This is the best solution of this simulation (you for sure, will get a different one):"
   ]
  },
  {
   "cell_type": "code",
   "execution_count": 13,
   "metadata": {},
   "outputs": [
    {
     "data": {
      "image/png": "[encoded data removed]",
      "text/plain": [
       "<rdkit.Chem.rdchem.Mol at 0x7f84f1c58d60>"
      ]
     },
     "execution_count": 13,
     "metadata": {},
     "output_type": "execute_result"
    }
   ],
   "source": [
    "Chem.MolFromSmiles(out.pop[0].smiles)"
   ]
  },
  {
   "cell_type": "code",
   "execution_count": 14,
   "metadata": {},
   "outputs": [
    {
     "data": {
      "image/png": "[encoded data removed]",
      "text/plain": [
       "<rdkit.Chem.rdchem.Mol at 0x7f84f1cb45e0>"
      ]
     },
     "execution_count": 14,
     "metadata": {},
     "output_type": "execute_result"
    }
   ],
   "source": [
    "from rdkit import Chem\n",
    "Chem.MolFromSmiles(\"COC(=O)C=1C=CC(=CC1)S(=O)(=O)N\")"
   ]
  },
  {
   "cell_type": "markdown",
   "metadata": {},
   "source": [
    "Printing some information"
   ]
  },
  {
   "cell_type": "code",
   "execution_count": 15,
   "metadata": {},
   "outputs": [
    {
     "name": "stdout",
     "output_type": "stream",
     "text": [
      "Initial vina score: -5.1. Final vina score: -7.2\n",
      "sascorer of the best Individual: 2.1357422726974757\n",
      "QED of the best Individual: 0.5480998943776431\n",
      "{\n",
      "  \"NumHAcceptors\": 5,\n",
      "  \"NumHDonors\": 3,\n",
      "  \"wt\": 322.3860000000001,\n",
      "  \"MLogP\": 1.2183199999999996,\n",
      "  \"NumRotatableBonds\": 6,\n",
      "  \"TPSA\": 101.65,\n",
      "  \"FractionCSP3\": 0.2,\n",
      "  \"HeavyAtomCount\": 22,\n",
      "  \"NHOHCount\": 4,\n",
      "  \"NOCount\": 6,\n",
      "  \"NumAliphaticCarbocycles\": 0,\n",
      "  \"NumAliphaticHeterocycles\": 0,\n",
      "  \"NumAliphaticRings\": 0,\n",
      "  \"NumAromaticCarbocycles\": 2,\n",
      "  \"NumAromaticHeterocycles\": 0,\n",
      "  \"NumAromaticRings\": 2,\n",
      "  \"NumHeteroatoms\": 7,\n",
      "  \"NumSaturatedCarbocycles\": 0,\n",
      "  \"NumSaturatedHeterocycles\": 0,\n",
      "  \"NumSaturatedRings\": 0,\n",
      "  \"RingCount\": 2\n",
      "}\n"
     ]
    },
    {
     "data": {
      "text/plain": [
       "[Text(0.5, 1.0, 'bestcost')]"
      ]
     },
     "execution_count": 15,
     "metadata": {},
     "output_type": "execute_result"
    },
    {
     "data": {
      "image/png": "[encoded data removed]",
      "text/plain": [
       "<Figure size 1152x1440 with 6 Axes>"
      ]
     },
     "metadata": {
      "needs_background": "light"
     },
     "output_type": "display_data"
    }
   ],
   "source": [
    "import json\n",
    "import matplotlib.pyplot as plt\n",
    "from moldrug import utils\n",
    "sascorer = utils.import_sascorer()\n",
    "print(f\"Initial vina score: {out.InitIndividual.vina_score}. Final vina score: {out.pop[0].vina_score}\")\n",
    "print(f\"sascorer of the best Individual: {sascorer.calculateScore(out.pop[0].mol)}\")\n",
    "print(f\"QED of the best Individual: {fitness.QED.weights_mean(out.pop[0].mol)}\")\n",
    "print(json.dumps(utils.lipinski_profile(out.pop[0].mol), indent = 2))\n",
    "\n",
    "fig, ax = plt.subplots(nrows = 6, figsize = (16,20))\n",
    "\n",
    "ax[0].plot(range(len(out.SawIndividuals)),[Individual.qed for Individual in out.SawIndividuals], 'o')\n",
    "ax[0].set(title = 'qed')\n",
    "\n",
    "ax[1].plot(range(len(out.SawIndividuals)),[Individual.sa_score for Individual in out.SawIndividuals], 'o')\n",
    "ax[1].set(title = 'sa_score')\n",
    "\n",
    "ax[2].plot(range(len(out.SawIndividuals)),[Individual.vina_score for Individual in out.SawIndividuals], 'o')\n",
    "ax[2].set(title = 'vina_score')\n",
    "\n",
    "ax[3].plot(range(len(out.SawIndividuals)),[Individual.cost for Individual in out.SawIndividuals], 'o')\n",
    "ax[3].set(title = 'cost')\n",
    "\n",
    "ax[4].plot(range(len(out.avg_cost)),out.avg_cost, 'o')\n",
    "ax[4].set(title = 'avg_cost')\n",
    "\n",
    "ax[5].plot(range(len(out.bestcost)),out.bestcost, 'o')\n",
    "ax[5].set(title = 'bestcost')\n"
   ]
  }
 ],
 "metadata": {
  "kernelspec": {
   "display_name": "Python 3.9.13 ('moldrug')",
   "language": "python",
   "name": "python3"
  },
  "language_info": {
   "codemirror_mode": {
    "name": "ipython",
    "version": 3
   },
   "file_extension": ".py",
   "mimetype": "text/x-python",
   "name": "python",
   "nbconvert_exporter": "python",
   "pygments_lexer": "ipython3",
   "version": "3.9.13"
  },
  "orig_nbformat": 4,
  "vscode": {
   "interpreter": {
    "hash": "580997a69bc0f3991857025e1d93e87ed090e2c1fa4aff0ca8e9824f56baf8cb"
   }
  }
 },
 "nbformat": 4,
 "nbformat_minor": 2
}
