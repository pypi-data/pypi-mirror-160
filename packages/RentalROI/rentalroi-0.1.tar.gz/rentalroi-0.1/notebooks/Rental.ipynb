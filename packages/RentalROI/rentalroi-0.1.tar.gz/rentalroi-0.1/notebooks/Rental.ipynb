{
 "cells": [
  {
   "cell_type": "code",
   "execution_count": 1,
   "metadata": {
    "ExecuteTime": {
     "end_time": "2022-07-22T21:16:44.274906Z",
     "start_time": "2022-07-22T21:16:44.249854Z"
    }
   },
   "outputs": [],
   "source": [
    "from collections import namedtuple\n",
    "from mortgage import Loan\n",
    "\n",
    "Cashflow = namedtuple('Cashflow', 'number rent hoa management_fee tax insurance interest principal')\n",
    "\n",
    "class Rental:    \n",
    "    def __init__(self, price, rent, hoa = 500, management_fee = 0.18, tax_rate = 0.0035, insurance_rate = 0.0035, loan_ratio = 0.65, \\\n",
    "                 loan_term = 15, loan_rate = 0.06, income_tax_rate = 0.37, additional_investment = 0.0):\n",
    "        self._price = price\n",
    "        self._additional_investment = additional_investment\n",
    "        self._rent = rent\n",
    "        self._hoa = hoa\n",
    "        self._management_fee = rent*management_fee\n",
    "        self._tax = price*tax_rate/12\n",
    "        self._insurance = price*insurance_rate/12\n",
    "        self._loan = Loan(principal=(price + additional_investment)*loan_ratio, interest=loan_rate, term=loan_term)\n",
    "        self._schedule = self._initialize_schedule()\n",
    "        self._income_tax_rate = income_tax_rate\n",
    "        \n",
    "    def schedule(self, nth_payment=None):\n",
    "        if nth_payment:\n",
    "            data = self._schedule[nth_payment]\n",
    "        else:\n",
    "            data = self._schedule\n",
    "        return data\n",
    "    \n",
    "    def _initialize_schedule(self):\n",
    "        initialize = Cashflow(number=0,\n",
    "                              rent=0,\n",
    "                              hoa=0,\n",
    "                              management_fee=0,\n",
    "                              tax=0,\n",
    "                              insurance=0,\n",
    "                              interest=0,\n",
    "                              principal=0)\n",
    "        \n",
    "        schedule = []\n",
    "                \n",
    "        for loan_sch in self._loan.schedule():\n",
    "            cashflow = Cashflow(number=loan_sch.number,\n",
    "                                rent=self._rent,\n",
    "                                hoa=self._hoa,\n",
    "                                management_fee=self._management_fee,\n",
    "                                tax=self._tax,\n",
    "                                insurance=self._insurance,\n",
    "                                interest=float(loan_sch.interest),\n",
    "                                principal=float(loan_sch.principal))\n",
    "\n",
    "            schedule.append(cashflow)\n",
    "        return schedule\n",
    "    \n",
    "    @property\n",
    "    def summarize(self):\n",
    "        print('Property Purchase Price:  {}{:>11,.0f}'.format(self._loan._currency, self._price))\n",
    "        print('Additional Setup Cost:    {}{:>11,.0f}'.format(self._loan._currency, self._additional_investment))\n",
    "        print('')\n",
    "        original_investment =  self._price + self._additional_investment - float(self._loan.principal)\n",
    "        print('Initial Investment:       {}{:>11,.0f}'.format(self._loan._currency, original_investment))\n",
    "        print('Loan Principal:           {}{:>11,.0f}'.format(self._loan._currency, self._loan.principal))\n",
    "        print('')\n",
    "        print('Monthly Rent:             {}{:>11,.0f}'.format(self._loan._currency, self._rent))\n",
    "        tax_deductibles = float(self._loan.schedule(1).interest) + self._insurance + self._management_fee + self._hoa + self._tax\n",
    "        not_tax_deductibles = float(self._loan.schedule(1).principal)\n",
    "        print('Monthly Costs:            {}{:>11,.0f}'.format(self._loan._currency, tax_deductibles + not_tax_deductibles))        \n",
    "        print(' - Loan Payment:          {}{:>11,.0f}'.format(self._loan._currency, self._loan.monthly_payment))        \n",
    "        print('   * Principal:           {}{:>11,.0f}'.format(self._loan._currency, self._loan.schedule(1).principal))        \n",
    "        print('   * Interest:            {}{:>11,.0f}'.format(self._loan._currency, self._loan.schedule(1).interest))\n",
    "        print(' - HOA:                   {}{:>11,.0f}'.format(self._loan._currency, self._hoa))\n",
    "        print(' - Management Fees:       {}{:>11,.0f}'.format(self._loan._currency, self._management_fee))\n",
    "        print(' - Tax:                   {}{:>11,.0f}'.format(self._loan._currency, self._tax))\n",
    "        print(' - Insurnace:             {}{:>11,.0f}'.format(self._loan._currency, self._insurance))\n",
    "        print('')\n",
    "        print('Tax Deductibles:          {}{:>11,.0f} p.a.'.format(self._loan._currency, tax_deductibles * 12))\n",
    "        taxable_income = self._rent - tax_deductibles\n",
    "        print('Taxable Income:           {}{:>11,.0f} p.a.'.format(self._loan._currency, taxable_income * 12))\n",
    "        income_after_tax = taxable_income * 12 * (1 - self._income_tax_rate)\n",
    "        print('Income After Tax:         {}{:>11,.0f} p.a.'.format(self._loan._currency, income_after_tax))\n",
    "        print('Cashflow:                 {}{:>11,.0f} p.a.'.format(self._loan._currency, income_after_tax - not_tax_deductibles * 12))\n",
    "        print('')\n",
    "        print('Net ROI:                    {:>10,.0%} p.a.'.format((taxable_income * 12) * (1 - self._income_tax_rate) / original_investment))\n",
    "        print('Loan Leverage:              {:>10,.1f}'.format(1+ float(self._loan.principal) / original_investment))"
   ]
  },
  {
   "cell_type": "code",
   "execution_count": 3,
   "metadata": {
    "ExecuteTime": {
     "end_time": "2022-07-22T21:17:45.207638Z",
     "start_time": "2022-07-22T21:17:45.187272Z"
    }
   },
   "outputs": [
    {
     "name": "stdout",
     "output_type": "stream",
     "text": [
      "Property Purchase Price:  $    130,000\n",
      "Additional Setup Cost:    $     20,000\n",
      "\n",
      "Initial Investment:       $     30,000\n",
      "Loan Principal:           $    120,000\n",
      "\n",
      "Monthly Rent:             $      1,900\n",
      "Monthly Costs:            $      1,444\n",
      " - Loan Payment:          $      1,013\n",
      "   * Principal:           $        413\n",
      "   * Interest:            $        600\n",
      " - HOA:                   $        267\n",
      " - Management Fees:       $          0\n",
      " - Tax:                   $        121\n",
      " - Insurnace:             $         43\n",
      "\n",
      "Tax Deductibles:          $     12,380 p.a.\n",
      "Taxable Income:           $     10,420 p.a.\n",
      "Income After Tax:         $      6,565 p.a.\n",
      "Cashflow:                 $      1,613 p.a.\n",
      "\n",
      "Net ROI:                           22% p.a.\n",
      "Loan Leverage:                     5.0\n"
     ]
    }
   ],
   "source": [
    "Rental(price=130000, rent=1900, hoa=267, management_fee=0.00, tax_rate=0.0112, insurance_rate=0.004, loan_ratio=0.80, loan_term=15, loan_rate=0.06, additional_investment=20000).summarize"
   ]
  },
  {
   "cell_type": "code",
   "execution_count": 6,
   "metadata": {
    "ExecuteTime": {
     "end_time": "2022-07-22T21:18:20.717080Z",
     "start_time": "2022-07-22T21:18:20.698074Z"
    }
   },
   "outputs": [
    {
     "name": "stdout",
     "output_type": "stream",
     "text": [
      "Property Purchase Price:  $    130,000\n",
      "Additional Setup Cost:    $     20,000\n",
      "\n",
      "Initial Investment:       $    149,985\n",
      "Loan Principal:           $         15\n",
      "\n",
      "Monthly Rent:             $      1,900\n",
      "Monthly Costs:            $        432\n",
      " - Loan Payment:          $          0\n",
      "   * Principal:           $          0\n",
      "   * Interest:            $          0\n",
      " - HOA:                   $        267\n",
      " - Management Fees:       $          0\n",
      " - Tax:                   $        121\n",
      " - Insurnace:             $         43\n",
      "\n",
      "Tax Deductibles:          $      5,181 p.a.\n",
      "Taxable Income:           $     17,619 p.a.\n",
      "Income After Tax:         $     11,100 p.a.\n",
      "Cashflow:                 $     11,099 p.a.\n",
      "\n",
      "Net ROI:                            7% p.a.\n",
      "Loan Leverage:                     1.0\n"
     ]
    }
   ],
   "source": [
    "Rental(price=130000, rent=1900, hoa=267, management_fee=0.0, tax_rate=0.0112, insurance_rate=0.004, loan_ratio=0.0001, loan_term=15, loan_rate=0.06, additional_investment=20000).summarize"
   ]
  }
 ],
 "metadata": {
  "kernelspec": {
   "display_name": "Python 3",
   "language": "python",
   "name": "python3"
  },
  "language_info": {
   "codemirror_mode": {
    "name": "ipython",
    "version": 3
   },
   "file_extension": ".py",
   "mimetype": "text/x-python",
   "name": "python",
   "nbconvert_exporter": "python",
   "pygments_lexer": "ipython3",
   "version": "3.8.2"
  }
 },
 "nbformat": 4,
 "nbformat_minor": 4
}
