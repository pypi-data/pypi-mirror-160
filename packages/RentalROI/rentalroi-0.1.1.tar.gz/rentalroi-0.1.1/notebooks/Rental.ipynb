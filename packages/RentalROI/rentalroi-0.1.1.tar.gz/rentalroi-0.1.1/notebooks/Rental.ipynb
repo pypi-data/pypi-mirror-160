{
 "cells": [
  {
   "cell_type": "code",
   "execution_count": 45,
   "metadata": {
    "ExecuteTime": {
     "end_time": "2022-07-23T16:39:54.095357Z",
     "start_time": "2022-07-23T16:39:54.063105Z"
    }
   },
   "outputs": [],
   "source": [
    "from collections import namedtuple\n",
    "from mortgage import Loan\n",
    "\n",
    "Cashflow = namedtuple('Cashflow', 'number rent hoa management_fee tax insurance interest principal')\n",
    "\n",
    "class Rental:    \n",
    "    def __init__(self, price, rent, hoa, management_fee = 0.0, tax_rate = 0.0035, insurance_rate = 0.0035, loan_ratio = 0.85, \\\n",
    "                 loan_term = 15, loan_rate = 0.06, income_tax_rate = 0.37, additional_investment = 0.0):\n",
    "        self._price = price\n",
    "        self._additional_investment = additional_investment\n",
    "        self._rent = rent\n",
    "        self._hoa = hoa\n",
    "        self._management_fee = rent*management_fee\n",
    "        self._tax = price*tax_rate/12\n",
    "        self._insurance = price*insurance_rate/12\n",
    "        self._loan = Loan(principal=(price + additional_investment)*loan_ratio, interest=loan_rate, term=loan_term)\n",
    "        self._schedule = self._initialize_schedule()\n",
    "        self._income_tax_rate = income_tax_rate\n",
    "        \n",
    "    def schedule(self, nth_payment=None):\n",
    "        if nth_payment:\n",
    "            data = self._schedule[nth_payment]\n",
    "        else:\n",
    "            data = self._schedule\n",
    "        return data\n",
    "    \n",
    "    def _initialize_schedule(self):\n",
    "        initialize = Cashflow(number=0,\n",
    "                              rent=0,\n",
    "                              hoa=0,\n",
    "                              management_fee=0,\n",
    "                              tax=0,\n",
    "                              insurance=0,\n",
    "                              interest=0,\n",
    "                              principal=0)\n",
    "        \n",
    "        schedule = []\n",
    "                \n",
    "        for loan_sch in self._loan.schedule():\n",
    "            cashflow = Cashflow(number=loan_sch.number,\n",
    "                                rent=self._rent,\n",
    "                                hoa=self._hoa,\n",
    "                                management_fee=self._management_fee,\n",
    "                                tax=self._tax,\n",
    "                                insurance=self._insurance,\n",
    "                                interest=float(loan_sch.interest),\n",
    "                                principal=float(loan_sch.principal))\n",
    "\n",
    "            schedule.append(cashflow)\n",
    "        return schedule\n",
    "\n",
    "    def summarize(self, output_type=None):\n",
    "\n",
    "        original_investment =  self._price + self._additional_investment - float(self._loan.principal)\n",
    "        tax_deductibles = float(self._loan.schedule(1).interest) + self._insurance + self._management_fee + self._hoa + self._tax\n",
    "        not_tax_deductibles = float(self._loan.schedule(1).principal)\n",
    "        taxable_income = self._rent - tax_deductibles\n",
    "        income_after_tax = taxable_income * 12 * (1 - self._income_tax_rate)\n",
    "\n",
    "        if output_type is None:\n",
    "            print(summarize('txt'))\n",
    "        \n",
    "        output = \"\"\n",
    "        if output_type.lower() == 'txt':\n",
    "            new_line = '\\n'\n",
    "            tab = '\\t'\n",
    "        elif output_type.lower() == 'html':\n",
    "            new_line = '<br>'\n",
    "            tab = '    '\n",
    "            output += \"<pre>\"\n",
    "        else:\n",
    "            raise exception(\"Invalid output type. please use either txt, html on None\")\n",
    "                \n",
    "        output += 'Key Info'\n",
    "        output += '{}{}Property Purchase Price:  {}{:>11,.0f}'.format(new_line, tab, self._loan._currency, self._price)\n",
    "        output += '{}{}Additional Setup Cost:    {}{:>11,.0f}'.format(new_line, tab, self._loan._currency, self._additional_investment)\n",
    "        output += '{}'.format(new_line)\n",
    "        output += '{} Loan'.format(new_line)\n",
    "        output += '{}{}Initial Investment:       {}{:>11,.0f}'.format(new_line, tab, self._loan._currency, original_investment)\n",
    "        output += '{}{}Loan Principal:           {}{:>11,.0f}'.format(new_line, tab, self._loan._currency, self._loan.principal)\n",
    "        output += '{}'.format(new_line)\n",
    "        output += '{} Rent & Costs'.format(new_line)\n",
    "        output += '{}{}Monthly Rent:             {}{:>11,.0f}'.format(new_line, tab, self._loan._currency, self._rent)        \n",
    "        output += '{}{}Monthly Costs:            {}{:>11,.0f}'.format(new_line, tab, self._loan._currency, tax_deductibles + not_tax_deductibles)\n",
    "        output += '{}{} - Loan Payment:          {}{:>11,.0f}'.format(new_line, tab, self._loan._currency, self._loan.monthly_payment)\n",
    "        output += '{}{}   * Principal:           {}{:>11,.0f}'.format(new_line, tab, self._loan._currency, self._loan.schedule(1).principal)\n",
    "        output += '{}{}   * Interest:            {}{:>11,.0f}'.format(new_line, tab, self._loan._currency, self._loan.schedule(1).interest)\n",
    "        output += '{}{} - HOA:                   {}{:>11,.0f}'.format(new_line, tab, self._loan._currency, self._hoa)\n",
    "        output += '{}{} - Management Fees:       {}{:>11,.0f}'.format(new_line, tab, self._loan._currency, self._management_fee)\n",
    "        output += '{}{} - Tax:                   {}{:>11,.0f}'.format(new_line, tab, self._loan._currency, self._tax)\n",
    "        output += '{}{} - Insurnace:             {}{:>11,.0f}'.format(new_line, tab, self._loan._currency, self._insurance)\n",
    "        output += '{}'.format(new_line)\n",
    "        output += '{} Income & Tax'.format(new_line)\n",
    "        output += '{}{}Tax Deductibles:          {}{:>11,.0f} p.a.'.format(new_line, tab, self._loan._currency, tax_deductibles * 12)          \n",
    "        output += '{}{}Taxable Income:           {}{:>11,.0f} p.a.'.format(new_line, tab, self._loan._currency, taxable_income * 12)\n",
    "        output += '{}{}Income After Tax:         {}{:>11,.0f} p.a.'.format(new_line, tab, self._loan._currency, income_after_tax)\n",
    "        output += '{}{}Cashflow:                 {}{:>11,.0f} p.a.'.format(new_line, tab, self._loan._currency, income_after_tax - not_tax_deductibles * 12)\n",
    "        output += '{}'.format(new_line)\n",
    "        output += '{} ROI'.format(new_line)\n",
    "        output += '{}{}Net ROI:                    {:>10,.0%} p.a.'.format(new_line, tab, (taxable_income * 12) * (1 - self._income_tax_rate) / original_investment)\n",
    "        output += '{}{}Loan Leverage:              {:>10,.1f}'.format(new_line, tab, 1+ float(self._loan.principal) / original_investment)\n",
    "        return output"
   ]
  },
  {
   "cell_type": "code",
   "execution_count": 46,
   "metadata": {
    "ExecuteTime": {
     "end_time": "2022-07-23T16:39:54.458994Z",
     "start_time": "2022-07-23T16:39:54.436994Z"
    }
   },
   "outputs": [
    {
     "name": "stdout",
     "output_type": "stream",
     "text": [
      "Key Info\n",
      "\tProperty Purchase Price:  $    130,000\n",
      "\tAdditional Setup Cost:    $     20,000\n",
      "\n",
      " Loan\n",
      "\tInitial Investment:       $     30,000\n",
      "\tLoan Principal:           $    120,000\n",
      "\n",
      " Rent & Costs\n",
      "\tMonthly Rent:             $      1,900\n",
      "\tMonthly Costs:            $      1,444\n",
      "\t - Loan Payment:          $      1,013\n",
      "\t   * Principal:           $        413\n",
      "\t   * Interest:            $        600\n",
      "\t - HOA:                   $        267\n",
      "\t - Management Fees:       $          0\n",
      "\t - Tax:                   $        121\n",
      "\t - Insurnace:             $         43\n",
      "\n",
      " Income & Tax\n",
      "\tTax Deductibles:          $     12,380 p.a.\n",
      "\tTaxable Income:           $     10,420 p.a.\n",
      "\tIncome After Tax:         $      6,565 p.a.\n",
      "\tCashflow:                 $      1,613 p.a.\n",
      "\n",
      " ROI\n",
      "\tNet ROI:                           22% p.a.\n",
      "\tLoan Leverage:                     5.0\n"
     ]
    }
   ],
   "source": [
    "print(Rental(price=130000, rent=1900, hoa=267, management_fee=0.00, tax_rate=0.0112, insurance_rate=0.004, loan_ratio=0.80, loan_term=15, loan_rate=0.06, additional_investment=20000).summarize('txt'))"
   ]
  },
  {
   "cell_type": "code",
   "execution_count": 33,
   "metadata": {
    "ExecuteTime": {
     "end_time": "2022-07-23T16:34:46.322955Z",
     "start_time": "2022-07-23T16:34:46.307667Z"
    }
   },
   "outputs": [
    {
     "name": "stdout",
     "output_type": "stream",
     "text": [
      "<pre>Property Purchase Price:  $    130,000<br>Additional Setup Cost:    $     20,000<br><br>Initial Investment:       $     30,000<br>Loan Principal:           $    120,000<br><br>Monthly Rent:             $      1,900<br>Monthly Costs:            $      1,444<br> - Loan Payment:          $      1,013<br>   * Principal:           $        413<br>   * Interest:            $        600<br> - HOA:                   $        267<br> - Management Fees:       $          0<br> - Tax:                   $        121<br> - Insurnace:             $         43<br><br>Tax Deductibles:          $     12,380 p.a.<br>Taxable Income:           $     10,420 p.a.<br>Income After Tax:         $      6,565 p.a.<br>Cashflow:                 $      1,613 p.a.<br><br>Net ROI:                           22% p.a.<br>Loan Leverage:                     5.0\n"
     ]
    }
   ],
   "source": [
    "print(Rental(price=130000, rent=1900, hoa=267, management_fee=0.00, tax_rate=0.0112, insurance_rate=0.004, loan_ratio=0.80, loan_term=15, loan_rate=0.06, additional_investment=20000).summarize('html'))"
   ]
  },
  {
   "cell_type": "code",
   "execution_count": null,
   "metadata": {},
   "outputs": [],
   "source": []
  },
  {
   "cell_type": "code",
   "execution_count": null,
   "metadata": {},
   "outputs": [],
   "source": []
  }
 ],
 "metadata": {
  "kernelspec": {
   "display_name": "Python 3",
   "language": "python",
   "name": "python3"
  },
  "language_info": {
   "codemirror_mode": {
    "name": "ipython",
    "version": 3
   },
   "file_extension": ".py",
   "mimetype": "text/x-python",
   "name": "python",
   "nbconvert_exporter": "python",
   "pygments_lexer": "ipython3",
   "version": "3.8.2"
  }
 },
 "nbformat": 4,
 "nbformat_minor": 4
}
