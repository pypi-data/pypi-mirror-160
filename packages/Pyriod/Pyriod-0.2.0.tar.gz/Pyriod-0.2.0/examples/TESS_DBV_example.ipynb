{
 "cells": [
  {
   "cell_type": "markdown",
   "metadata": {},
   "source": [
    "This first example of the basic usage of the Pyriod package was demonstrated at the [TASC5/KASC12 workshop](https://web.mit.edu/tasc5/) in Boston 22-26 July 2019.  It shows how to reproduce the frequency analysis of a pulsating helium-atmosphere white dwarf presented in [Bell et al. (A&A, 632, A42)](https://ui.adsabs.harvard.edu/abs/2019A%26A...632A..42B).  \n",
    "\n",
    "See the online [tutorial](https://pyriod.readthedocs.io/en/latest/tutorial/) for more info about how to use Pyriod."
   ]
  },
  {
   "cell_type": "code",
   "execution_count": 1,
   "metadata": {},
   "outputs": [],
   "source": [
    "%matplotlib widget\n",
    "import lightkurve as lk\n",
    "from Pyriod import Pyriod"
   ]
  },
  {
   "cell_type": "code",
   "execution_count": 2,
   "metadata": {},
   "outputs": [],
   "source": [
    "lc = lk.search_lightcurve('TIC 900086743',mission='TESS',sector=22)[0].download().normalize().remove_outliers(7)"
   ]
  },
  {
   "cell_type": "code",
   "execution_count": 61,
   "metadata": {},
   "outputs": [
    {
     "data": {
      "text/latex": [
       "$90 \\; \\mathrm{}$"
      ],
      "text/plain": [
       "<Quantity 90.>"
      ]
     },
     "execution_count": 61,
     "metadata": {},
     "output_type": "execute_result"
    }
   ],
   "source": [
    "\n",
    "index=10\n",
    "lc[\"flux_err\"][index] = 90\n",
    "lc.flux_err[index]"
   ]
  },
  {
   "cell_type": "code",
   "execution_count": 42,
   "metadata": {},
   "outputs": [
    {
     "data": {
      "text/plain": [
       "(<Quantity 0.57366705>, <Quantity 0.4144364>)"
      ]
     },
     "execution_count": 42,
     "metadata": {},
     "output_type": "execute_result"
    }
   ],
   "source": [
    "np.mean(lc.flux_err),np.std(lc.flux)"
   ]
  },
  {
   "cell_type": "code",
   "execution_count": 35,
   "metadata": {},
   "outputs": [],
   "source": [
    "perunweighted = lc.to_periodogram(dy=1)"
   ]
  },
  {
   "cell_type": "code",
   "execution_count": 36,
   "metadata": {},
   "outputs": [],
   "source": [
    "perweighted =  lc.to_periodogram(dy=lc.flux_err)"
   ]
  },
  {
   "cell_type": "code",
   "execution_count": 37,
   "metadata": {},
   "outputs": [
    {
     "data": {
      "application/vnd.jupyter.widget-view+json": {
       "model_id": "568a8c13c7114e69a029c5040ffbc1c2",
       "version_major": 2,
       "version_minor": 0
      },
      "text/plain": [
       "Canvas(toolbar=Toolbar(toolitems=[('Home', 'Reset original view', 'home', 'home'), ('Back', 'Back to previous …"
      ]
     },
     "metadata": {},
     "output_type": "display_data"
    }
   ],
   "source": [
    "plt.plot(perunweighted.frequency,perunweighted.power)\n",
    "plt.plot(perweighted.frequency,perweighted.power,alpha=0.5)\n",
    "plt.show()"
   ]
  },
  {
   "cell_type": "code",
   "execution_count": 3,
   "metadata": {},
   "outputs": [
    {
     "data": {
      "application/vnd.jupyter.widget-view+json": {
       "model_id": "c32c86a03dab44489a747ef0ab65b4ec",
       "version_major": 2,
       "version_minor": 0
      },
      "text/plain": [
       "Canvas(toolbar=Toolbar(toolitems=[('Home', 'Reset original view', 'home', 'home'), ('Back', 'Back to previous …"
      ]
     },
     "metadata": {},
     "output_type": "display_data"
    }
   ],
   "source": [
    "import numpy as np\n",
    "time = np.arange(0,27,1/(24*30))\n",
    "freq = 100\n",
    "freq2 = 123.3243232234\n",
    "amp = 0.01\n",
    "amp2 = 0.05\n",
    "noise = 0.01 #sqrt(flux)\n",
    "flux = 1 + amp*np.sin(2*np.pi*freq*time) + noise*np.random.randn(len(time)) #+ amp2*np.sin(2*np.pi*freq2*time+.1213)\n",
    "lc = lk.LightCurve(time=time,flux=flux,flux_err=noise)\n",
    "lc.scatter()\n",
    "import matplotlib.pyplot as plt\n",
    "plt.show()"
   ]
  },
  {
   "cell_type": "code",
   "execution_count": 4,
   "metadata": {},
   "outputs": [],
   "source": [
    "#Download light curve of a DBV white dwarf pulsator observed by TESS\n",
    "#Then smooth and remove outliers\n",
    "#lc = lk.search_lightcurve('TIC 257459955',mission='TESS',sector=3)[0].download().flatten(2161).remove_outliers(5)"
   ]
  },
  {
   "cell_type": "code",
   "execution_count": 4,
   "metadata": {},
   "outputs": [
    {
     "name": "stderr",
     "output_type": "stream",
     "text": [
      "/Users/keatonb/anaconda3/lib/python3.7/site-packages/astropy/units/quantity.py:479: RuntimeWarning: invalid value encountered in sqrt\n",
      "  result = super().__array_ufunc__(function, method, *arrays, **kwargs)\n"
     ]
    }
   ],
   "source": [
    "#Instantiate Pyriod object\n",
    "pyriod = Pyriod(lc,freq_unit='day')"
   ]
  },
  {
   "cell_type": "code",
   "execution_count": 5,
   "metadata": {},
   "outputs": [
    {
     "data": {
      "application/vnd.jupyter.widget-view+json": {
       "model_id": "2480c740847d483682daf88507657c1d",
       "version_major": 2,
       "version_minor": 0
      },
      "text/plain": [
       "VBox(children=(HTML(value=''), Canvas(toolbar=Toolbar(toolitems=[('Home', 'Reset original view', 'home', 'home…"
      ]
     },
     "metadata": {},
     "output_type": "display_data"
    }
   ],
   "source": [
    "#Interact with time series\n",
    "pyriod.TimeSeries()"
   ]
  },
  {
   "cell_type": "code",
   "execution_count": 6,
   "metadata": {
    "scrolled": false
   },
   "outputs": [
    {
     "data": {
      "application/vnd.jupyter.widget-view+json": {
       "model_id": "4b78eaaa7cdd4f378bf5bffa04d9c315",
       "version_major": 2,
       "version_minor": 0
      },
      "text/plain": [
       "VBox(children=(HTML(value=''), HBox(children=(Text(value='10.600570965546508', description='Frequency:', place…"
      ]
     },
     "metadata": {},
     "output_type": "display_data"
    }
   ],
   "source": [
    "#Interact with periodogram\n",
    "pyriod.Periodogram()"
   ]
  },
  {
   "cell_type": "code",
   "execution_count": 7,
   "metadata": {},
   "outputs": [
    {
     "data": {
      "application/vnd.jupyter.widget-view+json": {
       "model_id": "229dbb4578414e149c4f2165c901a9e2",
       "version_major": 2,
       "version_minor": 0
      },
      "text/plain": [
       "VBox(children=(HTML(value=''), HBox(children=(Button(description='Refine fit', icon='refresh', style=ButtonSty…"
      ]
     },
     "metadata": {},
     "output_type": "display_data"
    }
   ],
   "source": [
    "#Interact with frequency solution\n",
    "pyriod.Signals()"
   ]
  },
  {
   "cell_type": "code",
   "execution_count": 9,
   "metadata": {},
   "outputs": [
    {
     "data": {
      "text/plain": [
       "1.0216276099170674"
      ]
     },
     "execution_count": 9,
     "metadata": {},
     "output_type": "execute_result"
    }
   ],
   "source": [
    "np.sum(pyriod.lc['resid']**2/(noise**2.))/len(time-6)"
   ]
  },
  {
   "cell_type": "code",
   "execution_count": 10,
   "metadata": {},
   "outputs": [
    {
     "data": {
      "text/plain": [
       "0.10143010324169743"
      ]
     },
     "execution_count": 10,
     "metadata": {},
     "output_type": "execute_result"
    }
   ],
   "source": [
    "#amp err = 0.3727\n",
    "#expected: 0.1014\n",
    "# amp 2 = 0.1007\n",
    "np.sqrt(2/len(time))*noise*1e3"
   ]
  },
  {
   "cell_type": "code",
   "execution_count": 18,
   "metadata": {},
   "outputs": [
    {
     "data": {
      "text/plain": [
       "0.00010129669651126891"
      ]
     },
     "execution_count": 18,
     "metadata": {},
     "output_type": "execute_result"
    }
   ],
   "source": [
    "1.9686/(len(time)-6)"
   ]
  },
  {
   "cell_type": "code",
   "execution_count": 9,
   "metadata": {},
   "outputs": [
    {
     "data": {
      "text/plain": [
       "IPython.core.display.HTML"
      ]
     },
     "execution_count": 9,
     "metadata": {},
     "output_type": "execute_result"
    }
   ],
   "source": [
    "from IPython.core.display import display, HTML\n",
    "fr = HTML(pyriod.fit_result._repr_html_())\n",
    "type(fr)\n"
   ]
  },
  {
   "cell_type": "code",
   "execution_count": 10,
   "metadata": {},
   "outputs": [
    {
     "data": {
      "text/html": [
       "<h2> Model</h2> Model(sin, prefix='f0') <h2>Fit Statistics</h2><table><tr><td>fitting method</td><td>leastsq</td><td></td></tr><tr><td># function evals</td><td>13</td><td></td></tr><tr><td># data points</td><td>15725</td><td></td></tr><tr><td># variables</td><td>3</td><td></td></tr><tr><td>chi-square</td><td> 2293.26157</td><td></td></tr><tr><td>reduced chi-square</td><td> 0.14586322</td><td></td></tr><tr><td>Akaike info crit.</td><td>-30268.9766</td><td></td></tr><tr><td>Bayesian info crit.</td><td>-30245.9876</td><td></td></tr></table><h2>Variables</h2><table><tr><th> name </th><th> value </th><th> standard error </th><th> relative error </th><th> initial value </th><th> min </th><th> max </th><th> vary </th></tr><tr><td> f0freq </td><td>  10.5990385 </td><td>  3.6877e-04 </td><td> (0.00%) </td><td> 10.600570965546508 </td><td>        -inf </td><td>         inf </td><td> True </td></tr><tr><td> f0amp </td><td>  0.22772609 </td><td>  0.00430780 </td><td> (1.89%) </td><td> 0.22698994008258777 </td><td>        -inf </td><td>         inf </td><td> True </td></tr><tr><td> f0phase </td><td>  0.32053675 </td><td>  0.00300980 </td><td> (0.94%) </td><td> 0.30000000000000004 </td><td>        -inf </td><td>         inf </td><td> True </td></tr></table>"
      ],
      "text/plain": [
       "<IPython.core.display.HTML object>"
      ]
     },
     "execution_count": 10,
     "metadata": {},
     "output_type": "execute_result"
    }
   ],
   "source": [
    "fr"
   ]
  },
  {
   "cell_type": "code",
   "execution_count": 69,
   "metadata": {},
   "outputs": [
    {
     "name": "stdout",
     "output_type": "stream",
     "text": [
      "<style  type=\"text/css\" >\n",
      "    table {\n",
      "      border: none;\n",
      "      border-collapse: collapse;\n",
      "      border-spacing: 0;\n",
      "      color: black;\n",
      "      font-size: 12px;\n",
      "      table-layout: fixed;\n",
      "    }\n",
      "    thead {\n",
      "      border-bottom: 1px solid black;\n",
      "      vertical-align: bottom;\n",
      "    }\n",
      "    tr, th, td {\n",
      "      text-align: right;\n",
      "      vertical-align: middle;\n",
      "      padding: 0.5em 0.5em;\n",
      "      line-height: normal;\n",
      "      white-space: normal;\n",
      "      max-width: none;\n",
      "      border: none;\n",
      "    }\n",
      "    th {\n",
      "      font-weight: bold;\n",
      "    }\n",
      "    tbody tr:nth-child(odd) {\n",
      "      background: #f5f5f5;\n",
      "    }\n",
      "    tbody tr:hover {\n",
      "      background: rgba(66, 165, 245, 0.2);\n",
      "    }\n",
      "</style>\n"
     ]
    }
   ],
   "source": [
    "f = open(\"table.css\", \"r\")\n",
    "css = f.read()\n",
    "print(css)\n",
    "f.close()"
   ]
  },
  {
   "cell_type": "code",
   "execution_count": 72,
   "metadata": {},
   "outputs": [
    {
     "data": {
      "text/html": [
       "<style  type=\"text/css\" >\n",
       "    table {\n",
       "      border: none;\n",
       "      border-collapse: collapse;\n",
       "      border-spacing: 0;\n",
       "      color: black;\n",
       "      font-size: 12px;\n",
       "      table-layout: fixed;\n",
       "    }\n",
       "    thead {\n",
       "      border-bottom: 1px solid black;\n",
       "      vertical-align: bottom;\n",
       "    }\n",
       "    tr, th, td {\n",
       "      text-align: right;\n",
       "      vertical-align: middle;\n",
       "      padding: 0.5em 0.5em;\n",
       "      line-height: normal;\n",
       "      white-space: normal;\n",
       "      max-width: none;\n",
       "      border: none;\n",
       "    }\n",
       "    th {\n",
       "      font-weight: bold;\n",
       "    }\n",
       "    tbody tr:nth-child(odd) {\n",
       "      background: #f5f5f5;\n",
       "    }\n",
       "    tbody tr:hover {\n",
       "      background: rgba(66, 165, 245, 0.2);\n",
       "    }\n",
       "</style><h2> Model</h2> (Model(sin, prefix='f0') + Model(sin, prefix='f1')) <h2>Fit Statistics</h2><table><tr><td>fitting method</td><td>leastsq</td><td></td></tr><tr><td># function evals</td><td>8</td><td></td></tr><tr><td># data points</td><td>15725</td><td></td></tr><tr><td># variables</td><td>6</td><td></td></tr><tr><td>chi-square</td><td> 2284.58263</td><td></td></tr><tr><td>reduced chi-square</td><td> 0.14533893</td><td></td></tr><tr><td>Akaike info crit.</td><td>-30322.6014</td><td></td></tr><tr><td>Bayesian info crit.</td><td>-30276.6233</td><td></td></tr></table><h2>Variables</h2><table><tr><th> name </th><th> value </th><th> standard error </th><th> relative error </th><th> initial value </th><th> min </th><th> max </th><th> vary </th></tr><tr><td> f0freq </td><td>  10.5990424 </td><td>  3.6814e-04 </td><td> (0.00%) </td><td> 10.59904244579394 </td><td>        -inf </td><td>         inf </td><td> True </td></tr><tr><td> f0amp </td><td>  0.22771046 </td><td>  0.00430008 </td><td> (1.89%) </td><td> 0.22771045895566705 </td><td>        -inf </td><td>         inf </td><td> True </td></tr><tr><td> f0phase </td><td>  20279.3205 </td><td>  0.00300460 </td><td> (0.00%) </td><td> 20279.32051996229 </td><td>        -inf </td><td>         inf </td><td> True </td></tr><tr><td> f1freq </td><td>  21.2001211 </td><td>  0.00252349 </td><td> (0.01%) </td><td> 21.200123921087954 </td><td>        -inf </td><td>         inf </td><td> True </td></tr><tr><td> f1amp </td><td>  0.03322603 </td><td>  0.00429969 </td><td> (12.94%) </td><td> 0.033226023850316755 </td><td>        -inf </td><td>         inf </td><td> True </td></tr><tr><td> f1phase </td><td>  40562.4043 </td><td>  0.02059362 </td><td> (0.00%) </td><td> 40562.40425354677 </td><td>        -inf </td><td>         inf </td><td> True </td></tr></table>"
      ],
      "text/plain": [
       "<IPython.core.display.HTML object>"
      ]
     },
     "execution_count": 72,
     "metadata": {},
     "output_type": "execute_result"
    }
   ],
   "source": [
    "HTML(css+pyriod.fit_result._repr_html_())"
   ]
  },
  {
   "cell_type": "code",
   "execution_count": 11,
   "metadata": {},
   "outputs": [
    {
     "data": {
      "text/html": [
       "<h2> Model</h2> Model(sin, prefix='f0') <h2>Fit Statistics</h2><table><tr><td>fitting method</td><td>leastsq</td><td></td></tr><tr><td># function evals</td><td>13</td><td></td></tr><tr><td># data points</td><td>15725</td><td></td></tr><tr><td># variables</td><td>3</td><td></td></tr><tr><td>chi-square</td><td> 2293.26157</td><td></td></tr><tr><td>reduced chi-square</td><td> 0.14586322</td><td></td></tr><tr><td>Akaike info crit.</td><td>-30268.9766</td><td></td></tr><tr><td>Bayesian info crit.</td><td>-30245.9876</td><td></td></tr></table><h2>Variables</h2><table><tr><th> name </th><th> value </th><th> standard error </th><th> relative error </th><th> initial value </th><th> min </th><th> max </th><th> vary </th></tr><tr><td> f0freq </td><td>  10.5990385 </td><td>  3.6877e-04 </td><td> (0.00%) </td><td> 10.600570965546508 </td><td>        -inf </td><td>         inf </td><td> True </td></tr><tr><td> f0amp </td><td>  0.22772609 </td><td>  0.00430780 </td><td> (1.89%) </td><td> 0.22698994008258777 </td><td>        -inf </td><td>         inf </td><td> True </td></tr><tr><td> f0phase </td><td>  0.32053675 </td><td>  0.00300980 </td><td> (0.94%) </td><td> 0.30000000000000004 </td><td>        -inf </td><td>         inf </td><td> True </td></tr></table>"
      ],
      "text/plain": [
       "<IPython.core.display.HTML object>"
      ]
     },
     "metadata": {},
     "output_type": "display_data"
    }
   ],
   "source": [
    "display(fr)"
   ]
  },
  {
   "cell_type": "code",
   "execution_count": null,
   "metadata": {},
   "outputs": [],
   "source": [
    "HTML"
   ]
  },
  {
   "cell_type": "code",
   "execution_count": 21,
   "metadata": {},
   "outputs": [
    {
     "data": {
      "application/vnd.jupyter.widget-view+json": {
       "model_id": "216a7f546b18499fa0154bc7269d76d0",
       "version_major": 2,
       "version_minor": 0
      },
      "text/plain": [
       "Accordion(children=(HTML(value=\"<h2> Model</h2> Model(sin, prefix='f0') <h2>Fit Statistics</h2><table><tr><td>…"
      ]
     },
     "metadata": {},
     "output_type": "display_data"
    }
   ],
   "source": [
    "accordion = widgets.Accordion(children=[widgets.HTML(pyriod.fit_result._repr_html_())], titles=('Fit report'))\n",
    "accordion"
   ]
  },
  {
   "cell_type": "code",
   "execution_count": 12,
   "metadata": {},
   "outputs": [
    {
     "data": {
      "application/vnd.jupyter.widget-view+json": {
       "model_id": "4b9eabb594db4930abd139cb320efa1a",
       "version_major": 2,
       "version_minor": 0
      },
      "text/plain": [
       "HTML(value=\"<h2> Model</h2> Model(sin, prefix='f0') <h2>Fit Statistics</h2><table><tr><td>fitting method</td><…"
      ]
     },
     "metadata": {},
     "output_type": "display_data"
    }
   ],
   "source": [
    "import ipywidgets as widgets\n",
    "widgets.HTML(\n",
    "    value=pyriod.fit_result._repr_html_()\n",
    ")"
   ]
  },
  {
   "cell_type": "code",
   "execution_count": 9,
   "metadata": {},
   "outputs": [
    {
     "data": {
      "application/vnd.jupyter.widget-view+json": {
       "model_id": "c976298286ce475abd4edd4088d3f2ec",
       "version_major": 2,
       "version_minor": 0
      },
      "text/plain": [
       "VBox(children=(Box(children=(HTML(value=\"2021-07-06 17:08:43,982 - INFO - Initiating Pyriod instance 0.<br>\\n2…"
      ]
     },
     "metadata": {},
     "output_type": "display_data"
    }
   ],
   "source": [
    "#Interact with log\n",
    "pyriod.Log()"
   ]
  },
  {
   "cell_type": "code",
   "execution_count": 14,
   "metadata": {},
   "outputs": [
    {
     "data": {
      "text/html": [
       "<div>\n",
       "<style scoped>\n",
       "    .dataframe tbody tr th:only-of-type {\n",
       "        vertical-align: middle;\n",
       "    }\n",
       "\n",
       "    .dataframe tbody tr th {\n",
       "        vertical-align: top;\n",
       "    }\n",
       "\n",
       "    .dataframe thead th {\n",
       "        text-align: right;\n",
       "    }\n",
       "</style>\n",
       "<table border=\"1\" class=\"dataframe\">\n",
       "  <thead>\n",
       "    <tr style=\"text-align: right;\">\n",
       "      <th></th>\n",
       "      <th>include</th>\n",
       "      <th>freq</th>\n",
       "      <th>fixfreq</th>\n",
       "      <th>freqerr</th>\n",
       "      <th>amp</th>\n",
       "      <th>fixamp</th>\n",
       "      <th>amperr</th>\n",
       "      <th>phase</th>\n",
       "      <th>fixphase</th>\n",
       "      <th>phaseerr</th>\n",
       "      <th>per</th>\n",
       "      <th>pererr</th>\n",
       "    </tr>\n",
       "  </thead>\n",
       "  <tbody>\n",
       "    <tr>\n",
       "      <th>f0</th>\n",
       "      <td>True</td>\n",
       "      <td>10.599042</td>\n",
       "      <td>False</td>\n",
       "      <td>0.000368</td>\n",
       "      <td>0.227711</td>\n",
       "      <td>False</td>\n",
       "      <td>0.0043</td>\n",
       "      <td>0.192886</td>\n",
       "      <td>False</td>\n",
       "      <td>0.003005</td>\n",
       "      <td>8151.679801</td>\n",
       "      <td>0.283132</td>\n",
       "    </tr>\n",
       "    <tr>\n",
       "      <th>f1</th>\n",
       "      <td>True</td>\n",
       "      <td>21.200157</td>\n",
       "      <td>False</td>\n",
       "      <td>0.002527</td>\n",
       "      <td>0.033224</td>\n",
       "      <td>False</td>\n",
       "      <td>0.0043</td>\n",
       "      <td>0.185071</td>\n",
       "      <td>False</td>\n",
       "      <td>0.020623</td>\n",
       "      <td>4075.441602</td>\n",
       "      <td>0.485811</td>\n",
       "    </tr>\n",
       "  </tbody>\n",
       "</table>\n",
       "</div>"
      ],
      "text/plain": [
       "    include       freq  fixfreq   freqerr       amp  fixamp  amperr     phase  \\\n",
       "f0     True  10.599042    False  0.000368  0.227711   False  0.0043  0.192886   \n",
       "f1     True  21.200157    False  0.002527  0.033224   False  0.0043  0.185071   \n",
       "\n",
       "    fixphase  phaseerr          per    pererr  \n",
       "f0     False  0.003005  8151.679801  0.283132  \n",
       "f1     False  0.020623  4075.441602  0.485811  "
      ]
     },
     "execution_count": 14,
     "metadata": {},
     "output_type": "execute_result"
    }
   ],
   "source": [
    "pyriod.fitvalues"
   ]
  },
  {
   "cell_type": "code",
   "execution_count": 15,
   "metadata": {
    "scrolled": false
   },
   "outputs": [
    {
     "data": {
      "application/vnd.jupyter.widget-view+json": {
       "model_id": "00984abc0ac140b98ad98d78bb427798",
       "version_major": 2,
       "version_minor": 0
      },
      "text/plain": [
       "Tab(children=(VBox(children=(HTML(value=''), Canvas(toolbar=Toolbar(toolitems=[('Home', 'Reset original view',…"
      ]
     },
     "metadata": {},
     "output_type": "display_data"
    }
   ],
   "source": [
    "#Show all panels in tabs (may be buggy in Python 3)\n",
    "pyriod.Pyriod()"
   ]
  },
  {
   "cell_type": "code",
   "execution_count": 21,
   "metadata": {},
   "outputs": [
    {
     "data": {
      "text/plain": [
       "0.0027777402738138335"
      ]
     },
     "execution_count": 21,
     "metadata": {},
     "output_type": "execute_result"
    }
   ],
   "source": [
    "1/(2*pyriod.nyquist)"
   ]
  },
  {
   "cell_type": "code",
   "execution_count": 95,
   "metadata": {},
   "outputs": [
    {
     "data": {
      "text/plain": [
       "array([0.79325097, 0.79327243, 0.79329422, ..., 0.79081713, 0.79079232,\n",
       "       0.79076718])"
      ]
     },
     "execution_count": 95,
     "metadata": {},
     "output_type": "execute_result"
    }
   ],
   "source": [
    "nyqphase = ((lc.time.value + .32334212) % (0.5/pyriod.nyquist))/(0.5/pyriod.nyquist)\n",
    "nyqphase"
   ]
  },
  {
   "cell_type": "code",
   "execution_count": 96,
   "metadata": {},
   "outputs": [
    {
     "data": {
      "text/plain": [
       "0.002777777777777778"
      ]
     },
     "execution_count": 96,
     "metadata": {},
     "output_type": "execute_result"
    }
   ],
   "source": [
    "(2*(2/60/24))"
   ]
  },
  {
   "cell_type": "code",
   "execution_count": 97,
   "metadata": {},
   "outputs": [
    {
     "data": {
      "text/plain": [
       "360.00486057935194"
      ]
     },
     "execution_count": 97,
     "metadata": {},
     "output_type": "execute_result"
    }
   ],
   "source": [
    "pyriod.nyquist"
   ]
  },
  {
   "cell_type": "code",
   "execution_count": 98,
   "metadata": {},
   "outputs": [
    {
     "data": {
      "application/vnd.jupyter.widget-view+json": {
       "model_id": "ccd5598dfa9e4d57a438fc875999f89e",
       "version_major": 2,
       "version_minor": 0
      },
      "text/plain": [
       "Canvas(toolbar=Toolbar(toolitems=[('Home', 'Reset original view', 'home', 'home'), ('Back', 'Back to previous …"
      ]
     },
     "metadata": {},
     "output_type": "display_data"
    }
   ],
   "source": [
    "plt.figure()\n",
    "plt.hist(nyqphase)\n",
    "plt.show()"
   ]
  },
  {
   "cell_type": "code",
   "execution_count": 101,
   "metadata": {},
   "outputs": [
    {
     "data": {
      "text/plain": [
       "array([1900.442374  , 1900.4437629 , 1900.4451518 , ..., 1926.49479665,\n",
       "       1926.49618548, 1926.49757432])"
      ]
     },
     "execution_count": 101,
     "metadata": {},
     "output_type": "execute_result"
    }
   ],
   "source": [
    "lc.time.value"
   ]
  },
  {
   "cell_type": "code",
   "execution_count": 102,
   "metadata": {},
   "outputs": [],
   "source": [
    "import numpy as np\n",
    "y = np.sin(2*np.pi*nyqphase)\n",
    "x = np.cos(2*np.pi*nyqphase)"
   ]
  },
  {
   "cell_type": "code",
   "execution_count": 105,
   "metadata": {},
   "outputs": [
    {
     "name": "stdout",
     "output_type": "stream",
     "text": [
      "nan\n"
     ]
    },
    {
     "name": "stderr",
     "output_type": "stream",
     "text": [
      "/Users/keatonb/anaconda3/lib/python3.7/site-packages/ipykernel_launcher.py:4: RuntimeWarning: invalid value encountered in double_scalars\n",
      "  after removing the cwd from sys.path.\n"
     ]
    },
    {
     "data": {
      "application/vnd.jupyter.widget-view+json": {
       "model_id": "c665b540e66f4563a48f0b322a8efec5",
       "version_major": 2,
       "version_minor": 0
      },
      "text/plain": [
       "Canvas(toolbar=Toolbar(toolitems=[('Home', 'Reset original view', 'home', 'home'), ('Back', 'Back to previous …"
      ]
     },
     "metadata": {},
     "output_type": "display_data"
    }
   ],
   "source": [
    "import matplotlib.pyplot as plt\n",
    "plt.scatter(x,y,s=2)\n",
    "plt.scatter(np.mean(x),np.mean(y))\n",
    "plt.xlim(-1.1,1.1)\n",
    "plt.ylim(-1.1,1.1)\n",
    "plt.show()"
   ]
  },
  {
   "cell_type": "code",
   "execution_count": 115,
   "metadata": {},
   "outputs": [
    {
     "data": {
      "text/plain": [
       "0.9842709516605033"
      ]
     },
     "execution_count": 115,
     "metadata": {},
     "output_type": "execute_result"
    }
   ],
   "source": [
    "nyqqual = np.sqrt(np.mean(x)**2.+np.mean(y)**2.)\n",
    "nyqqual"
   ]
  },
  {
   "cell_type": "code",
   "execution_count": null,
   "metadata": {},
   "outputs": [],
   "source": []
  }
 ],
 "metadata": {
  "kernelspec": {
   "display_name": "Python 3",
   "language": "python",
   "name": "python3"
  },
  "language_info": {
   "codemirror_mode": {
    "name": "ipython",
    "version": 3
   },
   "file_extension": ".py",
   "mimetype": "text/x-python",
   "name": "python",
   "nbconvert_exporter": "python",
   "pygments_lexer": "ipython3",
   "version": "3.7.5"
  }
 },
 "nbformat": 4,
 "nbformat_minor": 2
}
