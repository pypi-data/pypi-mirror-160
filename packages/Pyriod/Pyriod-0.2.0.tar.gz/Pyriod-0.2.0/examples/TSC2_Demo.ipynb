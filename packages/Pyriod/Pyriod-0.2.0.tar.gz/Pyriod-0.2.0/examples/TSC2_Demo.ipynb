{
 "cells": [
  {
   "cell_type": "markdown",
   "id": "5b6f0aae",
   "metadata": {},
   "source": [
    "## Pyriod Tutorial: Python Tools for Pre-Whitening Frequency Analysis\n",
    "\n",
    "This interactive demo shows how to use the new Python package Pyriod to analyze TESS light curves.\n",
    "\n",
    "Run the code in each sequential cell by holding `shift` and hitting `return`.\n",
    "\n",
    "Note that this notebook will shut down after 10 minutes of inactivity.  [Click here](https://dirac.us/oil) to launch a fresh notebook.\n",
    "\n",
    "You can install this package on your own machine with `pip install Pyriod`. Make sure to enable the following Jupyter extensions in the terminal on your own machine (before you start your Jupyter Notebook server!):\n",
    "```\n",
    "jupyter nbextension enable --py --sys-prefix qgrid\n",
    "jupyter nbextension enable --py --sys-prefix widgetsnbextension\n",
    "jupyter nbextension enable --py --sys-prefix ipympl\n",
    "```"
   ]
  },
  {
   "cell_type": "code",
   "execution_count": 1,
   "id": "7818b5b7",
   "metadata": {},
   "outputs": [],
   "source": [
    "%matplotlib widget\n",
    "import lightkurve as lk\n",
    "from Pyriod import Pyriod"
   ]
  },
  {
   "cell_type": "markdown",
   "id": "85be70f8",
   "metadata": {},
   "source": [
    "Use the cell below to search for your favorite TESS light curve to analyze, using [lightkurve](http://lightkurve.org/).\n",
    "\n",
    "If you don't already have a favorite TESS light curve, here are some interesting suggestions:\n",
    " - TIC 257459955 = pulsating helium-atmpshere white dwarf star ([Bell et al. 2019, A&A, 632, 42](https://ui.adsabs.harvard.edu/abs/2019A%26A...632A..42B/abstract))\n",
    " - TIC 229059574  = $\\lambda$ Boo pulsator ([Antoci et al. 2019, MNRAS, 490, 4040](https://ui.adsabs.harvard.edu/abs/2019MNRAS.490.4040A/abstract))\n",
    " - TIC 43363194 = delta Scuti pulsator (HD 3622; [Bedding et al. 2020, Nature, 581, 147](https://ui.adsabs.harvard.edu/abs/2020Natur.581..147B/abstract))\n",
    " - TIC 355151781 = tidally trapped delta Scuti pulsations and ellipsoidal variations ([Handler et al. 2020, Nature Astronomy, 4, 684](https://ui.adsabs.harvard.edu/abs/2020NatAs...4..684H/abstract))\n",
    " - TIC 168789840 = sextuplely eclipsing binary ([Powell et al. 2021, AJ, 161, 162](https://ui.adsabs.harvard.edu/abs/2021AJ....161..162P/abstract))\n",
    " \n",
    "If you have another favorite target that Pyriod performs well on, let Keaton know and he'll add them to the list."
   ]
  },
  {
   "cell_type": "code",
   "execution_count": 2,
   "id": "1b807d56",
   "metadata": {},
   "outputs": [
    {
     "data": {
      "text/html": [
       "SearchResult containing 2 data products.\n",
       "\n",
       "<table id=\"table5700500944\">\n",
       "<thead><tr><th>#</th><th>mission</th><th>year</th><th>author</th><th>exptime</th><th>target_name</th><th>distance</th></tr></thead>\n",
       "<thead><tr><th></th><th></th><th></th><th></th><th>s</th><th></th><th>arcsec</th></tr></thead>\n",
       "<tr><td>0</td><td>TESS Sector 25</td><td>2020</td><td><a href='https://heasarc.gsfc.nasa.gov/docs/tess/pipeline.html'>SPOC</a></td><td>120</td><td>219074038</td><td>0.0</td></tr>\n",
       "<tr><td>1</td><td>TESS Sector 25</td><td>2020</td><td><a href='https://archive.stsci.edu/hlsp/tess-spoc'>TESS-SPOC</a></td><td>1800</td><td>219074038</td><td>0.0</td></tr>\n",
       "</table>"
      ],
      "text/plain": [
       "SearchResult containing 2 data products.\n",
       "\n",
       " #     mission     year   author  exptime target_name distance\n",
       "                                     s                 arcsec \n",
       "--- -------------- ---- --------- ------- ----------- --------\n",
       "  0 TESS Sector 25 2020      SPOC     120   219074038      0.0\n",
       "  1 TESS Sector 25 2020 TESS-SPOC    1800   219074038      0.0"
      ]
     },
     "execution_count": 2,
     "metadata": {},
     "output_type": "execute_result"
    }
   ],
   "source": [
    "targetname = 'TIC 257459955'\n",
    "targetname = 'TIC 219074038'\n",
    "\n",
    "searchresults = lk.search_lightcurve(targetname,mission='TESS')\n",
    "searchresults"
   ]
  },
  {
   "cell_type": "markdown",
   "id": "947974f9",
   "metadata": {},
   "source": [
    "Choose the light curve product you'd like to analyze by number.\n",
    "\n",
    "We'll download the light curve and do some mimimal processing (outlier rejection and detrending)."
   ]
  },
  {
   "cell_type": "code",
   "execution_count": 14,
   "id": "44cdf192",
   "metadata": {},
   "outputs": [
    {
     "name": "stderr",
     "output_type": "stream",
     "text": [
      "WARNING: dropping mask in Quantity column 'flux': masked Quantity not supported [astropy.table.table]\n",
      "WARNING: dropping mask in Quantity column 'flux_err': masked Quantity not supported [astropy.table.table]\n",
      "WARNING: dropping mask in Quantity column 'centroid_col': masked Quantity not supported [astropy.table.table]\n",
      "WARNING: dropping mask in Quantity column 'centroid_row': masked Quantity not supported [astropy.table.table]\n",
      "WARNING: dropping mask in Quantity column 'sap_flux': masked Quantity not supported [astropy.table.table]\n",
      "WARNING: dropping mask in Quantity column 'sap_flux_err': masked Quantity not supported [astropy.table.table]\n",
      "WARNING: dropping mask in Quantity column 'sap_bkg': masked Quantity not supported [astropy.table.table]\n",
      "WARNING: dropping mask in Quantity column 'sap_bkg_err': masked Quantity not supported [astropy.table.table]\n",
      "WARNING: dropping mask in Quantity column 'pdcsap_flux': masked Quantity not supported [astropy.table.table]\n",
      "WARNING: dropping mask in Quantity column 'pdcsap_flux_err': masked Quantity not supported [astropy.table.table]\n",
      "WARNING: dropping mask in Quantity column 'psf_centr1': masked Quantity not supported [astropy.table.table]\n",
      "WARNING: dropping mask in Quantity column 'psf_centr1_err': masked Quantity not supported [astropy.table.table]\n",
      "WARNING: dropping mask in Quantity column 'psf_centr2': masked Quantity not supported [astropy.table.table]\n",
      "WARNING: dropping mask in Quantity column 'psf_centr2_err': masked Quantity not supported [astropy.table.table]\n",
      "WARNING: dropping mask in Quantity column 'mom_centr1': masked Quantity not supported [astropy.table.table]\n",
      "WARNING: dropping mask in Quantity column 'mom_centr1_err': masked Quantity not supported [astropy.table.table]\n",
      "WARNING: dropping mask in Quantity column 'mom_centr2': masked Quantity not supported [astropy.table.table]\n",
      "WARNING: dropping mask in Quantity column 'mom_centr2_err': masked Quantity not supported [astropy.table.table]\n",
      "WARNING: dropping mask in Quantity column 'pos_corr1': masked Quantity not supported [astropy.table.table]\n",
      "WARNING: dropping mask in Quantity column 'pos_corr2': masked Quantity not supported [astropy.table.table]\n"
     ]
    }
   ],
   "source": [
    "downloadnum = 0 # Change this to download a different search result\n",
    "\n",
    "# Download and remove nans (required)\n",
    "lc = searchresults[downloadnum].download().remove_nans()\n",
    "\n",
    "# Remove outliers\n",
    "lc = lc.remove_outliers(sigma = 7)\n",
    "\n",
    "# Normalize\n",
    "lc = lc.normalize()\n",
    "\n",
    "#Detrend\n",
    "lc = lc.flatten(window_length = 1001)"
   ]
  },
  {
   "cell_type": "code",
   "execution_count": 15,
   "id": "4c07b8eb",
   "metadata": {},
   "outputs": [
    {
     "data": {
      "application/vnd.jupyter.widget-view+json": {
       "model_id": "ce880bdf34bd445886301256a08bdef9",
       "version_major": 2,
       "version_minor": 0
      },
      "text/plain": [
       "Canvas(toolbar=Toolbar(toolitems=[('Home', 'Reset original view', 'home', 'home'), ('Back', 'Back to previous …"
      ]
     },
     "metadata": {},
     "output_type": "display_data"
    }
   ],
   "source": [
    "import matplotlib.pyplot as plt\n",
    "plt.scatter(lc.time.value,lc.flux.value,s=1)\n",
    "plt.show()"
   ]
  },
  {
   "cell_type": "markdown",
   "id": "d0c7d399",
   "metadata": {},
   "source": [
    "Now pass the light curve data to Pyriod to begin you interactive frequency analysis."
   ]
  },
  {
   "cell_type": "code",
   "execution_count": 16,
   "id": "36e29909",
   "metadata": {},
   "outputs": [
    {
     "name": "stderr",
     "output_type": "stream",
     "text": [
      "/Users/keatonb/anaconda3/lib/python3.7/site-packages/astropy/units/quantity.py:486: RuntimeWarning: invalid value encountered in sqrt\n",
      "  result = super().__array_ufunc__(function, method, *arrays, **kwargs)\n"
     ]
    }
   ],
   "source": [
    "# Send the light curve to Pyriod for analysis\n",
    "pyriod = Pyriod(lc, amp_unit='ppt', freq_unit='muHz')"
   ]
  },
  {
   "cell_type": "markdown",
   "id": "58afdbdc",
   "metadata": {},
   "source": [
    "Pyriod has four interactive cell types: TimeSeries, Periodogram, Signals, and Log.\n",
    "\n",
    "Let's display these in the next four cells. Information about how to interact with each can be displayed by clicking the \"info\" bar."
   ]
  },
  {
   "cell_type": "code",
   "execution_count": 17,
   "id": "36508b2f",
   "metadata": {},
   "outputs": [
    {
     "data": {
      "application/vnd.jupyter.widget-view+json": {
       "model_id": "ca32015023a948b2aef29515213bb520",
       "version_major": 2,
       "version_minor": 0
      },
      "text/plain": [
       "VBox(children=(HTML(value=''), Canvas(toolbar=Toolbar(toolitems=[('Home', 'Reset original view', 'home', 'home…"
      ]
     },
     "metadata": {},
     "output_type": "display_data"
    }
   ],
   "source": [
    "#Display TimeSeries widget\n",
    "pyriod.TimeSeries()"
   ]
  },
  {
   "cell_type": "code",
   "execution_count": 18,
   "id": "82f9e1ac",
   "metadata": {},
   "outputs": [
    {
     "data": {
      "application/vnd.jupyter.widget-view+json": {
       "model_id": "c13a7ac225fd438b8fd8a18ac3ef1bc1",
       "version_major": 2,
       "version_minor": 0
      },
      "text/plain": [
       "VBox(children=(HTML(value=''), HBox(children=(Text(value='1421.0520857398046', description='Frequency:', place…"
      ]
     },
     "metadata": {},
     "output_type": "display_data"
    }
   ],
   "source": [
    "#Display Periodogram widget\n",
    "pyriod.Periodogram()"
   ]
  },
  {
   "cell_type": "code",
   "execution_count": 19,
   "id": "0b1781a4",
   "metadata": {},
   "outputs": [
    {
     "data": {
      "application/vnd.jupyter.widget-view+json": {
       "model_id": "184c11be00704330ae79845344801324",
       "version_major": 2,
       "version_minor": 0
      },
      "text/plain": [
       "VBox(children=(HTML(value=''), HBox(children=(Button(description='Refine fit', icon='refresh', style=ButtonSty…"
      ]
     },
     "metadata": {},
     "output_type": "display_data"
    }
   ],
   "source": [
    "#Display Signals widget\n",
    "pyriod.Signals()"
   ]
  },
  {
   "cell_type": "code",
   "execution_count": 20,
   "id": "952aa604",
   "metadata": {},
   "outputs": [
    {
     "data": {
      "application/vnd.jupyter.widget-view+json": {
       "model_id": "51750a31c4444d4bb8d4f6d799338c29",
       "version_major": 2,
       "version_minor": 0
      },
      "text/plain": [
       "VBox(children=(Box(children=(HTML(value=\"2021-08-10 13:58:44,086 - INFO - Initiating Pyriod instance 0.<br>\\n2…"
      ]
     },
     "metadata": {},
     "output_type": "display_data"
    }
   ],
   "source": [
    "#Display Log widget\n",
    "pyriod.Log()"
   ]
  },
  {
   "cell_type": "markdown",
   "id": "c88c0f99",
   "metadata": {},
   "source": [
    "You can interact with the cells above in any order, and each cell will update based on interactions with the others. \n",
    "\n",
    "Here are some things to try:\n",
    " - Is there bad data in your light curve? Without the zoom or pan tools selected, you can click and drag your curser around bad points and remove from the analysis by clicking delete/backspace.\n",
    " - If there are periodogram signals that are sums, differences, or harmonics (e.g., many harmonics of orbital frequency for eclipsing binaries), add them to the frequency list as expressions such as \"f0 + f1\" or \"2 * f0\" to enforce these relationships.\n",
    " - Try folding the light curve on frequencies in your signals solution (expand the options tab in the TimeSeries cell), especially any fundamental frequencies of sets of harmonics.\n",
    " - Try to fit every signal in a pulsating star! Note that only signals that are coherent throughout the observations will prewhiten fully, leaving you with a flat noise background.\n",
    " \n",
    "You can also display all widgets in different tabs of the same cell as follows, if you prefer."
   ]
  },
  {
   "cell_type": "code",
   "execution_count": null,
   "id": "b2d78128",
   "metadata": {},
   "outputs": [],
   "source": [
    "pyriod.Pyriod()"
   ]
  },
  {
   "cell_type": "markdown",
   "id": "99f168bc",
   "metadata": {},
   "source": [
    "If you experience any issues or have comments or questions, you can email me at keatonb@uw.edu, open an issue [on Github](https://github.com/keatonb/Pyriod/issues), Tweet to [@astrokeat](https://www.twitter.com/astrokeat), or connect with me at the conference!"
   ]
  }
 ],
 "metadata": {
  "kernelspec": {
   "display_name": "Python 3",
   "language": "python",
   "name": "python3"
  },
  "language_info": {
   "codemirror_mode": {
    "name": "ipython",
    "version": 3
   },
   "file_extension": ".py",
   "mimetype": "text/x-python",
   "name": "python",
   "nbconvert_exporter": "python",
   "pygments_lexer": "ipython3",
   "version": "3.7.5"
  }
 },
 "nbformat": 4,
 "nbformat_minor": 5
}
