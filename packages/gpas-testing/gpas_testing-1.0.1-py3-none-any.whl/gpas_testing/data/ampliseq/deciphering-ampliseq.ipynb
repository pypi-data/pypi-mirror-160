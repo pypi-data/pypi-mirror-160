{
 "cells": [
  {
   "cell_type": "code",
   "execution_count": 1,
   "id": "7260c00f-ac4e-4995-8819-2fcec9c3281b",
   "metadata": {},
   "outputs": [],
   "source": [
    "import pandas, gumpy"
   ]
  },
  {
   "cell_type": "markdown",
   "id": "26c18028-d9dc-4586-b30d-ab39f968cffa",
   "metadata": {},
   "source": [
    "# Deciphering the Illumina Ampliseq manifest\n",
    "\n",
    "This has two key blocks `targets` and `probes`. The latter has the primer sequences -- let's look at that first (I've split the `manifest` file into these blocks)"
   ]
  },
  {
   "cell_type": "code",
   "execution_count": 2,
   "id": "6dc5e27a-b708-46e5-9b83-1c3fec30c69b",
   "metadata": {},
   "outputs": [
    {
     "data": {
      "text/html": [
       "<div>\n",
       "<style scoped>\n",
       "    .dataframe tbody tr th:only-of-type {\n",
       "        vertical-align: middle;\n",
       "    }\n",
       "\n",
       "    .dataframe tbody tr th {\n",
       "        vertical-align: top;\n",
       "    }\n",
       "\n",
       "    .dataframe thead th {\n",
       "        text-align: right;\n",
       "    }\n",
       "</style>\n",
       "<table border=\"1\" class=\"dataframe\">\n",
       "  <thead>\n",
       "    <tr style=\"text-align: right;\">\n",
       "      <th></th>\n",
       "      <th>Target ID</th>\n",
       "      <th>ULSO Sequence</th>\n",
       "      <th>DLSO Sequence</th>\n",
       "    </tr>\n",
       "  </thead>\n",
       "  <tbody>\n",
       "    <tr>\n",
       "      <th>0</th>\n",
       "      <td>r1_1.1.363702</td>\n",
       "      <td>GTCACACCCGGACGAAACCTAGATG</td>\n",
       "      <td>AAGTTGGTTGGTTTGTTACCTGGGA</td>\n",
       "    </tr>\n",
       "    <tr>\n",
       "      <th>1</th>\n",
       "      <td>r1_1.1.80142</td>\n",
       "      <td>TGTTTTCTCGTTGAAACCAGGGACA</td>\n",
       "      <td>AAGAGATCGAAAGTTGGTTGGTTTG</td>\n",
       "    </tr>\n",
       "    <tr>\n",
       "      <th>2</th>\n",
       "      <td>r1_1.1.876634</td>\n",
       "      <td>ATGAGGTGCAGTTCGAGCATCCGAA</td>\n",
       "      <td>TTCGGTCACACCCGGACGAAACCTA</td>\n",
       "    </tr>\n",
       "  </tbody>\n",
       "</table>\n",
       "</div>"
      ],
      "text/plain": [
       "       Target ID              ULSO Sequence              DLSO Sequence\n",
       "0  r1_1.1.363702  GTCACACCCGGACGAAACCTAGATG  AAGTTGGTTGGTTTGTTACCTGGGA\n",
       "1   r1_1.1.80142  TGTTTTCTCGTTGAAACCAGGGACA  AAGAGATCGAAAGTTGGTTGGTTTG\n",
       "2  r1_1.1.876634  ATGAGGTGCAGTTCGAGCATCCGAA  TTCGGTCACACCCGGACGAAACCTA"
      ]
     },
     "execution_count": 2,
     "metadata": {},
     "output_type": "execute_result"
    }
   ],
   "source": [
    "probes = pandas.read_csv('SARS-CoV-2.dna_manifest.20200408.probes.txt', sep='\\t')\n",
    "probes[:3]"
   ]
  },
  {
   "cell_type": "markdown",
   "id": "3c345953-1d97-480c-8ffa-87c0e59ad97c",
   "metadata": {},
   "source": [
    "Since there is no length of the primers recorded anywhere, let's see how long all these primers are"
   ]
  },
  {
   "cell_type": "code",
   "execution_count": 3,
   "id": "8cdd49b3-7f66-40ea-93b8-8b950e35b21d",
   "metadata": {},
   "outputs": [
    {
     "data": {
      "text/html": [
       "<div>\n",
       "<style scoped>\n",
       "    .dataframe tbody tr th:only-of-type {\n",
       "        vertical-align: middle;\n",
       "    }\n",
       "\n",
       "    .dataframe tbody tr th {\n",
       "        vertical-align: top;\n",
       "    }\n",
       "\n",
       "    .dataframe thead th {\n",
       "        text-align: right;\n",
       "    }\n",
       "</style>\n",
       "<table border=\"1\" class=\"dataframe\">\n",
       "  <thead>\n",
       "    <tr style=\"text-align: right;\">\n",
       "      <th></th>\n",
       "      <th>Target ID</th>\n",
       "      <th>ULSO Sequence</th>\n",
       "      <th>DLSO Sequence</th>\n",
       "      <th>left</th>\n",
       "      <th>right</th>\n",
       "    </tr>\n",
       "  </thead>\n",
       "  <tbody>\n",
       "    <tr>\n",
       "      <th>0</th>\n",
       "      <td>r1_1.1.363702</td>\n",
       "      <td>GTCACACCCGGACGAAACCTAGATG</td>\n",
       "      <td>AAGTTGGTTGGTTTGTTACCTGGGA</td>\n",
       "      <td>25</td>\n",
       "      <td>25</td>\n",
       "    </tr>\n",
       "    <tr>\n",
       "      <th>1</th>\n",
       "      <td>r1_1.1.80142</td>\n",
       "      <td>TGTTTTCTCGTTGAAACCAGGGACA</td>\n",
       "      <td>AAGAGATCGAAAGTTGGTTGGTTTG</td>\n",
       "      <td>25</td>\n",
       "      <td>25</td>\n",
       "    </tr>\n",
       "    <tr>\n",
       "      <th>2</th>\n",
       "      <td>r1_1.1.876634</td>\n",
       "      <td>ATGAGGTGCAGTTCGAGCATCCGAA</td>\n",
       "      <td>TTCGGTCACACCCGGACGAAACCTA</td>\n",
       "      <td>25</td>\n",
       "      <td>25</td>\n",
       "    </tr>\n",
       "  </tbody>\n",
       "</table>\n",
       "</div>"
      ],
      "text/plain": [
       "       Target ID              ULSO Sequence              DLSO Sequence  left  \\\n",
       "0  r1_1.1.363702  GTCACACCCGGACGAAACCTAGATG  AAGTTGGTTGGTTTGTTACCTGGGA    25   \n",
       "1   r1_1.1.80142  TGTTTTCTCGTTGAAACCAGGGACA  AAGAGATCGAAAGTTGGTTGGTTTG    25   \n",
       "2  r1_1.1.876634  ATGAGGTGCAGTTCGAGCATCCGAA  TTCGGTCACACCCGGACGAAACCTA    25   \n",
       "\n",
       "   right  \n",
       "0     25  \n",
       "1     25  \n",
       "2     25  "
      ]
     },
     "execution_count": 3,
     "metadata": {},
     "output_type": "execute_result"
    }
   ],
   "source": [
    "def length_sequences(row):\n",
    "    return(pandas.Series([len(row['ULSO Sequence']), len(row['DLSO Sequence'])]))\n",
    "\n",
    "probes[['left', 'right']] = probes.apply(length_sequences, axis=1)\n",
    "\n",
    "probes[:3]"
   ]
  },
  {
   "cell_type": "code",
   "execution_count": 4,
   "id": "4872b024-4baa-4e35-8a4b-bb92715a82ed",
   "metadata": {},
   "outputs": [
    {
     "data": {
      "text/plain": [
       "25    242\n",
       "Name: left, dtype: int64"
      ]
     },
     "execution_count": 4,
     "metadata": {},
     "output_type": "execute_result"
    }
   ],
   "source": [
    "probes.left.value_counts(dropna=False)"
   ]
  },
  {
   "cell_type": "code",
   "execution_count": 5,
   "id": "b9b13609-6aa4-4838-81c7-6f3376e95955",
   "metadata": {},
   "outputs": [
    {
     "data": {
      "text/plain": [
       "25    242\n",
       "Name: right, dtype: int64"
      ]
     },
     "execution_count": 5,
     "metadata": {},
     "output_type": "execute_result"
    }
   ],
   "source": [
    "probes.right.value_counts(dropna=False)"
   ]
  },
  {
   "cell_type": "markdown",
   "id": "1c9b0b08-db03-43bc-8fc1-6a9b7bdca70d",
   "metadata": {},
   "source": [
    "Turns out they are ALL 25 bases long which makes life easier."
   ]
  },
  {
   "cell_type": "markdown",
   "id": "1038e051-3fe8-4320-8f1b-8069d7ceea91",
   "metadata": {},
   "source": [
    "Now let's turn our attention to the `targets` block"
   ]
  },
  {
   "cell_type": "code",
   "execution_count": 6,
   "id": "68cadbe2-de58-4843-b0fd-19a2c11823ff",
   "metadata": {},
   "outputs": [
    {
     "data": {
      "text/html": [
       "<div>\n",
       "<style scoped>\n",
       "    .dataframe tbody tr th:only-of-type {\n",
       "        vertical-align: middle;\n",
       "    }\n",
       "\n",
       "    .dataframe tbody tr th {\n",
       "        vertical-align: top;\n",
       "    }\n",
       "\n",
       "    .dataframe thead th {\n",
       "        text-align: right;\n",
       "    }\n",
       "</style>\n",
       "<table border=\"1\" class=\"dataframe\">\n",
       "  <thead>\n",
       "    <tr style=\"text-align: right;\">\n",
       "      <th></th>\n",
       "      <th>TargetA</th>\n",
       "      <th>TargetB</th>\n",
       "      <th>Target Number</th>\n",
       "      <th>Chromosome</th>\n",
       "      <th>Start Position</th>\n",
       "      <th>End Position</th>\n",
       "      <th>Probe Strand</th>\n",
       "      <th>Sequence</th>\n",
       "    </tr>\n",
       "  </thead>\n",
       "  <tbody>\n",
       "    <tr>\n",
       "      <th>0</th>\n",
       "      <td>r1_1.1.363702</td>\n",
       "      <td>r1_1.1.363702</td>\n",
       "      <td>1</td>\n",
       "      <td>MN908947v3</td>\n",
       "      <td>18</td>\n",
       "      <td>254</td>\n",
       "      <td>+</td>\n",
       "      <td>TCGATCTCTTGTAGATCTGTTCTCTAAACGAACTTTAAAATCTGTG...</td>\n",
       "    </tr>\n",
       "    <tr>\n",
       "      <th>1</th>\n",
       "      <td>r1_1.1.80142</td>\n",
       "      <td>r1_1.1.80142</td>\n",
       "      <td>1</td>\n",
       "      <td>MN908947v3</td>\n",
       "      <td>28</td>\n",
       "      <td>301</td>\n",
       "      <td>+</td>\n",
       "      <td>GTAGATCTGTTCTCTAAACGAACTTTAAAATCTGTGTGGCTGTCAC...</td>\n",
       "    </tr>\n",
       "    <tr>\n",
       "      <th>2</th>\n",
       "      <td>r1_1.1.876634</td>\n",
       "      <td>r1_1.1.876634</td>\n",
       "      <td>1</td>\n",
       "      <td>MN908947v3</td>\n",
       "      <td>234</td>\n",
       "      <td>508</td>\n",
       "      <td>+</td>\n",
       "      <td>AGGTAAGATGGAGAGCCTTGTCCCTGGTTTCAACGAGAAAACACAC...</td>\n",
       "    </tr>\n",
       "  </tbody>\n",
       "</table>\n",
       "</div>"
      ],
      "text/plain": [
       "         TargetA        TargetB  Target Number  Chromosome  Start Position  \\\n",
       "0  r1_1.1.363702  r1_1.1.363702              1  MN908947v3              18   \n",
       "1   r1_1.1.80142   r1_1.1.80142              1  MN908947v3              28   \n",
       "2  r1_1.1.876634  r1_1.1.876634              1  MN908947v3             234   \n",
       "\n",
       "   End Position Probe Strand  \\\n",
       "0           254            +   \n",
       "1           301            +   \n",
       "2           508            +   \n",
       "\n",
       "                                            Sequence  \n",
       "0  TCGATCTCTTGTAGATCTGTTCTCTAAACGAACTTTAAAATCTGTG...  \n",
       "1  GTAGATCTGTTCTCTAAACGAACTTTAAAATCTGTGTGGCTGTCAC...  \n",
       "2  AGGTAAGATGGAGAGCCTTGTCCCTGGTTTCAACGAGAAAACACAC...  "
      ]
     },
     "execution_count": 6,
     "metadata": {},
     "output_type": "execute_result"
    }
   ],
   "source": [
    "df = pandas.read_csv('SARS-CoV-2.dna_manifest.20200408.targets.txt', sep='\\t')\n",
    "df[:3]"
   ]
  },
  {
   "cell_type": "markdown",
   "id": "90a76f87-2868-49fa-8f22-556cc81ed7a5",
   "metadata": {},
   "source": [
    "For whatever reason, there are five targets that are NOT SARS-CoV-2, so let's remove them and measure how long the given `Sequence` is"
   ]
  },
  {
   "cell_type": "code",
   "execution_count": 7,
   "id": "09e07e54-dff3-47a3-89fe-452bf211c97b",
   "metadata": {},
   "outputs": [
    {
     "data": {
      "text/plain": [
       "MN908947v3    237\n",
       "NM_000190       1\n",
       "NM_003194       1\n",
       "NM_002467       1\n",
       "NM_000889       1\n",
       "NM_002332       1\n",
       "Name: Chromosome, dtype: int64"
      ]
     },
     "execution_count": 7,
     "metadata": {},
     "output_type": "execute_result"
    }
   ],
   "source": [
    "df.Chromosome.value_counts(dropna=False)"
   ]
  },
  {
   "cell_type": "code",
   "execution_count": 8,
   "id": "c673df81-1fad-4e4a-be80-ef46714a1f99",
   "metadata": {},
   "outputs": [
    {
     "data": {
      "text/html": [
       "<div>\n",
       "<style scoped>\n",
       "    .dataframe tbody tr th:only-of-type {\n",
       "        vertical-align: middle;\n",
       "    }\n",
       "\n",
       "    .dataframe tbody tr th {\n",
       "        vertical-align: top;\n",
       "    }\n",
       "\n",
       "    .dataframe thead th {\n",
       "        text-align: right;\n",
       "    }\n",
       "</style>\n",
       "<table border=\"1\" class=\"dataframe\">\n",
       "  <thead>\n",
       "    <tr style=\"text-align: right;\">\n",
       "      <th></th>\n",
       "      <th>TargetA</th>\n",
       "      <th>TargetB</th>\n",
       "      <th>Target Number</th>\n",
       "      <th>Chromosome</th>\n",
       "      <th>Start Position</th>\n",
       "      <th>End Position</th>\n",
       "      <th>Probe Strand</th>\n",
       "      <th>Sequence</th>\n",
       "      <th>length</th>\n",
       "    </tr>\n",
       "  </thead>\n",
       "  <tbody>\n",
       "    <tr>\n",
       "      <th>0</th>\n",
       "      <td>r1_1.1.363702</td>\n",
       "      <td>r1_1.1.363702</td>\n",
       "      <td>1</td>\n",
       "      <td>MN908947v3</td>\n",
       "      <td>18</td>\n",
       "      <td>254</td>\n",
       "      <td>+</td>\n",
       "      <td>TCGATCTCTTGTAGATCTGTTCTCTAAACGAACTTTAAAATCTGTG...</td>\n",
       "      <td>187</td>\n",
       "    </tr>\n",
       "    <tr>\n",
       "      <th>1</th>\n",
       "      <td>r1_1.1.80142</td>\n",
       "      <td>r1_1.1.80142</td>\n",
       "      <td>1</td>\n",
       "      <td>MN908947v3</td>\n",
       "      <td>28</td>\n",
       "      <td>301</td>\n",
       "      <td>+</td>\n",
       "      <td>GTAGATCTGTTCTCTAAACGAACTTTAAAATCTGTGTGGCTGTCAC...</td>\n",
       "      <td>224</td>\n",
       "    </tr>\n",
       "    <tr>\n",
       "      <th>2</th>\n",
       "      <td>r1_1.1.876634</td>\n",
       "      <td>r1_1.1.876634</td>\n",
       "      <td>1</td>\n",
       "      <td>MN908947v3</td>\n",
       "      <td>234</td>\n",
       "      <td>508</td>\n",
       "      <td>+</td>\n",
       "      <td>AGGTAAGATGGAGAGCCTTGTCCCTGGTTTCAACGAGAAAACACAC...</td>\n",
       "      <td>225</td>\n",
       "    </tr>\n",
       "  </tbody>\n",
       "</table>\n",
       "</div>"
      ],
      "text/plain": [
       "         TargetA        TargetB  Target Number  Chromosome  Start Position  \\\n",
       "0  r1_1.1.363702  r1_1.1.363702              1  MN908947v3              18   \n",
       "1   r1_1.1.80142   r1_1.1.80142              1  MN908947v3              28   \n",
       "2  r1_1.1.876634  r1_1.1.876634              1  MN908947v3             234   \n",
       "\n",
       "   End Position Probe Strand  \\\n",
       "0           254            +   \n",
       "1           301            +   \n",
       "2           508            +   \n",
       "\n",
       "                                            Sequence  length  \n",
       "0  TCGATCTCTTGTAGATCTGTTCTCTAAACGAACTTTAAAATCTGTG...     187  \n",
       "1  GTAGATCTGTTCTCTAAACGAACTTTAAAATCTGTGTGGCTGTCAC...     224  \n",
       "2  AGGTAAGATGGAGAGCCTTGTCCCTGGTTTCAACGAGAAAACACAC...     225  "
      ]
     },
     "execution_count": 8,
     "metadata": {},
     "output_type": "execute_result"
    }
   ],
   "source": [
    "df = df[df.Chromosome == 'MN908947v3']\n",
    "\n",
    "def count_sequence(row):\n",
    "    return(len(row.Sequence))\n",
    "\n",
    "df['length'] = df.apply(count_sequence, axis=1)\n",
    "\n",
    "df[:3]"
   ]
  },
  {
   "cell_type": "markdown",
   "id": "8f07a959-a65e-451b-baad-be07569cf7a8",
   "metadata": {},
   "source": [
    "Now to double check exactly what the `Start Position` and `End Position` are (0/1-based etc), let's extract the sequence from the reference using `gumpy` and compare"
   ]
  },
  {
   "cell_type": "code",
   "execution_count": 10,
   "id": "19c74d59-86ae-411a-b523-657587803bc1",
   "metadata": {},
   "outputs": [
    {
     "data": {
      "text/plain": [
       "MN908947\n",
       "MN908947.3\n",
       "Severe acute respiratory syndrome coronavirus 2 isolate Wuhan-Hu-1, complete genome\n",
       "29903 bases\n",
       "attaaa...aaaaaa\n",
       "metadata for all genes/loci have been included"
      ]
     },
     "execution_count": 10,
     "metadata": {},
     "output_type": "execute_result"
    }
   ],
   "source": [
    "reference = gumpy.Genome('../MN908947.3.gbk')\n",
    "reference"
   ]
  },
  {
   "cell_type": "markdown",
   "id": "930ee103-82af-45d9-8902-4d5109426bae",
   "metadata": {},
   "source": [
    "`gumpy` exposes the sequence and its (1-based) numbering via two `numpy` arrays"
   ]
  },
  {
   "cell_type": "code",
   "execution_count": 11,
   "id": "744d0ad7-0af5-40e7-bc16-50759815d534",
   "metadata": {},
   "outputs": [
    {
     "data": {
      "text/plain": [
       "array(['a', 't', 't', ..., 'a', 'a', 'a'], dtype='<U1')"
      ]
     },
     "execution_count": 11,
     "metadata": {},
     "output_type": "execute_result"
    }
   ],
   "source": [
    "reference.nucleotide_sequence"
   ]
  },
  {
   "cell_type": "code",
   "execution_count": 12,
   "id": "d66f6aae-d45f-4666-ab38-60803820a543",
   "metadata": {},
   "outputs": [
    {
     "data": {
      "text/plain": [
       "array([    1,     2,     3, ..., 29901, 29902, 29903])"
      ]
     },
     "execution_count": 12,
     "metadata": {},
     "output_type": "execute_result"
    }
   ],
   "source": [
    "reference.nucleotide_index"
   ]
  },
  {
   "cell_type": "markdown",
   "id": "ae86f7b8-44fc-41b0-8f26-8b20784a4cd0",
   "metadata": {},
   "source": [
    "Hence, we can extract what we think should be the sequence given the start/end positions and compare to the given sequence"
   ]
  },
  {
   "cell_type": "code",
   "execution_count": 13,
   "id": "26fb59a6-07ee-44ea-8d86-6558a1d662f5",
   "metadata": {},
   "outputs": [
    {
     "data": {
      "text/plain": [
       "0      None\n",
       "1      None\n",
       "2      None\n",
       "3      None\n",
       "4      None\n",
       "       ... \n",
       "237    None\n",
       "238    None\n",
       "239    None\n",
       "240    None\n",
       "241    None\n",
       "Length: 237, dtype: object"
      ]
     },
     "execution_count": 13,
     "metadata": {},
     "output_type": "execute_result"
    }
   ],
   "source": [
    "def check_sequence(row):\n",
    "    \n",
    "    # the primers are all 25 bases long so\n",
    "    start = row['Start Position']+25\n",
    "    end = row['End Position']-25\n",
    "    \n",
    "    mask = (reference.nucleotide_index>=start) & (reference.nucleotide_index<=end)\n",
    "    tmp = reference.nucleotide_sequence[mask]\n",
    "    inferred_sequence = ''.join(i.upper() for i in tmp)\n",
    "    \n",
    "    # insist they are identical\n",
    "    assert row.Sequence == inferred_sequence\n",
    "\n",
    "df.apply(check_sequence, axis=1)"
   ]
  },
  {
   "cell_type": "markdown",
   "id": "a1c79ad2-9b6b-4803-bfac-354f80ecb981",
   "metadata": {},
   "source": [
    "Ok, so that works - `Start Position` and `End Position` are 1-based and inclusive.\n",
    "\n",
    "We know everything we need now to create a `CSV` file in the format to create synthetic reads"
   ]
  },
  {
   "cell_type": "code",
   "execution_count": 14,
   "id": "a9be331e-5219-4d6d-96ce-e6929e0be1d3",
   "metadata": {},
   "outputs": [
    {
     "data": {
      "text/html": [
       "<div>\n",
       "<style scoped>\n",
       "    .dataframe tbody tr th:only-of-type {\n",
       "        vertical-align: middle;\n",
       "    }\n",
       "\n",
       "    .dataframe tbody tr th {\n",
       "        vertical-align: top;\n",
       "    }\n",
       "\n",
       "    .dataframe thead th {\n",
       "        text-align: right;\n",
       "    }\n",
       "</style>\n",
       "<table border=\"1\" class=\"dataframe\">\n",
       "  <thead>\n",
       "    <tr style=\"text-align: right;\">\n",
       "      <th></th>\n",
       "      <th>TargetA</th>\n",
       "      <th>TargetB</th>\n",
       "      <th>Target Number</th>\n",
       "      <th>Chromosome</th>\n",
       "      <th>Start Position</th>\n",
       "      <th>End Position</th>\n",
       "      <th>Probe Strand</th>\n",
       "      <th>Sequence</th>\n",
       "      <th>length</th>\n",
       "      <th>start_left</th>\n",
       "      <th>end_left</th>\n",
       "      <th>start_right</th>\n",
       "      <th>end_right</th>\n",
       "      <th>start</th>\n",
       "      <th>end</th>\n",
       "      <th>start_amplicon</th>\n",
       "      <th>end_amplicon</th>\n",
       "    </tr>\n",
       "  </thead>\n",
       "  <tbody>\n",
       "    <tr>\n",
       "      <th>0</th>\n",
       "      <td>r1_1.1.363702</td>\n",
       "      <td>r1_1.1.363702</td>\n",
       "      <td>1</td>\n",
       "      <td>MN908947v3</td>\n",
       "      <td>18</td>\n",
       "      <td>254</td>\n",
       "      <td>+</td>\n",
       "      <td>TCGATCTCTTGTAGATCTGTTCTCTAAACGAACTTTAAAATCTGTG...</td>\n",
       "      <td>187</td>\n",
       "      <td>18</td>\n",
       "      <td>42</td>\n",
       "      <td>230</td>\n",
       "      <td>254</td>\n",
       "      <td>18</td>\n",
       "      <td>254</td>\n",
       "      <td>43</td>\n",
       "      <td>229</td>\n",
       "    </tr>\n",
       "    <tr>\n",
       "      <th>1</th>\n",
       "      <td>r1_1.1.80142</td>\n",
       "      <td>r1_1.1.80142</td>\n",
       "      <td>1</td>\n",
       "      <td>MN908947v3</td>\n",
       "      <td>28</td>\n",
       "      <td>301</td>\n",
       "      <td>+</td>\n",
       "      <td>GTAGATCTGTTCTCTAAACGAACTTTAAAATCTGTGTGGCTGTCAC...</td>\n",
       "      <td>224</td>\n",
       "      <td>28</td>\n",
       "      <td>52</td>\n",
       "      <td>277</td>\n",
       "      <td>301</td>\n",
       "      <td>28</td>\n",
       "      <td>301</td>\n",
       "      <td>53</td>\n",
       "      <td>276</td>\n",
       "    </tr>\n",
       "    <tr>\n",
       "      <th>2</th>\n",
       "      <td>r1_1.1.876634</td>\n",
       "      <td>r1_1.1.876634</td>\n",
       "      <td>1</td>\n",
       "      <td>MN908947v3</td>\n",
       "      <td>234</td>\n",
       "      <td>508</td>\n",
       "      <td>+</td>\n",
       "      <td>AGGTAAGATGGAGAGCCTTGTCCCTGGTTTCAACGAGAAAACACAC...</td>\n",
       "      <td>225</td>\n",
       "      <td>234</td>\n",
       "      <td>258</td>\n",
       "      <td>484</td>\n",
       "      <td>508</td>\n",
       "      <td>234</td>\n",
       "      <td>508</td>\n",
       "      <td>259</td>\n",
       "      <td>483</td>\n",
       "    </tr>\n",
       "  </tbody>\n",
       "</table>\n",
       "</div>"
      ],
      "text/plain": [
       "         TargetA        TargetB  Target Number  Chromosome  Start Position  \\\n",
       "0  r1_1.1.363702  r1_1.1.363702              1  MN908947v3              18   \n",
       "1   r1_1.1.80142   r1_1.1.80142              1  MN908947v3              28   \n",
       "2  r1_1.1.876634  r1_1.1.876634              1  MN908947v3             234   \n",
       "\n",
       "   End Position Probe Strand  \\\n",
       "0           254            +   \n",
       "1           301            +   \n",
       "2           508            +   \n",
       "\n",
       "                                            Sequence  length  start_left  \\\n",
       "0  TCGATCTCTTGTAGATCTGTTCTCTAAACGAACTTTAAAATCTGTG...     187          18   \n",
       "1  GTAGATCTGTTCTCTAAACGAACTTTAAAATCTGTGTGGCTGTCAC...     224          28   \n",
       "2  AGGTAAGATGGAGAGCCTTGTCCCTGGTTTCAACGAGAAAACACAC...     225         234   \n",
       "\n",
       "   end_left  start_right  end_right  start  end  start_amplicon  end_amplicon  \n",
       "0        42          230        254     18  254              43           229  \n",
       "1        52          277        301     28  301              53           276  \n",
       "2       258          484        508    234  508             259           483  "
      ]
     },
     "execution_count": 14,
     "metadata": {},
     "output_type": "execute_result"
    }
   ],
   "source": [
    "def find_tips(row):\n",
    "\n",
    "    start_left, end_right = row['Start Position'], row['End Position']\n",
    "\n",
    "    end_left = start_left + 25 - 1\n",
    "    start_right = end_right - 25 + 1\n",
    "    \n",
    "    length = end_right - start_left + 1\n",
    "    \n",
    "    start_amplicon = end_left + 1\n",
    "    end_amplicon = start_right - 1\n",
    "    \n",
    "    results = [start_left, end_left, start_right, end_right, start_left, end_right, \n",
    "               start_amplicon, end_amplicon]\n",
    "    \n",
    "    return(pandas.Series(results))\n",
    "    \n",
    "df[['start_left', 'end_left', 'start_right', 'end_right', 'start', 'end', 'start_amplicon', 'end_amplicon']] = df.apply(find_tips, axis=1)\n",
    "\n",
    "df[:3]"
   ]
  },
  {
   "cell_type": "markdown",
   "id": "e10247d8-b677-4c41-bbaf-940b7cf180cc",
   "metadata": {},
   "source": [
    "Let's make up a name for each amplicon to be consistent with ARTIC etc"
   ]
  },
  {
   "cell_type": "code",
   "execution_count": 15,
   "id": "0adf31ba-1683-4bf5-b68c-3f3a51276e94",
   "metadata": {},
   "outputs": [
    {
     "data": {
      "text/html": [
       "<div>\n",
       "<style scoped>\n",
       "    .dataframe tbody tr th:only-of-type {\n",
       "        vertical-align: middle;\n",
       "    }\n",
       "\n",
       "    .dataframe tbody tr th {\n",
       "        vertical-align: top;\n",
       "    }\n",
       "\n",
       "    .dataframe thead th {\n",
       "        text-align: right;\n",
       "    }\n",
       "</style>\n",
       "<table border=\"1\" class=\"dataframe\">\n",
       "  <thead>\n",
       "    <tr style=\"text-align: right;\">\n",
       "      <th></th>\n",
       "      <th>TargetA</th>\n",
       "      <th>TargetB</th>\n",
       "      <th>Target Number</th>\n",
       "      <th>Chromosome</th>\n",
       "      <th>Start Position</th>\n",
       "      <th>End Position</th>\n",
       "      <th>Probe Strand</th>\n",
       "      <th>Sequence</th>\n",
       "      <th>length</th>\n",
       "      <th>start_left</th>\n",
       "      <th>end_left</th>\n",
       "      <th>start_right</th>\n",
       "      <th>end_right</th>\n",
       "      <th>start</th>\n",
       "      <th>end</th>\n",
       "      <th>start_amplicon</th>\n",
       "      <th>end_amplicon</th>\n",
       "      <th>number</th>\n",
       "      <th>name</th>\n",
       "    </tr>\n",
       "  </thead>\n",
       "  <tbody>\n",
       "    <tr>\n",
       "      <th>0</th>\n",
       "      <td>r1_1.1.363702</td>\n",
       "      <td>r1_1.1.363702</td>\n",
       "      <td>1</td>\n",
       "      <td>MN908947v3</td>\n",
       "      <td>18</td>\n",
       "      <td>254</td>\n",
       "      <td>+</td>\n",
       "      <td>TCGATCTCTTGTAGATCTGTTCTCTAAACGAACTTTAAAATCTGTG...</td>\n",
       "      <td>187</td>\n",
       "      <td>18</td>\n",
       "      <td>42</td>\n",
       "      <td>230</td>\n",
       "      <td>254</td>\n",
       "      <td>18</td>\n",
       "      <td>254</td>\n",
       "      <td>43</td>\n",
       "      <td>229</td>\n",
       "      <td>1</td>\n",
       "      <td>SARS-CoV-2_1</td>\n",
       "    </tr>\n",
       "    <tr>\n",
       "      <th>1</th>\n",
       "      <td>r1_1.1.80142</td>\n",
       "      <td>r1_1.1.80142</td>\n",
       "      <td>1</td>\n",
       "      <td>MN908947v3</td>\n",
       "      <td>28</td>\n",
       "      <td>301</td>\n",
       "      <td>+</td>\n",
       "      <td>GTAGATCTGTTCTCTAAACGAACTTTAAAATCTGTGTGGCTGTCAC...</td>\n",
       "      <td>224</td>\n",
       "      <td>28</td>\n",
       "      <td>52</td>\n",
       "      <td>277</td>\n",
       "      <td>301</td>\n",
       "      <td>28</td>\n",
       "      <td>301</td>\n",
       "      <td>53</td>\n",
       "      <td>276</td>\n",
       "      <td>2</td>\n",
       "      <td>SARS-CoV-2_2</td>\n",
       "    </tr>\n",
       "    <tr>\n",
       "      <th>2</th>\n",
       "      <td>r1_1.1.876634</td>\n",
       "      <td>r1_1.1.876634</td>\n",
       "      <td>1</td>\n",
       "      <td>MN908947v3</td>\n",
       "      <td>234</td>\n",
       "      <td>508</td>\n",
       "      <td>+</td>\n",
       "      <td>AGGTAAGATGGAGAGCCTTGTCCCTGGTTTCAACGAGAAAACACAC...</td>\n",
       "      <td>225</td>\n",
       "      <td>234</td>\n",
       "      <td>258</td>\n",
       "      <td>484</td>\n",
       "      <td>508</td>\n",
       "      <td>234</td>\n",
       "      <td>508</td>\n",
       "      <td>259</td>\n",
       "      <td>483</td>\n",
       "      <td>3</td>\n",
       "      <td>SARS-CoV-2_3</td>\n",
       "    </tr>\n",
       "  </tbody>\n",
       "</table>\n",
       "</div>"
      ],
      "text/plain": [
       "         TargetA        TargetB  Target Number  Chromosome  Start Position  \\\n",
       "0  r1_1.1.363702  r1_1.1.363702              1  MN908947v3              18   \n",
       "1   r1_1.1.80142   r1_1.1.80142              1  MN908947v3              28   \n",
       "2  r1_1.1.876634  r1_1.1.876634              1  MN908947v3             234   \n",
       "\n",
       "   End Position Probe Strand  \\\n",
       "0           254            +   \n",
       "1           301            +   \n",
       "2           508            +   \n",
       "\n",
       "                                            Sequence  length  start_left  \\\n",
       "0  TCGATCTCTTGTAGATCTGTTCTCTAAACGAACTTTAAAATCTGTG...     187          18   \n",
       "1  GTAGATCTGTTCTCTAAACGAACTTTAAAATCTGTGTGGCTGTCAC...     224          28   \n",
       "2  AGGTAAGATGGAGAGCCTTGTCCCTGGTTTCAACGAGAAAACACAC...     225         234   \n",
       "\n",
       "   end_left  start_right  end_right  start  end  start_amplicon  end_amplicon  \\\n",
       "0        42          230        254     18  254              43           229   \n",
       "1        52          277        301     28  301              53           276   \n",
       "2       258          484        508    234  508             259           483   \n",
       "\n",
       "   number          name  \n",
       "0       1  SARS-CoV-2_1  \n",
       "1       2  SARS-CoV-2_2  \n",
       "2       3  SARS-CoV-2_3  "
      ]
     },
     "execution_count": 15,
     "metadata": {},
     "output_type": "execute_result"
    }
   ],
   "source": [
    "def define_name(row):\n",
    "    return ('SARS-CoV-2_' + str(row.number))\n",
    "\n",
    "df['number'] = df.index + 1\n",
    "\n",
    "df['name'] = df.apply(define_name, axis=1)\n",
    "\n",
    "df[:3]"
   ]
  },
  {
   "cell_type": "markdown",
   "id": "7211f7c2-1721-4da7-81db-54e3180b1c5c",
   "metadata": {},
   "source": [
    "Let's subset down to the columns used for the other schemes"
   ]
  },
  {
   "cell_type": "code",
   "execution_count": 16,
   "id": "6f14d798-51fa-4e02-90f0-774f5e352e2c",
   "metadata": {},
   "outputs": [
    {
     "data": {
      "text/html": [
       "<div>\n",
       "<style scoped>\n",
       "    .dataframe tbody tr th:only-of-type {\n",
       "        vertical-align: middle;\n",
       "    }\n",
       "\n",
       "    .dataframe tbody tr th {\n",
       "        vertical-align: top;\n",
       "    }\n",
       "\n",
       "    .dataframe thead th {\n",
       "        text-align: right;\n",
       "    }\n",
       "</style>\n",
       "<table border=\"1\" class=\"dataframe\">\n",
       "  <thead>\n",
       "    <tr style=\"text-align: right;\">\n",
       "      <th></th>\n",
       "      <th>name</th>\n",
       "      <th>number</th>\n",
       "      <th>start_left</th>\n",
       "      <th>end_left</th>\n",
       "      <th>start_right</th>\n",
       "      <th>end_right</th>\n",
       "      <th>start</th>\n",
       "      <th>end</th>\n",
       "      <th>start_amplicon</th>\n",
       "      <th>end_amplicon</th>\n",
       "    </tr>\n",
       "  </thead>\n",
       "  <tbody>\n",
       "    <tr>\n",
       "      <th>0</th>\n",
       "      <td>SARS-CoV-2_1</td>\n",
       "      <td>1</td>\n",
       "      <td>18</td>\n",
       "      <td>42</td>\n",
       "      <td>230</td>\n",
       "      <td>254</td>\n",
       "      <td>18</td>\n",
       "      <td>254</td>\n",
       "      <td>43</td>\n",
       "      <td>229</td>\n",
       "    </tr>\n",
       "    <tr>\n",
       "      <th>1</th>\n",
       "      <td>SARS-CoV-2_2</td>\n",
       "      <td>2</td>\n",
       "      <td>28</td>\n",
       "      <td>52</td>\n",
       "      <td>277</td>\n",
       "      <td>301</td>\n",
       "      <td>28</td>\n",
       "      <td>301</td>\n",
       "      <td>53</td>\n",
       "      <td>276</td>\n",
       "    </tr>\n",
       "    <tr>\n",
       "      <th>2</th>\n",
       "      <td>SARS-CoV-2_3</td>\n",
       "      <td>3</td>\n",
       "      <td>234</td>\n",
       "      <td>258</td>\n",
       "      <td>484</td>\n",
       "      <td>508</td>\n",
       "      <td>234</td>\n",
       "      <td>508</td>\n",
       "      <td>259</td>\n",
       "      <td>483</td>\n",
       "    </tr>\n",
       "  </tbody>\n",
       "</table>\n",
       "</div>"
      ],
      "text/plain": [
       "           name  number  start_left  end_left  start_right  end_right  start  \\\n",
       "0  SARS-CoV-2_1       1          18        42          230        254     18   \n",
       "1  SARS-CoV-2_2       2          28        52          277        301     28   \n",
       "2  SARS-CoV-2_3       3         234       258          484        508    234   \n",
       "\n",
       "   end  start_amplicon  end_amplicon  \n",
       "0  254              43           229  \n",
       "1  301              53           276  \n",
       "2  508             259           483  "
      ]
     },
     "execution_count": 16,
     "metadata": {},
     "output_type": "execute_result"
    }
   ],
   "source": [
    "df = df[['name', 'number', 'start_left', 'end_left', 'start_right', 'end_right',\n",
    "  'start', 'end', 'start_amplicon', 'end_amplicon']]\n",
    "\n",
    "df[:3]"
   ]
  },
  {
   "cell_type": "markdown",
   "id": "463b3105-3e8f-4c35-bcc0-622401d4b50b",
   "metadata": {},
   "source": [
    "AFAIK, there is only a single version but let's add a version number just in case"
   ]
  },
  {
   "cell_type": "code",
   "execution_count": 17,
   "id": "cc750fe2-73d4-4102-b68d-69b451af9983",
   "metadata": {},
   "outputs": [],
   "source": [
    "df.to_csv('../covid-ampliseq-v1.amplicons.csv')"
   ]
  }
 ],
 "metadata": {
  "kernelspec": {
   "display_name": "Python 3 (ipykernel)",
   "language": "python",
   "name": "python3"
  },
  "language_info": {
   "codemirror_mode": {
    "name": "ipython",
    "version": 3
   },
   "file_extension": ".py",
   "mimetype": "text/x-python",
   "name": "python",
   "nbconvert_exporter": "python",
   "pygments_lexer": "ipython3",
   "version": "3.9.9"
  }
 },
 "nbformat": 4,
 "nbformat_minor": 5
}
