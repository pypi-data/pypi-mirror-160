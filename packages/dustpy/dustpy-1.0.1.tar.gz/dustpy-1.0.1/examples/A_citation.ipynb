{
 "cells": [
  {
   "cell_type": "markdown",
   "id": "800ecc59-bfcd-4c18-ba22-a89301f89272",
   "metadata": {},
   "source": [
    "# Appendix A: Citation"
   ]
  },
  {
   "cell_type": "markdown",
   "id": "e6662dcd-e91a-46b6-aff2-fc5b55a38247",
   "metadata": {},
   "source": [
    "If you use `DustPy`, please cite [Stammler & Birnstiel (2022)](https://arxiv.org/abs/2207.00322).\n",
    "\n",
    "```\n",
    "@ARTICLE{2022arXiv220700322S,\n",
    "       author = {{Stammler}, Sebastian Markus and {Birnstiel}, Tilman},\n",
    "        title = \"{DustPy -- A Python Package for Dust Evolution in Protoplanetary Disks}\",\n",
    "      journal = {arXiv e-prints},\n",
    "     keywords = {Astrophysics - Earth and Planetary Astrophysics, Astrophysics - Instrumentation and Methods for Astrophysics},\n",
    "         year = 2022,\n",
    "        month = jul,\n",
    "          eid = {arXiv:2207.00322},\n",
    "        pages = {arXiv:2207.00322},\n",
    "archivePrefix = {arXiv},\n",
    "       eprint = {2207.00322},\n",
    " primaryClass = {astro-ph.EP},\n",
    "       adsurl = {https://ui.adsabs.harvard.edu/abs/2022arXiv220700322S},\n",
    "      adsnote = {Provided by the SAO/NASA Astrophysics Data System}\n",
    "}\n",
    "```"
   ]
  }
 ],
 "metadata": {
  "kernelspec": {
   "display_name": "Python 3 (ipykernel)",
   "language": "python",
   "name": "python3"
  },
  "language_info": {
   "codemirror_mode": {
    "name": "ipython",
    "version": 3
   },
   "file_extension": ".py",
   "mimetype": "text/x-python",
   "name": "python",
   "nbconvert_exporter": "python",
   "pygments_lexer": "ipython3",
   "version": "3.9.7"
  }
 },
 "nbformat": 4,
 "nbformat_minor": 5
}
