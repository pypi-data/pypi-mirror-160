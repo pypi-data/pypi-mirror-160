{
 "cells": [
  {
   "cell_type": "markdown",
   "metadata": {},
   "source": [
    "# Appendix B: List of Publications\n",
    "\n",
    "This is an incomplete list of publications that made use of `DustPy`.  \n",
    "If you want your publication to be listed here, please give us a note in the [Show & Tell](https://github.com/stammler/dustpy/discussions/categories/show-and-tell) category of [DustPy Discussions](https://github.com/stammler/dustpy/discussions/) or write us an [email](mailto:sebastian.stammler@gmail.com)."
   ]
  },
  {
   "cell_type": "markdown",
   "metadata": {},
   "source": [
    "## 2021"
   ]
  },
  {
   "cell_type": "markdown",
   "metadata": {},
   "source": [
    "*  **Miller, E.; Marino, S.; Stammler, S. M.; Pinilla, P.; Lenz, C.; Birnstiel, T.; Henning, Th (2021)**  \n",
    "Monthly Notices of the Royal Astronomical Society, Volume 508, Issue 4, pp.5638-5656  \n",
    "_\"The formation of wide exoKuiper belts from migrating dust traps\"_  \n",
    "[10.1093/mnras/stab2935](https://doi.org/10.1093/mnras/stab2935)"
   ]
  },
  {
   "cell_type": "markdown",
   "metadata": {},
   "source": [
    "*  **Gárate, Matías; Delage, Timmy N.; Stadler, Jochen; Pinilla, Paola; Birnstiel, Til; Stammler, Sebastian M.; Picogna, Giovanni; Ercolano, Barbara; Franz, Raphael; Lenz, Christian (2021)**  \n",
    "Astronomy & Astrophysics, Volume 655, id.A18, 16 pp.  \n",
    "_\"Large gaps and high accretion rates in photoevaporative transition disks with a dead zone\"_  \n",
    "[10.1051/0004-6361/202141444](https://doi.org/10.1051/0004-6361/202141444)"
   ]
  },
  {
   "cell_type": "markdown",
   "metadata": {},
   "source": [
    "*  **Pinilla, P. ; Kurtovic, N. T. ; Benisty, M. ; Manara, C. F. ; Natta, A. ; Sanchis, E. ; Tazzari, M. ; Stammler, S. M. ; Ricci, L. ; Testi, L. (2021)**  \n",
    "Astronomy & Astrophysics, Volume 649, id.A122, 13 pp.  \n",
    "_\"A bright inner disk and structures in the transition disk around the very low-mass star CIDA 1\"_  \n",
    "[10.1051/0004-6361/202140371](https://doi.org/10.1051/0004-6361/202140371)"
   ]
  },
  {
   "cell_type": "markdown",
   "metadata": {},
   "source": [
    "*  **Drążkowska, Joanna; Stammler, Sebastian M.; Birnstiel, Til (2021)**  \n",
    "Astronomy & Astrophysics, Volume 647, id.A15, 11 pp.  \n",
    "_\"How dust fragmentation may be beneficial to planetary growth by pebble accretion\"_  \n",
    "[doi: 10.1051/0004-6361/202039925](https://doi.org/10.1051/0004-6361/202039925)"
   ]
  },
  {
   "cell_type": "markdown",
   "metadata": {},
   "source": [
    "*  **Pinilla, Paola; Lenz, Christian T.; Stammler, Sebastian M. (2021)**  \n",
    "Astronomy & Astrophysics, Volume 645, id.A70, 16 pp.  \n",
    "_\"Growing and trapping pebbles with fragile collisions of particles in protoplanetary disks\"_  \n",
    "[doi: 10.1051/0004-6361/202038920](https://doi.org/10.1051/0004-6361/202038920)"
   ]
  },
  {
   "cell_type": "markdown",
   "metadata": {},
   "source": [
    "## 2020"
   ]
  },
  {
   "cell_type": "markdown",
   "metadata": {},
   "source": [
    "*  **Lenz, Christian T.; Klahr, Hubert; Birnstiel, Tilman; Kretke, Katherine; Stammler, Sebastian (2020)**  \n",
    "Astronomy & Astrophysics, Volume 640, id.A61, 21 pp.  \n",
    "_\"Constraining the parameter space for the solar nebula. The effect of disk properties on planetesimal formation\"_  \n",
    "[doi: 10.1051/0004-6361/202037878](https://doi.org/10.1051/0004-6361/202037878)"
   ]
  },
  {
   "cell_type": "markdown",
   "metadata": {},
   "source": [
    "*  **Gárate, Matías; Birnstiel, Til; Drążkowska, Joanna; Stammler, Sebastian Markus (2020)**  \n",
    "Astronomy & Astrophysics, Volume 635, id.A149, 18 pp.  \n",
    "_\"Gas accretion damped by dust back-reaction at the snow line\"_  \n",
    "[doi: 10.1051/0004-6361/201936067](https://doi.org/10.1051/0004-6361/201936067)"
   ]
  },
  {
   "cell_type": "markdown",
   "metadata": {},
   "source": [
    "## 2019"
   ]
  },
  {
   "cell_type": "markdown",
   "metadata": {},
   "source": [
    "*  **Drążkowska, Joanna; Li, Shengtai; Birnstiel, Til; Stammler, Sebastian M.; Li, Hui (2019)**  \n",
    "The Astrophysical Journal, Volume 885, Issue 1, article id. 91, 10 pp.  \n",
    "_\"Including Dust Coagulation in Hydrodynamic Models of Protoplanetary Disks: Dust Evolution in the Vicinity of a Jupiter-mass Planet\"_  \n",
    "[doi: 10.3847/1538-4357/ab46b7](https://doi.org/10.3847/1538-4357/ab46b7)"
   ]
  },
  {
   "cell_type": "markdown",
   "metadata": {},
   "source": [
    "*  **Stammler, Sebastian M.; Drążkowska, Joanna; Birnstiel, Til; Klahr, Hubert; Dullemond, Cornelis P.; Andrews, Sean M. (2019)**  \n",
    "The Astrophysical Journal Letters, Volume 884, Issue 1, article id. L5, 7 pp.  \n",
    "_\"The DSHARP Rings: Evidence of Ongoing Planetesimal Formation?\"_  \n",
    "[doi: 10.3847/2041-8213/ab4423](https://doi.org/10.3847/2041-8213/ab4423)"
   ]
  },
  {
   "cell_type": "markdown",
   "metadata": {},
   "source": [
    "*  **Gárate, Matías; Birnstiel, Til; Stammler, Sebastian Markus; Günther, Hans Moritz (2019)**  \n",
    "The Astrophysical Journal, Volume 871, Issue 1, article id. 53, 16 pp.  \n",
    "_\"The Dimming of RW Auriga: Is Dust Accretion Preceding an Outburst?\"_  \n",
    "[doi: 10.3847/1538-4357/aaf4fc](https://doi.org/10.3847/1538-4357/aaf4fc)"
   ]
  }
 ],
 "metadata": {
  "kernelspec": {
   "display_name": "Python 3 (ipykernel)",
   "language": "python",
   "name": "python3"
  },
  "language_info": {
   "codemirror_mode": {
    "name": "ipython",
    "version": 3
   },
   "file_extension": ".py",
   "mimetype": "text/x-python",
   "name": "python",
   "nbconvert_exporter": "python",
   "pygments_lexer": "ipython3",
   "version": "3.9.7"
  }
 },
 "nbformat": 4,
 "nbformat_minor": 4
}
