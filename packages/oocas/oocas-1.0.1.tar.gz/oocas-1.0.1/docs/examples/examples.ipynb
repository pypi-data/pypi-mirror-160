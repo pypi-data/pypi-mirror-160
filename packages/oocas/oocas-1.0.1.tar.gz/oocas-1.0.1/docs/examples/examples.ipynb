{
 "cells": [
  {
   "cell_type": "markdown",
   "id": "6a3b3209-b57b-478a-84db-c6830118cc01",
   "metadata": {},
   "source": [
    "## Create data"
   ]
  },
  {
   "cell_type": "code",
   "execution_count": 1,
   "id": "1ff6d748-cf09-408b-9719-4f748618bfde",
   "metadata": {},
   "outputs": [
    {
     "data": {
      "text/plain": [
       "<AxesSubplot:xlabel='idx'>"
      ]
     },
     "execution_count": 1,
     "metadata": {},
     "output_type": "execute_result"
    },
    {
     "data": {
      "image/png": "[encoded data removed]",
      "text/plain": [
       "<Figure size 432x288 with 1 Axes>"
      ]
     },
     "metadata": {
      "needs_background": "light"
     },
     "output_type": "display_data"
    }
   ],
   "source": [
    "import oocas as oc\n",
    "import numpy as np\n",
    "import pandas as pd\n",
    "from pathlib import Path\n",
    "\n",
    "\n",
    "n = 10**5\n",
    "df = pd.DataFrame({\n",
    "    'idx': pd.to_datetime(np.arange(n), unit='s'),\n",
    "    'val': np.cumsum(np.random.normal(size=n))\n",
    "    }).set_index('idx')\n",
    "df.plot()"
   ]
  },
  {
   "cell_type": "code",
   "execution_count": 2,
   "id": "600883b4-5d42-40e4-99e7-a1fba0faf517",
   "metadata": {},
   "outputs": [],
   "source": [
    "nfiles = 10\n",
    "paths = [Path('data', 'raw', f\"{i}_random_walk.parquet\") for i in range(nfiles)]\n",
    "\n",
    "for chunk, path in zip(np.array_split(df, len(paths)), paths):\n",
    "    chunk.to_parquet(path)"
   ]
  },
  {
   "cell_type": "code",
   "execution_count": 3,
   "id": "2d3abf60-5ce7-4d57-9542-c89a47fb466a",
   "metadata": {},
   "outputs": [
    {
     "data": {
      "text/plain": [
       "[WindowsPath('data/raw/0_random_walk.parquet'),\n",
       " WindowsPath('data/raw/1_random_walk.parquet'),\n",
       " WindowsPath('data/raw/2_random_walk.parquet'),\n",
       " WindowsPath('data/raw/3_random_walk.parquet'),\n",
       " WindowsPath('data/raw/4_random_walk.parquet'),\n",
       " WindowsPath('data/raw/5_random_walk.parquet'),\n",
       " WindowsPath('data/raw/6_random_walk.parquet'),\n",
       " WindowsPath('data/raw/7_random_walk.parquet'),\n",
       " WindowsPath('data/raw/8_random_walk.parquet'),\n",
       " WindowsPath('data/raw/9_random_walk.parquet')]"
      ]
     },
     "execution_count": 3,
     "metadata": {},
     "output_type": "execute_result"
    }
   ],
   "source": [
    "paths = oc.find_paths('data/raw')\n",
    "paths"
   ]
  },
  {
   "cell_type": "markdown",
   "id": "e1554a56-33b3-416d-8966-b3f470328d58",
   "metadata": {},
   "source": [
    "## Read files to dataframe"
   ]
  },
  {
   "cell_type": "code",
   "execution_count": 4,
   "id": "c62345f9-c4ed-479f-b258-4107db071b28",
   "metadata": {},
   "outputs": [
    {
     "name": "stdout",
     "output_type": "stream",
     "text": [
      "nrows: 100000\n"
     ]
    },
    {
     "data": {
      "text/html": [
       "<div>\n",
       "<style scoped>\n",
       "    .dataframe tbody tr th:only-of-type {\n",
       "        vertical-align: middle;\n",
       "    }\n",
       "\n",
       "    .dataframe tbody tr th {\n",
       "        vertical-align: top;\n",
       "    }\n",
       "\n",
       "    .dataframe thead th {\n",
       "        text-align: right;\n",
       "    }\n",
       "</style>\n",
       "<table border=\"1\" class=\"dataframe\">\n",
       "  <thead>\n",
       "    <tr style=\"text-align: right;\">\n",
       "      <th></th>\n",
       "      <th>val</th>\n",
       "    </tr>\n",
       "    <tr>\n",
       "      <th>idx</th>\n",
       "      <th></th>\n",
       "    </tr>\n",
       "  </thead>\n",
       "  <tbody>\n",
       "    <tr>\n",
       "      <th>1970-01-02 03:46:35</th>\n",
       "      <td>93.400126</td>\n",
       "    </tr>\n",
       "    <tr>\n",
       "      <th>1970-01-02 03:46:36</th>\n",
       "      <td>92.369964</td>\n",
       "    </tr>\n",
       "    <tr>\n",
       "      <th>1970-01-02 03:46:37</th>\n",
       "      <td>93.776417</td>\n",
       "    </tr>\n",
       "    <tr>\n",
       "      <th>1970-01-02 03:46:38</th>\n",
       "      <td>95.057941</td>\n",
       "    </tr>\n",
       "    <tr>\n",
       "      <th>1970-01-02 03:46:39</th>\n",
       "      <td>95.272390</td>\n",
       "    </tr>\n",
       "  </tbody>\n",
       "</table>\n",
       "</div>"
      ],
      "text/plain": [
       "                           val\n",
       "idx                           \n",
       "1970-01-02 03:46:35  93.400126\n",
       "1970-01-02 03:46:36  92.369964\n",
       "1970-01-02 03:46:37  93.776417\n",
       "1970-01-02 03:46:38  95.057941\n",
       "1970-01-02 03:46:39  95.272390"
      ]
     },
     "execution_count": 4,
     "metadata": {},
     "output_type": "execute_result"
    }
   ],
   "source": [
    "paths = oc.find_paths('data/raw')\n",
    "sqp = oc.Process(oc.ParquetRead(), progress_bar=False)\n",
    "df = pd.concat(sqp(paths), axis=0)\n",
    "print(f\"nrows: {len(df)}\")\n",
    "df.tail()"
   ]
  },
  {
   "cell_type": "markdown",
   "id": "9107d2eb-a103-42a1-a7c1-61cb2ec3eb6f",
   "metadata": {},
   "source": [
    "## Random sampling"
   ]
  },
  {
   "cell_type": "code",
   "execution_count": 5,
   "id": "e0911795-45f3-4c8b-9f6b-3c937c391388",
   "metadata": {},
   "outputs": [
    {
     "data": {
      "application/vnd.jupyter.widget-view+json": {
       "model_id": "b460fac4d04e48e8a46c66a8561f45aa",
       "version_major": 2,
       "version_minor": 0
      },
      "text/plain": [
       "  0%|          | 0/10 [00:00<?, ?it/s]"
      ]
     },
     "metadata": {},
     "output_type": "display_data"
    },
    {
     "name": "stdout",
     "output_type": "stream",
     "text": [
      "nrows: 1000\n"
     ]
    },
    {
     "data": {
      "text/plain": [
       "<AxesSubplot:xlabel='idx'>"
      ]
     },
     "execution_count": 5,
     "metadata": {},
     "output_type": "execute_result"
    },
    {
     "data": {
      "image/png": "[encoded data removed]",
      "text/plain": [
       "<Figure size 432x288 with 1 Axes>"
      ]
     },
     "metadata": {
      "needs_background": "light"
     },
     "output_type": "display_data"
    }
   ],
   "source": [
    "sqp = oc.Process(\n",
    "    oc.ParquetMetaDataRead(),\n",
    "    lambda x: x.num_rows,\n",
    "    progress_bar=False)\n",
    "\n",
    "nrows = sum(sqp(paths))                     \n",
    "sample_idxs = np.random.choice(nrows, 10**3)\n",
    "\n",
    "def sample(df, cache):\n",
    "    adjusted_idxs = sample_idxs - cache.data    # Normalize sample indices\n",
    "    cache(cache.data + len(df))                 # Increment position for later\n",
    "    return df.iloc[[                                      \n",
    "        idx for idx in adjusted_idxs\\\n",
    "             if idx >= 0 and idx < len(df)      # Select sampled rows\n",
    "    ]].copy()                                   # Copy to avoid reference\n",
    "\n",
    "sqp = oc.Process(\n",
    "    oc.ParquetRead(),\n",
    "    oc.CacheTransform(sample, cache=0))         # Initialize cache data with 0\n",
    "\n",
    "sample_df = pd.concat(sqp(paths), axis=0)\n",
    "print(f\"nrows: {len(sample_df)}\")\n",
    "sample_df.plot()"
   ]
  },
  {
   "cell_type": "markdown",
   "id": "34f4761a-3f95-41fb-a1cb-1e34947566a2",
   "metadata": {},
   "source": [
    "## Moving average"
   ]
  },
  {
   "cell_type": "code",
   "execution_count": 6,
   "id": "6bab0739-7c15-416d-9d49-122666bcd3bb",
   "metadata": {},
   "outputs": [
    {
     "data": {
      "application/vnd.jupyter.widget-view+json": {
       "model_id": "b33d29f51982461682fa11a6b0a6a234",
       "version_major": 2,
       "version_minor": 0
      },
      "text/plain": [
       "  0%|          | 0/10 [00:00<?, ?it/s]"
      ]
     },
     "metadata": {},
     "output_type": "display_data"
    },
    {
     "data": {
      "text/plain": [
       "[WindowsPath('data/mavg/0_random_walk.parquet'),\n",
       " WindowsPath('data/mavg/1_random_walk.parquet'),\n",
       " WindowsPath('data/mavg/2_random_walk.parquet'),\n",
       " WindowsPath('data/mavg/3_random_walk.parquet'),\n",
       " WindowsPath('data/mavg/4_random_walk.parquet'),\n",
       " WindowsPath('data/mavg/5_random_walk.parquet'),\n",
       " WindowsPath('data/mavg/6_random_walk.parquet'),\n",
       " WindowsPath('data/mavg/7_random_walk.parquet'),\n",
       " WindowsPath('data/mavg/8_random_walk.parquet'),\n",
       " WindowsPath('data/mavg/9_random_walk.parquet')]"
      ]
     },
     "execution_count": 6,
     "metadata": {},
     "output_type": "execute_result"
    }
   ],
   "source": [
    "def moving_average(df, cache):\n",
    "    nrows = len(df)                             # Number of current rows\n",
    "    df = pd.concat([cache.data, df])            # Prepend past to current\n",
    "    cache(df)                                   # Update past for next iteration\n",
    "    return df.rolling(cache.lookback)\\\n",
    "        .mean().iloc[-nrows:]                   # Return result for current rows\n",
    "    \n",
    "sqp = oc.Process(\n",
    "    oc.ParquetRead(),\n",
    "    oc.CacheTransform(                          # Passes dataframe and cache\n",
    "        moving_average,                         # Transform\n",
    "        oc.TimeIndexCache('1H')),               # Cache recent hour\n",
    "    oc.ParquetWrite(\n",
    "        path_part_replace=('raw', 'mavg'),      # Change directory\n",
    "        overwrite=True,\n",
    "        mkdirs=True))                           # Create dirs if not exist\n",
    "\n",
    "mavg_paths = sqp(paths)\n",
    "mavg_paths"
   ]
  },
  {
   "cell_type": "code",
   "execution_count": 7,
   "id": "467ac063-6611-4d22-be53-5966ca5381be",
   "metadata": {},
   "outputs": [
    {
     "data": {
      "application/vnd.jupyter.widget-view+json": {
       "model_id": "30e02650b1c3462b981ad410cda74a62",
       "version_major": 2,
       "version_minor": 0
      },
      "text/plain": [
       "  0%|          | 0/10 [00:00<?, ?it/s]"
      ]
     },
     "metadata": {},
     "output_type": "display_data"
    },
    {
     "name": "stdout",
     "output_type": "stream",
     "text": [
      "nrows: 100000\n"
     ]
    },
    {
     "data": {
      "text/plain": [
       "<AxesSubplot:xlabel='idx'>"
      ]
     },
     "execution_count": 7,
     "metadata": {},
     "output_type": "execute_result"
    },
    {
     "data": {
      "image/png": "[encoded data removed]",
      "text/plain": [
       "<Figure size 432x288 with 1 Axes>"
      ]
     },
     "metadata": {
      "needs_background": "light"
     },
     "output_type": "display_data"
    }
   ],
   "source": [
    "sqp = oc.Process(oc.ParquetRead())\n",
    "mavg_df = pd.concat(sqp(mavg_paths), axis=0)\n",
    "print(f\"nrows: {len(mavg_df)}\")\n",
    "mavg_df.plot()"
   ]
  },
  {
   "cell_type": "markdown",
   "id": "a2ef1a36-b556-442b-90b7-d8c051afc22f",
   "metadata": {},
   "source": [
    "## N-to-1 file write"
   ]
  },
  {
   "cell_type": "code",
   "execution_count": 8,
   "id": "7cfd4d3b-c07f-4714-b4b7-c325a1825ef2",
   "metadata": {},
   "outputs": [
    {
     "data": {
      "text/plain": [
       "WindowsPath('data/pickle/random_walk.pkl.gz')"
      ]
     },
     "execution_count": 8,
     "metadata": {},
     "output_type": "execute_result"
    }
   ],
   "source": [
    "pickle_multi_to_one_write = oc.FileWrite(\n",
    "    lambda x, path, **kwargs:\\\n",
    "         x.to_pickle(path, **kwargs),\n",
    "    path_transform=lambda x: x[0],              # Select first path\n",
    "    path_part_replace=('raw', 'pickle'),        # Change directory\n",
    "    name_transform=lambda x:\\\n",
    "         '_'.join(x.split('_')[1:]),            # Remove unique first part\n",
    "    suffix='.pkl.gz',                           # Replace suffix\n",
    "    mkdirs=True,                                # Create dirs if not exist\n",
    "    overwrite=True,                             # Overwrite if files exist\n",
    "    compression='infer')                        # Pass to_pickle() argument\n",
    "\n",
    "\n",
    "pickle_multi_to_one_write(df, paths)"
   ]
  },
  {
   "cell_type": "code",
   "execution_count": 9,
   "id": "2a8a2fcc-c5c5-4bf0-9252-b8fc5f72ebfe",
   "metadata": {},
   "outputs": [
    {
     "data": {
      "text/plain": [
       "[(WindowsPath('data/mavg/0_random_walk.parquet'),\n",
       "  WindowsPath('data/raw/0_random_walk.parquet')),\n",
       " (WindowsPath('data/mavg/1_random_walk.parquet'),\n",
       "  WindowsPath('data/raw/1_random_walk.parquet')),\n",
       " (WindowsPath('data/mavg/2_random_walk.parquet'),\n",
       "  WindowsPath('data/raw/2_random_walk.parquet')),\n",
       " (WindowsPath('data/mavg/3_random_walk.parquet'),\n",
       "  WindowsPath('data/raw/3_random_walk.parquet')),\n",
       " (WindowsPath('data/mavg/4_random_walk.parquet'),\n",
       "  WindowsPath('data/raw/4_random_walk.parquet')),\n",
       " (WindowsPath('data/mavg/5_random_walk.parquet'),\n",
       "  WindowsPath('data/raw/5_random_walk.parquet')),\n",
       " (WindowsPath('data/mavg/6_random_walk.parquet'),\n",
       "  WindowsPath('data/raw/6_random_walk.parquet')),\n",
       " (WindowsPath('data/mavg/7_random_walk.parquet'),\n",
       "  WindowsPath('data/raw/7_random_walk.parquet')),\n",
       " (WindowsPath('data/mavg/8_random_walk.parquet'),\n",
       "  WindowsPath('data/raw/8_random_walk.parquet')),\n",
       " (WindowsPath('data/mavg/9_random_walk.parquet'),\n",
       "  WindowsPath('data/raw/9_random_walk.parquet'))]"
      ]
     },
     "execution_count": 9,
     "metadata": {},
     "output_type": "execute_result"
    }
   ],
   "source": [
    "all_files = oc.find_paths('data', pattern='*.parquet', recursive=True)\n",
    "multipaths = list(zip(*all_files))\n",
    "multipaths"
   ]
  }
 ],
 "metadata": {
  "kernelspec": {
   "display_name": "Python 3 (ipykernel)",
   "language": "python",
   "name": "python3"
  },
  "language_info": {
   "codemirror_mode": {
    "name": "ipython",
    "version": 3
   },
   "file_extension": ".py",
   "mimetype": "text/x-python",
   "name": "python",
   "nbconvert_exporter": "python",
   "pygments_lexer": "ipython3",
   "version": "3.9.12"
  }
 },
 "nbformat": 4,
 "nbformat_minor": 5
}
