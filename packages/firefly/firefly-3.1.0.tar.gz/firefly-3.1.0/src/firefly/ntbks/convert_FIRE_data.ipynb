{
 "cells": [
  {
   "cell_type": "code",
   "execution_count": 1,
   "metadata": {},
   "outputs": [],
   "source": [
    "%load_ext autoreload\n",
    "%autoreload 2"
   ]
  },
  {
   "cell_type": "code",
   "execution_count": 2,
   "metadata": {},
   "outputs": [
    {
     "name": "stdout",
     "output_type": "stream",
     "text": [
      "don't have phil's colormaps\n"
     ]
    }
   ],
   "source": [
    "import numpy as np\n",
    "import os\n",
    "\n",
    "import sys\n",
    "## ignore these lines, you do not need to add this if Firefly is pip installed into your PYTHONPATH\n",
    "sys.path.insert(0, '/Users/ageller/VISUALIZATIONS/Firefly')\n",
    "sys.path.insert(0,'/Users/agurvich/research/repos/firefly/src')\n",
    "from firefly.data_reader import FIREreader,SimpleFIREreader,TweenParams\n",
    "from abg_python.galaxy.gal_utils import Galaxy"
   ]
  },
  {
   "cell_type": "markdown",
   "metadata": {},
   "source": [
    "# Convert FIRE data\n",
    "In this example notebook we demonstrate how to use the `firefly.data_reader.FIREreader` sub-class which creates specialized data files for FIRE formatted data. The details of how the `FIREreader` class is \"specialized\" see the <a href=\"https://alexbgurvi.ch/Firefly/docs/build/html/reference/api/api.html\">API documentation</a> and to see the example of this output visit <a href=\"https://alexbgurvi.ch/firefly/src/firefly/index.html\">the live demo version</a>."
   ]
  },
  {
   "cell_type": "code",
   "execution_count": 3,
   "metadata": {},
   "outputs": [
    {
     "name": "stdout",
     "output_type": "stream",
     "text": [
      "Couldn't find a metadata file... for\n",
      " Metadata object at /Users/agurvich/scratch/data/metal_diffusion/m12b_res57000/metadata/meta_Galaxy_600.hdf5\n",
      "No rstar 1/2 in halo or metadata files, we will need to calculate it ourselves.\n",
      "Loading star particles of m12b_res57000 at 600 at /Users/agurvich/snaps/metal_diffusion/m12b_res57000/output\n",
      "Failed to open saved sub-snapshots AssertionError('Told not to use saved sub-snapshots')\n",
      "Loading gas particles of m12b_res57000 at 600 at /Users/agurvich/snaps/metal_diffusion/m12b_res57000/output\n",
      "Loading dark matter particles of m12b_res57000 at 600 at /Users/agurvich/snaps/metal_diffusion/m12b_res57000/output\n",
      "Reorienting...\n",
      "Done.\n",
      "extract_halo_inner(m12b_res57000 at 600,){'orient_stars': True, 'use_saved_subsnapshots': False} 12.79 s elapsed\n",
      "Snapshot memory free\n"
     ]
    },
    {
     "data": {
      "text/plain": [
       "(12.27201256901771,\n",
       " True,\n",
       " 13.610546783496492,\n",
       " -23.753615253930974,\n",
       " 331.60968,\n",
       " 2.454402513803542,\n",
       " 140.56429531755958)"
      ]
     },
     "execution_count": 3,
     "metadata": {},
     "output_type": "execute_result"
    }
   ],
   "source": [
    "galaxy = Galaxy('m12b_res57000',600)\n",
    "galaxy.extractMainHalo(use_saved_subsnapshots=False)"
   ]
  },
  {
   "cell_type": "code",
   "execution_count": 4,
   "metadata": {},
   "outputs": [],
   "source": [
    "thetas = np.linspace(0,360,1000)/180*np.pi\n",
    "coords = np.zeros((thetas.size,3))\n",
    "coords[:,0] = 0\n",
    "coords[:,1] = np.cos(thetas)\n",
    "coords[:,2] = np.sin(thetas)\n",
    "coords*=150\n",
    "my_tweenParams = TweenParams(coords,30) ## dt = 3000 ms between frames"
   ]
  },
  {
   "cell_type": "code",
   "execution_count": 30,
   "metadata": {},
   "outputs": [
    {
     "name": "stdout",
     "output_type": "stream",
     "text": [
      "Loading ptype 2\n",
      "Loading ptype 1\n",
      "Loading ptype 4\n",
      "Loading ptype 0\n"
     ]
    },
    {
     "data": {
      "text/plain": [
       "array([Gas - 3112865/6225729 particles - 4 tracked fields,\n",
       "       Stars - 1632362/3264723 particles - 3 tracked fields,\n",
       "       HRDM - 932304/9323040 particles - 2 tracked fields,\n",
       "       LRDM - 304227/3042265 particles - 2 tracked fields], dtype=object)"
      ]
     },
     "execution_count": 30,
     "metadata": {},
     "output_type": "execute_result"
    }
   ],
   "source": [
    "## create a FIRE reader object\n",
    "reader = FIREreader(\n",
    "    ## path to directory containing (optionally multiple) .hdf5 files\n",
    "    snapdir = \"/Users/agurvich/research/snaps/metal_diffusion/m12b_res57000/output/\",\n",
    "    ## the snapshot number, best to provide separately in order to disambiguate\n",
    "    snapnum = 600,\n",
    "    ## particle types one would like to extract from .hdf5 files\n",
    "    ptypes=[0,4,1,2],\n",
    "    ## what to call them in the UI\n",
    "    UInames=['Gas','Stars','HRDM','LRDM'],\n",
    "    ## by what factor would we like to reduce the data for performance stability and disk space concerns\n",
    "    decimation_factors=[2,2,10,10],\n",
    "    ## what fields would we like to extract\n",
    "    fields=['Density','Temperature','AgeGyr','GCRadius'],\n",
    "    ## do we want to take the magnitude of any of these fields?\n",
    "    ## do we want to take the log? \n",
    "    logFlags=[True,True,False,False],\n",
    "    ## which fields do we want to be able to filter on?\n",
    "    filterFlags=[True,True,True,True],\n",
    "    ## which fields do we want to be able to colormap by?\n",
    "    colormapFlags=[True,True,True,True],\n",
    "    radiusFlags=[False,True,True,False],\n",
    "    ## where should the output .json files be saved to? \n",
    "    ##  if a relative path is given, like here, saves to $HOME/<JSONdir>\n",
    "    ##  and creates a soft-link to firefly/static/data\n",
    "    datadir=os.path.abspath(os.path.join(os.getcwd(),'..','static','data','FIRESampleData')),\n",
    "    ## overwrite the existing startup.json file\n",
    "    write_startup=True,\n",
    "    clean_datadir=True,\n",
    "    tweenParams=my_tweenParams)\n",
    "\n",
    "## fetch data from .hdf5 files\n",
    "reader.loadData(com=galaxy.scom,vcom=galaxy.sub_snap['vscom'])"
   ]
  },
  {
   "cell_type": "code",
   "execution_count": 34,
   "metadata": {},
   "outputs": [],
   "source": [
    "## initialize the camera view\n",
    "camera = np.array([251,-117,82])\n",
    "camera = camera/np.linalg.norm(camera)*250\n",
    "reader.settings['camera'] = camera\n",
    "\n",
    "## set the initial colors of each of the particle groups\n",
    "reader.settings['color']['Gas']=[1,0,0,1]\n",
    "reader.settings['color']['Stars'] = [1,1,1,0.025]\n",
    "reader.settings['color']['HRDM'] = [0.5,0,0.5,1]\n",
    "reader.settings['color']['LRDM'] = [0.5,0,0.5,1]\n",
    "\n",
    "## set the sizes of each of the particle groups\n",
    "reader.settings['sizeMult']['Gas']=0.25\n",
    "reader.settings['sizeMult']['Stars']=0.03\n",
    "reader.settings['sizeMult']['HRDM']=1\n",
    "reader.settings['sizeMult']['LRDM']=1"
   ]
  },
  {
   "cell_type": "code",
   "execution_count": 38,
   "metadata": {},
   "outputs": [],
   "source": [
    "## initialize the gas with a colormap\n",
    "reader.settings['showColormap']['Gas'] = True\n",
    "reader.settings['blendingMode']['Gas'] = 'normal'\n",
    "reader.settings['depthTest']['Gas'] = True\n",
    "reader.settings['colormapVariable']['Gas'] = 3\n",
    "reader.settings['colormapLims']['Gas']['Velocity'] = [50,500]\n",
    "reader.settings['colormapVals']['Gas']['Velocity'] = [50,500]\n",
    "\n",
    "## initialize the gas with radius scaling (index 1 corresponds to Temperature, specified above)\n",
    "reader.settings['radiusVariable']['Gas'] = 1\n",
    "\n",
    "## initialize gas with velocity vectors\n",
    "reader.settings['showVel']['Gas'] = True\n",
    "reader.settings['velType']['Gas'] = 'arrow'\n",
    "\n",
    "## initialize HRDM with a filter excluding the center so as not to crowd the view\n",
    "reader.settings['filterVals']['HRDM']['GCRadius'] = [300,5000]\n",
    "reader.settings['filterLims']['HRDM']['GCRadius'] = [0,5000]"
   ]
  },
  {
   "cell_type": "code",
   "execution_count": 45,
   "metadata": {},
   "outputs": [
    {
     "name": "stdout",
     "output_type": "stream",
     "text": [
      "You will need to add this settings filename to filenames.json if this was not called by a Reader instance.\n"
     ]
    },
    {
     "data": {
      "text/plain": [
       "('/Users/agurvich/research/repos/Firefly/src/firefly/static/data/FIRESampleData/DataSettings.json',\n",
       " '/Users/agurvich/research/repos/Firefly/src/firefly/static/data/FIRESampleData/DataSettings.json')"
      ]
     },
     "execution_count": 45,
     "metadata": {},
     "output_type": "execute_result"
    }
   ],
   "source": [
    "reader.settings.outputToJSON(reader.datadir,file_prefix=reader.file_prefix)"
   ]
  },
  {
   "cell_type": "code",
   "execution_count": 36,
   "metadata": {},
   "outputs": [
    {
     "name": "stdout",
     "output_type": "stream",
     "text": [
      "Gas - 3112865/6225729 particles - 4 tracked fields\n",
      "Stars - 1632362/3264723 particles - 3 tracked fields\n",
      "HRDM - 932304/9323040 particles - 2 tracked fields\n",
      "LRDM - 304227/3042265 particles - 2 tracked fields\n"
     ]
    },
    {
     "data": {
      "text/plain": [
       "''"
      ]
     },
     "execution_count": 36,
     "metadata": {},
     "output_type": "execute_result"
    }
   ],
   "source": [
    "## dump output to .ffly files\n",
    "reader.writeToDisk()"
   ]
  },
  {
   "cell_type": "markdown",
   "metadata": {},
   "source": [
    "## Using `firefly.data_reader.SimpleFIREreader`\n",
    "To simplify this process we have provided `firefly.data_reader.SimpleFIREreader` which takes a path to a FIRE snapshot and creates a basic iteration of Firefly showing the gas and stars given only a path to the data."
   ]
  },
  {
   "cell_type": "code",
   "execution_count": 9,
   "metadata": {},
   "outputs": [
    {
     "name": "stdout",
     "output_type": "stream",
     "text": [
      "Loading ptype 4\n",
      "Loading ptype 0\n",
      "Outputting: Gas - 622573/6225729 particles - 3 tracked fields\n",
      "Outputting: Stars - 326473/3264723 particles - 3 tracked fields\n"
     ]
    }
   ],
   "source": [
    "reader = SimpleFIREreader(\n",
    "    ## path to directory containing (optionally multiple) .hdf5 files\n",
    "    path_to_snapshot = \"/Users/agurvich/research/snaps/metal_diffusion/m12b_res57000/output/snapdir_600\",\n",
    "    ## overwrite the existing startup.json file\n",
    "    write_startup=True, \n",
    "    ## pass absolute path to avoid symlink\n",
    "    JSONdir=os.path.abspath(os.path.join(os.getcwd(),'..','static','data','FIREData_50')))"
   ]
  }
 ],
 "metadata": {
  "anaconda-cloud": {},
  "kernelspec": {
   "display_name": "Python 3 (ipykernel)",
   "language": "python",
   "name": "python3"
  },
  "language_info": {
   "codemirror_mode": {
    "name": "ipython",
    "version": 3
   },
   "file_extension": ".py",
   "mimetype": "text/x-python",
   "name": "python",
   "nbconvert_exporter": "python",
   "pygments_lexer": "ipython3",
   "version": "3.9.7"
  }
 },
 "nbformat": 4,
 "nbformat_minor": 4
}
