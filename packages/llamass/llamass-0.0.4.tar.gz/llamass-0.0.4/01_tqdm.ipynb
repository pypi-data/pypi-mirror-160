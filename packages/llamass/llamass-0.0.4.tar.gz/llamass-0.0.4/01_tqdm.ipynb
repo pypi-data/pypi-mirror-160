{
 "cells": [
  {
   "cell_type": "code",
   "execution_count": null,
   "id": "925e60b0",
   "metadata": {},
   "outputs": [],
   "source": [
    "# default_exp tqdm"
   ]
  },
  {
   "cell_type": "markdown",
   "id": "27344886",
   "metadata": {},
   "source": [
    "# tqdm\n",
    "\n",
    "> Utilities to use tqdm with joblib\n",
    "\n",
    "I saw problems where including this function in my library would cause `nbdev` to attempt unpacking the entire documentation of joblib. I can't figure out how to stop it doing that but I can put this function in here so I don't have to look at it."
   ]
  },
  {
   "cell_type": "code",
   "execution_count": null,
   "id": "2e082cda",
   "metadata": {},
   "outputs": [],
   "source": [
    "# hide\n",
    "from nbdev.showdoc import *"
   ]
  },
  {
   "cell_type": "code",
   "execution_count": null,
   "id": "2645d945",
   "metadata": {},
   "outputs": [],
   "source": [
    "# exports\n",
    "import joblib\n",
    "from tqdm.auto import tqdm\n",
    "\n",
    "class ProgressParallel(joblib.Parallel):\n",
    "    def __call__(self, *args, **kwargs):\n",
    "        with tqdm(total=kwargs[\"total\"]) as self._pbar:\n",
    "            del kwargs[\"total\"]\n",
    "            return joblib.Parallel.__call__(self, *args, **kwargs)\n",
    "\n",
    "    def print_progress(self):\n",
    "        self._pbar.n = self.n_completed_tasks\n",
    "        self._pbar.refresh()"
   ]
  },
  {
   "cell_type": "code",
   "execution_count": null,
   "id": "907d1aa8",
   "metadata": {},
   "outputs": [
    {
     "name": "stdout",
     "output_type": "stream",
     "text": [
      "Converted 00_core.ipynb.\n",
      "Converted 01_tqdm.ipynb.\n",
      "Converted index.ipynb.\n"
     ]
    }
   ],
   "source": [
    "# hide\n",
    "from nbdev.export import notebook2script\n",
    "\n",
    "notebook2script()"
   ]
  }
 ],
 "metadata": {
  "kernelspec": {
   "display_name": "Python 3",
   "language": "python",
   "name": "python3"
  }
 },
 "nbformat": 4,
 "nbformat_minor": 5
}
