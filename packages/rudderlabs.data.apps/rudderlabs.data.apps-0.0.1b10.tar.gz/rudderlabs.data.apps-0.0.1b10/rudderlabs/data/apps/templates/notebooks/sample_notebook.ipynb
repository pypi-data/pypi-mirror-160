{
 "cells": [
  {
   "cell_type": "markdown",
   "id": "04d2f8de",
   "metadata": {
    "tags": []
   },
   "source": [
    "## README:\n",
    "\n",
    "App : **Sample Application**\n",
    "\n",
    "Stage : **Data preparation**\n",
    "\n",
    "This is the sample notebook for loading data from warehouse\n",
    "\n",
    "The notebook expects the required inputs in the adjacent `sample.yaml` file"
   ]
  },
  {
   "cell_type": "code",
   "execution_count": null,
   "id": "9ee3e37a",
   "metadata": {},
   "outputs": [],
   "source": [
    "import os\n",
    "import sys\n",
    "import time\n",
    "import logging\n",
    "import datetime\n",
    "\n",
    "import pandas as pd\n",
    "\n",
    "from tqdm import tqdm\n",
    "from pathlib import Path\n",
    "from sklearn.model_selection import train_test_split\n",
    "from IPython.display import display\n",
    "from pprint import pprint\n",
    "\n",
    "#Rudderlab data utilities imports\n",
    "from rudderlabs.data.apps.log import setup_file_logger\n",
    "from rudderlabs.data.apps.config import read_yaml\n",
    "\n",
    "pd.options.display.max_columns=None\n",
    "tqdm.pandas()"
   ]
  },
  {
   "cell_type": "code",
   "execution_count": null,
   "id": "1b0e3000",
   "metadata": {
    "tags": [
     "parameters"
    ]
   },
   "outputs": [],
   "source": [
    "# Parameters cell for papermill. These values can get overridden by parameters passed by papermill\n",
    "job_id = str(int(time.time()))\n",
    "local_input_path = None\n",
    "local_output_path = None\n",
    "code_path = \"../\";"
   ]
  },
  {
   "cell_type": "code",
   "execution_count": null,
   "id": "bf2b1743",
   "metadata": {},
   "outputs": [],
   "source": [
    "#Initialize input and output paths if they are not passed by papermill\n",
    "if local_input_path is None:\n",
    "    local_input_path = f\"../data/{job_id}\"\n",
    "    \n",
    "if local_output_path is None:\n",
    "    local_output_path = f\"../data/{job_id}\""
   ]
  },
  {
   "cell_type": "code",
   "execution_count": null,
   "id": "df2be85b",
   "metadata": {},
   "outputs": [],
   "source": [
    "print(job_id)\n",
    "print(f\"local_input_path {local_input_path}\")\n",
    "print(f\"local_output_path {local_output_path}\")"
   ]
  },
  {
   "cell_type": "code",
   "execution_count": null,
   "id": "8e33bdb8",
   "metadata": {},
   "outputs": [],
   "source": [
    "#Local imports\n",
    "sys.path.append(code_path)\n",
    "from data_loader import DataIO"
   ]
  },
  {
   "cell_type": "code",
   "execution_count": null,
   "id": "6e35075f",
   "metadata": {
    "tags": []
   },
   "outputs": [],
   "source": [
    "# Constants\n",
    "# All the required constants are defined here\n",
    "IMAGE_FORMAT = 'png'"
   ]
  },
  {
   "cell_type": "code",
   "execution_count": null,
   "id": "d7983552",
   "metadata": {},
   "outputs": [],
   "source": [
    "#Logging setup\n",
    "try:\n",
    "    log_file_path = os.path.join(local_output_path, \"logs\", \"sample_notebook.log\")\n",
    "    logging = setup_file_logger(log_file_path)\n",
    "except:\n",
    "    pass\n",
    "\n",
    "logging.info(\"\\n\\n\\t\\tSTARTING FEATURE PREPROCESSING\")"
   ]
  },
  {
   "cell_type": "code",
   "execution_count": null,
   "id": "c20b1106",
   "metadata": {
    "tags": []
   },
   "outputs": [],
   "source": [
    "#Configurations\n",
    "notebook_config = read_yaml(os.path.join(code_path, \"config/sample.yaml\"))\n",
    "print(\"Notebook config:\")\n",
    "pprint(notebook_config)"
   ]
  },
  {
   "cell_type": "code",
   "execution_count": null,
   "id": "cb663a16",
   "metadata": {},
   "outputs": [],
   "source": [
    "creds_config = read_yaml(os.path.join(code_path, \"credentials.yaml\"))\n",
    "print(\"Credentials config:\")\n",
    "pprint(creds_config)"
   ]
  },
  {
   "cell_type": "code",
   "execution_count": null,
   "id": "825d861f",
   "metadata": {},
   "outputs": [],
   "source": [
    "# All the output files get stored in the output_directory. Each run of the feature_processing generates a new sub directory based on the timestamp.\n",
    "# output directory structure\n",
    "# - data\n",
    "#   - <job_id>\n",
    "#       - sample_data_step\n",
    "#           - visuals\n",
    "#           - model_artifacts\n",
    "output_directory = os.path.join(local_output_path, \"sample_data_step\")\n",
    "visuals_dir = os.path.join( output_directory, \"visuals\" )\n",
    "model_artifacts_dir = os.path.join(output_directory, \"model_artifacts\")\n",
    "\n",
    "logging.info(f\"All the output files will be saved to following location: {output_directory}\")\n",
    "for output_path in [output_directory, visuals_dir, model_artifacts_dir]:\n",
    "    Path(output_path).mkdir(parents=True, exist_ok=True)"
   ]
  },
  {
   "cell_type": "code",
   "execution_count": null,
   "id": "b544a1ff",
   "metadata": {},
   "outputs": [],
   "source": [
    "#Data splitting\n",
    "train_split = notebook_config['data']['train_size']\n",
    "val_split = notebook_config['data']['val_size']\n",
    "test_split = notebook_config['data']['test_size']"
   ]
  },
  {
   "cell_type": "code",
   "execution_count": null,
   "id": "ee6026bc",
   "metadata": {},
   "outputs": [],
   "source": [
    "print(\"Getting data from warehouse\")\n",
    "dataIO = DataIO(notebook_config, creds_config)\n",
    "data = dataIO.get_data()"
   ]
  },
  {
   "cell_type": "code",
   "execution_count": null,
   "id": "26448f61",
   "metadata": {},
   "outputs": [],
   "source": [
    "data.head()"
   ]
  },
  {
   "cell_type": "code",
   "execution_count": null,
   "id": "23d11067",
   "metadata": {},
   "outputs": [],
   "source": [
    "## Cell to hide code while converting to a html page\n",
    "from IPython.display import HTML\n",
    "\n",
    "HTML('''<script>\n",
    "$('div.input').hide();\n",
    "</script>''')"
   ]
  }
 ],
 "metadata": {
  "kernelspec": {
   "display_name": "Python 3.7.10 ('rlabs_test')",
   "language": "python",
   "name": "python3"
  },
  "language_info": {
   "codemirror_mode": {
    "name": "ipython",
    "version": 3
   },
   "file_extension": ".py",
   "mimetype": "text/x-python",
   "name": "python",
   "nbconvert_exporter": "python",
   "pygments_lexer": "ipython3",
   "version": "3.7.10"
  },
  "vscode": {
   "interpreter": {
    "hash": "a468a88201b1395241b1f952173fba6fcbe5d2f915931c8de475b82d8acd2d40"
   }
  }
 },
 "nbformat": 4,
 "nbformat_minor": 5
}
