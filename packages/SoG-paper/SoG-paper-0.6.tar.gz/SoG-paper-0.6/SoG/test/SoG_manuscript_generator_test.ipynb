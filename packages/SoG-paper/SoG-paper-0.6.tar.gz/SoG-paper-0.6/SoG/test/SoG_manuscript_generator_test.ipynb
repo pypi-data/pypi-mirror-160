{
 "cells": [
  {
   "cell_type": "code",
   "execution_count": 1,
   "metadata": {},
   "outputs": [],
   "source": [
    "import numpy as np\n",
    "from astropy.utils.data import download_file\n",
    "import gcn\n",
    "import healpy as hp\n",
    "import lxml.etree\n",
    "import sys "
   ]
  },
  {
   "cell_type": "code",
   "execution_count": 2,
   "metadata": {},
   "outputs": [],
   "source": [
    "import requests\n",
    "import json\n",
    "import datetime\n",
    "from datetime import date, datetime, timedelta"
   ]
  },
  {
   "cell_type": "code",
   "execution_count": 3,
   "metadata": {},
   "outputs": [],
   "source": [
    "from astropy.time import Time"
   ]
  },
  {
   "cell_type": "code",
   "execution_count": 4,
   "metadata": {},
   "outputs": [],
   "source": [
    "import ligo.skymap.distance"
   ]
  },
  {
   "cell_type": "code",
   "execution_count": 5,
   "metadata": {},
   "outputs": [],
   "source": [
    "import os,glob,subprocess"
   ]
  },
  {
   "cell_type": "code",
   "execution_count": 6,
   "metadata": {},
   "outputs": [],
   "source": [
    "import voeventparse"
   ]
  },
  {
   "cell_type": "code",
   "execution_count": 7,
   "metadata": {},
   "outputs": [],
   "source": [
    "from lalinference.bayespputils import calculate_redshift\n",
    "from scipy.special import sph_harm, erfinv\n",
    "from lal import PC_SI, C_SI"
   ]
  },
  {
   "cell_type": "code",
   "execution_count": 8,
   "metadata": {},
   "outputs": [],
   "source": [
    "from decimal import Decimal"
   ]
  },
  {
   "cell_type": "code",
   "execution_count": 9,
   "metadata": {},
   "outputs": [
    {
     "name": "stdout",
     "output_type": "stream",
     "text": [
      "NSIDE = 512\n",
      "ORDERING = NESTED in fits file\n",
      "INDXSCHM = IMPLICIT\n",
      "Ordering converted to RING\n",
      "Ordering converted to RING\n",
      "Ordering converted to RING\n",
      "Ordering converted to RING\n"
     ]
    }
   ],
   "source": [
    "#url = ('https://gracedb.ligo.org/apiweb/superevents/S190421ar/files/S190421ar-2-Initial.xml,0')\n",
    "#url = ('https://gracedb.ligo.org/apiweb/superevents/S190412m/files/S190412m-1-Preliminary.xml,0')\n",
    "#url = ('https://gracedb.ligo.org/apiweb/superevents/S190408an/files/S190408an-1-Preliminary.xml,0')\n",
    "#url = ('https://gracedb.ligo.org/apiweb/superevents/S190425z/files/S190425z-1-Initial.xml,0')\n",
    "#url = ('https://gracedb.ligo.org/apiweb/superevents/S190425z/files/S190425z-2-Update.xml')\n",
    "#url = ('https://gracedb.ligo.org/apiweb/superevents/S190426c/files/S190426c-2-Initial.xml,0')\n",
    "url = ('https://gracedb.ligo.org/apiweb/superevents/S190426c/files/S190426c-5-Update.xml,0')\n",
    "#url = 'https://gracedb.ligo.org/apiweb/superevents/S190426c/files/S190426c-3-Update.xml,0'\n",
    "#url = ('https://gracedb.ligo.org/apiweb/superevents/S190503bf/files/S190503bf-2-Initial.xml,0')\n",
    "#url = ('https://gracedb.ligo.org/apiweb/superevents/S190510g/files/S190510g-2-Initial.xml,0')\n",
    "#url = ('https://gracedb.ligo.org/apiweb/superevents/S190510g/files/S190510g-3-Update.xml,0')\n",
    "#url = 'https://gracedb.ligo.org/apiweb/superevents/S190513bm/files/S190513bm-2-Initial.xml,0'\n",
    "#url = 'https://gracedb.ligo.org/apiweb/superevents/S190512at/files/S190512at-2-Initial.xml,0'\n",
    "#url = 'https://gracedb.ligo.org/apiweb/superevents/S190517h/files/S190517h-1-Preliminary.xml,0'\n",
    "#url = 'https://gracedb.ligo.org/apiweb/superevents/S190518bb/files/S190518bb-1-Preliminary.xml,0'\n",
    "#url = 'https://gracedb.ligo.org/apiweb/superevents/S190519bj/files/S190519bj-2-Initial.xml,0'\n",
    "#url = 'https://gracedb.ligo.org/apiweb/superevents/S190521g/files/S190521g-2-Initial.xml,0'\n",
    "#url = 'https://gracedb.ligo.org/apiweb/superevents/S190521r/files/S190521r-2-Initial.xml,0'\n",
    "#url = 'https://gracedb.ligo.org/apiweb/superevents/S190521g/files/S190521g-3-Update.xml,0'\n",
    "#url = 'https://gracedb.ligo.org/apiweb/superevents/S190602aq/files/S190602aq-2-Initial.xml,0'\n",
    "\n",
    "filename = download_file( url , cache = True )\n",
    "\n",
    "payload = open(filename, 'rb').read()\n",
    "root = lxml.etree.fromstring(payload)\n",
    "\n",
    "params = {elem.attrib['name']:\n",
    "              elem.attrib['value']\n",
    "              for elem in root.iterfind('.//Param')}\n",
    "#process_gcn(payload, root)\n",
    "\n",
    "#Extractinf skymap\n",
    "if 'skymap_fits' in params:\n",
    "     # Read the HEALPix sky map and the FITS header.\n",
    "    skymap, header = hp.read_map(params['skymap_fits'],h=True, verbose=False)\n",
    "    prob , distmu , distsigma , distnorm = hp.read_map(params['skymap_fits'] , field = [ 0 , 1 , 2 , 3 ])\n",
    "else:\n",
    "    sys.exit('No skymap available')\n",
    "    \n",
    "#Getting FAR\n",
    "if 'FAR' in params:\n",
    "    GW_FAR = float(params['FAR'])\n",
    "else:\n",
    "    sys.exit('FAR not available from the LVC')"
   ]
  },
  {
   "cell_type": "code",
   "execution_count": 10,
   "metadata": {},
   "outputs": [],
   "source": [
    "with open(filename, 'rb') as fread: # see doc at https://buildmedia.readthedocs.org/media/pdf/voevent-parse/latest/voevent-parse.pdf\n",
    "    v = voeventparse.load(fread)\n",
    "    \n",
    "GWauthors = v.Who.Author.contactName # Name of the collaboration from the GW side\n",
    "\n",
    "if v.What.Group.attrib['type'] == 'GW_SKYMAP':\n",
    "    GWskymapname = v.What.Group.attrib['name']\n",
    "GWskymapname = GWskymapname.upper() # Name of the skymap used (e.g. BAYESTAR or LALINFERENCE)"
   ]
  },
  {
   "cell_type": "code",
   "execution_count": 11,
   "metadata": {},
   "outputs": [],
   "source": [
    "# Return correct name despite numbering of various bayestar or lalinference skymaps (e.g. 'LALINFERENCE1' -> 'LALIFERENCE')\n",
    "if 'LALINFERENCE' in GWskymapname:\n",
    "    GWskymapname = 'LALINFERENCE'\n",
    "elif 'BAYESTAR' in GWskymapname:\n",
    "    GWskymapname = 'BAYESTAR'"
   ]
  },
  {
   "cell_type": "code",
   "execution_count": 12,
   "metadata": {},
   "outputs": [],
   "source": [
    "# Check GW is from a CBC (can deal with CBC only at the moment)\n",
    "if params['Group'] != 'CBC':\n",
    "    sys.exit('GW not from a CBC -> cannot be dealt with in current version')"
   ]
  },
  {
   "cell_type": "code",
   "execution_count": 13,
   "metadata": {},
   "outputs": [],
   "source": [
    "# Get additional information on gracedb that is not in VOEvent (e.g. time of the event)\n",
    "\n",
    "url_supevent = 'https://gracedb.ligo.org/api/superevents'\n",
    "payload = {'format':'json', 'query':params['GraceID']}\n",
    "r = requests.get(url_supevent, params=payload)\n",
    "jsoninfo = json.loads(r.content)\n",
    "Event = jsoninfo['superevents']\n",
    "\n",
    "\n",
    "# Time of the event in various formats\n",
    "for cat in Event:\n",
    "    t0_GPS = cat['t_0'] # Get GPS time of the event\n",
    "    url_voevents = cat['links']['voevents'] # Get urls for voevents\n",
    "    \n",
    "t0_UTC = Time(t0_GPS, format='gps', scale='utc')\n",
    "t0_UTC.format = 'iso' # Conversion from gps format to iso\n",
    "\n",
    "# Definition of YY-MM-DD and HH:MM:SS\n",
    "t0_yymmdd = t0_UTC.value[0:10]\n",
    "t0_hhmmss = t0_UTC.value[11:19]"
   ]
  },
  {
   "cell_type": "raw",
   "metadata": {},
   "source": [
    "# To keep (might be useful later on)\n",
    "\n",
    "url_voevents\n",
    "payload_voe = {'format':'json'}\n",
    "r_voe = requests.get(url_voevents, params=payload_voe)\n",
    "jsoninfo_voe = json.loads(r_voe.content)\n",
    "Event_voe = jsoninfo_voe"
   ]
  },
  {
   "cell_type": "code",
   "execution_count": 14,
   "metadata": {},
   "outputs": [],
   "source": [
    "# rank types depending on their proba\n",
    "\n",
    "proba = np.array([[params['BBH'], 'BBH'], [params['BNS'], 'BNS'],[params['NSBH'], 'NSBH'],[params['Terrestrial'], 'Terrestrial'] ])\n",
    "\n",
    "proba = np.flip(proba[proba[:,0].astype(float).argsort()], axis = 0)\n",
    "\n",
    "proba_num = proba[:,0].astype(float)"
   ]
  },
  {
   "cell_type": "code",
   "execution_count": 15,
   "metadata": {},
   "outputs": [],
   "source": [
    "# Print in file\n",
    "f = open('macro_GW_GRB.tex', 'w')"
   ]
  },
  {
   "cell_type": "code",
   "execution_count": 16,
   "metadata": {},
   "outputs": [],
   "source": [
    "# Misc\n",
    "\n",
    "print('%Template of maccros related to a given association of GW and GRB event\\n', file = f)\n",
    "print('%(Automatically generated)\\n', file = f)"
   ]
  },
  {
   "cell_type": "code",
   "execution_count": 17,
   "metadata": {},
   "outputs": [],
   "source": [
    "# url VOEvent\n",
    "print('\\\\newcommand{\\\\urlVOEvent}{%s}\\n' % (url), file = f)"
   ]
  },
  {
   "cell_type": "code",
   "execution_count": 18,
   "metadata": {},
   "outputs": [],
   "source": [
    "# Collaborations\n",
    "\n",
    "print('\\\\newcommand{\\\\GWcolla}{%s}\\n' % (GWauthors), file = f)"
   ]
  },
  {
   "cell_type": "code",
   "execution_count": 19,
   "metadata": {},
   "outputs": [],
   "source": [
    "# Skymaps name and url\n",
    "\n",
    "print('\\\\newcommand{\\\\GWskyn}{%s}\\n' % (GWskymapname), file = f)\n",
    "print('\\\\newcommand{\\\\GWskyurl}{%s}\\n' % (params['skymap_fits']), file = f)"
   ]
  },
  {
   "cell_type": "code",
   "execution_count": 20,
   "metadata": {},
   "outputs": [],
   "source": [
    "# Detectors\n",
    "\n",
    "print('\\\\newcommand{\\\\Hanford}{LIGO Hanford Observatory (H1)}\\n', file = f)\n",
    "print('\\\\newcommand{\\\\Ha}{H1}\\n', file = f)\n",
    "\n",
    "print('\\\\newcommand{\\\\Livingston}{LIGO Livingston Observatory (L1)}\\n', file = f)\n",
    "print('\\\\newcommand{\\\\Li}{L1}\\n', file = f)\n",
    "\n",
    "print('\\\\newcommand{\\\\Virgo}{Virgo Observatory (V1)}\\n', file = f)\n",
    "print('\\\\newcommand{\\\\Vi}{V1}\\n', file = f)\n",
    "\n",
    "if params['Instruments'] == 'H1,L1,V1':\n",
    "    print('\\\\newcommand{\\\\detectors}{\\\\Hanford, \\\\Livingston~and \\\\Virgo}\\n', file = f)\n",
    "    print('\\\\newcommand{\\\\detectorsabvr}{\\\\Ha, \\\\Li, \\\\Vi}\\n', file = f)\n",
    "\n",
    "elif params['Instruments'] == 'H1,L1':\n",
    "    print('\\\\newcommand{\\\\detectors}{\\\\Hanford~and \\\\Livingston}\\n', file = f)\n",
    "    print('\\\\newcommand{\\\\detectorsabvr}{\\\\Ha, \\\\Li}\\n', file = f)\n",
    "    \n",
    "elif params['Instruments'] == 'H1,V1':\n",
    "    print('\\\\newcommand{\\\\detectors}{\\\\Hanford~and \\\\Virgo}\\n', file = f)\n",
    "    print('\\\\newcommand{\\\\detectorsabvr}{\\\\Ha, \\\\Vi}\\n', file = f)\n",
    "    \n",
    "elif params['Instruments'] == 'L1,V1':\n",
    "    print('\\\\newcommand{\\\\detectors}{\\\\Livingston~and \\\\Virgo}\\n', file = f)\n",
    "    print('\\\\newcommand{\\\\detectorsabvr}{\\\\Li, \\\\Vi}\\n', file = f)\n",
    "    \n",
    "else: # We will have to see whether or not we consider single ITF events or not\n",
    "    print('\\\\newcommand{\\\\detectors}{\\\\issue{Detectors}}\\n', file = f)\n",
    "    print('\\\\newcommand{\\\\detectorsabvr}{\\\\issue{Detectors}}\\n', file = f)"
   ]
  },
  {
   "cell_type": "code",
   "execution_count": 21,
   "metadata": {},
   "outputs": [],
   "source": [
    "# Times\n",
    "\n",
    "print('\\\\newcommand{\\\\GWtime}{%s %s UTC (GPS time: %.0f)}\\n' % (t0_yymmdd,t0_hhmmss,t0_GPS), file = f)"
   ]
  },
  {
   "cell_type": "code",
   "execution_count": 22,
   "metadata": {},
   "outputs": [],
   "source": [
    "# CBC types\n",
    "\n",
    "print('\\\\newcommand{\\\\Pevents}{%s (%.2f \\%%), %s (%.2f \\%%), %s (%.2f \\%%) or %s (%.2f \\%%)} \\n' % (proba[0,1],proba_num[0]*100.,proba[1,1],proba_num[1]*100.,proba[2,1],proba_num[2]*100.,proba[3,1],proba_num[3]*100.), file = f)\n",
    "\n",
    "if  proba[0,1] == 'BNS':\n",
    "    print(\"\\\\newcommand{\\\\etype}{binary neutron star (BNS) merger}\\n\", file = f)\n",
    "    print(\"\\\\newcommand{\\\\ety}{BNS}\\n\", file = f)\n",
    "elif proba[0,1] == 'BBH':\n",
    "    print('\\\\newcommand{\\\\etype}{binary black hole (BBH) merger}\\n', file = f)\n",
    "    print(\"\\\\newcommand{\\\\ety}{BBH}\\n\", file = f)\n",
    "elif proba[0,1] == 'NSBH':\n",
    "    print(\"\\\\newcommand{\\\\etype}{neutron star -- black hole merger (NSBH)}\\n\", file = f)\n",
    "    print(\"\\\\newcommand{\\\\ety}{NSBH}\\n\", file = f)\n",
    "elif proba[0,1] == 'Terrestrial':\n",
    "    print(\"\\\\newcommand{\\\\etype}{\\\\issue{Terrestrial}}\\n\", file = f)\n",
    "    print(\"\\\\newcommand{\\\\ety}{\\\\issue{Terrestrial}}\\n\", file = f)\n",
    "else:\n",
    "    print(\"\\\\newcommand{\\\\etype}{\\\\issue{Problem in CBC type}}\\n\", file = f)\n",
    "    print(\"\\\\newcommand{\\\\ety}{\\\\issue{Problem}}\\n\", file = f)"
   ]
  },
  {
   "cell_type": "code",
   "execution_count": 23,
   "metadata": {},
   "outputs": [],
   "source": [
    "# Print macro defining name of the events\n",
    "\n",
    "#print('%Define the names of the events', file = f)\n",
    "print('\\\\newcommand{\\\\GWevent}{\\\\textsc{%s}}\\n' % (params['GraceID']), file = f)\n",
    "#print('\\\\newcommand{\\\\GRBevent}{\\\\issue{no GRB ID at the moment}}\\n', file = f)"
   ]
  },
  {
   "cell_type": "code",
   "execution_count": 24,
   "metadata": {},
   "outputs": [],
   "source": [
    "# Distances\n",
    "\n",
    "moments = ligo.skymap.distance.parameters_to_marginal_moments(prob,distmu, distsigma)\n",
    "dist_mean = moments[0]\n",
    "\n",
    "min_distance_CL90 = ligo.skymap.distance.marginal_ppf([0.1],prob,distmu, distsigma, distnorm)[0]\n",
    "max_distance_CL90 = ligo.skymap.distance.marginal_ppf([0.9],prob,distmu, distsigma, distnorm)[0]\n",
    "\n",
    "\n",
    "delta_min = min_distance_CL90 - dist_mean\n",
    "delta_max = max_distance_CL90 - dist_mean\n",
    "\n",
    "dL = min_distance_CL90"
   ]
  },
  {
   "cell_type": "code",
   "execution_count": 25,
   "metadata": {},
   "outputs": [
    {
     "name": "stdout",
     "output_type": "stream",
     "text": [
      "skymap = LALINFERENCE: mean = 378, std_dev = 104\n"
     ]
    }
   ],
   "source": [
    "print('skymap = %s: mean = %.0f, std_dev = %.0f' % (GWskymapname,moments[0],moments[1]))"
   ]
  },
  {
   "cell_type": "code",
   "execution_count": 26,
   "metadata": {},
   "outputs": [],
   "source": [
    "print('\\\\newcommand{\\\\distance}{$%.0f$ Mpc}\\n' % (dL), file = f )\n",
    "print('\\\\newcommand{\\\\distmean}{{%.0f}}\\n' % (dist_mean), file = f )\n",
    "print('\\\\newcommand{\\\\distdeltamin}{{%.0f}}\\n' % (delta_min), file = f )\n",
    "print('\\\\newcommand{\\\\distdeltamax}{{+%.0f}}\\n' % (delta_max), file = f )"
   ]
  },
  {
   "cell_type": "code",
   "execution_count": 27,
   "metadata": {},
   "outputs": [],
   "source": [
    "# Prefered pipeline\n",
    "\n",
    "if params['Pipeline'] == 'gstlal':\n",
    "    print('\\\\newcommand{\\\\pipesup}{GSTLAL \\\\cite{messik:2017pr,sachdev:2019ax}}\\n', file = f)\n",
    "    \n",
    "elif params['Pipeline'] == 'pycbc':\n",
    "    print('\\\\newcommand{\\\\pipesup}{PyCBC Live \\\\cite{nitz:2017ap,dalcanton:2017ar}}\\n', file = f)\n",
    "    \n",
    "elif params['Pipeline'] == 'spiir':\n",
    "    print('\\\\newcommand{\\\\pipesup}{SPIIR \\\\cite{hooper:2012pr,chu:2017th}}\\n', file = f)\n",
    "    \n",
    "elif params['Pipeline'] == 'MBTAOnline':\n",
    "    print('\\\\newcommand{\\\\pipesup}{MBTA \\\\cite{adams:2016cq}}\\n', file = f)\n",
    "    \n",
    "else:\n",
    "    print('\\\\newcommand{\\\\pipesup}{\\\\issue{Pipeline}}\\n', file = f)"
   ]
  },
  {
   "cell_type": "markdown",
   "metadata": {},
   "source": [
    "## Box below: all placeholders before we have raven in place"
   ]
  },
  {
   "cell_type": "code",
   "execution_count": 28,
   "metadata": {},
   "outputs": [],
   "source": [
    "from ligo.gracedb.rest import GraceDb, GraceDbBasic, HTTPError\n"
   ]
  },
  {
   "cell_type": "code",
   "execution_count": 29,
   "metadata": {},
   "outputs": [],
   "source": [
    "gracedb_api = GraceDb(\"https://gracedb.ligo.org/api/\")\n",
    "\n",
    "#Warning, for test purpose, one cannot use the actual superevent, since it usually does not have an associated EM event\n",
    "#superevents = gracedb_api.superevents(params['GraceID']) # Uncomment in final version\n",
    "superevents = gracedb_api.superevents('S190611j') # Comment in final version\n",
    "\n",
    "\n",
    "for superevent in superevents:\n",
    "    t0_GPS = superevent['t_0']\n",
    "    url_voevent = superevent['links']['voevents']\n",
    "    emevent_id = superevent['em_events']\n",
    "    FAR_GW = superevent['far']\n",
    "    \n",
    "em = GraceDb(service_url='https://gracedb.ligo.org/api/')\n",
    "response = em.event(emevent_id[0])\n",
    "data = response.json()\n",
    "em_GPS_time = data['gpstime'] \n",
    "EM_observer = data['extra_attributes']['GRB']['how_description']\n",
    "GRBevent = data['graceid']\n",
    "dto = em_GPS_time - t0_GPS"
   ]
  },
  {
   "cell_type": "code",
   "execution_count": 30,
   "metadata": {},
   "outputs": [],
   "source": [
    "print('\\\\newcommand{\\\\partners}{\\\\raven{%s}}' % (EM_observer), file = f) # Name of who made the GRB detection"
   ]
  },
  {
   "cell_type": "raw",
   "metadata": {},
   "source": [
    "response = gracedb_api.files('S190611j', 'coincidence_far.json')\n",
    "data = response.json()\n",
    "#print(data)\n",
    "P_temp = data['temporal_coinc_far']\n",
    "P_ST = data['spatiotemporal_coinc_far']\n",
    "\n",
    "if P_ST:\n",
    "    Proba = P_ST\n",
    "else:\n",
    "    Proba = P_temp"
   ]
  },
  {
   "cell_type": "code",
   "execution_count": 31,
   "metadata": {},
   "outputs": [],
   "source": [
    "response = gracedb_api.files('S190611j', 'coincidence_far.json')\n",
    "data = response.json()\n",
    "#print(data)\n",
    "FAR_temp = data['temporal_coinc_far']\n",
    "FAR_ST = data['spatiotemporal_coinc_far']\n",
    "\n",
    "if FAR_ST:\n",
    "    Proba = FAR_ST / FAR_GW\n",
    "else:\n",
    "    Proba = FAR_temp / FAR_GW"
   ]
  },
  {
   "cell_type": "markdown",
   "metadata": {},
   "source": [
    "$$ P( X \\leq c) = \\frac{1}{\\sqrt{2 \\pi}} \\int_{- \\infty}^c e^{-x^2/2} dx = \\frac{1}{2} \\left[1 + \\textrm{erf} \\left(\\frac{c}{\\sqrt{2}} \\right) \\right] $$\n",
    "\n",
    "such that\n",
    "\n",
    "$$c = \\sqrt{2} ~\\textrm{erf}^{-1} \\left( 2 P - 1\\right).$$"
   ]
  },
  {
   "cell_type": "code",
   "execution_count": 32,
   "metadata": {},
   "outputs": [],
   "source": [
    "# Translate in terms of Gaussian statistics\n",
    "\n",
    "Ssigma = erfinv(2. * (1 - Proba) - 1) * np.sqrt(2)  # To be checked"
   ]
  },
  {
   "cell_type": "code",
   "execution_count": 33,
   "metadata": {},
   "outputs": [],
   "source": [
    "Proba_exp = np.floor(np.log10(np.abs(Proba))).astype(int)\n",
    "#Proba_string = str(Proba)\n",
    "Proba_string = '%.2e' % Decimal(Proba)\n",
    "Proba_base_string = Proba_string.split(\"e\")\n",
    "Proba_base = float(Proba_base_string[0])"
   ]
  },
  {
   "cell_type": "raw",
   "metadata": {},
   "source": [
    "#check if space-time proba or only time proba\n",
    "\n",
    "#IS_STortemp = 0 # 1 -> is space-time probability\n",
    "\n",
    "\n",
    "if P_ST:\n",
    "    IS_STortemp = 1\n",
    "    \n",
    "if IS_STortemp:\n",
    "    "
   ]
  },
  {
   "cell_type": "code",
   "execution_count": 34,
   "metadata": {},
   "outputs": [],
   "source": [
    "#dto = 2. # (s) placeholder for observed time delay (s) between GW and gamma signal\n",
    "R_earth = 6.371e6 # (m) \n",
    "apogee_Fermi = 5.436e5 # (m)\n",
    "\n",
    "\n",
    "dt_error_Fermi_pos = (R_earth + apogee_Fermi) / C_SI # (s) Error due to light travel between Fermi and LVC, worst case scenario\n",
    "\n",
    "dt_error_LVC_pipelines = 0.07 # (s) Max error in timing in low latency pipelines\n",
    "\n",
    "dt_error_Fermi = 0.05 # (s)\n",
    "\n",
    "dterror = dt_error_Fermi_pos + dt_error_LVC_pipelines + dt_error_Fermi # (s) cumulative error"
   ]
  },
  {
   "cell_type": "code",
   "execution_count": 35,
   "metadata": {},
   "outputs": [],
   "source": [
    "# range of possible emission delay assumed\n",
    "\n",
    "tee = 0. # (s)  earliest assumed emission time (s) for photons, normally 0s\n",
    "tel = 10. # (s)  latest assumed emission time (s) for photons, normally 10s"
   ]
  },
  {
   "cell_type": "code",
   "execution_count": 36,
   "metadata": {},
   "outputs": [],
   "source": [
    "z=calculate_redshift(dL)[0][0]\n",
    "dvmax = C_SI*(1+z)*(dto+dterror-(1+z)*tee)/(dL*1e6*PC_SI)\n",
    "dvmin = C_SI*(1+z)*(dto-dterror-(1+z)*tel)/(dL*1e6*PC_SI)"
   ]
  },
  {
   "cell_type": "code",
   "execution_count": 37,
   "metadata": {},
   "outputs": [],
   "source": [
    "dvmin_exp = np.floor(np.log10(np.abs(dvmin))).astype(int)\n",
    "dvmin_string = str(dvmin)\n",
    "dvmin_base_string = dvmin_string.split(\"e\")\n",
    "dvmin_base = float(dvmin_base_string[0])\n",
    "\n",
    "\n",
    "dvmax_exp = np.floor(np.log10(np.abs(dvmax))).astype(int)\n",
    "dvmax_string = str(dvmax)\n",
    "dvmax_base_string = dvmax_string.split(\"e\")\n",
    "dvmax_base = float(dvmax_base_string[0])"
   ]
  },
  {
   "cell_type": "code",
   "execution_count": 38,
   "metadata": {},
   "outputs": [],
   "source": [
    "nbbmax=dvmax/(.5*np.real(sph_harm(0,0,0,0)))\n",
    "\n",
    "nbbmin=dvmin/(.5*np.real(sph_harm(0,0,0,0)))"
   ]
  },
  {
   "cell_type": "code",
   "execution_count": 39,
   "metadata": {},
   "outputs": [],
   "source": [
    "nbbmax_exp = np.floor(np.log10(np.abs(nbbmax))).astype(int)\n",
    "nbbmax_string = str(nbbmax)\n",
    "nbbmax_base_string = nbbmax_string.split(\"e\")\n",
    "nbbmax_base = float(nbbmax_base_string[0])\n",
    "\n",
    "nbbmin_exp = np.floor(np.log10(np.abs(nbbmin))).astype(int)\n",
    "nbbmin_string = str(nbbmin)\n",
    "nbbmin_base_string = nbbmin_string.split(\"e\")\n",
    "nbbmin_base = float(nbbmin_base_string[0])"
   ]
  },
  {
   "cell_type": "code",
   "execution_count": 40,
   "metadata": {},
   "outputs": [],
   "source": [
    "print('%In what follows: placeholders not automatized yet\\n', file = f)\n",
    "\n",
    "print('\\\\newcommand{\\\\Pvalues}{$P = 1- \\\\raven{%0.2f \\\\times 10^{%.0i}}$}' % (Proba_base,Proba_exp), file = f)\n",
    "print('\\\\newcommand{\\\\Ssigma}{\\\\raven{%0.1f }$\\\\sigma$}' % (Ssigma), file = f)\n",
    "print('\\\\newcommand{\\\\GRBtime}{\\\\issue{YYYY-MM-DD HH:MM:SS.mmm UTC (GPS time: X)}}', file = f)\n",
    "print('\\\\newcommand{\\\\tdelay}{$\\\\Delta t_{\\\\text{SGRB--GW}} = \\\\raven{%0.2f} \\pm \\\\issue{%0.2f} $ s}' % (dto,dterror), file = f)\n",
    "print('\\\\newcommand{\\\\dtErrorPos}{\\\\issue{%.2f}}' % (dt_error_Fermi_pos), file = f)\n",
    "print('\\\\newcommand{\\\\dtErrorLVCpipe}{\\\\issue{%.2f}}' % (dt_error_LVC_pipelines), file = f)\n",
    "print('\\\\newcommand{\\\\dtErrorFermipipe}{\\\\issue{%.2f}}' % (dt_error_Fermi), file = f)\n",
    "print('\\\\newcommand{\\\\vu}{\\\\raven{+%.2f \\\\times 10^{%.0i} }}' % (dvmax_base, dvmax_exp), file = f)\n",
    "print('\\\\newcommand{\\\\vl}{\\\\raven{%.2f \\\\times 10^{%.0i} }}' % (dvmin_base, dvmin_exp), file = f)\n",
    "print('\\\\newcommand{\\\\FSDratioU}{\\\\raven{xx~}}', file = f)\n",
    "print('\\\\newcommand{\\\\FSDratioL}{\\\\raven{xx~}}', file = f)\n",
    "print('\\\\newcommand{\\\\GRBevent}{\\\\raven{\\\\textsc{%s}}}' % (GRBevent), file = f)\n",
    "print('\\\\newcommand{\\\\GRBeventTitle}{\\\\textsc{%s}}' % (GRBevent), file = f) # use just to prevent color issue in a title when using \\issue in a section title\n",
    "print('\\\\newcommand{\\\\saau}{\\\\raven{+%.0f \\\\times 10^{%.0i} }}' % (nbbmax_base,nbbmax_exp), file = f)\n",
    "print('\\\\newcommand{\\\\saal}{\\\\raven{%.0f \\\\times 10^{%.0i} }}' % (nbbmin_base,nbbmin_exp), file = f)\n",
    "print('\\\\newcommand{\\\\mTdelay}{\\\\raven{%.2f}}' % (dto), file = f)\n",
    "print('\\\\newcommand{\\\\deltaTdelay}{\\\\issue{%.2f}}' % (dterror), file = f)\n"
   ]
  },
  {
   "cell_type": "code",
   "execution_count": 41,
   "metadata": {},
   "outputs": [],
   "source": [
    "f.close()"
   ]
  },
  {
   "cell_type": "code",
   "execution_count": 42,
   "metadata": {},
   "outputs": [
    {
     "data": {
      "text/plain": [
       "(None, None)"
      ]
     },
     "execution_count": 42,
     "metadata": {},
     "output_type": "execute_result"
    }
   ],
   "source": [
    "commandLine = subprocess.Popen(['pdflatex', 'SoG_LIV_arxiv_aps.tex'])\n",
    "commandLine.communicate()\n",
    "\n",
    "commandLine = subprocess.Popen(['bibtex', 'SoG_LIV_arxiv_aps.aux'])\n",
    "commandLine.communicate()\n",
    "\n",
    "commandLine = subprocess.Popen(['pdflatex', 'SoG_LIV_arxiv_aps.tex'])\n",
    "commandLine.communicate()\n",
    "\n",
    "commandLine = subprocess.Popen(['pdflatex', 'SoG_LIV_arxiv_aps.tex'])\n",
    "commandLine.communicate()"
   ]
  },
  {
   "cell_type": "code",
   "execution_count": 43,
   "metadata": {},
   "outputs": [],
   "source": [
    "os.rename('SoG_LIV_arxiv_aps.pdf','SoG_LIV_arxiv_aps_%s.pdf' % (params['GraceID']))"
   ]
  }
 ],
 "metadata": {
  "kernelspec": {
   "display_name": "Python 3",
   "language": "python",
   "name": "python3"
  },
  "language_info": {
   "codemirror_mode": {
    "name": "ipython",
    "version": 3
   },
   "file_extension": ".py",
   "mimetype": "text/x-python",
   "name": "python",
   "nbconvert_exporter": "python",
   "pygments_lexer": "ipython3",
   "version": "3.6.8"
  }
 },
 "nbformat": 4,
 "nbformat_minor": 2
}
