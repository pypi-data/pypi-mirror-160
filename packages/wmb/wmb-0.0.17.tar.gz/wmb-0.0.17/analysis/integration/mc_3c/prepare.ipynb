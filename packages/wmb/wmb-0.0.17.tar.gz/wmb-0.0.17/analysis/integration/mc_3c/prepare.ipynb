{
 "cells": [
  {
   "cell_type": "code",
   "execution_count": null,
   "id": "81176507",
   "metadata": {
    "ExecuteTime": {
     "end_time": "2022-06-28T07:47:45.873382Z",
     "start_time": "2022-06-28T07:47:37.798101Z"
    },
    "pycharm": {
     "name": "#%%\n"
    }
   },
   "outputs": [],
   "source": [
    "import pandas as pd\n",
    "from wmb import *\n",
    "\n",
    "import pathlib"
   ]
  },
  {
   "cell_type": "code",
   "execution_count": null,
   "id": "eefe7a4a",
   "metadata": {
    "ExecuteTime": {
     "end_time": "2022-06-28T07:47:52.773976Z",
     "start_time": "2022-06-28T07:47:47.627311Z"
    },
    "pycharm": {
     "name": "#%%\n"
    }
   },
   "outputs": [],
   "source": [
    "mc_annot = cemba.get_mc_annot()\n",
    "m3c_annot = cemba.get_m3c_mapping_metric()"
   ]
  },
  {
   "cell_type": "code",
   "execution_count": null,
   "id": "86dc160e",
   "metadata": {
    "ExecuteTime": {
     "end_time": "2022-06-28T07:47:53.821765Z",
     "start_time": "2022-06-28T07:47:53.818253Z"
    },
    "pycharm": {
     "name": "#%%\n"
    }
   },
   "outputs": [],
   "source": [
    "def save_index(cells, file_name, downsample=100000, random_state=0):\n",
    "    cells = pd.Series(cells)\n",
    "    if cells.size > downsample:\n",
    "        cells = cells.sample(downsample, random_state=random_state)\n",
    "    cells.to_csv(file_name, index=None, header=False)"
   ]
  },
  {
   "cell_type": "markdown",
   "id": "a601e944",
   "metadata": {
    "jp-MarkdownHeadingCollapsed": true,
    "tags": [],
    "pycharm": {
     "name": "#%% md\n"
    }
   },
   "source": [
    "## L1 - Neuron Non-Neuron"
   ]
  },
  {
   "cell_type": "code",
   "execution_count": null,
   "id": "f1b688fb",
   "metadata": {
    "ExecuteTime": {
     "end_time": "2022-06-28T07:47:55.396169Z",
     "start_time": "2022-06-28T07:47:54.875129Z"
    },
    "pycharm": {
     "name": "#%%\n"
    }
   },
   "outputs": [],
   "source": [
    "pathlib.Path('../L1/ALL').mkdir(parents=True, exist_ok=True)\n",
    "save_index(mc_annot.get_index('cell'),\n",
    "           file_name='../L1/ALL/mc_cells.txt',\n",
    "           downsample=3000000,\n",
    "           random_state=0)\n",
    "\n",
    "save_index(m3c_annot.index,\n",
    "           file_name='../L1/ALL/m3c_cells.txt',\n",
    "           downsample=3000000,\n",
    "           random_state=0)"
   ]
  },
  {
   "cell_type": "code",
   "execution_count": null,
   "id": "e9932eb3",
   "metadata": {
    "ExecuteTime": {
     "end_time": "2022-06-29T00:31:42.183072Z",
     "start_time": "2022-06-29T00:31:42.178185Z"
    },
    "pycharm": {
     "name": "#%%\n"
    }
   },
   "outputs": [],
   "source": [
    "cwd = pathlib.Path().absolute()\n",
    "\n",
    "with open('Snakefile') as f, open('../L1/Snakefile', 'w') as out_f:\n",
    "    snakefile_tmp = f.read()\n",
    "    snakefile_tmp = snakefile_tmp.replace('REPLACE_TEMPLATE_DIR', str(cwd))\n",
    "    snakefile_tmp = snakefile_tmp.replace('REPLACE_DATASET', 'CEMBA_3C')\n",
    "    snakefile_tmp = snakefile_tmp.replace('REPLACE_CLUSTER_COL', str('L1'))\n",
    "    snakefile_tmp = snakefile_tmp.replace('REPLACE_INTEGRATION_GROUP_KEY',\n",
    "                                          str('L2'))\n",
    "    snakefile_tmp = snakefile_tmp.replace('REPLACE_INTEGRATION_PLOT_KEY',\n",
    "                                          str('L1'))\n",
    "    snakefile_tmp = snakefile_tmp.replace(\n",
    "        'REPLACE_CATEGORICAL_KEY', str(['L1_annot', 'L2', 'DissectionRegion']))\n",
    "    out_f.write(snakefile_tmp)"
   ]
  },
  {
   "cell_type": "markdown",
   "id": "d7130c70",
   "metadata": {
    "pycharm": {
     "name": "#%% md\n"
    }
   },
   "source": [
    "## L2- Neuron and Non-Neuron"
   ]
  },
  {
   "cell_type": "code",
   "execution_count": null,
   "id": "3c2875da-d1ed-47ab-b4f5-ad7cbcc02438",
   "metadata": {
    "pycharm": {
     "name": "#%%\n"
    }
   },
   "outputs": [],
   "source": [
    "mc_groups = pd.read_csv('../L1/ALL/mc_integration_group.csv.gz',\n",
    "                        index_col=0).squeeze()\n",
    "m3c_groups = pd.read_csv('../L1/ALL/m3c_integration_group.csv.gz',\n",
    "                         index_col=0).squeeze()"
   ]
  },
  {
   "cell_type": "code",
   "execution_count": null,
   "id": "0b02a64e-35f6-4873-98da-210198bb376d",
   "metadata": {
    "tags": [],
    "pycharm": {
     "name": "#%%\n"
    }
   },
   "outputs": [],
   "source": [
    "# neuron (not include DG-GC and CB)\n",
    "mc_neurons = ~mc_annot['L1_annot'].isin(\n",
    "    ['ODC', 'OPC', 'ASC', 'MGC', 'CB', 'CBX', 'DG'])\n",
    "mc_non_neurons = mc_annot['L1_annot'].isin(\n",
    "    ['ODC', 'OPC', 'ASC', 'MGC'])\n",
    "gc_cb = mc_annot['L1_annot'].isin(\n",
    "    ['CB', 'CBX', 'DG'])\n",
    "\n",
    "mc_neurons = mc_annot.sel(cell = mc_neurons).get_index('cell').to_list()\n",
    "mc_non_neurons = mc_annot.sel(cell = mc_non_neurons).get_index('cell').to_list()\n",
    "gc_cb = mc_annot.sel(cell = gc_cb).get_index('cell').to_list()\n",
    "\n",
    "#inge groups in 3 groups\n",
    "gc_cb_inte = mc_groups[mc_groups.index.isin(gc_cb)].unique().tolist()\n",
    "non_neuron_inte = mc_groups[mc_groups.index.isin(mc_non_neurons)].unique().tolist()\n",
    "neuron_inte = mc_groups[mc_groups.index.isin(mc_neurons)].unique().tolist()"
   ]
  },
  {
   "cell_type": "code",
   "execution_count": null,
   "id": "c7ae2ae1",
   "metadata": {
    "pycharm": {
     "name": "#%%\n"
    }
   },
   "outputs": [],
   "source": [
    "# for L2 Neuron\n",
    "for integration_group in neuron_inte:\n",
    "    mc_cells = mc_groups[mc_groups  == integration_group].index\n",
    "    m3c_cells = m3c_groups[m3c_groups == integration_group].index\n",
    "\n",
    "    integration_group = f'InteGroup{integration_group}'\n",
    "    \n",
    "    \n",
    "    if mc_cells.size <= 150 or m3c_cells.size <= 150:\n",
    "        print(integration_group)\n",
    "    else:\n",
    "        out_dir = pathlib.Path(f'../L2/Neuron/{integration_group}')\n",
    "        out_dir.mkdir(exist_ok=True, parents=True)\n",
    "        save_index(mc_cells,\n",
    "                   f'../L2/Neuron/{integration_group}/mc_cells.txt',\n",
    "                   downsample=1000000,\n",
    "                   random_state=0)\n",
    "        save_index(m3c_cells,\n",
    "                   f'../L2/Neuron/{integration_group}/m3c_cells.txt',\n",
    "                   downsample=1000000,\n",
    "                   random_state=0)\n",
    "\n",
    "    \n",
    "cwd = pathlib.Path().absolute()\n",
    "with open('Snakefile') as f, open('../L2/Neuron/Snakefile', 'w') as out_f:\n",
    "    snakefile_tmp = f.read()\n",
    "    snakefile_tmp = snakefile_tmp.replace('REPLACE_MC_TYPE', str('CHN'))\n",
    "    snakefile_tmp = snakefile_tmp.replace('REPLACE_TEMPLATE_DIR', str(cwd))\n",
    "    snakefile_tmp = snakefile_tmp.replace('REPLACE_DATASET', 'AIBS_SMART')\n",
    "    snakefile_tmp = snakefile_tmp.replace('REPLACE_CLUSTER_COL', str('L2'))\n",
    "    snakefile_tmp = snakefile_tmp.replace('REPLACE_INTEGRATION_GROUP_KEY',\n",
    "                                          str('L3'))\n",
    "    snakefile_tmp = snakefile_tmp.replace('REPLACE_INTEGRATION_PLOT_KEY',\n",
    "                                          str('L2'))\n",
    "    snakefile_tmp = snakefile_tmp.replace(\n",
    "        'REPLACE_CATEGORICAL_KEY', str(['L2', 'L3', 'DissectionRegion']))\n",
    "    out_f.write(snakefile_tmp)"
   ]
  },
  {
   "cell_type": "code",
   "execution_count": null,
   "id": "204ad797",
   "metadata": {
    "pycharm": {
     "name": "#%%\n"
    }
   },
   "outputs": [],
   "source": [
    "#for L2 non_neuron\n",
    "for integration_group in non_neuron_inte:\n",
    "    mc_cells = mc_groups[mc_groups  == integration_group].index\n",
    "    m3c_cells = m3c_groups[m3c_groups == integration_group].index\n",
    "\n",
    "    integration_group = f'InteGroup{integration_group}'\n",
    "    \n",
    "    if mc_cells.size <= 150 or m3c_cells.size <= 150:\n",
    "        print(integration_group)\n",
    "    else:\n",
    "        out_dir = pathlib.Path(f'../L2/NonNeuron/{integration_group}')\n",
    "        out_dir.mkdir(exist_ok=True, parents=True)\n",
    "        \n",
    "        save_index(mc_cells,\n",
    "                   f'../L2/NonNeuron/{integration_group}/mc_cells.txt',\n",
    "                   downsample=1000000,\n",
    "                   random_state=0)\n",
    "        save_index(m3c_cells,\n",
    "                   f'../L2/NonNeuron/{integration_group}/m3c_cells.txt',\n",
    "                   downsample=1000000,\n",
    "                   random_state=0)\n",
    "\n",
    "    \n",
    "cwd = pathlib.Path().absolute()\n",
    "with open('Snakefile') as f, open('../L2/NonNeuron/Snakefile', 'w') as out_f:\n",
    "    snakefile_tmp = f.read()\n",
    "    snakefile_tmp = snakefile_tmp.replace('REPLACE_MC_TYPE', str('CGN'))\n",
    "    snakefile_tmp = snakefile_tmp.replace('REPLACE_TEMPLATE_DIR', str(cwd))\n",
    "    snakefile_tmp = snakefile_tmp.replace('REPLACE_DATASET', 'AIBS_SMART')\n",
    "    snakefile_tmp = snakefile_tmp.replace('REPLACE_CLUSTER_COL', str('L2'))\n",
    "    snakefile_tmp = snakefile_tmp.replace('REPLACE_INTEGRATION_GROUP_KEY',\n",
    "                                          str('L3'))\n",
    "    snakefile_tmp = snakefile_tmp.replace('REPLACE_INTEGRATION_PLOT_KEY',\n",
    "                                          str('L2'))\n",
    "    snakefile_tmp = snakefile_tmp.replace(\n",
    "        'REPLACE_CATEGORICAL_KEY', str(['L2', 'L3', 'DissectionRegion']))\n",
    "    out_f.write(snakefile_tmp)"
   ]
  },
  {
   "cell_type": "code",
   "execution_count": null,
   "id": "9ec15c0a",
   "metadata": {
    "pycharm": {
     "name": "#%%\n"
    }
   },
   "outputs": [],
   "source": [
    "#for gc_cb CHN\n",
    "for integration_group in gc_cb_inte:\n",
    "    mc_cells = mc_groups[mc_groups  == integration_group].index\n",
    "    m3c_cells = m3c_groups[m3c_groups == integration_group].index\n",
    "    \n",
    "    integration_group = f'InteGroup{integration_group}'\n",
    "    \n",
    "    \n",
    "    if mc_cells.size <= 150 or m3c_cells.size <= 150:\n",
    "        print(integration_group)\n",
    "    else:\n",
    "        out_dir = pathlib.Path(f'../L2/gc_cb/ch/{integration_group}')\n",
    "        out_dir.mkdir(exist_ok=True, parents=True)\n",
    "        \n",
    "        save_index(mc_cells,\n",
    "                   f'../L2/gc_cb/ch/{integration_group}/mc_cells.txt',\n",
    "                   downsample=1000000,\n",
    "                   random_state=0)\n",
    "        save_index(m3c_cells,\n",
    "                   f'../L2/gc_cb/ch/{integration_group}/m3c_cells.txt',\n",
    "                   downsample=1000000,\n",
    "                   random_state=0)\n",
    "\n",
    "    \n",
    "cwd = pathlib.Path().absolute()\n",
    "with open('Snakefile') as f, open('../L2/gc_cb/ch//Snakefile', 'w') as out_f:\n",
    "    snakefile_tmp = f.read()\n",
    "    snakefile_tmp = snakefile_tmp.replace('REPLACE_MC_TYPE', str('CHN'))\n",
    "    snakefile_tmp = snakefile_tmp.replace('REPLACE_TEMPLATE_DIR', str(cwd))\n",
    "    snakefile_tmp = snakefile_tmp.replace('REPLACE_DATASET', 'AIBS_SMART')\n",
    "    snakefile_tmp = snakefile_tmp.replace('REPLACE_CLUSTER_COL', str('L2'))\n",
    "    snakefile_tmp = snakefile_tmp.replace('REPLACE_INTEGRATION_GROUP_KEY',\n",
    "                                          str('L3'))\n",
    "    snakefile_tmp = snakefile_tmp.replace('REPLACE_INTEGRATION_PLOT_KEY',\n",
    "                                          str('L2'))\n",
    "    snakefile_tmp = snakefile_tmp.replace(\n",
    "        'REPLACE_CATEGORICAL_KEY', str(['L2', 'L3', 'DissectionRegion']))\n",
    "    out_f.write(snakefile_tmp)"
   ]
  },
  {
   "cell_type": "code",
   "execution_count": null,
   "id": "db05acbb",
   "metadata": {
    "pycharm": {
     "name": "#%%\n"
    }
   },
   "outputs": [],
   "source": [
    "#for gc_cb, CGN\n",
    "for integration_group in gc_cb_inte:\n",
    "    mc_cells = mc_groups[mc_groups  == integration_group].index\n",
    "    m3c_cells = m3c_groups[m3c_groups == integration_group].index\n",
    "    \n",
    "    integration_group = f'InteGroup{integration_group}'\n",
    "    \n",
    "    \n",
    "    if mc_cells.size <= 150 or m3c_cells.size <= 150:\n",
    "        print(integration_group)\n",
    "    else:\n",
    "        out_dir = pathlib.Path(f'../L2/gc_cb/cg/{integration_group}')\n",
    "        out_dir.mkdir(exist_ok=True, parents=True)\n",
    "        \n",
    "        save_index(mc_cells,\n",
    "                   f'../L2/gc_cb/cg/{integration_group}/mc_cells.txt',\n",
    "                   downsample=1000000,\n",
    "                   random_state=0)\n",
    "        save_index(m3c_cells,\n",
    "                   f'../L2/gc_cb/cg/{integration_group}/m3c_cells.txt',\n",
    "                   downsample=1000000,\n",
    "                   random_state=0)\n",
    "\n",
    "    \n",
    "cwd = pathlib.Path().absolute()\n",
    "with open('Snakefile') as f, open('../L2/gc_cb/cg/cSnakefile', 'w') as out_f:\n",
    "    snakefile_tmp = f.read()\n",
    "    snakefile_tmp = snakefile_tmp.replace('REPLACE_MC_TYPE', str('CGN'))\n",
    "    snakefile_tmp = snakefile_tmp.replace('REPLACE_TEMPLATE_DIR', str(cwd))\n",
    "    snakefile_tmp = snakefile_tmp.replace('REPLACE_DATASET', 'AIBS_SMART')\n",
    "    snakefile_tmp = snakefile_tmp.replace('REPLACE_CLUSTER_COL', str('L2'))\n",
    "    snakefile_tmp = snakefile_tmp.replace('REPLACE_INTEGRATION_GROUP_KEY',\n",
    "                                          str('L3'))\n",
    "    snakefile_tmp = snakefile_tmp.replace('REPLACE_INTEGRATION_PLOT_KEY',\n",
    "                                          str('L2'))\n",
    "    snakefile_tmp = snakefile_tmp.replace(\n",
    "        'REPLACE_CATEGORICAL_KEY', str(['L2', 'L3', 'DissectionRegion']))\n",
    "    out_f.write(snakefile_tmp)"
   ]
  },
  {
   "cell_type": "code",
   "execution_count": null,
   "id": "74986419",
   "metadata": {
    "pycharm": {
     "name": "#%%\n"
    }
   },
   "outputs": [],
   "source": []
  },
  {
   "cell_type": "code",
   "execution_count": null,
   "id": "651c2c2a",
   "metadata": {
    "pycharm": {
     "name": "#%%\n"
    }
   },
   "outputs": [],
   "source": []
  },
  {
   "cell_type": "code",
   "execution_count": null,
   "id": "a61351e8",
   "metadata": {
    "pycharm": {
     "name": "#%%\n"
    }
   },
   "outputs": [],
   "source": []
  }
 ],
 "metadata": {
  "hide_input": false,
  "kernelspec": {
   "display_name": "Python 3 (ipykernel)",
   "language": "python",
   "name": "python3"
  },
  "language_info": {
   "codemirror_mode": {
    "name": "ipython",
    "version": 3
   },
   "file_extension": ".py",
   "mimetype": "text/x-python",
   "name": "python",
   "nbconvert_exporter": "python",
   "pygments_lexer": "ipython3",
   "version": "3.7.12"
  },
  "toc": {
   "base_numbering": 1,
   "nav_menu": {},
   "number_sections": true,
   "sideBar": true,
   "skip_h1_title": true,
   "title_cell": "Table of Contents",
   "title_sidebar": "Contents",
   "toc_cell": false,
   "toc_position": {},
   "toc_section_display": true,
   "toc_window_display": true
  }
 },
 "nbformat": 4,
 "nbformat_minor": 5
}