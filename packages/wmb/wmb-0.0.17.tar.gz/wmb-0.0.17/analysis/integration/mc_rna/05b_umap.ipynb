{
 "cells": [
  {
   "cell_type": "code",
   "execution_count": 1,
   "id": "1b6e06ba-3398-4217-8bc4-ef3022d10b0d",
   "metadata": {},
   "outputs": [
    {
     "name": "stdout",
     "output_type": "stream",
     "text": [
      "CEMBA_SNM3C_3C_CHROM100K_RAW_ZARR_PATH do not exist: /gale/netapp/cemba3c/BICCN/CEMBA_3C/mcds/CEMBA.snm3C.chrom100k_raw.zarr\n",
      "CEMBA_SNM3C_3C_COMPARTMENT_ZARR_PATH do not exist: /gale/netapp/cemba3c/BICCN/CEMBA_3C/mcds/CEMBA.snm3C.3C.mcds/chrom100k\n",
      "CEMBA_SNM3C_3C_DOMAIN_INSULATION_ZARR_PATH do not exist: /gale/netapp/cemba3c/BICCN/CEMBA_3C/mcds/CEMBA.snm3C.3C.mcds/chrom25k\n",
      "CEMBA_SNM3C_CELL_TYPE_ANNOTATION_PATH do not exist: /gale/netapp/cemba3c/BICCN/wmb/cemba/CEMBA.snm3C.Annotations.zarr\n",
      "CEMBA_SNM3C_GENE_CHUNK_ZARR_PATH do not exist: /gale/netapp/cemba3c/BICCN/share/gene_mcds_for_plot/GeneChunks/CEMBA.snm3C\n",
      "CEMBA_SNMC_GENE_CHUNK_ZARR_PATH do not exist: /gale/netapp/cemba3c/BICCN/share/gene_mcds_for_plot/GeneChunks/CEMBA.snmC\n",
      "AIBS_SMART_GENE_CHUNK_ZARR_PATH do not exist: /gale/netapp/cemba3c/BICCN/share/gene_mcds_for_plot/GeneChunks/AIBS.SMART\n",
      "AIBS_TENX_GENE_CHUNK_ZARR_PATH do not exist: /gale/netapp/cemba3c/BICCN/share/gene_mcds_for_plot/GeneChunks/AIBS.TENX\n",
      "BROAD_TENX_GENE_CHUNK_ZARR_PATH do not exist: /gale/netapp/cemba3c/BICCN/share/gene_mcds_for_plot/GeneChunks/BROAD.TENX\n"
     ]
    }
   ],
   "source": [
    "import matplotlib.pyplot as plt\n",
    "\n",
    "from ALLCools.clustering import tsne\n",
    "from ALLCools.plot import *\n",
    "from ALLCools.integration import SeuratIntegration\n",
    "from wmb import brain\n",
    "\n",
    "import scanpy as sc\n",
    "import anndata\n",
    "from harmonypy import run_harmony"
   ]
  },
  {
   "cell_type": "code",
   "execution_count": 3,
   "id": "45dfb757-85e3-42cc-bb30-13fc16ca7fe8",
   "metadata": {},
   "outputs": [],
   "source": [
    "adata_merge = anndata.read_h5ad('final_with_coords.h5ad')"
   ]
  },
  {
   "cell_type": "code",
   "execution_count": 4,
   "id": "7b43892b-796c-4a97-96c1-d781541b80c0",
   "metadata": {},
   "outputs": [
    {
     "data": {
      "text/plain": [
       "AnnData object with n_obs × n_vars = 1542029 × 5549\n",
       "    obs: 'count', 'umi_count', 'n_counts', 'Modality', 'L2', 'L3', 'DissectionRegion', 'L2_transfer', 'L3_transfer', 'DissectionRegion_transfer', 'leiden'\n",
       "    var: 'chrom', 'end-RNA', 'start-RNA', 'name-RNA', 'mean-RNA', 'std-RNA', 'cov_mean-mC', 'end-mC', 'start-mC', 'cef-mC'\n",
       "    uns: 'leiden', 'neighbors'\n",
       "    obsm: 'X_harmony', 'X_pca_integrate', 'X_tsne'\n",
       "    obsp: 'connectivities', 'distances'"
      ]
     },
     "execution_count": 4,
     "metadata": {},
     "output_type": "execute_result"
    }
   ],
   "source": [
    "adata_merge"
   ]
  },
  {
   "cell_type": "markdown",
   "id": "487e45ed-457e-42f8-9b01-e3cb39eb0e40",
   "metadata": {},
   "source": [
    "# umap"
   ]
  },
  {
   "cell_type": "code",
   "execution_count": null,
   "id": "a67464ef-c917-4155-96a2-7fd4f3fba5ef",
   "metadata": {},
   "outputs": [],
   "source": [
    "adata_merge.obsm['X_pca'] = adata_merge.obsm['X_harmony']\n",
    "sc.pp.neighbors(adata_merge)"
   ]
  },
  {
   "cell_type": "code",
   "execution_count": null,
   "id": "18f78384-b5fb-4c30-ab31-f54eaec6046f",
   "metadata": {},
   "outputs": [],
   "source": [
    "min_dist = max(0.1, 1 - adata_merge.shape[0] / 60000)\n",
    "sc.tl.umap(adata_merge, min_dist=min_dist)\n",
    "del adata_merge.obsm['X_pca']"
   ]
  },
  {
   "cell_type": "code",
   "execution_count": null,
   "id": "235a76f5-d20e-4447-a16e-7d58d01589bd",
   "metadata": {},
   "outputs": [],
   "source": [
    "sc.tl.leiden(adata_merge, resolution=0.3)"
   ]
  },
  {
   "cell_type": "markdown",
   "id": "7005d134-0521-4327-ad5b-214d70d02f9f",
   "metadata": {},
   "source": [
    "# plot"
   ]
  },
  {
   "cell_type": "code",
   "execution_count": null,
   "id": "3dc41de1-8797-43a5-85ba-6ad6c730f198",
   "metadata": {},
   "outputs": [],
   "source": [
    "def plot(coord_base):\n",
    "    fig, axes = plt.subplots(nrows=2,\n",
    "                             ncols=3,\n",
    "                             figsize=(12, 8),\n",
    "                             dpi=300,\n",
    "                             constrained_layout=True)\n",
    "\n",
    "    mc_data = adata_merge[adata_merge.obs['Modality'] == 'mC']\n",
    "    rna_data = adata_merge[adata_merge.obs['Modality'] == 'RNA']\n",
    "\n",
    "    ax = axes[0, 0]\n",
    "    categorical_scatter(data=rna_data,\n",
    "                        coord_base=coord_base,\n",
    "                        max_points=None,\n",
    "                        hue=None,\n",
    "                        scatter_kws=dict(color='lightgrey'),\n",
    "                        ax=ax)\n",
    "    categorical_scatter(\n",
    "        data=mc_data,\n",
    "        ax=ax,\n",
    "        coord_base=coord_base,\n",
    "        hue='leiden',\n",
    "        text_anno='leiden',\n",
    "        palette='tab20',\n",
    "        max_points=None,\n",
    "    )\n",
    "\n",
    "    ax = axes[0, 1]\n",
    "    categorical_scatter(data=rna_data,\n",
    "                        coord_base=coord_base,\n",
    "                        max_points=None,\n",
    "                        hue=None,\n",
    "                        scatter_kws=dict(color='lightgrey'),\n",
    "                        ax=ax)\n",
    "    categorical_scatter(\n",
    "        data=mc_data,\n",
    "        ax=ax,\n",
    "        coord_base=coord_base,\n",
    "        hue=f'{plot_key}',\n",
    "        # text_anno='L2',\n",
    "        palette='tab20',\n",
    "        max_points=None,\n",
    "    )\n",
    "\n",
    "    ax = axes[0, 2]\n",
    "    categorical_scatter(data=rna_data,\n",
    "                        coord_base=coord_base,\n",
    "                        max_points=None,\n",
    "                        hue=None,\n",
    "                        scatter_kws=dict(color='lightgrey'),\n",
    "                        ax=ax)\n",
    "    region_palette_1 = brain.get_dissection_region_palette(ref_region_type)\n",
    "    categorical_scatter(\n",
    "        data=mc_data,\n",
    "        ax=ax,\n",
    "        coord_base=coord_base,\n",
    "        hue='DissectionRegion',\n",
    "        palette=region_palette_1,\n",
    "    )\n",
    "\n",
    "    ax = axes[1, 0]\n",
    "    categorical_scatter(data=mc_data,\n",
    "                        coord_base=coord_base,\n",
    "                        max_points=None,\n",
    "                        hue=None,\n",
    "                        scatter_kws=dict(color='lightgrey'),\n",
    "                        ax=ax)\n",
    "    categorical_scatter(\n",
    "        data=rna_data,\n",
    "        ax=ax,\n",
    "        coord_base=coord_base,\n",
    "        hue='leiden',\n",
    "        text_anno='leiden',\n",
    "        palette='tab20',\n",
    "        max_points=None,\n",
    "    )\n",
    "\n",
    "    ax = axes[1, 1]\n",
    "    categorical_scatter(data=mc_data,\n",
    "                        coord_base=coord_base,\n",
    "                        max_points=None,\n",
    "                        hue=None,\n",
    "                        scatter_kws=dict(color='lightgrey'),\n",
    "                        ax=ax)\n",
    "    categorical_scatter(\n",
    "        data=rna_data,\n",
    "        ax=ax,\n",
    "        coord_base=coord_base,\n",
    "        hue=f'{plot_key}_transfer',\n",
    "        # text_anno='L2_transfer',\n",
    "        palette='tab20',\n",
    "        max_points=None,\n",
    "    )\n",
    "\n",
    "    ax = axes[1, 2]\n",
    "    categorical_scatter(data=mc_data,\n",
    "                        coord_base=coord_base,\n",
    "                        max_points=None,\n",
    "                        hue=None,\n",
    "                        scatter_kws=dict(color='lightgrey'),\n",
    "                        ax=ax)\n",
    "    region_palette_2 = brain.get_dissection_region_palette(query_region_type)\n",
    "    categorical_scatter(\n",
    "        data=rna_data,\n",
    "        ax=ax,\n",
    "        coord_base=coord_base,\n",
    "        hue='DissectionRegion',\n",
    "        palette=region_palette_2,\n",
    "    )\n",
    "\n",
    "    for i, xx in enumerate([\n",
    "            'Ref Co-cluster', 'Ref CellType', 'Ref Region',\n",
    "            'Query Co-cluster', 'Query CellType Transfer', 'Query Region'\n",
    "    ]):\n",
    "        axes.flatten()[i].set_title(xx, fontsize=15)\n",
    "    return"
   ]
  },
  {
   "cell_type": "code",
   "execution_count": null,
   "id": "b8d12715-240a-4f7b-b4aa-a89314ed646a",
   "metadata": {},
   "outputs": [],
   "source": [
    "#plot('umap')"
   ]
  },
  {
   "cell_type": "markdown",
   "id": "cccb396b-7b7a-49bb-a624-dc7b594c3c41",
   "metadata": {},
   "source": [
    "# save"
   ]
  },
  {
   "cell_type": "code",
   "execution_count": null,
   "id": "60218fbc-d60e-4f5e-b77e-4496fc261e82",
   "metadata": {},
   "outputs": [],
   "source": [
    "adata_merge.write_h5ad('final_with_umap_coords.h5ad')"
   ]
  },
  {
   "cell_type": "code",
   "execution_count": null,
   "id": "6c2cac00-26e8-4346-b4af-5dc0b32084c8",
   "metadata": {},
   "outputs": [],
   "source": [
    "adata_merge"
   ]
  },
  {
   "cell_type": "code",
   "execution_count": null,
   "id": "b654f774-89bd-4f1c-a238-c1ef7f975b8e",
   "metadata": {},
   "outputs": [],
   "source": []
  }
 ],
 "metadata": {
  "kernelspec": {
   "display_name": "Python 3 (ipykernel)",
   "language": "python",
   "name": "python3"
  },
  "language_info": {
   "codemirror_mode": {
    "name": "ipython",
    "version": 3
   },
   "file_extension": ".py",
   "mimetype": "text/x-python",
   "name": "python",
   "nbconvert_exporter": "python",
   "pygments_lexer": "ipython3",
   "version": "3.8.13"
  }
 },
 "nbformat": 4,
 "nbformat_minor": 5
}
