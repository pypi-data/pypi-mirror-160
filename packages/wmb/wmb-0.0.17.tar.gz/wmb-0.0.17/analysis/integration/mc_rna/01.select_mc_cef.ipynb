{
 "cells": [
  {
   "cell_type": "markdown",
   "id": "68434496",
   "metadata": {
    "papermill": {
     "duration": 0.011024,
     "end_time": "2022-06-20T23:08:33.560969",
     "exception": false,
     "start_time": "2022-06-20T23:08:33.549945",
     "status": "completed"
    },
    "pycharm": {
     "name": "#%% md\n"
    },
    "tags": []
   },
   "source": [
    "## Import"
   ]
  },
  {
   "cell_type": "code",
   "execution_count": 1,
   "id": "4b3c1327",
   "metadata": {
    "ExecuteTime": {
     "end_time": "2022-06-25T18:29:09.603883Z",
     "start_time": "2022-06-25T18:28:49.913862Z"
    },
    "execution": {
     "iopub.execute_input": "2022-06-20T23:08:33.588357Z",
     "iopub.status.busy": "2022-06-20T23:08:33.587936Z",
     "iopub.status.idle": "2022-06-20T23:08:36.964643Z",
     "shell.execute_reply": "2022-06-20T23:08:36.964955Z"
    },
    "papermill": {
     "duration": 3.393328,
     "end_time": "2022-06-20T23:08:36.965154",
     "exception": false,
     "start_time": "2022-06-20T23:08:33.571826",
     "status": "completed"
    },
    "pycharm": {
     "name": "#%%\n"
    },
    "tags": []
   },
   "outputs": [],
   "source": [
    "from wmb import brain, cemba, mm10\n",
    "import seaborn as sns\n",
    "\n",
    "from ALLCools.clustering import *\n",
    "from ALLCools.mcds import MCDS\n",
    "from ALLCools.plot import *\n",
    "\n",
    "import pandas as pd\n",
    "import matplotlib.pyplot as plt\n",
    "from ALLCools.clustering import cluster_enriched_features, log_scale"
   ]
  },
  {
   "cell_type": "code",
   "execution_count": 2,
   "id": "ca8aa116",
   "metadata": {
    "ExecuteTime": {
     "end_time": "2022-06-25T18:29:10.928342Z",
     "start_time": "2022-06-25T18:29:10.925766Z"
    },
    "execution": {
     "iopub.execute_input": "2022-06-20T23:08:36.991533Z",
     "iopub.status.busy": "2022-06-20T23:08:36.991150Z",
     "iopub.status.idle": "2022-06-20T23:08:36.992644Z",
     "shell.execute_reply": "2022-06-20T23:08:36.992324Z"
    },
    "papermill": {
     "duration": 0.01588,
     "end_time": "2022-06-20T23:08:36.992726",
     "exception": false,
     "start_time": "2022-06-20T23:08:36.976846",
     "status": "completed"
    },
    "pycharm": {
     "name": "#%%\n"
    },
    "tags": [
     "parameters"
    ]
   },
   "outputs": [],
   "source": [
    "var_dim = 'geneslop2k'\n",
    "cluster_col = 'L1'\n",
    "chrom_to_remove = ['chrX', 'chrY', 'chrM', 'chrL']\n",
    "downsample = 500"
   ]
  },
  {
   "cell_type": "markdown",
   "id": "e60ee638",
   "metadata": {
    "papermill": {
     "duration": 0.010957,
     "end_time": "2022-06-20T23:08:37.014633",
     "exception": false,
     "start_time": "2022-06-20T23:08:37.003676",
     "status": "completed"
    },
    "pycharm": {
     "name": "#%% md\n"
    },
    "tags": []
   },
   "source": [
    "## Select cells"
   ]
  },
  {
   "cell_type": "code",
   "execution_count": 3,
   "id": "e5e3ec7f",
   "metadata": {
    "ExecuteTime": {
     "end_time": "2022-06-25T18:29:12.333727Z",
     "start_time": "2022-06-25T18:29:12.305321Z"
    },
    "execution": {
     "iopub.execute_input": "2022-06-20T23:08:37.039494Z",
     "iopub.status.busy": "2022-06-20T23:08:37.039117Z",
     "iopub.status.idle": "2022-06-20T23:08:37.098152Z",
     "shell.execute_reply": "2022-06-20T23:08:37.098487Z"
    },
    "papermill": {
     "duration": 0.072951,
     "end_time": "2022-06-20T23:08:37.098607",
     "exception": false,
     "start_time": "2022-06-20T23:08:37.025656",
     "status": "completed"
    },
    "pycharm": {
     "name": "#%%\n"
    },
    "tags": []
   },
   "outputs": [
    {
     "data": {
      "text/plain": [
       "5000"
      ]
     },
     "execution_count": 3,
     "metadata": {},
     "output_type": "execute_result"
    }
   ],
   "source": [
    "cells = pd.read_csv('mc_cells.txt', index_col=0, header=None).index\n",
    "cells.name = 'cell'\n",
    "cells.size"
   ]
  },
  {
   "cell_type": "markdown",
   "id": "09f4cf3b",
   "metadata": {
    "ExecuteTime": {
     "end_time": "2022-06-21T04:51:56.476879Z",
     "start_time": "2022-06-21T04:51:56.474668Z"
    }
   },
   "source": [
    "## Downsample cells"
   ]
  },
  {
   "cell_type": "code",
   "execution_count": 4,
   "id": "75689412",
   "metadata": {
    "ExecuteTime": {
     "end_time": "2022-06-25T18:29:19.073206Z",
     "start_time": "2022-06-25T18:29:15.055053Z"
    }
   },
   "outputs": [
    {
     "data": {
      "text/plain": [
       "4287"
      ]
     },
     "execution_count": 4,
     "metadata": {},
     "output_type": "execute_result"
    }
   ],
   "source": [
    "annot = cemba.get_mc_annot()\n",
    "clusters = annot[cluster_col].to_pandas()\n",
    "clusters = clusters.loc[cells].copy()\n",
    "\n",
    "if downsample is not None:\n",
    "    use_cells = []\n",
    "    for cluster, sub_series in clusters.groupby(clusters):\n",
    "        if sub_series.size > downsample:\n",
    "            _cells = sub_series.sample(downsample, random_state=0).index\n",
    "        else:\n",
    "            _cells = sub_series.index\n",
    "        use_cells += _cells.tolist()\n",
    "    use_cells = pd.Index(use_cells)\n",
    "else:\n",
    "    use_cells = cells\n",
    "    \n",
    "use_cells.size"
   ]
  },
  {
   "cell_type": "markdown",
   "id": "abc2eddd",
   "metadata": {
    "papermill": {
     "duration": 0.011321,
     "end_time": "2022-06-20T23:08:37.121735",
     "exception": false,
     "start_time": "2022-06-20T23:08:37.110414",
     "status": "completed"
    },
    "pycharm": {
     "name": "#%% md\n"
    },
    "tags": []
   },
   "source": [
    "## Get adata"
   ]
  },
  {
   "cell_type": "code",
   "execution_count": 5,
   "id": "a6636dd5",
   "metadata": {
    "ExecuteTime": {
     "end_time": "2022-06-25T18:29:28.675481Z",
     "start_time": "2022-06-25T18:29:20.888505Z"
    },
    "execution": {
     "iopub.execute_input": "2022-06-20T23:08:37.149734Z",
     "iopub.status.busy": "2022-06-20T23:08:37.149320Z",
     "iopub.status.idle": "2022-06-20T23:08:37.790132Z",
     "shell.execute_reply": "2022-06-20T23:08:37.790489Z"
    },
    "papermill": {
     "duration": 0.657939,
     "end_time": "2022-06-20T23:08:37.790638",
     "exception": false,
     "start_time": "2022-06-20T23:08:37.132699",
     "status": "completed"
    },
    "pycharm": {
     "name": "#%%\n"
    },
    "scrolled": true,
    "tags": []
   },
   "outputs": [
    {
     "data": {
      "text/html": [
       "<div><svg style=\"position: absolute; width: 0; height: 0; overflow: hidden\">\n",
       "<defs>\n",
       "<symbol id=\"icon-database\" viewBox=\"0 0 32 32\">\n",
       "<path d=\"M16 0c-8.837 0-16 2.239-16 5v4c0 2.761 7.163 5 16 5s16-2.239 16-5v-4c0-2.761-7.163-5-16-5z\"></path>\n",
       "<path d=\"M16 17c-8.837 0-16-2.239-16-5v6c0 2.761 7.163 5 16 5s16-2.239 16-5v-6c0 2.761-7.163 5-16 5z\"></path>\n",
       "<path d=\"M16 26c-8.837 0-16-2.239-16-5v6c0 2.761 7.163 5 16 5s16-2.239 16-5v-6c0 2.761-7.163 5-16 5z\"></path>\n",
       "</symbol>\n",
       "<symbol id=\"icon-file-text2\" viewBox=\"0 0 32 32\">\n",
       "<path d=\"M28.681 7.159c-0.694-0.947-1.662-2.053-2.724-3.116s-2.169-2.030-3.116-2.724c-1.612-1.182-2.393-1.319-2.841-1.319h-15.5c-1.378 0-2.5 1.121-2.5 2.5v27c0 1.378 1.122 2.5 2.5 2.5h23c1.378 0 2.5-1.122 2.5-2.5v-19.5c0-0.448-0.137-1.23-1.319-2.841zM24.543 5.457c0.959 0.959 1.712 1.825 2.268 2.543h-4.811v-4.811c0.718 0.556 1.584 1.309 2.543 2.268zM28 29.5c0 0.271-0.229 0.5-0.5 0.5h-23c-0.271 0-0.5-0.229-0.5-0.5v-27c0-0.271 0.229-0.5 0.5-0.5 0 0 15.499-0 15.5 0v7c0 0.552 0.448 1 1 1h7v19.5z\"></path>\n",
       "<path d=\"M23 26h-14c-0.552 0-1-0.448-1-1s0.448-1 1-1h14c0.552 0 1 0.448 1 1s-0.448 1-1 1z\"></path>\n",
       "<path d=\"M23 22h-14c-0.552 0-1-0.448-1-1s0.448-1 1-1h14c0.552 0 1 0.448 1 1s-0.448 1-1 1z\"></path>\n",
       "<path d=\"M23 18h-14c-0.552 0-1-0.448-1-1s0.448-1 1-1h14c0.552 0 1 0.448 1 1s-0.448 1-1 1z\"></path>\n",
       "</symbol>\n",
       "</defs>\n",
       "</svg>\n",
       "<style>/* CSS stylesheet for displaying xarray objects in jupyterlab.\n",
       " *\n",
       " */\n",
       "\n",
       ":root {\n",
       "  --xr-font-color0: var(--jp-content-font-color0, rgba(0, 0, 0, 1));\n",
       "  --xr-font-color2: var(--jp-content-font-color2, rgba(0, 0, 0, 0.54));\n",
       "  --xr-font-color3: var(--jp-content-font-color3, rgba(0, 0, 0, 0.38));\n",
       "  --xr-border-color: var(--jp-border-color2, #e0e0e0);\n",
       "  --xr-disabled-color: var(--jp-layout-color3, #bdbdbd);\n",
       "  --xr-background-color: var(--jp-layout-color0, white);\n",
       "  --xr-background-color-row-even: var(--jp-layout-color1, white);\n",
       "  --xr-background-color-row-odd: var(--jp-layout-color2, #eeeeee);\n",
       "}\n",
       "\n",
       "html[theme=dark],\n",
       "body.vscode-dark {\n",
       "  --xr-font-color0: rgba(255, 255, 255, 1);\n",
       "  --xr-font-color2: rgba(255, 255, 255, 0.54);\n",
       "  --xr-font-color3: rgba(255, 255, 255, 0.38);\n",
       "  --xr-border-color: #1F1F1F;\n",
       "  --xr-disabled-color: #515151;\n",
       "  --xr-background-color: #111111;\n",
       "  --xr-background-color-row-even: #111111;\n",
       "  --xr-background-color-row-odd: #313131;\n",
       "}\n",
       "\n",
       ".xr-wrap {\n",
       "  display: block !important;\n",
       "  min-width: 300px;\n",
       "  max-width: 700px;\n",
       "}\n",
       "\n",
       ".xr-text-repr-fallback {\n",
       "  /* fallback to plain text repr when CSS is not injected (untrusted notebook) */\n",
       "  display: none;\n",
       "}\n",
       "\n",
       ".xr-header {\n",
       "  padding-top: 6px;\n",
       "  padding-bottom: 6px;\n",
       "  margin-bottom: 4px;\n",
       "  border-bottom: solid 1px var(--xr-border-color);\n",
       "}\n",
       "\n",
       ".xr-header > div,\n",
       ".xr-header > ul {\n",
       "  display: inline;\n",
       "  margin-top: 0;\n",
       "  margin-bottom: 0;\n",
       "}\n",
       "\n",
       ".xr-obj-type,\n",
       ".xr-array-name {\n",
       "  margin-left: 2px;\n",
       "  margin-right: 10px;\n",
       "}\n",
       "\n",
       ".xr-obj-type {\n",
       "  color: var(--xr-font-color2);\n",
       "}\n",
       "\n",
       ".xr-sections {\n",
       "  padding-left: 0 !important;\n",
       "  display: grid;\n",
       "  grid-template-columns: 150px auto auto 1fr 20px 20px;\n",
       "}\n",
       "\n",
       ".xr-section-item {\n",
       "  display: contents;\n",
       "}\n",
       "\n",
       ".xr-section-item input {\n",
       "  display: none;\n",
       "}\n",
       "\n",
       ".xr-section-item input + label {\n",
       "  color: var(--xr-disabled-color);\n",
       "}\n",
       "\n",
       ".xr-section-item input:enabled + label {\n",
       "  cursor: pointer;\n",
       "  color: var(--xr-font-color2);\n",
       "}\n",
       "\n",
       ".xr-section-item input:enabled + label:hover {\n",
       "  color: var(--xr-font-color0);\n",
       "}\n",
       "\n",
       ".xr-section-summary {\n",
       "  grid-column: 1;\n",
       "  color: var(--xr-font-color2);\n",
       "  font-weight: 500;\n",
       "}\n",
       "\n",
       ".xr-section-summary > span {\n",
       "  display: inline-block;\n",
       "  padding-left: 0.5em;\n",
       "}\n",
       "\n",
       ".xr-section-summary-in:disabled + label {\n",
       "  color: var(--xr-font-color2);\n",
       "}\n",
       "\n",
       ".xr-section-summary-in + label:before {\n",
       "  display: inline-block;\n",
       "  content: '►';\n",
       "  font-size: 11px;\n",
       "  width: 15px;\n",
       "  text-align: center;\n",
       "}\n",
       "\n",
       ".xr-section-summary-in:disabled + label:before {\n",
       "  color: var(--xr-disabled-color);\n",
       "}\n",
       "\n",
       ".xr-section-summary-in:checked + label:before {\n",
       "  content: '▼';\n",
       "}\n",
       "\n",
       ".xr-section-summary-in:checked + label > span {\n",
       "  display: none;\n",
       "}\n",
       "\n",
       ".xr-section-summary,\n",
       ".xr-section-inline-details {\n",
       "  padding-top: 4px;\n",
       "  padding-bottom: 4px;\n",
       "}\n",
       "\n",
       ".xr-section-inline-details {\n",
       "  grid-column: 2 / -1;\n",
       "}\n",
       "\n",
       ".xr-section-details {\n",
       "  display: none;\n",
       "  grid-column: 1 / -1;\n",
       "  margin-bottom: 5px;\n",
       "}\n",
       "\n",
       ".xr-section-summary-in:checked ~ .xr-section-details {\n",
       "  display: contents;\n",
       "}\n",
       "\n",
       ".xr-array-wrap {\n",
       "  grid-column: 1 / -1;\n",
       "  display: grid;\n",
       "  grid-template-columns: 20px auto;\n",
       "}\n",
       "\n",
       ".xr-array-wrap > label {\n",
       "  grid-column: 1;\n",
       "  vertical-align: top;\n",
       "}\n",
       "\n",
       ".xr-preview {\n",
       "  color: var(--xr-font-color3);\n",
       "}\n",
       "\n",
       ".xr-array-preview,\n",
       ".xr-array-data {\n",
       "  padding: 0 5px !important;\n",
       "  grid-column: 2;\n",
       "}\n",
       "\n",
       ".xr-array-data,\n",
       ".xr-array-in:checked ~ .xr-array-preview {\n",
       "  display: none;\n",
       "}\n",
       "\n",
       ".xr-array-in:checked ~ .xr-array-data,\n",
       ".xr-array-preview {\n",
       "  display: inline-block;\n",
       "}\n",
       "\n",
       ".xr-dim-list {\n",
       "  display: inline-block !important;\n",
       "  list-style: none;\n",
       "  padding: 0 !important;\n",
       "  margin: 0;\n",
       "}\n",
       "\n",
       ".xr-dim-list li {\n",
       "  display: inline-block;\n",
       "  padding: 0;\n",
       "  margin: 0;\n",
       "}\n",
       "\n",
       ".xr-dim-list:before {\n",
       "  content: '(';\n",
       "}\n",
       "\n",
       ".xr-dim-list:after {\n",
       "  content: ')';\n",
       "}\n",
       "\n",
       ".xr-dim-list li:not(:last-child):after {\n",
       "  content: ',';\n",
       "  padding-right: 5px;\n",
       "}\n",
       "\n",
       ".xr-has-index {\n",
       "  font-weight: bold;\n",
       "}\n",
       "\n",
       ".xr-var-list,\n",
       ".xr-var-item {\n",
       "  display: contents;\n",
       "}\n",
       "\n",
       ".xr-var-item > div,\n",
       ".xr-var-item label,\n",
       ".xr-var-item > .xr-var-name span {\n",
       "  background-color: var(--xr-background-color-row-even);\n",
       "  margin-bottom: 0;\n",
       "}\n",
       "\n",
       ".xr-var-item > .xr-var-name:hover span {\n",
       "  padding-right: 5px;\n",
       "}\n",
       "\n",
       ".xr-var-list > li:nth-child(odd) > div,\n",
       ".xr-var-list > li:nth-child(odd) > label,\n",
       ".xr-var-list > li:nth-child(odd) > .xr-var-name span {\n",
       "  background-color: var(--xr-background-color-row-odd);\n",
       "}\n",
       "\n",
       ".xr-var-name {\n",
       "  grid-column: 1;\n",
       "}\n",
       "\n",
       ".xr-var-dims {\n",
       "  grid-column: 2;\n",
       "}\n",
       "\n",
       ".xr-var-dtype {\n",
       "  grid-column: 3;\n",
       "  text-align: right;\n",
       "  color: var(--xr-font-color2);\n",
       "}\n",
       "\n",
       ".xr-var-preview {\n",
       "  grid-column: 4;\n",
       "}\n",
       "\n",
       ".xr-var-name,\n",
       ".xr-var-dims,\n",
       ".xr-var-dtype,\n",
       ".xr-preview,\n",
       ".xr-attrs dt {\n",
       "  white-space: nowrap;\n",
       "  overflow: hidden;\n",
       "  text-overflow: ellipsis;\n",
       "  padding-right: 10px;\n",
       "}\n",
       "\n",
       ".xr-var-name:hover,\n",
       ".xr-var-dims:hover,\n",
       ".xr-var-dtype:hover,\n",
       ".xr-attrs dt:hover {\n",
       "  overflow: visible;\n",
       "  width: auto;\n",
       "  z-index: 1;\n",
       "}\n",
       "\n",
       ".xr-var-attrs,\n",
       ".xr-var-data {\n",
       "  display: none;\n",
       "  background-color: var(--xr-background-color) !important;\n",
       "  padding-bottom: 5px !important;\n",
       "}\n",
       "\n",
       ".xr-var-attrs-in:checked ~ .xr-var-attrs,\n",
       ".xr-var-data-in:checked ~ .xr-var-data {\n",
       "  display: block;\n",
       "}\n",
       "\n",
       ".xr-var-data > table {\n",
       "  float: right;\n",
       "}\n",
       "\n",
       ".xr-var-name span,\n",
       ".xr-var-data,\n",
       ".xr-attrs {\n",
       "  padding-left: 25px !important;\n",
       "}\n",
       "\n",
       ".xr-attrs,\n",
       ".xr-var-attrs,\n",
       ".xr-var-data {\n",
       "  grid-column: 1 / -1;\n",
       "}\n",
       "\n",
       "dl.xr-attrs {\n",
       "  padding: 0;\n",
       "  margin: 0;\n",
       "  display: grid;\n",
       "  grid-template-columns: 125px auto;\n",
       "}\n",
       "\n",
       ".xr-attrs dt,\n",
       ".xr-attrs dd {\n",
       "  padding: 0;\n",
       "  margin: 0;\n",
       "  float: left;\n",
       "  padding-right: 10px;\n",
       "  width: auto;\n",
       "}\n",
       "\n",
       ".xr-attrs dt {\n",
       "  font-weight: normal;\n",
       "  grid-column: 1;\n",
       "}\n",
       "\n",
       ".xr-attrs dt:hover span {\n",
       "  display: inline-block;\n",
       "  background: var(--xr-background-color);\n",
       "  padding-right: 10px;\n",
       "}\n",
       "\n",
       ".xr-attrs dd {\n",
       "  grid-column: 2;\n",
       "  white-space: pre-wrap;\n",
       "  word-break: break-all;\n",
       "}\n",
       "\n",
       ".xr-icon-database,\n",
       ".xr-icon-file-text2 {\n",
       "  display: inline-block;\n",
       "  vertical-align: middle;\n",
       "  width: 1em;\n",
       "  height: 1.5em !important;\n",
       "  stroke-width: 0;\n",
       "  stroke: currentColor;\n",
       "  fill: currentColor;\n",
       "}\n",
       "</style><pre class='xr-text-repr-fallback'>&lt;xarray.MCDS&gt;\n",
       "Dimensions:              (cell: 4287, count_type: 2, geneslop2k: 55487,\n",
       "                          mc_type: 2)\n",
       "Coordinates:\n",
       "  * cell                 (cell) &lt;U15 &#x27;10B_M_1879&#x27; &#x27;10B_M_955&#x27; ... &#x27;12E_M_1053&#x27;\n",
       "  * count_type           (count_type) &lt;U3 &#x27;mc&#x27; &#x27;cov&#x27;\n",
       "  * geneslop2k           (geneslop2k) &lt;U21 &#x27;ENSMUSG00000102693.1&#x27; ... &#x27;ENSMUS...\n",
       "    geneslop2k_chrom     (geneslop2k) &lt;U5 &#x27;chr1&#x27; &#x27;chr1&#x27; &#x27;chr1&#x27; ... &#x27;chrM&#x27; &#x27;chrM&#x27;\n",
       "    geneslop2k_cov_mean  (geneslop2k) float64 66.47 52.7 ... 166.3 164.1\n",
       "    geneslop2k_end       (geneslop2k) int64 3076321 3104124 ... 16299 16299\n",
       "    geneslop2k_start     (geneslop2k) int64 3071252 3100015 ... 13288 13355\n",
       "  * mc_type              (mc_type) &lt;U3 &#x27;CHN&#x27; &#x27;CGN&#x27;\n",
       "Data variables:\n",
       "    geneslop2k_da        (cell, geneslop2k, mc_type, count_type) uint16 dask.array&lt;chunksize=(1000, 55487, 1, 1), meta=np.ndarray&gt;\n",
       "    geneslop2k_da_frac   (cell, geneslop2k, mc_type) float32 dask.array&lt;chunksize=(1000, 55487, 1), meta=np.ndarray&gt;\n",
       "Attributes:\n",
       "    obs_dim:  cell\n",
       "    var_dim:  geneslop2k</pre><div class='xr-wrap' style='display:none'><div class='xr-header'><div class='xr-obj-type'>xarray.MCDS</div></div><ul class='xr-sections'><li class='xr-section-item'><input id='section-d7af9903-34b7-4ec0-8cf6-b386345791f1' class='xr-section-summary-in' type='checkbox' disabled ><label for='section-d7af9903-34b7-4ec0-8cf6-b386345791f1' class='xr-section-summary'  title='Expand/collapse section'>Dimensions:</label><div class='xr-section-inline-details'><ul class='xr-dim-list'><li><span class='xr-has-index'>cell</span>: 4287</li><li><span class='xr-has-index'>count_type</span>: 2</li><li><span class='xr-has-index'>geneslop2k</span>: 55487</li><li><span class='xr-has-index'>mc_type</span>: 2</li></ul></div><div class='xr-section-details'></div></li><li class='xr-section-item'><input id='section-fcab63d5-a88c-4032-8071-eced27141010' class='xr-section-summary-in' type='checkbox'  checked><label for='section-fcab63d5-a88c-4032-8071-eced27141010' class='xr-section-summary' >Coordinates: <span>(8)</span></label><div class='xr-section-inline-details'></div><div class='xr-section-details'><ul class='xr-var-list'><li class='xr-var-item'><div class='xr-var-name'><span class='xr-has-index'>cell</span></div><div class='xr-var-dims'>(cell)</div><div class='xr-var-dtype'>&lt;U15</div><div class='xr-var-preview xr-preview'>&#x27;10B_M_1879&#x27; ... &#x27;12E_M_1053&#x27;</div><input id='attrs-34f577d5-d360-4e46-b4bb-8e48f9d084a5' class='xr-var-attrs-in' type='checkbox' disabled><label for='attrs-34f577d5-d360-4e46-b4bb-8e48f9d084a5' title='Show/Hide attributes'><svg class='icon xr-icon-file-text2'><use xlink:href='#icon-file-text2'></use></svg></label><input id='data-46e55a8b-f98d-4c9e-83f8-a75041b33e4f' class='xr-var-data-in' type='checkbox'><label for='data-46e55a8b-f98d-4c9e-83f8-a75041b33e4f' title='Show/Hide data repr'><svg class='icon xr-icon-database'><use xlink:href='#icon-database'></use></svg></label><div class='xr-var-attrs'><dl class='xr-attrs'></dl></div><div class='xr-var-data'><pre>array([&#x27;10B_M_1879&#x27;, &#x27;10B_M_955&#x27;, &#x27;10C_M_1197&#x27;, ..., &#x27;12D_M_1852&#x27;, &#x27;12E_M_150&#x27;,\n",
       "       &#x27;12E_M_1053&#x27;], dtype=&#x27;&lt;U15&#x27;)</pre></div></li><li class='xr-var-item'><div class='xr-var-name'><span class='xr-has-index'>count_type</span></div><div class='xr-var-dims'>(count_type)</div><div class='xr-var-dtype'>&lt;U3</div><div class='xr-var-preview xr-preview'>&#x27;mc&#x27; &#x27;cov&#x27;</div><input id='attrs-ac7ab7e2-fef9-421f-9093-d28475609e7b' class='xr-var-attrs-in' type='checkbox' disabled><label for='attrs-ac7ab7e2-fef9-421f-9093-d28475609e7b' title='Show/Hide attributes'><svg class='icon xr-icon-file-text2'><use xlink:href='#icon-file-text2'></use></svg></label><input id='data-062e82c6-5899-4f17-8985-e4c97dbb49b7' class='xr-var-data-in' type='checkbox'><label for='data-062e82c6-5899-4f17-8985-e4c97dbb49b7' title='Show/Hide data repr'><svg class='icon xr-icon-database'><use xlink:href='#icon-database'></use></svg></label><div class='xr-var-attrs'><dl class='xr-attrs'></dl></div><div class='xr-var-data'><pre>array([&#x27;mc&#x27;, &#x27;cov&#x27;], dtype=&#x27;&lt;U3&#x27;)</pre></div></li><li class='xr-var-item'><div class='xr-var-name'><span class='xr-has-index'>geneslop2k</span></div><div class='xr-var-dims'>(geneslop2k)</div><div class='xr-var-dtype'>&lt;U21</div><div class='xr-var-preview xr-preview'>&#x27;ENSMUSG00000102693.1&#x27; ... &#x27;ENSM...</div><input id='attrs-bb3aaafa-33de-4ca7-916f-425d2a6863de' class='xr-var-attrs-in' type='checkbox' disabled><label for='attrs-bb3aaafa-33de-4ca7-916f-425d2a6863de' title='Show/Hide attributes'><svg class='icon xr-icon-file-text2'><use xlink:href='#icon-file-text2'></use></svg></label><input id='data-c071b757-cb70-4d3d-9e0a-38b2fdd6a036' class='xr-var-data-in' type='checkbox'><label for='data-c071b757-cb70-4d3d-9e0a-38b2fdd6a036' title='Show/Hide data repr'><svg class='icon xr-icon-database'><use xlink:href='#icon-database'></use></svg></label><div class='xr-var-attrs'><dl class='xr-attrs'></dl></div><div class='xr-var-data'><pre>array([&#x27;ENSMUSG00000102693.1&#x27;, &#x27;ENSMUSG00000064842.1&#x27;, &#x27;ENSMUSG00000051951.5&#x27;,\n",
       "       ..., &#x27;ENSMUSG00000064370.1&#x27;, &#x27;ENSMUSG00000064371.1&#x27;,\n",
       "       &#x27;ENSMUSG00000064372.1&#x27;], dtype=&#x27;&lt;U21&#x27;)</pre></div></li><li class='xr-var-item'><div class='xr-var-name'><span>geneslop2k_chrom</span></div><div class='xr-var-dims'>(geneslop2k)</div><div class='xr-var-dtype'>&lt;U5</div><div class='xr-var-preview xr-preview'>&#x27;chr1&#x27; &#x27;chr1&#x27; ... &#x27;chrM&#x27; &#x27;chrM&#x27;</div><input id='attrs-5cfe32b5-3779-4ae0-a46a-8753e832c505' class='xr-var-attrs-in' type='checkbox' disabled><label for='attrs-5cfe32b5-3779-4ae0-a46a-8753e832c505' title='Show/Hide attributes'><svg class='icon xr-icon-file-text2'><use xlink:href='#icon-file-text2'></use></svg></label><input id='data-a703723a-9025-488f-a223-be0a8c074362' class='xr-var-data-in' type='checkbox'><label for='data-a703723a-9025-488f-a223-be0a8c074362' title='Show/Hide data repr'><svg class='icon xr-icon-database'><use xlink:href='#icon-database'></use></svg></label><div class='xr-var-attrs'><dl class='xr-attrs'></dl></div><div class='xr-var-data'><pre>array([&#x27;chr1&#x27;, &#x27;chr1&#x27;, &#x27;chr1&#x27;, ..., &#x27;chrM&#x27;, &#x27;chrM&#x27;, &#x27;chrM&#x27;], dtype=&#x27;&lt;U5&#x27;)</pre></div></li><li class='xr-var-item'><div class='xr-var-name'><span>geneslop2k_cov_mean</span></div><div class='xr-var-dims'>(geneslop2k)</div><div class='xr-var-dtype'>float64</div><div class='xr-var-preview xr-preview'>66.47 52.7 ... 166.3 164.1</div><input id='attrs-e4f3e480-bea6-4243-8c8e-8c2ca883259f' class='xr-var-attrs-in' type='checkbox' disabled><label for='attrs-e4f3e480-bea6-4243-8c8e-8c2ca883259f' title='Show/Hide attributes'><svg class='icon xr-icon-file-text2'><use xlink:href='#icon-file-text2'></use></svg></label><input id='data-c82d9c60-dc39-4a8f-9625-f3d9b2f07862' class='xr-var-data-in' type='checkbox'><label for='data-c82d9c60-dc39-4a8f-9625-f3d9b2f07862' title='Show/Hide data repr'><svg class='icon xr-icon-database'><use xlink:href='#icon-database'></use></svg></label><div class='xr-var-attrs'><dl class='xr-attrs'></dl></div><div class='xr-var-data'><pre>array([  66.46743171,   52.70426595, 6237.67235522, ...,  249.07698491,\n",
       "        166.33971794,  164.12484639])</pre></div></li><li class='xr-var-item'><div class='xr-var-name'><span>geneslop2k_end</span></div><div class='xr-var-dims'>(geneslop2k)</div><div class='xr-var-dtype'>int64</div><div class='xr-var-preview xr-preview'>3076321 3104124 ... 16299 16299</div><input id='attrs-bd14e0c1-e281-4098-a129-de9897002e5b' class='xr-var-attrs-in' type='checkbox' disabled><label for='attrs-bd14e0c1-e281-4098-a129-de9897002e5b' title='Show/Hide attributes'><svg class='icon xr-icon-file-text2'><use xlink:href='#icon-file-text2'></use></svg></label><input id='data-74ab87dc-0322-4c70-bec4-9385b9e3465a' class='xr-var-data-in' type='checkbox'><label for='data-74ab87dc-0322-4c70-bec4-9385b9e3465a' title='Show/Hide data repr'><svg class='icon xr-icon-database'><use xlink:href='#icon-database'></use></svg></label><div class='xr-var-attrs'><dl class='xr-attrs'></dl></div><div class='xr-var-data'><pre>array([3076321, 3104124, 3673497, ...,   16299,   16299,   16299])</pre></div></li><li class='xr-var-item'><div class='xr-var-name'><span>geneslop2k_start</span></div><div class='xr-var-dims'>(geneslop2k)</div><div class='xr-var-dtype'>int64</div><div class='xr-var-preview xr-preview'>3071252 3100015 ... 13288 13355</div><input id='attrs-6af06129-8c8f-45db-8f9d-a18318d97b3a' class='xr-var-attrs-in' type='checkbox' disabled><label for='attrs-6af06129-8c8f-45db-8f9d-a18318d97b3a' title='Show/Hide attributes'><svg class='icon xr-icon-file-text2'><use xlink:href='#icon-file-text2'></use></svg></label><input id='data-1f7fbfda-a5b2-4470-887f-e3b834610b42' class='xr-var-data-in' type='checkbox'><label for='data-1f7fbfda-a5b2-4470-887f-e3b834610b42' title='Show/Hide data repr'><svg class='icon xr-icon-database'><use xlink:href='#icon-database'></use></svg></label><div class='xr-var-attrs'><dl class='xr-attrs'></dl></div><div class='xr-var-data'><pre>array([3071252, 3100015, 3203900, ...,   12144,   13288,   13355])</pre></div></li><li class='xr-var-item'><div class='xr-var-name'><span class='xr-has-index'>mc_type</span></div><div class='xr-var-dims'>(mc_type)</div><div class='xr-var-dtype'>&lt;U3</div><div class='xr-var-preview xr-preview'>&#x27;CHN&#x27; &#x27;CGN&#x27;</div><input id='attrs-8f87bebf-f5f2-4f57-8d6b-191b3895f8ab' class='xr-var-attrs-in' type='checkbox' disabled><label for='attrs-8f87bebf-f5f2-4f57-8d6b-191b3895f8ab' title='Show/Hide attributes'><svg class='icon xr-icon-file-text2'><use xlink:href='#icon-file-text2'></use></svg></label><input id='data-b0c164e0-b1d3-427f-acd3-ae998d566dd7' class='xr-var-data-in' type='checkbox'><label for='data-b0c164e0-b1d3-427f-acd3-ae998d566dd7' title='Show/Hide data repr'><svg class='icon xr-icon-database'><use xlink:href='#icon-database'></use></svg></label><div class='xr-var-attrs'><dl class='xr-attrs'></dl></div><div class='xr-var-data'><pre>array([&#x27;CHN&#x27;, &#x27;CGN&#x27;], dtype=&#x27;&lt;U3&#x27;)</pre></div></li></ul></div></li><li class='xr-section-item'><input id='section-60fe03ea-5104-4eb5-9db5-9f2abc1b5b29' class='xr-section-summary-in' type='checkbox'  checked><label for='section-60fe03ea-5104-4eb5-9db5-9f2abc1b5b29' class='xr-section-summary' >Data variables: <span>(2)</span></label><div class='xr-section-inline-details'></div><div class='xr-section-details'><ul class='xr-var-list'><li class='xr-var-item'><div class='xr-var-name'><span>geneslop2k_da</span></div><div class='xr-var-dims'>(cell, geneslop2k, mc_type, count_type)</div><div class='xr-var-dtype'>uint16</div><div class='xr-var-preview xr-preview'>dask.array&lt;chunksize=(1000, 55487, 1, 1), meta=np.ndarray&gt;</div><input id='attrs-5d1decdf-24b8-4d78-bd2a-46a8585aa2b0' class='xr-var-attrs-in' type='checkbox' disabled><label for='attrs-5d1decdf-24b8-4d78-bd2a-46a8585aa2b0' title='Show/Hide attributes'><svg class='icon xr-icon-file-text2'><use xlink:href='#icon-file-text2'></use></svg></label><input id='data-4ca2bc8b-43f5-46ce-bb8f-0d8ebe3d538f' class='xr-var-data-in' type='checkbox'><label for='data-4ca2bc8b-43f5-46ce-bb8f-0d8ebe3d538f' title='Show/Hide data repr'><svg class='icon xr-icon-database'><use xlink:href='#icon-database'></use></svg></label><div class='xr-var-attrs'><dl class='xr-attrs'></dl></div><div class='xr-var-data'><table>\n",
       "    <tr>\n",
       "        <td>\n",
       "            <table>\n",
       "                <thead>\n",
       "                    <tr>\n",
       "                        <td> </td>\n",
       "                        <th> Array </th>\n",
       "                        <th> Chunk </th>\n",
       "                    </tr>\n",
       "                </thead>\n",
       "                <tbody>\n",
       "                    \n",
       "                    <tr>\n",
       "                        <th> Bytes </th>\n",
       "                        <td> 1.77 GiB </td>\n",
       "                        <td> 105.83 MiB </td>\n",
       "                    </tr>\n",
       "                    \n",
       "                    <tr>\n",
       "                        <th> Shape </th>\n",
       "                        <td> (4287, 55487, 2, 2) </td>\n",
       "                        <td> (1000, 55487, 1, 1) </td>\n",
       "                    </tr>\n",
       "                    <tr>\n",
       "                        <th> Count </th>\n",
       "                        <td> 21 Tasks </td>\n",
       "                        <td> 20 Chunks </td>\n",
       "                    </tr>\n",
       "                    <tr>\n",
       "                    <th> Type </th>\n",
       "                    <td> uint16 </td>\n",
       "                    <td> numpy.ndarray </td>\n",
       "                    </tr>\n",
       "                </tbody>\n",
       "            </table>\n",
       "        </td>\n",
       "        <td>\n",
       "        <svg width=\"360\" height=\"146\" style=\"stroke:rgb(0,0,0);stroke-width:1\" >\n",
       "\n",
       "  <!-- Horizontal lines -->\n",
       "  <line x1=\"0\" y1=\"0\" x2=\"37\" y2=\"0\" style=\"stroke-width:2\" />\n",
       "  <line x1=\"0\" y1=\"25\" x2=\"37\" y2=\"25\" style=\"stroke-width:2\" />\n",
       "\n",
       "  <!-- Vertical lines -->\n",
       "  <line x1=\"0\" y1=\"0\" x2=\"0\" y2=\"25\" style=\"stroke-width:2\" />\n",
       "  <line x1=\"8\" y1=\"0\" x2=\"8\" y2=\"25\" />\n",
       "  <line x1=\"17\" y1=\"0\" x2=\"17\" y2=\"25\" />\n",
       "  <line x1=\"25\" y1=\"0\" x2=\"25\" y2=\"25\" />\n",
       "  <line x1=\"34\" y1=\"0\" x2=\"34\" y2=\"25\" />\n",
       "  <line x1=\"37\" y1=\"0\" x2=\"37\" y2=\"25\" style=\"stroke-width:2\" />\n",
       "\n",
       "  <!-- Colored Rectangle -->\n",
       "  <polygon points=\"0.0,0.0 37.12290251560458,0.0 37.12290251560458,25.412616514582485 0.0,25.412616514582485\" style=\"fill:#ECB172A0;stroke-width:0\"/>\n",
       "\n",
       "  <!-- Text -->\n",
       "  <text x=\"18.561451\" y=\"45.412617\" font-size=\"1.0rem\" font-weight=\"100\" text-anchor=\"middle\" >4287</text>\n",
       "  <text x=\"57.122903\" y=\"12.706308\" font-size=\"1.0rem\" font-weight=\"100\" text-anchor=\"middle\" transform=\"rotate(0,57.122903,12.706308)\">1</text>\n",
       "\n",
       "\n",
       "  <!-- Horizontal lines -->\n",
       "  <line x1=\"107\" y1=\"0\" x2=\"177\" y2=\"70\" style=\"stroke-width:2\" />\n",
       "  <line x1=\"107\" y1=\"12\" x2=\"177\" y2=\"83\" />\n",
       "  <line x1=\"107\" y1=\"25\" x2=\"177\" y2=\"96\" style=\"stroke-width:2\" />\n",
       "\n",
       "  <!-- Vertical lines -->\n",
       "  <line x1=\"107\" y1=\"0\" x2=\"107\" y2=\"25\" style=\"stroke-width:2\" />\n",
       "  <line x1=\"177\" y1=\"70\" x2=\"177\" y2=\"96\" style=\"stroke-width:2\" />\n",
       "\n",
       "  <!-- Colored Rectangle -->\n",
       "  <polygon points=\"107.0,0.0 177.58823529411765,70.58823529411765 177.58823529411765,96.00085180870013 107.0,25.412616514582485\" style=\"fill:#ECB172A0;stroke-width:0\"/>\n",
       "\n",
       "  <!-- Horizontal lines -->\n",
       "  <line x1=\"107\" y1=\"0\" x2=\"132\" y2=\"0\" style=\"stroke-width:2\" />\n",
       "  <line x1=\"177\" y1=\"70\" x2=\"203\" y2=\"70\" style=\"stroke-width:2\" />\n",
       "\n",
       "  <!-- Vertical lines -->\n",
       "  <line x1=\"107\" y1=\"0\" x2=\"177\" y2=\"70\" style=\"stroke-width:2\" />\n",
       "  <line x1=\"119\" y1=\"0\" x2=\"190\" y2=\"70\" />\n",
       "  <line x1=\"132\" y1=\"0\" x2=\"203\" y2=\"70\" style=\"stroke-width:2\" />\n",
       "\n",
       "  <!-- Colored Rectangle -->\n",
       "  <polygon points=\"107.0,0.0 132.41261651458248,0.0 203.00085180870013,70.58823529411765 177.58823529411765,70.58823529411765\" style=\"fill:#ECB172A0;stroke-width:0\"/>\n",
       "\n",
       "  <!-- Horizontal lines -->\n",
       "  <line x1=\"177\" y1=\"70\" x2=\"203\" y2=\"70\" style=\"stroke-width:2\" />\n",
       "  <line x1=\"177\" y1=\"83\" x2=\"203\" y2=\"83\" />\n",
       "  <line x1=\"177\" y1=\"96\" x2=\"203\" y2=\"96\" style=\"stroke-width:2\" />\n",
       "\n",
       "  <!-- Vertical lines -->\n",
       "  <line x1=\"177\" y1=\"70\" x2=\"177\" y2=\"96\" style=\"stroke-width:2\" />\n",
       "  <line x1=\"190\" y1=\"70\" x2=\"190\" y2=\"96\" />\n",
       "  <line x1=\"203\" y1=\"70\" x2=\"203\" y2=\"96\" style=\"stroke-width:2\" />\n",
       "\n",
       "  <!-- Colored Rectangle -->\n",
       "  <polygon points=\"177.58823529411765,70.58823529411765 203.00085180870013,70.58823529411765 203.00085180870013,96.00085180870013 177.58823529411765,96.00085180870013\" style=\"fill:#ECB172A0;stroke-width:0\"/>\n",
       "\n",
       "  <!-- Text -->\n",
       "  <text x=\"190.294544\" y=\"116.000852\" font-size=\"1.0rem\" font-weight=\"100\" text-anchor=\"middle\" >2</text>\n",
       "  <text x=\"223.000852\" y=\"83.294544\" font-size=\"1.0rem\" font-weight=\"100\" text-anchor=\"middle\" transform=\"rotate(0,223.000852,83.294544)\">2</text>\n",
       "  <text x=\"132.294118\" y=\"80.706734\" font-size=\"1.0rem\" font-weight=\"100\" text-anchor=\"middle\" transform=\"rotate(45,132.294118,80.706734)\">55487</text>\n",
       "</svg>\n",
       "        </td>\n",
       "    </tr>\n",
       "</table></div></li><li class='xr-var-item'><div class='xr-var-name'><span>geneslop2k_da_frac</span></div><div class='xr-var-dims'>(cell, geneslop2k, mc_type)</div><div class='xr-var-dtype'>float32</div><div class='xr-var-preview xr-preview'>dask.array&lt;chunksize=(1000, 55487, 1), meta=np.ndarray&gt;</div><input id='attrs-3665ce16-c4c7-4957-8fa8-7c31a4f2509f' class='xr-var-attrs-in' type='checkbox' disabled><label for='attrs-3665ce16-c4c7-4957-8fa8-7c31a4f2509f' title='Show/Hide attributes'><svg class='icon xr-icon-file-text2'><use xlink:href='#icon-file-text2'></use></svg></label><input id='data-097290b9-6f10-4d54-b772-c94bcf7a9ae7' class='xr-var-data-in' type='checkbox'><label for='data-097290b9-6f10-4d54-b772-c94bcf7a9ae7' title='Show/Hide data repr'><svg class='icon xr-icon-database'><use xlink:href='#icon-database'></use></svg></label><div class='xr-var-attrs'><dl class='xr-attrs'></dl></div><div class='xr-var-data'><table>\n",
       "    <tr>\n",
       "        <td>\n",
       "            <table>\n",
       "                <thead>\n",
       "                    <tr>\n",
       "                        <td> </td>\n",
       "                        <th> Array </th>\n",
       "                        <th> Chunk </th>\n",
       "                    </tr>\n",
       "                </thead>\n",
       "                <tbody>\n",
       "                    \n",
       "                    <tr>\n",
       "                        <th> Bytes </th>\n",
       "                        <td> 1.77 GiB </td>\n",
       "                        <td> 211.67 MiB </td>\n",
       "                    </tr>\n",
       "                    \n",
       "                    <tr>\n",
       "                        <th> Shape </th>\n",
       "                        <td> (4287, 55487, 2) </td>\n",
       "                        <td> (1000, 55487, 1) </td>\n",
       "                    </tr>\n",
       "                    <tr>\n",
       "                        <th> Count </th>\n",
       "                        <td> 11 Tasks </td>\n",
       "                        <td> 10 Chunks </td>\n",
       "                    </tr>\n",
       "                    <tr>\n",
       "                    <th> Type </th>\n",
       "                    <td> float32 </td>\n",
       "                    <td> numpy.ndarray </td>\n",
       "                    </tr>\n",
       "                </tbody>\n",
       "            </table>\n",
       "        </td>\n",
       "        <td>\n",
       "        <svg width=\"107\" height=\"191\" style=\"stroke:rgb(0,0,0);stroke-width:1\" >\n",
       "\n",
       "  <!-- Horizontal lines -->\n",
       "  <line x1=\"10\" y1=\"0\" x2=\"31\" y2=\"21\" style=\"stroke-width:2\" />\n",
       "  <line x1=\"10\" y1=\"120\" x2=\"31\" y2=\"141\" style=\"stroke-width:2\" />\n",
       "\n",
       "  <!-- Vertical lines -->\n",
       "  <line x1=\"10\" y1=\"0\" x2=\"10\" y2=\"120\" style=\"stroke-width:2\" />\n",
       "  <line x1=\"15\" y1=\"5\" x2=\"15\" y2=\"125\" />\n",
       "  <line x1=\"20\" y1=\"10\" x2=\"20\" y2=\"130\" />\n",
       "  <line x1=\"25\" y1=\"15\" x2=\"25\" y2=\"135\" />\n",
       "  <line x1=\"30\" y1=\"20\" x2=\"30\" y2=\"140\" />\n",
       "  <line x1=\"31\" y1=\"21\" x2=\"31\" y2=\"141\" style=\"stroke-width:2\" />\n",
       "\n",
       "  <!-- Colored Rectangle -->\n",
       "  <polygon points=\"10.0,0.0 31.8370014797674,21.8370014797674 31.8370014797674,141.8370014797674 10.0,120.0\" style=\"fill:#ECB172A0;stroke-width:0\"/>\n",
       "\n",
       "  <!-- Horizontal lines -->\n",
       "  <line x1=\"10\" y1=\"0\" x2=\"35\" y2=\"0\" style=\"stroke-width:2\" />\n",
       "  <line x1=\"15\" y1=\"5\" x2=\"40\" y2=\"5\" />\n",
       "  <line x1=\"20\" y1=\"10\" x2=\"45\" y2=\"10\" />\n",
       "  <line x1=\"25\" y1=\"15\" x2=\"50\" y2=\"15\" />\n",
       "  <line x1=\"30\" y1=\"20\" x2=\"55\" y2=\"20\" />\n",
       "  <line x1=\"31\" y1=\"21\" x2=\"57\" y2=\"21\" style=\"stroke-width:2\" />\n",
       "\n",
       "  <!-- Vertical lines -->\n",
       "  <line x1=\"10\" y1=\"0\" x2=\"31\" y2=\"21\" style=\"stroke-width:2\" />\n",
       "  <line x1=\"22\" y1=\"0\" x2=\"44\" y2=\"21\" />\n",
       "  <line x1=\"35\" y1=\"0\" x2=\"57\" y2=\"21\" style=\"stroke-width:2\" />\n",
       "\n",
       "  <!-- Colored Rectangle -->\n",
       "  <polygon points=\"10.0,0.0 35.41261651458248,0.0 57.24961799434988,21.8370014797674 31.8370014797674,21.8370014797674\" style=\"fill:#ECB172A0;stroke-width:0\"/>\n",
       "\n",
       "  <!-- Horizontal lines -->\n",
       "  <line x1=\"31\" y1=\"21\" x2=\"57\" y2=\"21\" style=\"stroke-width:2\" />\n",
       "  <line x1=\"31\" y1=\"141\" x2=\"57\" y2=\"141\" style=\"stroke-width:2\" />\n",
       "\n",
       "  <!-- Vertical lines -->\n",
       "  <line x1=\"31\" y1=\"21\" x2=\"31\" y2=\"141\" style=\"stroke-width:2\" />\n",
       "  <line x1=\"44\" y1=\"21\" x2=\"44\" y2=\"141\" />\n",
       "  <line x1=\"57\" y1=\"21\" x2=\"57\" y2=\"141\" style=\"stroke-width:2\" />\n",
       "\n",
       "  <!-- Colored Rectangle -->\n",
       "  <polygon points=\"31.8370014797674,21.8370014797674 57.24961799434989,21.8370014797674 57.24961799434989,141.8370014797674 31.8370014797674,141.8370014797674\" style=\"fill:#ECB172A0;stroke-width:0\"/>\n",
       "\n",
       "  <!-- Text -->\n",
       "  <text x=\"44.543310\" y=\"161.837001\" font-size=\"1.0rem\" font-weight=\"100\" text-anchor=\"middle\" >2</text>\n",
       "  <text x=\"77.249618\" y=\"81.837001\" font-size=\"1.0rem\" font-weight=\"100\" text-anchor=\"middle\" transform=\"rotate(-90,77.249618,81.837001)\">55487</text>\n",
       "  <text x=\"10.918501\" y=\"150.918501\" font-size=\"1.0rem\" font-weight=\"100\" text-anchor=\"middle\" transform=\"rotate(45,10.918501,150.918501)\">4287</text>\n",
       "</svg>\n",
       "        </td>\n",
       "    </tr>\n",
       "</table></div></li></ul></div></li><li class='xr-section-item'><input id='section-b0aaf736-fca8-42bb-ac61-3853d3da1f93' class='xr-section-summary-in' type='checkbox'  checked><label for='section-b0aaf736-fca8-42bb-ac61-3853d3da1f93' class='xr-section-summary' >Attributes: <span>(2)</span></label><div class='xr-section-inline-details'></div><div class='xr-section-details'><dl class='xr-attrs'><dt><span>obs_dim :</span></dt><dd>cell</dd><dt><span>var_dim :</span></dt><dd>geneslop2k</dd></dl></div></li></ul></div></div>"
      ],
      "text/plain": [
       "<xarray.MCDS>\n",
       "Dimensions:              (cell: 4287, count_type: 2, geneslop2k: 55487,\n",
       "                          mc_type: 2)\n",
       "Coordinates:\n",
       "  * cell                 (cell) <U15 '10B_M_1879' '10B_M_955' ... '12E_M_1053'\n",
       "  * count_type           (count_type) <U3 'mc' 'cov'\n",
       "  * geneslop2k           (geneslop2k) <U21 'ENSMUSG00000102693.1' ... 'ENSMUS...\n",
       "    geneslop2k_chrom     (geneslop2k) <U5 'chr1' 'chr1' 'chr1' ... 'chrM' 'chrM'\n",
       "    geneslop2k_cov_mean  (geneslop2k) float64 66.47 52.7 ... 166.3 164.1\n",
       "    geneslop2k_end       (geneslop2k) int64 3076321 3104124 ... 16299 16299\n",
       "    geneslop2k_start     (geneslop2k) int64 3071252 3100015 ... 13288 13355\n",
       "  * mc_type              (mc_type) <U3 'CHN' 'CGN'\n",
       "Data variables:\n",
       "    geneslop2k_da        (cell, geneslop2k, mc_type, count_type) uint16 dask.array<chunksize=(1000, 55487, 1, 1), meta=np.ndarray>\n",
       "    geneslop2k_da_frac   (cell, geneslop2k, mc_type) float32 dask.array<chunksize=(1000, 55487, 1), meta=np.ndarray>\n",
       "Attributes:\n",
       "    obs_dim:  cell\n",
       "    var_dim:  geneslop2k"
      ]
     },
     "execution_count": 5,
     "metadata": {},
     "output_type": "execute_result"
    }
   ],
   "source": [
    "mcds = MCDS.open(cemba.CEMBA_SNMC_MCDS_PATH, var_dim=var_dim, use_obs=use_cells)\n",
    "\n",
    "mcds"
   ]
  },
  {
   "cell_type": "code",
   "execution_count": 6,
   "id": "be4f80f5",
   "metadata": {
    "ExecuteTime": {
     "end_time": "2022-06-25T18:39:20.211422Z",
     "start_time": "2022-06-25T18:29:28.677571Z"
    },
    "execution": {
     "iopub.execute_input": "2022-06-20T23:08:37.827748Z",
     "iopub.status.busy": "2022-06-20T23:08:37.827341Z",
     "iopub.status.idle": "2022-06-20T23:09:50.898780Z",
     "shell.execute_reply": "2022-06-20T23:09:50.898364Z"
    },
    "papermill": {
     "duration": 73.093918,
     "end_time": "2022-06-20T23:09:50.898908",
     "exception": false,
     "start_time": "2022-06-20T23:08:37.804990",
     "status": "completed"
    },
    "pycharm": {
     "name": "#%%\n"
    },
    "scrolled": true,
    "tags": []
   },
   "outputs": [],
   "source": [
    "adata = mcds.get_adata(mc_type=mc_type,\n",
    "                       select_hvf=False,\n",
    "                       split_large_chunks=False)"
   ]
  },
  {
   "cell_type": "code",
   "execution_count": 7,
   "id": "b1702756",
   "metadata": {
    "ExecuteTime": {
     "end_time": "2022-06-25T18:39:20.233409Z",
     "start_time": "2022-06-25T18:39:20.213570Z"
    },
    "execution": {
     "iopub.execute_input": "2022-06-20T23:09:50.929212Z",
     "iopub.status.busy": "2022-06-20T23:09:50.928808Z",
     "iopub.status.idle": "2022-06-20T23:09:53.988973Z",
     "shell.execute_reply": "2022-06-20T23:09:53.988609Z"
    },
    "papermill": {
     "duration": 3.077147,
     "end_time": "2022-06-20T23:09:53.989076",
     "exception": false,
     "start_time": "2022-06-20T23:09:50.911929",
     "status": "completed"
    },
    "tags": []
   },
   "outputs": [],
   "source": [
    "adata.obs[cluster_col] = annot[cluster_col].to_pandas()"
   ]
  },
  {
   "cell_type": "markdown",
   "id": "dc9549b3",
   "metadata": {
    "ExecuteTime": {
     "end_time": "2022-06-04T04:56:12.906887Z",
     "start_time": "2022-06-04T04:56:12.373611Z"
    },
    "papermill": {
     "duration": 0.01228,
     "end_time": "2022-06-20T23:09:54.014044",
     "exception": false,
     "start_time": "2022-06-20T23:09:54.001764",
     "status": "completed"
    },
    "pycharm": {
     "name": "#%% md\n"
    },
    "tags": []
   },
   "source": [
    "## Basic Feature Filtering"
   ]
  },
  {
   "cell_type": "code",
   "execution_count": 8,
   "id": "32e7c994",
   "metadata": {
    "ExecuteTime": {
     "end_time": "2022-06-25T18:39:25.144975Z",
     "start_time": "2022-06-25T18:39:20.234891Z"
    },
    "execution": {
     "iopub.execute_input": "2022-06-20T23:09:54.045314Z",
     "iopub.status.busy": "2022-06-20T23:09:54.044901Z",
     "iopub.status.idle": "2022-06-20T23:14:03.913918Z",
     "shell.execute_reply": "2022-06-20T23:14:03.914336Z"
    },
    "papermill": {
     "duration": 249.888548,
     "end_time": "2022-06-20T23:14:03.914488",
     "exception": false,
     "start_time": "2022-06-20T23:09:54.025940",
     "status": "completed"
    },
    "pycharm": {
     "name": "#%%\n"
    },
    "tags": []
   },
   "outputs": [
    {
     "name": "stdout",
     "output_type": "stream",
     "text": [
      "51259 regions remained.\n"
     ]
    }
   ],
   "source": [
    "remove_chromosomes(adata, exclude_chromosomes=chrom_to_remove)"
   ]
  },
  {
   "cell_type": "code",
   "execution_count": 9,
   "id": "28d4d626",
   "metadata": {
    "ExecuteTime": {
     "end_time": "2022-06-25T18:39:30.446377Z",
     "start_time": "2022-06-25T18:39:25.146189Z"
    },
    "execution": {
     "iopub.execute_input": "2022-06-20T23:14:03.957785Z",
     "iopub.status.busy": "2022-06-20T23:14:03.957117Z",
     "iopub.status.idle": "2022-06-20T23:17:56.436895Z",
     "shell.execute_reply": "2022-06-20T23:17:56.437231Z"
    },
    "papermill": {
     "duration": 232.505364,
     "end_time": "2022-06-20T23:17:56.437368",
     "exception": false,
     "start_time": "2022-06-20T23:14:03.932004",
     "status": "completed"
    },
    "pycharm": {
     "name": "#%%\n"
    },
    "tags": []
   },
   "outputs": [
    {
     "name": "stdout",
     "output_type": "stream",
     "text": [
      "2822 features removed due to overlapping (bedtools intersect -f 0.2) with black list regions.\n"
     ]
    }
   ],
   "source": [
    "remove_black_list_region(adata, black_list_path=mm10.ENCODE_BLACKLIST_PATH)"
   ]
  },
  {
   "cell_type": "code",
   "execution_count": 10,
   "id": "d183d14b",
   "metadata": {
    "ExecuteTime": {
     "end_time": "2022-06-25T18:39:36.004354Z",
     "start_time": "2022-06-25T18:39:30.447816Z"
    },
    "execution": {
     "iopub.execute_input": "2022-06-20T23:17:56.470002Z",
     "iopub.status.busy": "2022-06-20T23:17:56.469615Z",
     "iopub.status.idle": "2022-06-20T23:22:03.657608Z",
     "shell.execute_reply": "2022-06-20T23:22:03.657916Z"
    },
    "papermill": {
     "duration": 247.206774,
     "end_time": "2022-06-20T23:22:03.658047",
     "exception": false,
     "start_time": "2022-06-20T23:17:56.451273",
     "status": "completed"
    },
    "tags": []
   },
   "outputs": [],
   "source": [
    "# remove low std features\n",
    "pass_std_filter = adata.X.std(axis=0) > 0.05\n",
    "adata._inplace_subset_var(pass_std_filter)"
   ]
  },
  {
   "cell_type": "markdown",
   "id": "a698f9ea",
   "metadata": {
    "papermill": {
     "duration": 0.012804,
     "end_time": "2022-06-20T23:22:03.684490",
     "exception": false,
     "start_time": "2022-06-20T23:22:03.671686",
     "status": "completed"
    },
    "pycharm": {
     "name": "#%%\n"
    },
    "tags": []
   },
   "source": [
    "## CEF Feature Filtering"
   ]
  },
  {
   "cell_type": "code",
   "execution_count": 11,
   "id": "545ba3d9",
   "metadata": {
    "ExecuteTime": {
     "end_time": "2022-06-25T18:39:52.010498Z",
     "start_time": "2022-06-25T18:39:36.005698Z"
    },
    "execution": {
     "iopub.execute_input": "2022-06-20T23:22:18.276060Z",
     "iopub.status.busy": "2022-06-20T23:22:18.275680Z",
     "iopub.status.idle": "2022-06-20T23:23:04.292755Z",
     "shell.execute_reply": "2022-06-20T23:23:04.293042Z"
    },
    "papermill": {
     "duration": 46.037676,
     "end_time": "2022-06-20T23:23:04.293150",
     "exception": false,
     "start_time": "2022-06-20T23:22:18.255474",
     "status": "completed"
    },
    "pycharm": {
     "name": "#%%\n"
    },
    "tags": []
   },
   "outputs": [
    {
     "name": "stdout",
     "output_type": "stream",
     "text": [
      "Found 52 clusters to compute feature enrichment score\n",
      "Computing enrichment score\n",
      "Computing enrichment score FDR-corrected P values\n",
      "Selected 3978 unique features\n"
     ]
    },
    {
     "data": {
      "image/png": "[encoded data removed]",
      "text/plain": [
       "<Figure size 1080x360 with 3 Axes>"
      ]
     },
     "metadata": {
      "needs_background": "light"
     },
     "output_type": "display_data"
    }
   ],
   "source": [
    "# CEF function take the original mC fraction as input\n",
    "cluster_enriched_features(adata,\n",
    "                          cluster_col=cluster_col,\n",
    "                          top_n=200,\n",
    "                          alpha=0.05,\n",
    "                          stat_plot=True,\n",
    "                          method='mc')"
   ]
  },
  {
   "cell_type": "code",
   "execution_count": 12,
   "id": "a556c1fc",
   "metadata": {
    "ExecuteTime": {
     "end_time": "2022-06-25T18:39:52.047713Z",
     "start_time": "2022-06-25T18:39:52.012472Z"
    },
    "execution": {
     "iopub.execute_input": "2022-06-20T23:23:04.326785Z",
     "iopub.status.busy": "2022-06-20T23:23:04.326417Z",
     "iopub.status.idle": "2022-06-20T23:23:26.832686Z",
     "shell.execute_reply": "2022-06-20T23:23:26.832330Z"
    },
    "papermill": {
     "duration": 22.524983,
     "end_time": "2022-06-20T23:23:26.832787",
     "exception": false,
     "start_time": "2022-06-20T23:23:04.307804",
     "status": "completed"
    },
    "tags": []
   },
   "outputs": [],
   "source": [
    "# select CEF only\n",
    "adata.var[f'{cluster_col}_enriched_features'].to_csv('CEF.csv', header=None)"
   ]
  },
  {
   "cell_type": "code",
   "execution_count": null,
   "id": "d43003cc",
   "metadata": {
    "papermill": {
     "duration": 0.015284,
     "end_time": "2022-06-20T23:23:38.857644",
     "exception": false,
     "start_time": "2022-06-20T23:23:38.842360",
     "status": "completed"
    },
    "tags": []
   },
   "outputs": [],
   "source": []
  },
  {
   "cell_type": "code",
   "execution_count": null,
   "id": "64056988",
   "metadata": {
    "papermill": {
     "duration": 0.014821,
     "end_time": "2022-06-20T23:23:38.887341",
     "exception": false,
     "start_time": "2022-06-20T23:23:38.872520",
     "status": "completed"
    },
    "tags": []
   },
   "outputs": [],
   "source": []
  },
  {
   "cell_type": "code",
   "execution_count": null,
   "id": "25fe1295",
   "metadata": {
    "papermill": {
     "duration": 0.015892,
     "end_time": "2022-06-20T23:23:38.918714",
     "exception": false,
     "start_time": "2022-06-20T23:23:38.902822",
     "status": "completed"
    },
    "tags": []
   },
   "outputs": [],
   "source": []
  },
  {
   "cell_type": "code",
   "execution_count": null,
   "id": "cee0000b",
   "metadata": {
    "papermill": {
     "duration": 0.016126,
     "end_time": "2022-06-20T23:23:38.950603",
     "exception": false,
     "start_time": "2022-06-20T23:23:38.934477",
     "status": "completed"
    },
    "tags": []
   },
   "outputs": [],
   "source": []
  }
 ],
 "metadata": {
  "celltoolbar": "Tags",
  "hide_input": false,
  "kernelspec": {
   "display_name": "Python 3 (ipykernel)",
   "language": "python",
   "name": "python3"
  },
  "language_info": {
   "codemirror_mode": {
    "name": "ipython",
    "version": 3
   },
   "file_extension": ".py",
   "mimetype": "text/x-python",
   "name": "python",
   "nbconvert_exporter": "python",
   "pygments_lexer": "ipython3",
   "version": "3.8.13"
  },
  "papermill": {
   "default_parameters": {},
   "duration": 909.958491,
   "end_time": "2022-06-20T23:23:41.953330",
   "environment_variables": {},
   "exception": null,
   "input_path": "/home/hanliu/project/cemba/study/Integration/mC_AIBS_SMART_Gene/Template/01.prepare_mc.ipynb",
   "output_path": "Neuron/01.prepare_mc.ipynb",
   "parameters": {},
   "start_time": "2022-06-20T23:08:31.994839",
   "version": "2.3.3"
  },
  "toc": {
   "base_numbering": 1,
   "nav_menu": {},
   "number_sections": true,
   "sideBar": true,
   "skip_h1_title": true,
   "title_cell": "Table of Contents",
   "title_sidebar": "Contents",
   "toc_cell": false,
   "toc_position": {},
   "toc_section_display": true,
   "toc_window_display": true
  }
 },
 "nbformat": 4,
 "nbformat_minor": 5
}
