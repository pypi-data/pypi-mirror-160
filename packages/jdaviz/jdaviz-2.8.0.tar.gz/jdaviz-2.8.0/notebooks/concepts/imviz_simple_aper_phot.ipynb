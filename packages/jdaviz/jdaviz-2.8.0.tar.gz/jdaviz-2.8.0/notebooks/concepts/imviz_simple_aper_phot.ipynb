{
 "cells": [
  {
   "cell_type": "markdown",
   "id": "65797402-e16b-4a78-8acc-02dd90ca5e7d",
   "metadata": {},
   "source": [
    "# Imviz simple aperture photometry\n",
    "\n",
    "This is a proof-of-concept showing how to use Imviz to perform simple aperture photometry using hand-drawn aperture on a single object."
   ]
  },
  {
   "cell_type": "code",
   "execution_count": null,
   "id": "3ad56d9d-a52f-446b-9d3f-b823d930cb2e",
   "metadata": {},
   "outputs": [],
   "source": [
    "import warnings\n",
    "\n",
    "from astropy.utils.data import download_file\n",
    "\n",
    "from jdaviz import Imviz"
   ]
  },
  {
   "cell_type": "code",
   "execution_count": null,
   "id": "393b3fe4",
   "metadata": {},
   "outputs": [],
   "source": [
    "imviz = Imviz()"
   ]
  },
  {
   "cell_type": "markdown",
   "id": "61eee0ab",
   "metadata": {},
   "source": [
    "We can load JWST images with ASDF and GWCS."
   ]
  },
  {
   "cell_type": "code",
   "execution_count": null,
   "id": "66ca7067-6f89-446c-b1ca-53c46827af1c",
   "metadata": {},
   "outputs": [],
   "source": [
    "jwf277w = download_file('https://stsci.box.com/shared/static/iao1zxtigyrhq7k3wtu5nchrxzlhj9kv.fits', cache=True)\n",
    "jwf444w = download_file('https://stsci.box.com/shared/static/rey83o5wq6g7qd7xym6r1jq9wlsxaqnt.fits', cache=True)\n",
    "my_cen = (1002, 1154)\n",
    "my_radius = 20\n",
    "my_zoom = 4\n",
    "\n",
    "my_bg_cen = (925, 1152)\n",
    "my_bg_hw = 10\n",
    "\n",
    "imviz.load_data(jwf277w, data_label='JWST_F277W')\n",
    "imviz.load_data(jwf444w, data_label='JWST_F444W')"
   ]
  },
  {
   "cell_type": "markdown",
   "id": "564c06c8",
   "metadata": {},
   "source": [
    "Or we can load HST/ACS images with FITS WCS."
   ]
  },
  {
   "cell_type": "raw",
   "id": "e6bf9745",
   "metadata": {},
   "source": [
    "acs_47tuc_1 = download_file('https://mast.stsci.edu/api/v0.1/Download/file?uri=mast:HST/product/jbqf03gjq_flc.fits', cache=True)\n",
    "acs_47tuc_2 = download_file('https://mast.stsci.edu/api/v0.1/Download/file?uri=mast:HST/product/jbqf03h1q_flc.fits', cache=True)\n",
    "my_cen = (1090, 1157)\n",
    "my_radius = 10\n",
    "my_zoom = 6\n",
    "\n",
    "my_bg_cen = (1029, 1138)\n",
    "my_bg_hw = 10\n",
    "\n",
    "with warnings.catch_warnings():\n",
    "    warnings.simplefilter('ignore')  # Hide FITS warnings\n",
    "    imviz.load_data(acs_47tuc_1, data_label='acs_47tuc_1')\n",
    "    imviz.load_data(acs_47tuc_2, data_label='acs_47tuc_2')\n",
    "\n",
    "# These are dithered, so we re-link by WCS.\n",
    "imviz.link_data(link_type='wcs')"
   ]
  },
  {
   "cell_type": "markdown",
   "id": "7b9210d6",
   "metadata": {},
   "source": [
    "Or we can load plain Numpy array without WCS or unit."
   ]
  },
  {
   "cell_type": "raw",
   "id": "b487556a",
   "metadata": {},
   "source": [
    "import numpy as np\n",
    "from astropy.modeling.models import Gaussian2D\n",
    "\n",
    "gm = Gaussian2D(100, 25, 25, 5, 5)\n",
    "y, x = np.mgrid[0:51, 0:51]\n",
    "arr = gm(x, y)\n",
    "my_cen = (25, 25)\n",
    "my_radius = 10\n",
    "my_zoom = 'fit'\n",
    "\n",
    "my_bg_cen = (45, 30)\n",
    "my_bg_hw = 3\n",
    "\n",
    "imviz.load_data(arr, data_label='my_gaussian')"
   ]
  },
  {
   "cell_type": "markdown",
   "id": "07d23b82",
   "metadata": {},
   "source": [
    "Display the app."
   ]
  },
  {
   "cell_type": "code",
   "execution_count": null,
   "id": "610b86ac-d6da-43df-8855-3963391dab4d",
   "metadata": {},
   "outputs": [],
   "source": [
    "imviz.show()"
   ]
  },
  {
   "cell_type": "markdown",
   "id": "0e973760-7843-49ce-987b-1b84d5d6eb0a",
   "metadata": {},
   "source": [
    "Now, we would zoom in on a star and draw an aperture."
   ]
  },
  {
   "cell_type": "code",
   "execution_count": null,
   "id": "5f763388-64f5-4fbe-b910-07f52b327329",
   "metadata": {},
   "outputs": [],
   "source": [
    "viewer = imviz.default_viewer\n",
    "viewer.cuts = '95%'\n",
    "viewer.center_on(my_cen)\n",
    "viewer.zoom_level = my_zoom\n",
    "\n",
    "# Click on image to finalize selection.\n",
    "imviz._apply_interactive_region(\n",
    "    'bqplot:circle', (my_cen[0] - my_radius, my_cen[1] - my_radius),\n",
    "                     (my_cen[0] + my_radius, my_cen[1] + my_radius))\n",
    "imviz._apply_interactive_region(\n",
    "    'bqplot:rectangle', (my_bg_cen[0] - my_bg_hw, my_bg_cen[1] - my_bg_hw),\n",
    "                        (my_bg_cen[0] + my_bg_hw, my_bg_cen[1] + my_bg_hw))"
   ]
  },
  {
   "cell_type": "markdown",
   "id": "9abeb637-dac2-4787-8087-3be5f54a5dd0",
   "metadata": {},
   "source": [
    "Now, use the \"Imviz Simple Aperture Photometry\" plugin.\n",
    "\n",
    "Once photometry is done, we would do the following to extract the data from Imviz back to notebook for further processing."
   ]
  },
  {
   "cell_type": "code",
   "execution_count": null,
   "id": "7c3e6a27-bdf8-4881-8933-aa8c29e78163",
   "metadata": {},
   "outputs": [],
   "source": [
    "results = imviz.get_aperture_photometry_results()\n",
    "results"
   ]
  },
  {
   "cell_type": "markdown",
   "id": "b45fcdfe",
   "metadata": {},
   "source": [
    "If you fitted Gaussian to radial profile, you can get it back out like this. If it does not exist, you will get `None`."
   ]
  },
  {
   "cell_type": "code",
   "execution_count": null,
   "id": "bcb594f2",
   "metadata": {},
   "outputs": [],
   "source": [
    "my_gaussian = imviz.app.fitted_models.get('phot_radial_profile', None)\n",
    "my_gaussian"
   ]
  },
  {
   "cell_type": "code",
   "execution_count": null,
   "id": "b7c59fef",
   "metadata": {},
   "outputs": [],
   "source": []
  }
 ],
 "metadata": {
  "kernelspec": {
   "display_name": "Python 3 (ipykernel)",
   "language": "python",
   "name": "python3"
  },
  "language_info": {
   "codemirror_mode": {
    "name": "ipython",
    "version": 3
   },
   "file_extension": ".py",
   "mimetype": "text/x-python",
   "name": "python",
   "nbconvert_exporter": "python",
   "pygments_lexer": "ipython3",
   "version": "3.9.7"
  }
 },
 "nbformat": 4,
 "nbformat_minor": 5
}
