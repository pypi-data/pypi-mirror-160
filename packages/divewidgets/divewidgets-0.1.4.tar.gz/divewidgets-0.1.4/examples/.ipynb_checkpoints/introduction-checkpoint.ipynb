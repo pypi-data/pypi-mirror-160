{
 "cells": [
  {
   "cell_type": "markdown",
   "metadata": {},
   "source": [
    "# Introduction"
   ]
  },
  {
   "cell_type": "code",
   "execution_count": 1,
   "metadata": {},
   "outputs": [],
   "source": [
    "%reload_ext divewidgets"
   ]
  },
  {
   "cell_type": "code",
   "execution_count": 2,
   "metadata": {},
   "outputs": [
    {
     "data": {
      "application/vnd.jupyter.widget-view+json": {
       "model_id": "c1e4e03349be46a8987ebc29e87b48e1",
       "version_major": 2,
       "version_minor": 0
      },
      "text/plain": [
       "JSXGraph(value=None, code=\"var brd, k;\\nJXG.Options.text.useMathJax = true;\\nbrd = JXG.JSXGraph.initBoard('jxg…"
      ]
     },
     "metadata": {},
     "output_type": "display_data"
    }
   ],
   "source": [
    "%%jsxgraph -i jxgbox -m ./load-mathjax.js -h 400 -w 600\n",
    "var brd, k;\n",
    "JXG.Options.text.useMathJax = true;\n",
    "brd = JXG.JSXGraph.initBoard('jxgbox', {boundingbox:[-5,20,5,-5], axis:true, showNavigation:true, showCopyright:true});\n",
    "k = brd.create('slider',[[-4,-2],[3,-2],[-5,1,5]],{name:'n', snapWidth:1});\n",
    "brd.create('functiongraph', [function(t) {return JXG.Math.pow(Math.E,t*k.Value());}],{strokeColor:'#ff0000'});\n",
    "brd.create('text',[-4,15,\n",
    "  function() { \n",
    "    return '\\\\[f(x) = \\\\R{e}^{' + k.Value() + 'x}\\\\]';\n",
    "  }]);"
   ]
  },
  {
   "cell_type": "code",
   "execution_count": 45,
   "metadata": {},
   "outputs": [
    {
     "data": {
      "text/plain": [
       "\"var brd, k;\\nJXG.Options.text.useMathJax = true;\\nbrd = JXG.JSXGraph.initBoard('jxgbox', {boundingbox:[-5,20,5,-5], axis:true, showNavigation:true, showCopyright:true});\\nk = brd.create('slider',[[-4,-2],[3,-2],[-5,1,5]],{name:'n', snapWidth:1});\\nbrd.create('functiongraph', [function(t) {return JXG.Math.pow(Math.E,t*k.Value());}],{strokeColor:'#ff0000'});\\nbrd.create('text',[-4,15,\\n  function() { \\n    return '\\\\\\\\[f(x) = \\\\\\\\R{e}^{' + k.Value() + 'x}\\\\\\\\]';\\n  }]);\\n\""
      ]
     },
     "execution_count": 45,
     "metadata": {},
     "output_type": "execute_result"
    }
   ],
   "source": [
    "_.code"
   ]
  },
  {
   "cell_type": "code",
   "execution_count": 17,
   "metadata": {},
   "outputs": [],
   "source": [
    "import divewidgets"
   ]
  },
  {
   "cell_type": "code",
   "execution_count": 18,
   "metadata": {},
   "outputs": [
    {
     "data": {
      "application/vnd.jupyter.widget-view+json": {
       "model_id": "af7c64cfd7204365ace4ed71e700277a",
       "version_major": 2,
       "version_minor": 0
      },
      "text/plain": [
       "JSXGraph(value=None)"
      ]
     },
     "metadata": {},
     "output_type": "display_data"
    }
   ],
   "source": [
    "w = divewidgets.JSXGraph()\n",
    "w"
   ]
  }
 ],
 "metadata": {
  "kernelspec": {
   "display_name": "Python 3 (ipykernel)",
   "language": "python",
   "name": "python3"
  },
  "language_info": {
   "codemirror_mode": {
    "name": "ipython",
    "version": 3
   },
   "file_extension": ".py",
   "mimetype": "text/x-python",
   "name": "python",
   "nbconvert_exporter": "python",
   "pygments_lexer": "ipython3",
   "version": "3.9.13"
  },
  "widgets": {
   "application/vnd.jupyter.widget-state+json": {
    "state": {
     "1473025bb2dc4e98bf3056f500d67755": {
      "model_module": "jupyter-divewidgets",
      "model_module_version": "^0.1.0",
      "model_name": "JSXGraphModel",
      "state": {
       "_model_module_version": "^0.1.0",
       "_view_module_version": "^0.1.0",
       "code": "var brd, k;\nJXG.Options.text.useMathJax = true;\nbrd = JXG.JSXGraph.initBoard('jxgbox', {boundingbox:[-5,20,5,-5], axis:true, showNavigation:true, showCopyright:true});\nk = brd.create('slider',[[-4,-2],[3,-2],[-5,1,5]],{name:'n', snapWidth:1});\nbrd.create('functiongraph', [function(t) {return JXG.Math.pow(Math.E,t*k.Value());}],{strokeColor:'#ff0000'});\nbrd.create('text',[-4,15,\n  function() { \n    return '\\\\[fa(x) = \\\\R{e}^{' + k.Value() + 'x}\\\\]';\n  }]);",
       "height": 400,
       "id": "jxgbox",
       "layout": "IPY_MODEL_f45156f32ccd4628ac412a435bcddb8c",
       "mathjax_url": "./load-mathjax.js",
       "width": 600
      }
     },
     "1d35d60a69ef4ebeb44c58a9763f687d": {
      "model_module": "@jupyter-widgets/base",
      "model_module_version": "1.2.0",
      "model_name": "LayoutModel",
      "state": {}
     },
     "3a979d597bb348c293a90042fb536d19": {
      "model_module": "jupyter-divewidgets",
      "model_module_version": "^0.1.0",
      "model_name": "JSXGraphModel",
      "state": {
       "_model_module_version": "^0.1.0",
       "_view_module_version": "^0.1.0",
       "code": "var brd, k;\nJXG.Options.text.useMathJax = true;\nbrd = JXG.JSXGraph.initBoard('jxgbox', {boundingbox:[-5,20,5,-5], axis:true, showNavigation:true, showCopyright:true});\nk = brd.create('slider',[[-4,-2],[3,-2],[-5,1,5]],{name:'n', snapWidth:1});\nbrd.create('functiongraph', [function(t) {return JXG.Math.pow(Math.E,t*k.Value());}],{strokeColor:'#ff0000'});\nbrd.create('text',[-4,15,\n  function() { \n    return '\\\\[f(x) = \\\\R{e}^{' + k.Value() + 'x}\\\\]';\n  }]);",
       "height": 400,
       "id": "jxgbox",
       "layout": "IPY_MODEL_49bc005a55ae4a878f36d016502925fb",
       "mathjax_url": "./load-mathjax.js",
       "width": 600
      }
     },
     "49bc005a55ae4a878f36d016502925fb": {
      "model_module": "@jupyter-widgets/base",
      "model_module_version": "1.2.0",
      "model_name": "LayoutModel",
      "state": {}
     },
     "4dd92c4549064b798986a8c07160e706": {
      "model_module": "@jupyter-widgets/base",
      "model_module_version": "1.2.0",
      "model_name": "LayoutModel",
      "state": {}
     },
     "5151a64c60304391b4602bd98f94815b": {
      "model_module": "jupyter-divewidgets",
      "model_module_version": "^0.1.0",
      "model_name": "JSXGraphModel",
      "state": {
       "_model_module_version": "^0.1.0",
       "_view_module_version": "^0.1.0",
       "code": "var brd, k;\nJXG.Options.text.useMathJax = true;\nbrd = JXG.JSXGraph.initBoard('jxgbox', {boundingbox:[-5,20,5,-5], axis:true, showNavigation:true, showCopyright:true});\nk = brd.create('slider',[[-4,-2],[3,-2],[-5,1,5]],{name:'n', snapWidth:1});\nbrd.create('functiongraph', [function(t) {return JXG.Math.pow(Math.E,t*k.Value());}],{strokeColor:'#ff0000'});\nbrd.create('text',[-4,15,\n  function() { \n    return '\\\\[f(x) = \\\\R{e}^{' + k.Value() + 'x}\\\\]';\n  }]);",
       "height": 400,
       "id": "jxgbox",
       "layout": "IPY_MODEL_91fe2fc5d9d242f9a9261692719500de",
       "mathjax_url": "./load-mathjax.js",
       "width": 600
      }
     },
     "720a68c7bbb5453194f124d3d4ddadae": {
      "model_module": "jupyter-divewidgets",
      "model_module_version": "^0.1.0",
      "model_name": "JSXGraphModel",
      "state": {
       "_model_module_version": "^0.1.0",
       "_view_module_version": "^0.1.0",
       "code": "var brd, k;\nJXG.Options.text.useMathJax = true;\nbrd = JXG.JSXGraph.initBoard('jxgbox', {boundingbox:[-5,20,5,-5], axis:true, showNavigation:true, showCopyright:true});\nk = brd.create('slider',[[-4,-2],[3,-2],[-5,1,5]],{name:'n', snapWidth:1});\nbrd.create('functiongraph', [function(t) {return JXG.Math.pow(Math.E,t*k.Value());}],{strokeColor:'#ff0000'});\nbrd.create('text',[-4,15,\n  function() { \n    return '\\\\[fa(x) = \\\\R{e}^{' + k.Value() + 'x}\\\\]';\n  }]);",
       "height": 400,
       "id": "jxgbox",
       "layout": "IPY_MODEL_a79b7e9f03ec4dbab7e3e59ed77e51b5",
       "mathjax_url": "./load-mathjax.js",
       "width": 600
      }
     },
     "7afcc75d1a90467a91a37aeae138b727": {
      "model_module": "jupyter-divewidgets",
      "model_module_version": "^0.1.0",
      "model_name": "JSXGraphModel",
      "state": {
       "_model_module_version": "^0.1.0",
       "_view_module_version": "^0.1.0",
       "code": "var brd, k;\nJXG.Options.text.useMathJax = true;\nbrd = JXG.JSXGraph.initBoard('jxgbox', {boundingbox:[-5,20,5,-5], axis:true, showNavigation:true, showCopyright:true});\nk = brd.create('slider',[[-4,-2],[3,-2],[-5,1,5]],{name:'n', snapWidth:1});\nbrd.create('functiongraph', [function(t) {return JXG.Math.pow(Math.E,t*k.Value());}],{strokeColor:'#ff0000'});\nbrd.create('text',[-4,15,\n  function() { \n    return '\\\\[f(x) = \\\\R{e}^{' + k.Value() + 'x}\\\\]';\n  }]);",
       "height": 400,
       "id": "jxgbox",
       "layout": "IPY_MODEL_4dd92c4549064b798986a8c07160e706",
       "mathjax_url": "./load-mathjax.js",
       "width": 600
      }
     },
     "7deae49e8eec440babad1260aafc97f1": {
      "model_module": "jupyter-divewidgets",
      "model_module_version": "^0.1.0",
      "model_name": "JSXGraphModel",
      "state": {
       "_model_module_version": "^0.1.0",
       "_view_module_version": "^0.1.0",
       "code": "var brd, k;\nJXG.Options.text.useMathJax = true;\nbrd = JXG.JSXGraph.initBoard('jxgbox', {boundingbox:[-5,20,5,-5], axis:true, showNavigation:true, showCopyright:true});\nk = brd.create('slider',[[-4,-2],[3,-2],[-5,1,5]],{name:'n', snapWidth:1});\nbrd.create('functiongraph', [function(t) {return JXG.Math.pow(Math.E,t*k.Value());}],{strokeColor:'#ff0000'});\nbrd.create('text',[-4,15,\n  function() { \n    return '\\\\[fa(x) = \\\\R{e}^{' + k.Value() + 'x}\\\\]';\n  }]);",
       "height": 400,
       "id": "jxgbox",
       "layout": "IPY_MODEL_e1f9947b39144e209d44822f0231d6e7",
       "mathjax_url": "./load-mathjax.js",
       "width": 600
      }
     },
     "8875bf2d2d444410962ceccfd7b0747d": {
      "model_module": "jupyter-divewidgets",
      "model_module_version": "^0.1.0",
      "model_name": "JSXGraphModel",
      "state": {
       "_model_module_version": "^0.1.0",
       "_view_module_version": "^0.1.0",
       "code": "var brd, k;\nJXG.Options.text.useMathJax = true;\nbrd = JXG.JSXGraph.initBoard('jxgbox', {boundingbox:[-5,20,5,-5], axis:true, showNavigation:true, showCopyright:true});\nk = brd.create('slider',[[-4,-2],[3,-2],[-5,1,5]],{name:'n', snapWidth:1});\nbrd.create('functiongraph', [function(t) {return JXG.Math.pow(Math.E,t*k.Value());}],{strokeColor:'#ff0000'});\nbrd.create('text',[-4,15,\n  function() { \n    return '\\\\[f(x) = \\\\R{e}^{' + k.Value() + 'x}\\\\]';\n  }]);",
       "height": 400,
       "id": "jxgbox",
       "layout": "IPY_MODEL_b8cbba7c1ace4e26b0ccc650e9ea6100",
       "mathjax_url": "./load-mathjax.js",
       "width": 600
      }
     },
     "8f74319b22e2411da71206ec01e8cc7a": {
      "model_module": "jupyter-divewidgets",
      "model_module_version": "^0.1.0",
      "model_name": "JSXGraphModel",
      "state": {
       "_model_module_version": "^0.1.0",
       "_view_module_version": "^0.1.0",
       "code": "var brd, k;\nJXG.Options.text.useMathJax = true;\nbrd = JXG.JSXGraph.initBoard('jxgbox', {boundingbox:[-5,20,5,-5], axis:true, showNavigation:true, showCopyright:true});\nk = brd.create('slider',[[-4,-2],[3,-2],[-5,1,5]],{name:'n', snapWidth:1});\nbrd.create('functiongraph', [function(t) {return JXG.Math.pow(Math.E,t*k.Value());}],{strokeColor:'#ff0000'});\nbrd.create('text',[-4,15,\n  function() { \n    return '\\\\[f(x) = \\\\R{e}^{' + k.Value() + 'x}\\\\]';\n  }]);",
       "height": 400,
       "id": "jxgbox",
       "layout": "IPY_MODEL_ac92aaba2d3d4b028afc4fae5dbfc9ff",
       "mathjax_url": "./load-mathjax.js",
       "width": 600
      }
     },
     "91fe2fc5d9d242f9a9261692719500de": {
      "model_module": "@jupyter-widgets/base",
      "model_module_version": "1.2.0",
      "model_name": "LayoutModel",
      "state": {}
     },
     "987ae62f9cc847238daa9a615acc782b": {
      "model_module": "jupyter-divewidgets",
      "model_module_version": "^0.1.0",
      "model_name": "JSXGraphModel",
      "state": {
       "_model_module_version": "^0.1.0",
       "_view_module_version": "^0.1.0",
       "code": "var brd, k;\nJXG.Options.text.useMathJax = true;\nbrd = JXG.JSXGraph.initBoard('jxgbox', {boundingbox:[-5,20,5,-5], axis:true, showNavigation:true, showCopyright:true});\nk = brd.create('slider',[[-4,-2],[3,-2],[-5,1,5]],{name:'n', snapWidth:1});\nbrd.create('functiongraph', [function(t) {return JXG.Math.pow(Math.E,t*k.Value());}],{strokeColor:'#ff0000'});\nbrd.create('text',[-4,15,\n  function() { \n    return '\\\\[f(x) = \\\\R{e}^{' + k.Value() + 'x}\\\\]';\n  }]);",
       "height": 400,
       "id": "jxgbox",
       "layout": "IPY_MODEL_eff12bc291774517a2c2f8f36e800705",
       "mathjax_url": "./load-mathjax.js",
       "width": 600
      }
     },
     "a52f6a21e9094ab4832f7b2b940d42c5": {
      "model_module": "jupyter-divewidgets",
      "model_module_version": "^0.1.0",
      "model_name": "JSXGraphModel",
      "state": {
       "_model_module_version": "^0.1.0",
       "_view_module_version": "^0.1.0",
       "code": "var brd, k;\nJXG.Options.text.useMathJax = true;\nbrd = JXG.JSXGraph.initBoard('jxgbox', {boundingbox:[-5,20,5,-5], axis:true, showNavigation:true, showCopyright:true});\nk = brd.create('slider',[[-4,-2],[3,-2],[-5,1,5]],{name:'n', snapWidth:1});\nbrd.create('functiongraph', [function(t) {return JXG.Math.pow(Math.E,t*k.Value());}],{strokeColor:'#ff0000'});\nbrd.create('text',[-4,15,\n  function() { \n    return '\\\\[fa(x) = \\\\R{e}^{' + k.Value() + 'x}\\\\]';\n  }]);",
       "height": 400,
       "id": "jxgbox",
       "layout": "IPY_MODEL_eb406d2636884a56a9338effedd02b5e",
       "mathjax_url": "./load-mathjax.js",
       "width": 600
      }
     },
     "a79b7e9f03ec4dbab7e3e59ed77e51b5": {
      "model_module": "@jupyter-widgets/base",
      "model_module_version": "1.2.0",
      "model_name": "LayoutModel",
      "state": {}
     },
     "ac92aaba2d3d4b028afc4fae5dbfc9ff": {
      "model_module": "@jupyter-widgets/base",
      "model_module_version": "1.2.0",
      "model_name": "LayoutModel",
      "state": {}
     },
     "b8cbba7c1ace4e26b0ccc650e9ea6100": {
      "model_module": "@jupyter-widgets/base",
      "model_module_version": "1.2.0",
      "model_name": "LayoutModel",
      "state": {}
     },
     "bdac5e60d67f44c8a77f5e4dbc0c2fd7": {
      "model_module": "jupyter-divewidgets",
      "model_module_version": "^0.1.0",
      "model_name": "JSXGraphModel",
      "state": {
       "_model_module_version": "^0.1.0",
       "_view_module_version": "^0.1.0",
       "code": "var brd, k;\nJXG.Options.text.useMathJax = true;\nbrd = JXG.JSXGraph.initBoard('jxgbox', {boundingbox:[-5,20,5,-5], axis:true, showNavigation:true, showCopyright:true});\nk = brd.create('slider',[[-4,-2],[3,-2],[-5,1,5]],{name:'n', snapWidth:1});\nbrd.create('functiongraph', [function(t) {return JXG.Math.pow(Math.E,t*k.Value());}],{strokeColor:'#ff0000'});\nbrd.create('text',[-4,15,\n  function() { \n    return '\\\\[f(x) = \\\\R{e}^{' + k.Value() + 'x}\\\\]';\n  }]);",
       "height": 400,
       "id": "jxgbox",
       "layout": "IPY_MODEL_cfbf9848de8f4263bae5950c05f27dda",
       "mathjax_url": "./load-mathjax.js",
       "width": 600
      }
     },
     "c1e4e03349be46a8987ebc29e87b48e1": {
      "model_module": "jupyter-divewidgets",
      "model_module_version": "^0.1.0",
      "model_name": "JSXGraphModel",
      "state": {
       "_model_module_version": "^0.1.0",
       "_view_module_version": "^0.1.0",
       "code": "var brd, k;\nJXG.Options.text.useMathJax = true;\nbrd = JXG.JSXGraph.initBoard('jxgbox', {boundingbox:[-5,20,5,-5], axis:true, showNavigation:true, showCopyright:true});\nk = brd.create('slider',[[-4,-2],[3,-2],[-5,1,5]],{name:'n', snapWidth:1});\nbrd.create('functiongraph', [function(t) {return JXG.Math.pow(Math.E,t*k.Value());}],{strokeColor:'#ff0000'});\nbrd.create('text',[-4,15,\n  function() { \n    return '\\\\[f(x) = \\\\R{e}^{' + k.Value() + 'x}\\\\]';\n  }]);",
       "height": 400,
       "id": "jxgbox",
       "layout": "IPY_MODEL_1d35d60a69ef4ebeb44c58a9763f687d",
       "mathjax_url": "./load-mathjax.js",
       "width": 600
      }
     },
     "cfbf9848de8f4263bae5950c05f27dda": {
      "model_module": "@jupyter-widgets/base",
      "model_module_version": "1.2.0",
      "model_name": "LayoutModel",
      "state": {}
     },
     "e1f9947b39144e209d44822f0231d6e7": {
      "model_module": "@jupyter-widgets/base",
      "model_module_version": "1.2.0",
      "model_name": "LayoutModel",
      "state": {}
     },
     "eb406d2636884a56a9338effedd02b5e": {
      "model_module": "@jupyter-widgets/base",
      "model_module_version": "1.2.0",
      "model_name": "LayoutModel",
      "state": {}
     },
     "eff12bc291774517a2c2f8f36e800705": {
      "model_module": "@jupyter-widgets/base",
      "model_module_version": "1.2.0",
      "model_name": "LayoutModel",
      "state": {}
     },
     "f45156f32ccd4628ac412a435bcddb8c": {
      "model_module": "@jupyter-widgets/base",
      "model_module_version": "1.2.0",
      "model_name": "LayoutModel",
      "state": {}
     }
    },
    "version_major": 2,
    "version_minor": 0
   }
  }
 },
 "nbformat": 4,
 "nbformat_minor": 4
}
